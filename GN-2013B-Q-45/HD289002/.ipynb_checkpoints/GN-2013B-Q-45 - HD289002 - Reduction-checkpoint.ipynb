{
 "metadata": {
  "name": "",
  "signature": "sha256:92a23eebcb68761dd60e36f091c43fa0c3e5aab10fb79916d070da98f6f82245"
 },
 "nbformat": 3,
 "nbformat_minor": 0,
 "worksheets": [
  {
   "cells": [
    {
     "cell_type": "heading",
     "level": 1,
     "metadata": {},
     "source": [
      "Processing of HD289002"
     ]
    },
    {
     "cell_type": "markdown",
     "metadata": {},
     "source": [
      "----\n",
      "Science Dataset:\n",
      "----------------\n",
      "\n",
      "**<font color=red>WARNING: UPDATE observation information and filenumbers</font>**\n",
      "\n",
      "<table>\n",
      "    <tr><td> <strong>Observation UT date(s)</strong> </td> <td>2015 Jun 14, \\*2015 Apr 11</td></tr>\n",
      "    <tr><td> <strong>Data filename prefix(es)</strong> </td><td>N20150614S, \\*20150411S</td></tr>\n",
      "</table>\n",
      "<br>\n",
      "**File numbers:**\n",
      "Adjust the file numbers and ranges, and other observation information.\n",
      "<table>\n",
      "    <tr><td>**Central wavelength = 590nm**</td><tr>\n",
      "    <tr><td>Science</td>           <td>29  </td><td>(590nm, binning x=2, y=1, 900s)</td></tr>\n",
      "    <tr><td>Flat </td>             <td>30      </td><td>(590nm, binning x=2, y=1, 90s)</td></tr>\n",
      "    <tr><td>Arc </td>              <td>85      </td><td>(590nm, binning x=2, y=1, 60s)</td></tr>\n",
      "    <tr><td>Twilight </td>         <td>\\*207      </td><td>(590nm, binning x=2, y=1, 120s)</td></tr>\n",
      "</table>\n",
      "\n",
      "<table>\n",
      "    <tr><td>**Processed Bias**</td> <td>N20150613S0220_bias.fits</td></tr>\n",
      "</table>\n",
      "\n",
      "**Reduced File name:**\n",
      "<table>\n",
      "    <tr><td>Sensitivity Function (Feige 66) </td>\n",
      "        <td>feige66_590_20150411_sens.fits </td>\n",
      "        <td>(590nm, binning x=2, y=1, 600s)</td>\n",
      "    </tr>\n",
      "</table>\n",
      "\n",
      "----"
     ]
    },
    {
     "cell_type": "markdown",
     "metadata": {},
     "source": [
      "**Dependencies**:\n",
      "\n",
      "      pyfu-0.8.1\n",
      "      lacos_spec.cl\n",
      "      gscrspec.cl\n",
      "      \n",
      "(http://www.astro.yale.edu/dokkum/lacosmic/lacos_spec.cl)\n",
      "(http://www.gemini.edu/sciops/data/software/gscrspec.cl)"
     ]
    },
    {
     "cell_type": "heading",
     "level": 2,
     "metadata": {},
     "source": [
      "STEP 0: Define variables specific to this target and start parallel PyRAF session."
     ]
    },
    {
     "cell_type": "markdown",
     "metadata": {},
     "source": [
      "The directory paths are assumed to match this structure:\n",
      "\n",
      "    program_rootdir\n",
      "        - calibredux\n",
      "            - biases\n",
      "        - calibproducts\n",
      "            - standards\n",
      "                - stdname_long\n",
      "                - stdname_long\n",
      "            - biases\n",
      "        - raw\n",
      "        - stdname_long\n",
      "            - README\n",
      "            - redux\n",
      "                - night1_YYYMMdd"
     ]
    },
    {
     "cell_type": "heading",
     "level": 3,
     "metadata": {},
     "source": [
      "Step 0.1: Setup the variables for the Notebook."
     ]
    },
    {
     "cell_type": "code",
     "collapsed": false,
     "input": [
      "import os\n",
      "import os.path\n",
      "\n",
      "#WARNING:  Make sure that the directory structure is already in place.\n",
      "\n",
      "# EDIT HERE - Target and standard names, and observation dates\n",
      "stdname_long = 'feige66'\n",
      "stdname_short = stdname_long\n",
      "night = 'night1_20150614'\n",
      "\n",
      "# EDIT HERE - Directories\n",
      "program_rootdir = '/Volumes/MyRugged/research/DoubleAGN/GN-2013B-Q-45'\n",
      "\n",
      "# EDIT HERE - File numbers and central wavelengths\n",
      "observations = {\n",
      "    '590nm' : {\n",
      "        'sciroot' : 'N20150614S',\n",
      "        'sciframes' : '29',\n",
      "        'flatroot' : 'N20150614S',\n",
      "        'flatframes' : '30',\n",
      "        'arcroot' : 'N20150614S',\n",
      "        'arcframes' : '85'\n",
      "        },\n",
      "}\n",
      "calibrations = {\n",
      "    'response' : {\n",
      "        '590nm' : {\n",
      "            'respfuncroot' : 'twilight1_590nm_',\n",
      "            'twiroot' : 'N20150411S',\n",
      "            'twiframes' : '207',\n",
      "            'flatroot' : 'N20150614S',\n",
      "            'flatframes' : '30',\n",
      "        }\n",
      "    },\n",
      "    'standard' : 'feige66_590_20150411_std',\n",
      "    'stdsens' : 'feige66_590_20150411_sens',\n",
      "    'bias' : 'N20150613S0220_bias.fits'\n",
      "}\n",
      "extinction = 'gmos$calib/mkoextinct.dat'\n",
      "\n",
      "logfile = stdname_short + '.log'\n",
      "database = 'database'\n",
      "# must be 'database' because it's bloody hardcoded everywhere in the package.\n",
      "\n",
      "# Automatically set directories and other variables from info above.\n",
      "raw_path = os.path.join(program_rootdir,'raw')+'/'\n",
      "redux_path = os.path.join(program_rootdir, stdname_long, 'redux')\n",
      "night_path = os.path.join(redux_path, night)\n",
      "bias_path = os.path.join(program_rootdir, 'calibproducts', 'biases')\n",
      "std_path = os.path.join(program_rootdir, 'calibproducts', 'standards', \\\n",
      "                        stdname_long)"
     ],
     "language": "python",
     "metadata": {},
     "outputs": []
    },
    {
     "cell_type": "heading",
     "level": 3,
     "metadata": {},
     "source": [
      "Step 0.2: Load and initialize the packages."
     ]
    },
    {
     "cell_type": "markdown",
     "metadata": {},
     "source": [
      "**Launch ds9 before proceeding further.**\n",
      "\n",
      "Load the packages required for the notebook session and reset tasks to the default parameters.  (Note: this doesn't seem to be working from the Python shell.)"
     ]
    },
    {
     "cell_type": "code",
     "collapsed": false,
     "input": [
      "from pyraf import iraf\n",
      "iraf.gemini()\n",
      "iraf.gmos()\n",
      "\n",
      "iraf.unlearn(iraf.gemini, iraf.gmos, iraf.gemtools)\n",
      "\n",
      "iraf.gmos.logfile = logfile\n",
      "#iraf.gmos.database = database\n",
      "\n",
      "rawdir = raw_path\n",
      "iraf.set(stdimage='imtgmos')\n",
      "\n",
      "#iraf.task(lacos_spec = '/Users/klabrie/local/iraf/lacos_spec.cl')\n",
      "#iraf.task(gscrspec = '/Users/klabrie/local/iraf/gscrspec.cl')\n",
      "\n",
      "os.chdir(night_path)\n",
      "print 'cd to ', night_path\n"
     ],
     "language": "python",
     "metadata": {},
     "outputs": []
    },
    {
     "cell_type": "heading",
     "level": 3,
     "metadata": {},
     "source": [
      "Step 0.3: Get a PyRAF session ready.  "
     ]
    },
    {
     "cell_type": "markdown",
     "metadata": {},
     "source": [
      "This is needed for some interactive tasks that don't work well in the notebook. "
     ]
    },
    {
     "cell_type": "markdown",
     "metadata": {},
     "source": [
      "Open an xterm or a Terminal, then:\n",
      "\n",
      "    cd '/Volumes/MyRugged/research/DoubleAGN/GN-2015A-Q-50/feige66/redux/night1_20150614'\n",
      "    pyraf\n",
      "\n",
      "Then in the PyRAF session:\n",
      "\n",
      "    gemini\n",
      "    gmos\n",
      "    unlearn gemini\n",
      "    unlearn gmos\n",
      "    unlearn gemtools"
     ]
    },
    {
     "cell_type": "markdown",
     "metadata": {},
     "source": [
      "Get your PyRAF configured.  In the PyRAF session:\n",
      "\n",
      "    iraf.gmos.logfile = \"feige66.log\"\n",
      "    #iraf.gmos.database = \"feige66_database/\"\n",
      "    set rawdir = \"../../../raw/\"\n",
      "    set stdimage=imtgmos"
     ]
    },
    {
     "cell_type": "heading",
     "level": 3,
     "metadata": {},
     "source": [
      "Step 0.4: Define the pyfu package."
     ]
    },
    {
     "cell_type": "markdown",
     "metadata": {},
     "source": [
      "In PyRAF:\n",
      "\n",
      "    reset pyfu = \"/Users/klabrie/local/iraf/pyfu-0.8.1/\"\n",
      "    task pyfu.pkg = pyfu$pyfu.cl"
     ]
    },
    {
     "cell_type": "heading",
     "level": 3,
     "metadata": {},
     "source": [
      "Step 0.5:  Define the LACosmic tasks"
     ]
    },
    {
     "cell_type": "markdown",
     "metadata": {},
     "source": [
      "In PyRAF:\n",
      "\n",
      "    task lacos_spec = \"/Users/klabrie/local/iraf/lacos_spec.cl\"\n",
      "    task gscrspec = \"/Users/klabrie/local/iraf/gscrspec.cl\""
     ]
    },
    {
     "cell_type": "heading",
     "level": 2,
     "metadata": {},
     "source": [
      "Step 1: Create file lists"
     ]
    },
    {
     "cell_type": "code",
     "collapsed": false,
     "input": [
      "os.chdir(night_path)\n",
      "print 'cd to ', night_path\n",
      "\n",
      "iraf.delete('flat590.lis, arc590.lis, sci590.lis, \\\n",
      "             twi590.lis, twiflat590.lis, all.lis', verify='no')\n",
      "\n",
      "iraf.gemlist(observations['590nm']['flatroot'], \\\n",
      "             observations['590nm']['flatframes'], \\\n",
      "             Stdout='flat590.lis')\n",
      "iraf.gemlist(observations['590nm']['arcroot'], \\\n",
      "             observations['590nm']['arcframes'], \\\n",
      "             Stdout='arc590.lis')\n",
      "iraf.gemlist(observations['590nm']['sciroot'], \\\n",
      "             observations['590nm']['sciframes'], \\\n",
      "             Stdout='sci590.lis')\n",
      "\n",
      "iraf.gemlist(calibrations['response']['590nm']['twiroot'], \\\n",
      "             calibrations['response']['590nm']['twiframes'], \\\n",
      "             Stdout='twi590.lis')\n",
      "iraf.gemlist(calibrations['response']['590nm']['flatroot'], \\\n",
      "             calibrations['response']['590nm']['flatframes'], \\\n",
      "             Stdout='twiflat590.lis')\n",
      "\n",
      "\n",
      "iraf.concat('flat590.lis, arc590.lis, sci590.lis, \\\n",
      "             twi590.lis, twiflat590.lis', 'all.lis')\n",
      "\n",
      "# remove duplicates\n",
      "all_file = open('all.lis', 'r')\n",
      "all_lines = all_file.readlines()\n",
      "all_file.close()\n",
      "lines_seen = list()\n",
      "for line in all_lines:\n",
      "    if line not in lines_seen:\n",
      "        lines_seen.append(line)\n",
      "all_file = open('all.lis', 'w')\n",
      "all_file.writelines(lines_seen)\n",
      "all_file.close()\n"
     ],
     "language": "python",
     "metadata": {},
     "outputs": []
    },
    {
     "cell_type": "heading",
     "level": 2,
     "metadata": {},
     "source": [
      "Step 2: Visualy inspect all the data."
     ]
    },
    {
     "cell_type": "code",
     "collapsed": false,
     "input": [
      "all_file = open('all.lis', 'r')\n",
      "for line in all_file:\n",
      "    image = line.strip() + '[1]'\n",
      "    print image\n",
      "    iraf.gdisplay(rawdir + image, 1, fl_paste='no', fl_bias='yes')\n",
      "    iraf.sleep(5)\n",
      "    \n",
      "all_file.close()"
     ],
     "language": "python",
     "metadata": {},
     "outputs": []
    },
    {
     "cell_type": "heading",
     "level": 2,
     "metadata": {},
     "source": [
      "Step 3: Copy and edit the MDF"
     ]
    },
    {
     "cell_type": "markdown",
     "metadata": {},
     "source": [
      "Edit only if necessary.  For GMOS-N data, that is usually not necessary."
     ]
    },
    {
     "cell_type": "code",
     "collapsed": false,
     "input": [
      "iraf.copy('gmos$data/gnifu_slitr_mdf.fits', '.', verbose='no')\n",
      "#tcalc ('gsifu_slitr_mdf', 'BEAM', 'if NO == 419 then -1 else BEAM')"
     ],
     "language": "python",
     "metadata": {},
     "outputs": []
    },
    {
     "cell_type": "heading",
     "level": 2,
     "metadata": {},
     "source": [
      "Step 4: Reduce GCAL Flats"
     ]
    },
    {
     "cell_type": "heading",
     "level": 3,
     "metadata": {},
     "source": [
      "Step 4.1:  Initialize the log and the database"
     ]
    },
    {
     "cell_type": "markdown",
     "metadata": {},
     "source": [
      "***If necessary*** *to start from scratch, delete the log file and the database.*"
     ]
    },
    {
     "cell_type": "code",
     "collapsed": false,
     "input": [
      "if (iraf.access(iraf.gmos.logfile)):\n",
      "    iraf.delete(iraf.gmos.logfile, verify='no')\n",
      "if (iraf.access(database)):\n",
      "    iraf.delete(database + '*', verify='no')"
     ],
     "language": "python",
     "metadata": {},
     "outputs": []
    },
    {
     "cell_type": "heading",
     "level": 3,
     "metadata": {},
     "source": [
      "Step 4.2: Remove the scattered light from the flats"
     ]
    },
    {
     "cell_type": "markdown",
     "metadata": {},
     "source": [
      "We extract the flat to trace the fibers.  We use the outputs to find the gaps between the fiber bundles.  Then we fit a 2D curve the scattered light found in the gaps and remove it.\n",
      "\n",
      "Here is what a column plot of one of the extension looks like.  See how the flux in the gaps does not go all the way to zero.\n",
      "\n",
      "![flat_with_bkg](../screenshots/flat_with_bkg.png)\n",
      "\n",
      "After the removal of the scattered flux, it looks like this:\n",
      "\n",
      "![flat_without_bkg](../screenshots/flat_without_bkg.png)\n"
     ]
    },
    {
     "cell_type": "code",
     "collapsed": false,
     "input": [
      "iraf.imdelete('g@flat590.lis', verify='no')\n",
      "iraf.imdelete('rg@flat590.lis', verify='no')\n",
      "iraf.imdelete('erg@flat590.lis', verify='no')\n",
      "iraf.sections('blkmask_@flat590.lis', Stdout='blkmask.lis')\n",
      "iraf.delete('@blkmask.lis', verify='no')\n",
      "iraf.delete('blkmask.lis', verify='no')\n",
      "iraf.imdelete('brg@flat590.lis', verify='no')\n",
      "\n",
      "iraf.gfreduce('@flat590.lis', rawpath=raw_path, fl_extract='yes', \\\n",
      "              bias=os.path.join(bias_path, calibrations['bias']), \\\n",
      "              fl_over='yes', slits='red', mdffile='gnifu_slitr_mdf.fits', \\\n",
      "              mdfdir='./', fl_fluxcal='no', fl_gscrrej='no', fl_wavtran='no', \\\n",
      "              fl_skysub='no', fl_inter='no', fl_vardq='yes')\n",
      "\n",
      "for flat in iraf.type('flat590.lis', Stdout=1):\n",
      "    flat = flat.strip()\n",
      "    iraf.gffindblocks('rg'+flat, 'erg'+flat, 'blkmask_'+flat)\n",
      "\n",
      "for flat in iraf.type('flat590.lis', Stdout=1):\n",
      "    flat = flat.strip()\n",
      "    iraf.gfscatsub('rg'+flat, 'blkmask_'+flat, outimage='', prefix='b', \\\n",
      "                   xorder='5,5,5,7,5,5', yorder='5,5,5,7,5,5', cross='yes')"
     ],
     "language": "python",
     "metadata": {},
     "outputs": []
    },
    {
     "cell_type": "markdown",
     "metadata": {},
     "source": [
      "To verify that the flux in the gaps now goes to zero, you can run this loop in the PyRAF session.\n",
      "\n",
      "    for flat in iraf.type('flat590.lis', Stdout=1):\n",
      "        flat = flat.strip()\n",
      "        for i in range(6):\n",
      "            iraf.imexam('brg'+flat+'[sci,'+str(i+1)+']', 1)"
     ]
    },
    {
     "cell_type": "heading",
     "level": 3,
     "metadata": {},
     "source": [
      "Step 4.3: Extract the flat"
     ]
    },
    {
     "cell_type": "markdown",
     "metadata": {},
     "source": [
      "We extract the flat from the background corrected flat produced in the previous step."
     ]
    },
    {
     "cell_type": "code",
     "collapsed": false,
     "input": [
      "iraf.imdelete('ebrg@flat590.lis', verify='no')\n",
      "\n",
      "iraf.gfreduce('brg@flat590.lis', fl_extract='yes', fl_addmdf='no', \\\n",
      "              fl_bias='no', fl_over='no', fl_trim='no', slits='red', \\\n",
      "              mdffile='gnifu_slitr_mdf.fits', mdfdir='./', fl_fluxcal='no', \\\n",
      "              fl_gscrrej='no', fl_wavtran='no', fl_skysub='no', \\\n",
      "              fl_inter='no', fl_vardq='yes')"
     ],
     "language": "python",
     "metadata": {},
     "outputs": []
    },
    {
     "cell_type": "markdown",
     "metadata": {},
     "source": [
      "The extracted flat for a lense should look like this:\n",
      "\n",
      "![flat_extracted](../screenshots/flat_extracted.png)\n",
      "\n",
      "Use gfdisplay to verify.  Hit `<space>` to plot the flat for the lense under the cursor."
     ]
    },
    {
     "cell_type": "code",
     "collapsed": false,
     "input": [
      "for flat in iraf.type('flat590.lis', Stdout=1):\n",
      "    flat = flat.strip()\n",
      "    iraf.gfdisplay('ebrg'+flat, version='1')"
     ],
     "language": "python",
     "metadata": {},
     "outputs": []
    },
    {
     "cell_type": "heading",
     "level": 2,
     "metadata": {},
     "source": [
      "Step 5:  Reduce the Twilight Flat"
     ]
    },
    {
     "cell_type": "markdown",
     "metadata": {},
     "source": [
      "If more than one grating settings has been observed, it is quite possible that  only one setting has a twilight flat.  I have been told that the response curve calculated for one setting can be applied to the other as long as the difference in central wavelength is not too large, eg. ~ 10 nm.\n",
      "\n",
      "For this target, only the 590nm setting has a twilight flat.\n",
      "\n",
      "The same procedure as before is used to remove the scattered light."
     ]
    },
    {
     "cell_type": "heading",
     "level": 3,
     "metadata": {},
     "source": [
      "Step 5.1: Remove the scattered light from the flats"
     ]
    },
    {
     "cell_type": "markdown",
     "metadata": {},
     "source": [
      "We extract the flat to trace the fibers.  We use the outputs to find the gaps between the fiber bundles.  Then we fit a 2D curve the scattered light found in the gaps and remove it."
     ]
    },
    {
     "cell_type": "code",
     "collapsed": false,
     "input": [
      "iraf.imdelete('g@twi590.lis', verify='no')\n",
      "iraf.imdelete('rg@twi590.lis', verify='no')\n",
      "iraf.imdelete('erg@twi590.lis', verify='no')\n",
      "iraf.sections('blkmask_@twi590.lis', Stdout='blkmask.lis')\n",
      "iraf.delete('@blkmask.lis', verify='no')\n",
      "iraf.imdelete('brg@twi590.lis', verify='no')\n",
      "\n",
      "iraf.gfreduce('@twi590.lis', rawpath=raw_path, fl_extract='yes', \\\n",
      "              bias=os.path.join(bias_path, calibrations['bias']), \\\n",
      "              fl_over='yes', slits='red', mdffile='gnifu_slitr_mdf.fits', \\\n",
      "              mdfdir='./', fl_fluxcal='no', fl_gscrrej='no', fl_wavtran='no', \\\n",
      "              fl_skysub='no', fl_inter='no', fl_vardq='yes')\n",
      "\n",
      "for twilight in iraf.type('twi590.lis', Stdout=1):\n",
      "    twilight = twilight.strip()\n",
      "    iraf.gffindblocks('rg'+twilight, 'erg'+twilight, 'blkmask_'+twilight)\n",
      "\n",
      "for twilight in iraf.type('twi590.lis', Stdout=1):\n",
      "    twilight = twilight.strip()\n",
      "    iraf.gfscatsub('rg'+twilight, 'blkmask_'+twilight, outimage='', prefix='b', \\\n",
      "                   xorder='5,5,5,7,5,5', yorder='5,5,5,7,5,5', cross='yes')\n"
     ],
     "language": "python",
     "metadata": {},
     "outputs": []
    },
    {
     "cell_type": "markdown",
     "metadata": {},
     "source": [
      "To verify that the flux in the gaps now goes to zero, you can run this loop in the PyRAF session.\n",
      "\n",
      "    for flat in iraf.type('twi590.lis', Stdout=1):\n",
      "        flat = flat.strip()\n",
      "        for i in range(6):\n",
      "            iraf.imexam('brg'+flat+'[sci,'+str(i+1)+']', 1)"
     ]
    },
    {
     "cell_type": "heading",
     "level": 3,
     "metadata": {},
     "source": [
      "Step 5.2: Extract the flat"
     ]
    },
    {
     "cell_type": "markdown",
     "metadata": {},
     "source": [
      "We extract the flat from the background corrected flat produced in the previous step."
     ]
    },
    {
     "cell_type": "code",
     "collapsed": false,
     "input": [
      "iraf.imdelete('ebrg@twi590.lis', verify='no')\n",
      "\n",
      "iraf.gfreduce('brg@twi590.lis', fl_extract='yes', fl_addmdf='no', \\\n",
      "              fl_bias='no', fl_over='no', fl_trim='no', slits='red', \\\n",
      "              mdffile='gnifu_slitr_mdf.fits', mdfdir='./', fl_fluxcal='no', \\\n",
      "              fl_gscrrej='no', fl_wavtran='no', fl_skysub='no', \\\n",
      "              fl_inter='no', fl_vardq='yes')"
     ],
     "language": "python",
     "metadata": {},
     "outputs": []
    },
    {
     "cell_type": "markdown",
     "metadata": {},
     "source": [
      "The extracted flat for a lense should look like this:\n",
      "\n",
      "![twilight_extracted](../screenshots/twilight_extracted.png)\n",
      "\n",
      "Use gfdisplay to verify.  Hit `<space>` to plot the flat for the lense under the cursor."
     ]
    },
    {
     "cell_type": "code",
     "collapsed": false,
     "input": [
      "for twilight in iraf.type('twi590.lis', Stdout=1):\n",
      "    twilight = twilight.strip()\n",
      "    iraf.gfdisplay('ebrg'+twilight, version='1')"
     ],
     "language": "python",
     "metadata": {},
     "outputs": []
    },
    {
     "cell_type": "heading",
     "level": 2,
     "metadata": {},
     "source": [
      "Step 6: Calculate the Response Curve"
     ]
    },
    {
     "cell_type": "markdown",
     "metadata": {},
     "source": [
      "If a twilight flat was obtained only for one central wavelength setting, only one response curve can be calculated.  If the delta wavelength is small enough, say about 10nm, that response curve can be used for the other central wavelenght settings.\n",
      "\n",
      "The response curve is calculated from a GCAL flat and a twilight flat.\n",
      "\n",
      "Below we used only the first twilight flat.  (There's usually only one anyway.)"
     ]
    },
    {
     "cell_type": "code",
     "collapsed": false,
     "input": [
      "resproot = calibrations['response']['590nm']['respfuncroot']\n",
      "twilight = iraf.head('twi590.lis', nlines=1, Stdout=1)[0].strip()\n",
      "\n",
      "for flat in iraf.type('flat590.lis', Stdout=1):\n",
      "    flat = flat.strip()\n",
      "    iraf.imdelete(resproot+flat+'_resp', verify='no')\n",
      "\n",
      "    iraf.gfresponse('ebrg'+flat, outimage=resproot+flat+'_resp', \\\n",
      "                    sky='ebrg'+twilight, order=95, func='spline3', \\\n",
      "                    sample='*', fl_fit='yes', fl_inter='no')"
     ],
     "language": "python",
     "metadata": {},
     "outputs": []
    },
    {
     "cell_type": "markdown",
     "metadata": {},
     "source": [
      "The response curve will vary widely between the fibers.  Fiber \\#162 at position 500, 500, has this profile.\n",
      "\n",
      "![response_162.png](../screenshots/response_162.png)\n"
     ]
    },
    {
     "cell_type": "code",
     "collapsed": false,
     "input": [
      "for flat in iraf.type('flat590.lis', Stdout=1):\n",
      "    flat = flat.strip()\n",
      "    iraf.gfdisplay(resproot+flat+'_resp', version='1')"
     ],
     "language": "python",
     "metadata": {},
     "outputs": []
    },
    {
     "cell_type": "heading",
     "level": 2,
     "metadata": {},
     "source": [
      "Step 7: Reduce arcs and calculate wavelength solutions"
     ]
    },
    {
     "cell_type": "markdown",
     "metadata": {},
     "source": [
      "The arcs are taken in fast read mode.  Appropriate biases are rarely available for that mode.  Therefore, only the overscan correction is not, no bias correction."
     ]
    },
    {
     "cell_type": "heading",
     "level": 3,
     "metadata": {},
     "source": [
      "Step 7.1: Reduce the arcs"
     ]
    },
    {
     "cell_type": "code",
     "collapsed": false,
     "input": [
      "iraf.imdelete('g@arc590.lis', verify='no')\n",
      "iraf.imdelete('rg@arc590.lis', verify='no')\n",
      "iraf.imdelete('erg@arc590.lis', verify='no')\n",
      "\n",
      "flatref = iraf.head('flat590.lis', nlines=1, Stdout=1)[0].strip()\n",
      "for arc in iraf.type('arc590.lis', Stdout=1):\n",
      "    arc = arc.strip()\n",
      "    iraf.gfreduce(arc, rawpath=raw_path, fl_extract='yes', recenter='no', \\\n",
      "                  trace='no', reference='ebrg'+flatref, fl_bias='no', \\\n",
      "                  fl_over='yes', slits='red', mdffile='gnifu_slitr_mdf.fits', \\\n",
      "                  mdfdir='./', fl_fluxcal='no', fl_gscrrej='no', \\\n",
      "                  fl_wavtran='no', fl_skysub='no', fl_inter='no')"
     ],
     "language": "python",
     "metadata": {},
     "outputs": []
    },
    {
     "cell_type": "heading",
     "level": 3,
     "metadata": {},
     "source": [
      "Step 7.2: Calculate wavelength solutions"
     ]
    },
    {
     "cell_type": "markdown",
     "metadata": {},
     "source": [
      "James Turner recommends keeping only the lines above 2,000 ADUs."
     ]
    },
    {
     "cell_type": "code",
     "collapsed": false,
     "input": [
      "iraf.reidentify.answer='NO'\n",
      "\n",
      "for arc in iraf.type('arc590.lis', Stdout=1):\n",
      "    arc = arc.strip()\n",
      "    iraf.delete(database+'/iderg'+arc+'_001', verify='no')\n",
      "    iraf.gswavelength('erg'+arc, fl_inter='yes', nlost=10, ntarget=15, \\\n",
      "                      coordlis='gmos$data/GCALcuar.dat', aiddebug='s', \\\n",
      "                      threshold=25, section='first line')"
     ],
     "language": "python",
     "metadata": {},
     "outputs": []
    },
    {
     "cell_type": "heading",
     "level": 2,
     "metadata": {},
     "source": [
      "Step 8: Pre-processing of Science Frames"
     ]
    },
    {
     "cell_type": "code",
     "collapsed": false,
     "input": [
      "iraf.imdelete('g@sci590.lis', verify='no')\n",
      "iraf.imdelete('rg@sci590.lis', verify='no')\n",
      "\n",
      "iraf.gfreduce('@sci590.lis', rawpath=raw_path, fl_extract='no', \\\n",
      "              bias=os.path.join(bias_path, calibrations['bias']), \\\n",
      "              fl_over='yes', slits='red', mdffile='gnifu_slitr_mdf.fits', \\\n",
      "              mdfdir='./', fl_fluxcal='no', fl_gscrrej='no', fl_wavtran='no', \\\n",
      "              fl_skysub='no', fl_inter='no', fl_vardq='yes')"
     ],
     "language": "python",
     "metadata": {},
     "outputs": []
    },
    {
     "cell_type": "markdown",
     "metadata": {},
     "source": [
      "Note:  The signal is sufficiently weak that the scattered light problem is not much of an issue and correcting for it might just increase the noise.  To check, do a column plot:"
     ]
    },
    {
     "cell_type": "code",
     "collapsed": false,
     "input": [
      "checksci = iraf.head('sci590.lis', nlines=1, Stdout=1)[0]\n",
      "checksci = 'rg'+checksci\n",
      "iraf.imexam(checksci+'[5]', 1)"
     ],
     "language": "python",
     "metadata": {},
     "outputs": []
    },
    {
     "cell_type": "heading",
     "level": 2,
     "metadata": {},
     "source": [
      "Step 9: Cosmic Ray Rejection with LACosmic"
     ]
    },
    {
     "cell_type": "markdown",
     "metadata": {},
     "source": [
      "NOT NEEDED FOR STANDARD STAR."
     ]
    },
    {
     "cell_type": "heading",
     "level": 2,
     "metadata": {},
     "source": [
      "Step 10:  Extract Science Spectra"
     ]
    },
    {
     "cell_type": "markdown",
     "metadata": {},
     "source": [
      "The response curve to use should match the nearest flat to the science.  In this case, there's only one flat per wavelength setting.  For each setting the sequence is:  sci, sci, flat, arc.\n",
      "\n",
      "The loop below would not quite work for sequences like: flat, sci, ... sci, flat, where one wants to associate the first flat with the first half of the sci frames, and the second flat with the second half of the sci frames."
     ]
    },
    {
     "cell_type": "code",
     "collapsed": false,
     "input": [
      "iraf.imdelete('erg@sci590.lis', verify='no')\n",
      "\n",
      "resproot = calibrations['response']['590nm']['respfuncroot']\n",
      "respflat = iraf.head('flat590.lis', nlines=1, Stdout=1)[0].strip()\n",
      "response = resproot + respflat + '_resp'\n",
      "flatname = respflat\n",
      "reference = 'ebrg'+flatname\n",
      "\n",
      "for sci in iraf.type('sci590.lis', Stdout=1):\n",
      "    sci = sci.strip()\n",
      "    iraf.gfextract ('rg'+sci, response=response, recenter='no', trace='no', \\\n",
      "                    reference=reference, weights='none', fl_vardq='yes')"
     ],
     "language": "python",
     "metadata": {},
     "outputs": []
    },
    {
     "cell_type": "markdown",
     "metadata": {},
     "source": [
      "Check results:"
     ]
    },
    {
     "cell_type": "code",
     "collapsed": false,
     "input": [
      "for sci in iraf.type('sci590.lis', Stdout=1):\n",
      "    sci = sci.strip()\n",
      "    iraf.gfdisplay('erg'+sci, version='1')"
     ],
     "language": "python",
     "metadata": {},
     "outputs": []
    },
    {
     "cell_type": "code",
     "collapsed": false,
     "input": [
      "for sci in iraf.type('sci590.lis', Stdout=1):\n",
      "    sci = sci.strip()\n",
      "    iraf.gdisplay('erg'+sci, 1)"
     ],
     "language": "python",
     "metadata": {},
     "outputs": []
    },
    {
     "cell_type": "heading",
     "level": 2,
     "metadata": {},
     "source": [
      "Step 11: Secondary Bad Pixel Fix"
     ]
    },
    {
     "cell_type": "markdown",
     "metadata": {},
     "source": [
      "I DON'T THINK THIS NEEDS TO BE DONE FOR THE STANDARD STAR.  WE'LL SEE LATER."
     ]
    },
    {
     "cell_type": "markdown",
     "metadata": {},
     "source": [
      "After the extraction there are pixels that are so obviously bad (dozens and dozens of sigma above the rest) that it makes sense to fix them.  There are very localized."
     ]
    },
    {
     "cell_type": "heading",
     "level": 3,
     "metadata": {},
     "source": [
      "Step 11.1:  Setting an appropriate threshold"
     ]
    },
    {
     "cell_type": "markdown",
     "metadata": {},
     "source": [
      "Inpect the science files with display, adjust z2 to easkly spot the off-the-wall pixels, and define a safe threshold to use in imreplace during the mask creation."
     ]
    },
    {
     "cell_type": "code",
     "collapsed": false,
     "input": [
      "for sci in iraf.type('sci590.lis', Stdout=1):\n",
      "    iraf.imexam('exrg'+sci)"
     ],
     "language": "python",
     "metadata": {},
     "outputs": []
    },
    {
     "cell_type": "code",
     "collapsed": false,
     "input": [
      "for sci in iraf.type('sci600.lis', Stdout=1):\n",
      "    iraf.imexam('exrg'+sci)"
     ],
     "language": "python",
     "metadata": {},
     "outputs": []
    },
    {
     "cell_type": "code",
     "collapsed": false,
     "input": [
      "scilist = iraf.type('sci590.lis', Stdout=1)\n",
      "scilist.append(iraf.type('sci600.lis', Stdout=1))\n",
      "#strip the .fits\n",
      "scilist = [s.split('.')[0] for s in scilist]\n",
      "\n",
      "thresholds = [0,0,0,0]\n",
      "\n",
      "scithresholds = zip(scilist, thresholds)"
     ],
     "language": "python",
     "metadata": {},
     "outputs": []
    },
    {
     "cell_type": "heading",
     "level": 3,
     "metadata": {},
     "source": [
      "Step 11.2:  Create the masks"
     ]
    },
    {
     "cell_type": "code",
     "collapsed": false,
     "input": [
      "for (sci, thresh) in scithreshold:\n",
      "    iraf.imcopy('exrg'+sci+'[sci,1]', 'mask'+sci)\n",
      "    iraf.imreplace('mask'+sci, 0, upper=thresh, lower='INDEF')\n",
      "    iraf.imreplace('mask'+sci, 1, lower=thresh, upper='INDEF')\n",
      "    iraf.imcopy('mask'+sci+'.fits', 'mask'+sci+'.pl')\n",
      "\n",
      "iraf.imdelete('mask*.fits')"
     ],
     "language": "python",
     "metadata": {},
     "outputs": []
    },
    {
     "cell_type": "heading",
     "level": 3,
     "metadata": {},
     "source": [
      "Step 11.3: Fix the pixels"
     ]
    },
    {
     "cell_type": "code",
     "collapsed": false,
     "input": [
      "for sci in scilist:\n",
      "    iraf.copy('exrg'+sci+'.fits', 'tmp'+sci+'.fits')\n",
      "    iraf.proto.fixpix('tmp'+sci+'[sci,1]', 'mask'+sci+'.pl')\n",
      "    iraf.copy('tmp'+sci+'.fits', 'xexrg'+sci+'.fits')\n",
      "\n",
      "iraf.imdelete('tmp*.fits')   \n",
      "iraf.delete('mask*.pl')"
     ],
     "language": "python",
     "metadata": {},
     "outputs": []
    },
    {
     "cell_type": "heading",
     "level": 2,
     "metadata": {},
     "source": [
      "Step 12: Transform the Spectra"
     ]
    },
    {
     "cell_type": "markdown",
     "metadata": {},
     "source": [
      "Note: For these observations, there's just one arc per wavelength setting."
     ]
    },
    {
     "cell_type": "code",
     "collapsed": false,
     "input": [
      "iraf.imdelete('terg@sci590.lis', verify='no')\n",
      "\n",
      "arc = iraf.head('arc590.lis', nlines=1, Stdout=1)[0].strip()\n",
      "for sci in iraf.type('sci590.lis', Stdout=1):\n",
      "    sci = sci.strip()\n",
      "    iraf.gftransform('erg'+sci, wavtraname='erg'+arc, fl_vardq='yes')"
     ],
     "language": "python",
     "metadata": {},
     "outputs": []
    },
    {
     "cell_type": "markdown",
     "metadata": {},
     "source": [
      "Check results:"
     ]
    },
    {
     "cell_type": "code",
     "collapsed": false,
     "input": [
      "for sci in iraf.type('sci590.lis', Stdout=1):\n",
      "    sci = sci.strip()\n",
      "    iraf.gfdisplay('terg'+sci, version='1')"
     ],
     "language": "python",
     "metadata": {},
     "outputs": []
    },
    {
     "cell_type": "heading",
     "level": 2,
     "metadata": {},
     "source": [
      "Step 13: Sky Subtraction"
     ]
    },
    {
     "cell_type": "code",
     "collapsed": false,
     "input": [
      "iraf.imdelete('sterg@sci590.lis', verify='no')\n",
      "\n",
      "for sci in iraf.type('sci590.lis', Stdout=1):\n",
      "    sci = sci.strip()\n",
      "    iraf.gfskysub('terg'+sci, fl_inter='no')"
     ],
     "language": "python",
     "metadata": {},
     "outputs": []
    },
    {
     "cell_type": "markdown",
     "metadata": {},
     "source": [
      "Check results:"
     ]
    },
    {
     "cell_type": "code",
     "collapsed": false,
     "input": [
      "for sci in iraf.type('sci590.lis', Stdout=1):\n",
      "    sci = sci.strip()\n",
      "    iraf.gfdisplay('sterg'+sci, version='1')"
     ],
     "language": "python",
     "metadata": {},
     "outputs": []
    },
    {
     "cell_type": "heading",
     "level": 2,
     "metadata": {},
     "source": [
      "Step 14: Sum all the standard spectra"
     ]
    },
    {
     "cell_type": "code",
     "collapsed": false,
     "input": [
      "iraf.imdelete('asterg@sci590.lis', verify='no')\n",
      "\n",
      "for sci in iraf.type('sci590.lis', Stdout=1):\n",
      "    sci = sci.strip()\n",
      "    iraf.gfapsum('sterg'+sci, combine='sum', fl_inter='no')"
     ],
     "language": "python",
     "metadata": {},
     "outputs": []
    },
    {
     "cell_type": "code",
     "collapsed": false,
     "input": [
      "for sci in iraf.type('sci590.lis', Stdout=1):\n",
      "    sci = sci.strip()\n",
      "    iraf.splot('asterg'+sci+'[sci,1]')"
     ],
     "language": "python",
     "metadata": {},
     "outputs": []
    },
    {
     "cell_type": "heading",
     "level": 2,
     "metadata": {},
     "source": [
      "Step 15: Calculate the sensitivity function"
     ]
    },
    {
     "cell_type": "markdown",
     "metadata": {},
     "source": [
      "WARNING:  If there are more than one observation, this is going to fail.  I cannot be bothered right now to fix it to create differently named sensitivity functions."
     ]
    },
    {
     "cell_type": "code",
     "collapsed": false,
     "input": [
      "iraf.delete(calibrations['standard'], verify='no')\n",
      "iraf.imdelete(calibrations['stdsens'], verify='no')\n",
      "\n",
      "for sci in iraf.type('sci590.lis', Stdout=1):\n",
      "    sci = sci.strip()\n",
      "    iraf.gsstandard('asterg'+sci, calibrations['standard'], \\\n",
      "                    calibrations['stdsens'], starname='feige66', \\\n",
      "                    observatory='Gemini-North', caldir='onedstds$spec50cal/', \\\n",
      "                    extinction=extinction, fl_inter='no')"
     ],
     "language": "python",
     "metadata": {},
     "outputs": []
    },
    {
     "cell_type": "heading",
     "level": 2,
     "metadata": {},
     "source": [
      "Step 16: Apply calibration to verify recovery of standard spectrum"
     ]
    },
    {
     "cell_type": "code",
     "collapsed": false,
     "input": [
      "iraf.imdelete('csterg@sci590.lis', verify='no')\n",
      "\n",
      "for sci in iraf.type('sci590.lis', Stdout=1):\n",
      "    sci = sci.strip()\n",
      "    iraf.gscalibrate('sterg'+sci, sfunction=calibrations['stdsens'], \\\n",
      "                     obs='Gemini-North', extinction=extinction, \\\n",
      "                     fl_ext='yes', fl_vardq='yes')"
     ],
     "language": "python",
     "metadata": {},
     "outputs": []
    },
    {
     "cell_type": "markdown",
     "metadata": {},
     "source": [
      "Check results:"
     ]
    },
    {
     "cell_type": "code",
     "collapsed": false,
     "input": [
      "for sci in iraf.type('sci590.lis', Stdout=1):\n",
      "    sci = sci.strip()\n",
      "    iraf.gfdisplay('csterg'+sci, version='1')"
     ],
     "language": "python",
     "metadata": {},
     "outputs": []
    },
    {
     "cell_type": "code",
     "collapsed": false,
     "input": [
      "iraf.imdelete('acsterg@sci590.lis', verify='no')\n",
      "\n",
      "for sci in iraf.type('sci590.lis', Stdout=1):\n",
      "    sci = sci.strip()\n",
      "    iraf.gfapsum('csterg'+sci, combine='sum', fl_inter='no')"
     ],
     "language": "python",
     "metadata": {},
     "outputs": []
    },
    {
     "cell_type": "code",
     "collapsed": false,
     "input": [
      "for sci in iraf.type('sci590.lis', Stdout=1):\n",
      "    sci = sci.strip()\n",
      "    iraf.splot('acsterg'+sci+'[sci,1]')"
     ],
     "language": "python",
     "metadata": {},
     "outputs": []
    },
    {
     "cell_type": "markdown",
     "metadata": {},
     "source": [
      "Looks about right.\n",
      "\n",
      "http://www.eso.org/sci/observing/tools/standards/spectra/feige66.html"
     ]
    },
    {
     "cell_type": "heading",
     "level": 2,
     "metadata": {},
     "source": [
      "Step 17:  Move the results to the products directory"
     ]
    },
    {
     "cell_type": "code",
     "collapsed": false,
     "input": [
      "import shutil\n",
      "\n",
      "shutil.copy(calibrations['standard'], std_path)\n",
      "shutil.copy(calibrations['stdsens']+'.fits', std_path)\n",
      "for sci in iraf.type('sci590.lis', Stdout=1):\n",
      "    sci = sci.strip()\n",
      "    shutil.copy('asterg'+sci+'.fits', std_path)\n",
      "    shutil.copy('sterg'+sci+'.fits', std_path)\n",
      "    shutil.copy('acsterg'+sci+'.fits', std_path)"
     ],
     "language": "python",
     "metadata": {},
     "outputs": []
    },
    {
     "cell_type": "code",
     "collapsed": false,
     "input": [],
     "language": "python",
     "metadata": {},
     "outputs": []
    }
   ],
   "metadata": {}
  }
 ]
}