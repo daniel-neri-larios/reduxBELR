{
 "metadata": {
  "name": "",
  "signature": "sha256:2a8afa0ddeeb02bdb4466d714bc0e29f8b49fb3549b7799bc4502b959dff3bd4"
 },
 "nbformat": 3,
 "nbformat_minor": 0,
 "worksheets": [
  {
   "cells": [
    {
     "cell_type": "heading",
     "level": 1,
     "metadata": {},
     "source": [
      "Biases Reduction for GN-2013B-Q-45"
     ]
    },
    {
     "cell_type": "markdown",
     "metadata": {},
     "source": [
      "----\n",
      "Biases :\n",
      "--------\n",
      "\n",
      "**<font color=red>WARNING:  Change those file names to match your program biases</font>**\n",
      "\n",
      "<table>\n",
      "    <tr><td>**N20150411S0266_bias.fits**</td></tr>\n",
      "    <tr><td>20150411</td>   <td>226-230</td>   <td>(binning x=2,y=1)</td></tr>\n",
      "    <tr><td>20150412</td>   <td>255-259</td>   <td>(binning x=2,y=1)</td></tr>\n",
      "    <tr><td>20150413</td>   <td>282-286</td>   <td>(binning x=2,y=1)</td></tr>\n",
      "    <tr><td>20150414</td>   <td>163-167</td>   <td>(binning x=2,y=1)</td></tr>\n",
      "    <tr><td>20150415</td>   <td>107-111</td>   <td>(binning x=2,y=1)</td></tr>\n",
      "    <tr><td>20150416</td>   <td>274-278</td>   <td>(binning x=2,y=1)</td></tr>\n",
      "    <tr><td>20150417</td>   <td>120-124</td>   <td>(binning x=2,y=1)</td></tr>\n",
      "</table>"
     ]
    },
    {
     "cell_type": "heading",
     "level": 2,
     "metadata": {},
     "source": [
      "STEP 0: Define variables specific to this target."
     ]
    },
    {
     "cell_type": "markdown",
     "metadata": {},
     "source": [
      "The directory paths are assumed to match this structure:\n",
      "\n",
      "    program_rootdir\n",
      "        - calibredux\n",
      "            - biases\n",
      "        - calibproducts\n",
      "            - standards\n",
      "                - stdname_long\n",
      "                - stdname_long\n",
      "            - biases\n",
      "        - raw\n"
     ]
    },
    {
     "cell_type": "heading",
     "level": 3,
     "metadata": {},
     "source": [
      "Step 0.1: Setup the variables for the Notebook."
     ]
    },
    {
     "cell_type": "code",
     "collapsed": false,
     "input": [
      "import os\n",
      "import os.path\n",
      "import shutil\n",
      "\n",
      "# EDIT HERE - Directories\n",
      "program_rootdir = '/Volumes/MyRugged/research/DoubleAGN/GN-2013B-Q-45'\n",
      "\n",
      "#WARNING:  Make sure that the directory structure is already in place.\n",
      "\n",
      "# TODO: Create the directory here, would be more user-friendly.\n",
      "\n",
      "# EDIT HERE - Bias names, and observation dates and filenames\n",
      "procbias = {\n",
      "    'bias1' : {\n",
      "        'name' : 'N20150411S0226_bias.fits',\n",
      "        'frames' : [('N20150411S', '226-230'),\n",
      "                    ('N20150412S', '255-259'),\n",
      "                    ('N20150413S', '282-286'),\n",
      "                    ('N20150414S', '163-167'),\n",
      "                    ('N20150415S', '107-111'),\n",
      "                    ('N20150416S', '274-278'),\n",
      "                    ('N20150417S', '120-124'),\n",
      "                   ]\n",
      "        },\n",
      "#    'bias2' : {\n",
      "#        'name' : 'N20150815S0118_bias.fits',\n",
      "#        'frames' : [('N20150815S', '118-122'),\n",
      "#                    ('N20150816S', '11-15'),\n",
      "#                    ('N20150817S', '13-17'),\n",
      "#                    ('N20150820S', '316-320'),\n",
      "#                   ]\n",
      "#        },\n",
      "\n",
      "}\n",
      "\n",
      "# Other variable names\n",
      "logfile = 'bias.log'\n",
      "database = 'bias_database'\n",
      "\n",
      "# Automatically set directories and other variables from info above.\n",
      "raw_path = os.path.join(program_rootdir,'raw')\n",
      "redux_path = os.path.join(program_rootdir, 'calibredux', 'biases')\n",
      "products_path = os.path.join(program_rootdir, 'calibproducts', 'biases')"
     ],
     "language": "python",
     "metadata": {},
     "outputs": []
    },
    {
     "cell_type": "heading",
     "level": 3,
     "metadata": {},
     "source": [
      "Step 0.2: Load and initialize the packages."
     ]
    },
    {
     "cell_type": "markdown",
     "metadata": {},
     "source": [
      "**Launch ds9 before proceeding further.**\n",
      "\n",
      "Load the packages required for the notebook session and reset tasks to the default parameters.  (Note: this doesn't seem to be working from the Python shell.)"
     ]
    },
    {
     "cell_type": "code",
     "collapsed": false,
     "input": [
      "os.chdir(redux_path)\n",
      "\n",
      "from pyraf import iraf\n",
      "iraf.gemini()\n",
      "iraf.gmos()\n",
      "\n",
      "iraf.unlearn(iraf.gemini, iraf.gmos, iraf.gemtools)\n",
      "\n",
      "iraf.gmos.logfile = logfile\n",
      "#iraf.gmos.database = database\n",
      "rawdir = raw_path + '/'\n",
      "iraf.set(stdimage='imtgmos')"
     ],
     "language": "python",
     "metadata": {},
     "outputs": []
    },
    {
     "cell_type": "markdown",
     "metadata": {},
     "source": [
      "*If necessary to start from scratch, delete the log file and the database.*"
     ]
    },
    {
     "cell_type": "code",
     "collapsed": false,
     "input": [
      "if (iraf.access(iraf.gmos.logfile)):\n",
      "    iraf.delete(iraf.gmos.logfile, verify='no')\n",
      "if (iraf.access(database)):\n",
      "    iraf.delete(database + '*/', verify='no')"
     ],
     "language": "python",
     "metadata": {},
     "outputs": []
    },
    {
     "cell_type": "heading",
     "level": 2,
     "metadata": {},
     "source": [
      "Step 1: Create reduction lists"
     ]
    },
    {
     "cell_type": "code",
     "collapsed": false,
     "input": [
      "iraf.delete('bias1.lis, bias2.lis, bias3.lis, all.lis', verify='no')\n",
      "iraf.delete('bias*_*.lis', verify='no')\n",
      "\n",
      "for series in procbias['bias1']['frames']:\n",
      "    iraf.gemlist(series[0], series[1], Stdout='bias1_'+series[0]+'.lis')\n",
      "iraf.concat('bias1*.lis', 'bias1.lis')\n",
      "\n",
      "#for series in procbias['bias2']['frames']:\n",
      "#    iraf.gemlist(series[0], series[1], Stdout='bias2_'+series[0]+'.lis')\n",
      "#iraf.concat('bias2*.lis', 'bias2.lis')\n",
      "\n",
      "iraf.delete('bias*_*.lis', verify='no')\n",
      "\n",
      "iraf.concat('bias1.lis', 'all.lis')\n",
      "#iraf.concat('bias1.lis, bias2.lis', 'all.lis')\n",
      "\n",
      "# remove duplicates\n",
      "all_file = open('all.lis', 'r')\n",
      "all_lines = all_file.readlines()\n",
      "all_file.close()\n",
      "lines_seen = list()\n",
      "for line in all_lines:\n",
      "    if line not in lines_seen:\n",
      "        lines_seen.append(line)\n",
      "all_file = open('all.lis', 'w')\n",
      "all_file.writelines(lines_seen)\n",
      "all_file.close()\n"
     ],
     "language": "python",
     "metadata": {},
     "outputs": []
    },
    {
     "cell_type": "heading",
     "level": 2,
     "metadata": {},
     "source": [
      "Step 2: Visualy inspect all the data."
     ]
    },
    {
     "cell_type": "code",
     "collapsed": false,
     "input": [
      "all_file = open('all.lis', 'r')\n",
      "for line in all_file:\n",
      "    image = line.strip()\n",
      "    print image\n",
      "    iraf.gdisplay(rawdir + image, 1, fl_paste='no', fl_bias='yes')\n",
      "    iraf.sleep(5)\n",
      "    \n",
      "all_file.close()"
     ],
     "language": "python",
     "metadata": {},
     "outputs": []
    },
    {
     "cell_type": "heading",
     "level": 2,
     "metadata": {},
     "source": [
      "Step 3: Process the biases"
     ]
    },
    {
     "cell_type": "code",
     "collapsed": false,
     "input": [
      "os.chdir(redux_path)\n",
      "\n",
      "iraf.imdelete(procbias['bias1']['name'], verify='no')\n",
      "iraf.imdelete('g@bias1.lis')\n",
      "\n",
      "print 'Creating bias ', procbias['bias1']['name']\n",
      "iraf.gbias('@bias1.lis', procbias['bias1']['name'], rawpath=rawdir, \\\n",
      "           fl_vardq='yes')\n",
      "shutil.copy(procbias['bias1']['name'], products_path)"
     ],
     "language": "python",
     "metadata": {},
     "outputs": []
    },
    {
     "cell_type": "code",
     "collapsed": false,
     "input": [
      "iraf.gdisplay(procbias['bias1']['name'], 1, fl_paste='no')"
     ],
     "language": "python",
     "metadata": {},
     "outputs": []
    },
    {
     "cell_type": "code",
     "collapsed": false,
     "input": [],
     "language": "python",
     "metadata": {},
     "outputs": []
    }
   ],
   "metadata": {}
  }
 ]
}