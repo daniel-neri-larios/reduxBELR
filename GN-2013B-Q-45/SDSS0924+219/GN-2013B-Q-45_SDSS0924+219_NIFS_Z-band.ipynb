{
 "metadata": {
  "name": "",
  "signature": "sha256:aea01cbf26dd9fd93fc4eee5498ed29edf083700c078b2ef2a7f65236ae05797"
 },
 "nbformat": 3,
 "nbformat_minor": 0,
 "worksheets": [
  {
   "cells": [
    {
     "cell_type": "heading",
     "level": 1,
     "metadata": {},
     "source": [
      "NIFS Z-band Reduction of SDSS J092455.79+021924.9 observed on 2014.02.28"
     ]
    },
    {
     "cell_type": "markdown",
     "metadata": {},
     "source": [
      "-----\n",
      "**Table of Content**\n",
      "<a id='toc'></a>\n",
      "-----\n",
      "* [Observations](#observations)\n",
      "* [Setup the session](#setup)\n",
      "* [Reduction of the calibrations](#calibrations)\n",
      "* [Reduction of the science frames](#science)\n",
      "* [Reduction of the telluric standard](#telluric)\n",
      "* [Telluric correction of the science frames](#telluric_correction)\n",
      "* [Cubing and stacking of the science frames](#cubing_stacking)\n",
      "\n",
      "<a id='observations'></a>"
     ]
    },
    {
     "cell_type": "markdown",
     "metadata": {},
     "source": [
      "----\n",
      "Science Dataset:\n",
      "----------------\n",
      "<table>\n",
      "<tr><td> <strong>Redshift</strong> </td> <td>1.524653</td></tr>\n",
      "</table>\n",
      "\n",
      "<table>\n",
      "<tr><td> <strong>Observation UT date</strong> </td> <td>2014 Feb 28</td></tr>\n",
      "<tr><td> <strong>Data filename prefix</strong> </td><td>N20140228S</td></tr>\n",
      "</table>\n",
      "<br>\n",
      "**File numbers:**\n",
      "<table>\n",
      "<tr><td>Science / Sky Pair</td>          <td>161-168 / 169</td><td>Z, 1.05, 600s, faint</td></tr>\n",
      "<tr><td>Darks for science</td>           <td>353-367</td>      <td>600s, faint</td></tr>\n",
      "<tr><td>Flats (lamps on / lamps off)</td><td>369-373 / 374-378</td><td>Z, 1.05, 8s, bright</td></tr>\n",
      "<tr><td>Arc</td>                         <td>170</td>          <td>Z, 1.05s, 5.3, bright</td></tr>\n",
      "<tr><td>Darks for arc</td>               <td>379-380</td>      <td>5.3s, bright</td></tr>\n",
      "<tr><td>Ronchi</td>                      <td>381-382</td>      <td>Z, 1.05, 8s, bright</td></tr>\n",
      "</table>\n",
      "\n",
      "Telluric Before Dataset:\n",
      "------------------------\n",
      "<table>\n",
      "<tr><td> Name: </td><td>HIP 41307</td></tr>\n",
      "<tr><td> Spectral Type: </td><td>A0V</td></tr>\n",
      "<tr><td> Temperature: </td><td>$9,727 K$</td></tr>\n",
      "<tr><td> Airmass: </td><td>1.224</td></tr>\n",
      "<tr><td> Airmass Science: </td><td>1.191</td></tr>\n",
      "<tr><td> Delta Time: </td><td> 13 min.  Tel_end=10:03, Sci_beg=10:16</td></tr>\n",
      "</table>\n",
      "\n",
      "**File numbers:**\n",
      "<table>\n",
      "<tr><td>Telluric (HIP 41307) </td>     <td>151-156</td>      <td>Z, 1.05, 5.3s, bright, ABAABA</td></tr>\n",
      "<tr><td>Flats (lamps on/lamps off)</td><td>369-373 / 374-378</td><td>Z, 1.05, 8s, bright</td></tr>\n",
      "<tr><td>Arc</td>                       <td>170</td>          <td>Z, 1.05s, 5.3, bright</td></tr>\n",
      "<tr><td>Darks for arc</td>             <td>379-380</td>      <td>5.3, bright</td></tr>\n",
      "<tr><td>Ronchi</td>                    <td>381-382</td>      <td>Z, 1.05, 8s, bright</td></tr>\n",
      "</table>\n",
      "\n",
      "Telluric After Dataset:\n",
      "-----------------------\n",
      "<table>\n",
      "<tr><td> Name: </td><td>HIP 54849</td></tr>\n",
      "<tr><td> Spectral Type: </td><td>A0V</td></tr>\n",
      "<tr><td> Temperature: </td><td>$9,727 K$</td></tr>\n",
      "<tr><td> Airmass: </td><td>1.114</td></tr>\n",
      "<tr><td> Airmass Science: </td><td>1.191</td></tr>\n",
      "<tr><td> Delta Time: </td><td> 32 min.  Sci_end=11:38, Tel_beg=12:10</td></tr>\n",
      "</table>\n",
      "\n",
      "**File numbers:**\n",
      "<table>\n",
      "<tr><td>Telluric (HIP 54849) </td>     <td>174-179</td>      <td>Z, 1.05, 5.3s, bright, ABAABA</td></tr>\n",
      "<tr><td>Flats (lamps on/lamps off)</td><td>369-373 / 374-378</td><td>Z, 1.05, 8s, bright</td></tr>\n",
      "<tr><td>Arc</td>                       <td>170</td>          <td>Z, 1.05s, 5.3, bright</td></tr>\n",
      "<tr><td>Darks for arc</td>             <td>379-380</td>      <td>5.3, bright</td></tr>\n",
      "<tr><td>Ronchi</td>                    <td>381-382</td>      <td>Z, 1.05, 8s, bright</td></tr>\n",
      "</table>\n",
      "\n"
     ]
    },
    {
     "cell_type": "markdown",
     "metadata": {},
     "source": [
      "[Table of Contents](#toc)\n",
      "\n",
      "<hr size=5>\n",
      "<a id='setup'>"
     ]
    },
    {
     "cell_type": "heading",
     "level": 2,
     "metadata": {},
     "source": [
      "SESSION CONFIGURATION - STEPS 0 TO 4"
     ]
    },
    {
     "cell_type": "markdown",
     "metadata": {},
     "source": [
      "<hr size=5>"
     ]
    },
    {
     "cell_type": "heading",
     "level": 2,
     "metadata": {},
     "source": [
      "STEP 0: Define variables specific to this target and start parallel PyRAF session."
     ]
    },
    {
     "cell_type": "code",
     "collapsed": false,
     "input": [
      "import os\n",
      "# UPDATE DATE IN REDUX_DIR\n",
      "redux_dir = '/Volumes/MyRugged/research/BELR/GN-2013B-Q-45/SDSSJ0924+219/20140228-##???2015/reduxZ'\n",
      "os.chdir(redux_dir)\n",
      "\n",
      "logfile = \"Z0924.log\"\n",
      "database = \"Z0924_database/\"\n",
      "raw_data_path = \"../../../raw/\"\n",
      "flatroot = \"N20140228S\" ; flatslampson = \"369-373\" ; flatslampsoff = \"374-378\"\n",
      "ronchiroot = \"N20140228\" ; ronchis = \"381-382\"\n",
      "arcroot = \"N20140228S\" ; arcs = \"170\"\n",
      "arcdarkroot = \"N20140228S\" ; arcdarks = \"379-380\"\n",
      "\n",
      "# objs includes offsets to sky (in this case, 169 is the only sky frame.)\n",
      "objroot = \"N20140228S\" ; objs = \"161-169\"\n",
      "objdarkroot = \"N20140228S\" ; objdarks = \"353-367\"\n",
      "\n",
      "# tels includes offsets to sky (ABAABA)\n",
      "# no darks for tellurics\n",
      "telroot = \"N20140228S\" ; telsbefore = \"151-156\" ; telsafter = \"174-179\"\n",
      "\n",
      "\n",
      "#lxorder=3 ; lyorder=6  # used by nsfitcoords.  \n",
      "                       # Values are determine in Step 8."
     ],
     "language": "python",
     "metadata": {},
     "outputs": []
    },
    {
     "cell_type": "heading",
     "level": 4,
     "metadata": {},
     "source": [
      "Now get a PyRAF session ready.  This will be needed for some interactive tasks that don't work well in the notebook."
     ]
    },
    {
     "cell_type": "markdown",
     "metadata": {},
     "source": [
      "Open and xterm or a Terminal then:\n",
      "\n",
      "(UPDATE PATH HERE TOO)\n",
      "\n",
      "    cd '/Volumes/MyRugged/research/BELR/GN-2013B-Q-45/SDSSJ0924+219/20140228-##???2015/reduxZ'\n",
      "    pyraf"
     ]
    },
    {
     "cell_type": "markdown",
     "metadata": {},
     "source": [
      "Then in the PyRAF session:\n",
      "\n",
      "    gemini\n",
      "    nifs\n",
      "    unlearn gemini\n",
      "    unlearn nifs\n",
      "    unlearn gnirs\n",
      "    unlearn gemtools"
     ]
    },
    {
     "cell_type": "markdown",
     "metadata": {},
     "source": [
      "Get your PyRAF configured.  In the PyRAF session:\n",
      "\n",
      "    iraf.nifs.logfile = \"Z0924.log\"\n",
      "    iraf.nifs.database = \"Z0924_database/\"\n",
      "    set rawdir = \"../../../raw/\"\n",
      "    set stdimage=imt2048\n",
      "    nsheaders('nifs', logfile=iraf.nifs.logfile)"
     ]
    },
    {
     "cell_type": "heading",
     "level": 2,
     "metadata": {},
     "source": [
      "STEP 1: Initialize the required packages"
     ]
    },
    {
     "cell_type": "heading",
     "level": 4,
     "metadata": {},
     "source": [
      "Launch ds9 before proceeeding further"
     ]
    },
    {
     "cell_type": "heading",
     "level": 4,
     "metadata": {},
     "source": [
      "Load the packages required for the notebook session."
     ]
    },
    {
     "cell_type": "code",
     "collapsed": false,
     "input": [
      "from pyraf import iraf\n",
      "iraf.gemini()\n",
      "iraf.nifs()"
     ],
     "language": "python",
     "metadata": {},
     "outputs": []
    },
    {
     "cell_type": "code",
     "collapsed": false,
     "input": [
      "iraf.unlearn(iraf.gemini, iraf.nifs, iraf.gnirs, iraf.gemtools)"
     ],
     "language": "python",
     "metadata": {},
     "outputs": []
    },
    {
     "cell_type": "heading",
     "level": 2,
     "metadata": {},
     "source": [
      "STEP 2: Define various parameters and variables"
     ]
    },
    {
     "cell_type": "code",
     "collapsed": false,
     "input": [
      "iraf.nifs.logfile = logfile\n",
      "iraf.nifs.database = database\n",
      "rawdir = raw_data_path\n",
      "iraf.set(stdimage='imt2048')\n",
      "\n",
      "iraf.nsheaders('nifs', logfile=iraf.nifs.logfile)"
     ],
     "language": "python",
     "metadata": {},
     "outputs": []
    },
    {
     "cell_type": "markdown",
     "metadata": {},
     "source": [
      "***If necessary to start from scratch, delete the log file and the database***"
     ]
    },
    {
     "cell_type": "code",
     "collapsed": false,
     "input": [
      "if (iraf.access(iraf.nifs.logfile)):\n",
      "    iraf.delete(iraf.nifs.logfile, verify='no')\n",
      "if (iraf.access(iraf.nifs.database)):\n",
      "    iraf.delete(iraf.nifs.database + '*', verify='no')"
     ],
     "language": "python",
     "metadata": {},
     "outputs": [],
     "prompt_number": 2
    },
    {
     "cell_type": "heading",
     "level": 2,
     "metadata": {},
     "source": [
      "STEP 3: Create the reduction lists and output file names"
     ]
    },
    {
     "cell_type": "code",
     "collapsed": false,
     "input": [
      "iraf.delete('flaton.lis, flatoff.lis, ronchi.lis, arc.lis, arcdark.lis, obj.lis, \\\n",
      "    objdark.lis, telbefore.lis, telafter.lis', verify='no')\n",
      "\n",
      "iraf.gemlist(flatroot, flatslampson, Stdout='flaton.lis')\n",
      "iraf.gemlist(flatroot, flatslampsoff, Stdout='flatoff.lis')\n",
      "iraf.gemlist(ronchiroot, ronchis, Stdout='ronchi.lis')\n",
      "iraf.gemlist(arcroot, arcs, Stdout='arc.lis')\n",
      "iraf.gemlist(arcdarkroot, arcdarks, Stdout='arcdark.lis')\n",
      "iraf.gemlist(objroot, objs, Stdout='obj.lis')\n",
      "iraf.gemlist(objdarkroot, objdarks, Stdout='objdark.lis')\n",
      "iraf.gemlist(telroot, telsbefore, Stdout='telbefore.lis')\n",
      "iraf.gemlist(telroot, telsafter, Stdout='telafter.lis')\n",
      "\n",
      "iraf.concat('flaton.lis, flatoff.lis, ronchi.lis, arc.lis, arcdark.lis, obj.lis, \\\n",
      "    objdark.lis, telbefore.lis, telafter.lis', 'all.lis')\n",
      "\n",
      "# remove duplicates\n",
      "all_file = open('all.lis', 'r')\n",
      "all_lines = all_file.readlines()\n",
      "all_file.close()\n",
      "lines_seen = list()\n",
      "for line in all_lines:\n",
      "    if line not in lines_seen:\n",
      "        lines_seen.append(line)\n",
      "all_file = open('all.lis', 'w')\n",
      "all_file.writelines(lines_seen)\n",
      "all_file.close()\n",
      "\n",
      "# get first file of some list to build output file names\n",
      "calflat = iraf.head('flaton.lis', nlines=1, Stdout=1)[0].strip()\n",
      "flatdark = iraf.head('flatoff.lis', nlines=1, Stdout=1)[0].strip()\n",
      "arc = iraf.head('arc.lis', nlines=1, Stdout=1)[0].strip()\n",
      "arcdark = iraf.head('arcdark.lis', nlines=1, Stdout=1)[0].strip()\n",
      "ronchiflat = iraf.head('ronchi.lis', nlines=1, Stdout=1)[0].strip()\n",
      "reference = iraf.head('obj.lis', nlines=1, Stdout=1)[0].strip()\n",
      "telluric_before = iraf.head('telbefore.lis', nlines=1, Stdout=1)[0].strip()\n",
      "telluric_after = iraf.head('telafter.lis', nlines=1, Stdout=1)[0].strip()"
     ],
     "language": "python",
     "metadata": {},
     "outputs": []
    },
    {
     "cell_type": "heading",
     "level": 2,
     "metadata": {},
     "source": [
      "STEP 4: Visually inspect the data"
     ]
    },
    {
     "cell_type": "code",
     "collapsed": false,
     "input": [
      "all_files = open('all.lis', 'r')\n",
      "for line in all_files:\n",
      "    image = line.strip() + '[1]'\n",
      "    print image\n",
      "    iraf.display(rawdir + image, 1)\n",
      "    iraf.sleep(5)\n",
      "    \n",
      "all_files.close()"
     ],
     "language": "python",
     "metadata": {},
     "outputs": []
    },
    {
     "cell_type": "markdown",
     "metadata": {},
     "source": [
      "[Table of Contents](#toc)\n",
      "\n",
      "<hr size=5>\n",
      "<a id='calibrations'></a>"
     ]
    },
    {
     "cell_type": "heading",
     "level": 2,
     "metadata": {},
     "source": [
      "REDUCTION OF THE BASELINE CALIBRATIONS - STEPS 5 TO 8"
     ]
    },
    {
     "cell_type": "markdown",
     "metadata": {},
     "source": [
      "<hr size=5>"
     ]
    },
    {
     "cell_type": "heading",
     "level": 2,
     "metadata": {},
     "source": [
      "STEP 5: Determine the shift to the MDF file"
     ]
    },
    {
     "cell_type": "code",
     "collapsed": false,
     "input": [
      "iraf.nfprepare(calflat, rawpath=rawdir, outpref='s', shiftx=INDEF, \\\n",
      "               shifty=INDEF, fl_vardq='no', fl_corr='no', fl_nonl='no')"
     ],
     "language": "python",
     "metadata": {},
     "outputs": []
    },
    {
     "cell_type": "heading",
     "level": 2,
     "metadata": {},
     "source": [
      "STEP 6: Make the flat field and the BPM"
     ]
    },
    {
     "cell_type": "code",
     "collapsed": false,
     "input": [
      "iraf.nfprepare(\"@flaton.lis\", rawpath=rawdir, shiftim='s'//calflat, \\\n",
      "          fl_vardq='yes', fl_int='yes', fl_corr='no', fl_nonl='no')\n",
      "iraf.nfprepare(\"@flatoff.lis\", rawpath=rawdir, shiftim='s'//calflat, \\\n",
      "          fl_vardq='yes', fl_int='yes', fl_corr='no', fl_nonl='no')\n",
      "\n",
      "iraf.gemcombine('n//@flaton.lis', output='gn'//calflat, \\\n",
      "           fl_dqpr='yes', fl_vardq='yes', masktype='none', logfile=logfile)\n",
      "iraf.gemcombine('n//@flatoff.lis', output='gn'//flatdark, \\\n",
      "           fl_dqpr='yes', fl_vardq='yes', masktype='none', logfile=logfile)\n",
      "\n",
      "iraf.nsreduce('gn'//calflat, fl_cut='yes', fl_nsappw='yes', fl_vardq='yes', \\\n",
      "              fl_sky='no', fl_dark='no', fl_flat='no', logfile=logfile)\n",
      "iraf.nsreduce('gn'//flatdark, fl_cut='yes', fl_nsappw='yes', fl_vardq='yes', \\\n",
      "              fl_sky='no', fl_dark='no', fl_flat='no', logfile=logfile)\n",
      "\n",
      "# Now creating the flat image with output name = rnN..._sflat.fits\n",
      "# and the BPM with output name = rnN..._sflat_bpm.pl\n",
      "iraf.nsflat('rgn'//calflat, darks='rgn'//flatdark, \\\n",
      "            flatfile='rn'//calflat//'_sflat', darkfile='rn'//flatdark//'_dark', \\\n",
      "            fl_save_dark='yes', process='fit', thr_flo=0.15, trf_fup=1.55, \\\n",
      "            fl_vardq='yes', logfile=logfile)\n",
      "\n",
      "# Rectify the flat for slit funciton differences\n",
      "# The output of this is the FINAL FLAT, that will be used to calibrate.\n",
      "iraf.nsslitfunction('rgn'//calflat, 'rn'//calflat//'_flat', \\\n",
      "                    flat='rn'//calflat//'_sflat', dark='rn'//flatdark//'_dark', \\\n",
      "                    combine='median', order=3, fl_vary='no', logfile=logfile)\n",
      "\n",
      "#.... where is the BPM?"
     ],
     "language": "python",
     "metadata": {},
     "outputs": []
    },
    {
     "cell_type": "heading",
     "level": 2,
     "metadata": {},
     "source": [
      "STEP 7: Reduce the arc and determine the wavelength solution"
     ]
    },
    {
     "cell_type": "code",
     "collapsed": false,
     "input": [
      "iraf.nfprepare(\"@arc.lis\", rawpath=rawdir, shiftimage='s'//calflat,\n",
      "               bpm='rn'//calflat//'_sflat_bpm.pl', fl_vardq='yes', \\\n",
      "               fl_corr='no', fl_nonl='no')\n",
      "iraf.nfprepare(\"@arcdark.lis\", rawpath=rawdir, shiftimage='s'//calflat,\n",
      "               bpm='rn'//calflat//'_sflat_bpm.pl', fl_vardq='yes', \\\n",
      "               fl_corr='no', fl_nonl='no')"
     ],
     "language": "python",
     "metadata": {},
     "outputs": []
    },
    {
     "cell_type": "markdown",
     "metadata": {},
     "source": [
      "There might be more than one arc, and more than one dark for the arc.  The code below with take care of that possibility seemlessly.  Essentially, the arcs and the darks are combined before the arc is reduced."
     ]
    },
    {
     "cell_type": "code",
     "collapsed": false,
     "input": [
      "count = 0\n",
      "file = open('arc.lis', 'r')\n",
      "for line in file:\n",
      "    count += 1\n",
      "if count == 1:\n",
      "    iraf.copy ('n'//arc//'.fits', 'gn'//arc//'.fits')\n",
      "else:\n",
      "    iraf.gemcombine ('n//@arc.lis', output='gn'//arc, fl_dqpr='yes', \\\n",
      "                     fl_vardq='yes', masktype='none', logfile=logfile)\n",
      "file.close()\n",
      "\n",
      "count = 0\n",
      "file = open('arcdark.lis', 'r')\n",
      "for line in file:\n",
      "    count += 1\n",
      "if count == 1:\n",
      "    iraf.copy ('n'//arcdark//'.fits', 'gn'//arcdark//'.fits')\n",
      "else:\n",
      "    iraf.gemcombine ('n//@arcdark.lis', output='gn'//arcdark, fl_dqpr='yes', \\\n",
      "                     fl_vardq='yes', masktype='none', logfile=logfile)\n",
      "file.close()\n",
      "\n",
      "print 'Done.'"
     ],
     "language": "python",
     "metadata": {},
     "outputs": []
    },
    {
     "cell_type": "code",
     "collapsed": false,
     "input": [
      "iraf.nsreduce ('gn'//arc, outpr='r', darki='gn'//arcdark, \\\n",
      "               flati='rn'//calflat//'_flat', fl_vardq='no', fl_cut='yes', \\\n",
      "               fl_nsappw='yes', fl_sky='no', fl_dark='yes', fl_flat='yes', \\\n",
      "               logfile=logfile)"
     ],
     "language": "python",
     "metadata": {},
     "outputs": []
    },
    {
     "cell_type": "markdown",
     "metadata": {},
     "source": [
      "DATA REDUCTION HINT from the original cookbook:\n",
      "\n",
      "For the nswavelength call, the different wavelength settings use different vaues for some of the parameters. For optimal auto results, use:               \n",
      "\n",
      "    K-band: thresho=50.0, cradius=8.0   -->  (gives rms of 0.1 to 0.3)\n",
      "    H-band: thresho=100.0, cradius=8.0  -->  (gives rms of 0.05 to 0.15)\n",
      "    J-band: thresho=100.0               -->  (gives rms of 0.03 to 0.09) \n",
      "    Z-band: Currently not working very well for non-interactive mode\n",
      "\n",
      "Note that better RMS fits can be obtained by running the wavelength calibration interactively and identifying all of the lines manually.  Tedious, but will give more accurate results than the automatic mode (i.e., fl_inter-).  Use fl_iner+ for manual mode."
     ]
    },
    {
     "cell_type": "markdown",
     "metadata": {},
     "source": [
      "KL:  I personally always run nswavelength in interactive mode anyway."
     ]
    },
    {
     "cell_type": "markdown",
     "metadata": {},
     "source": [
      "Determine the wavelength of the observation and set the arc coordinate file.  If the user wishes to chnge the coordinate file to a different one, they need only to change the \"clist\" variable to their line list in the \"coordli=\" parameter in the nswavelength call."
     ]
    },
    {
     "cell_type": "code",
     "collapsed": false,
     "input": [
      "iraf.imgets('rgn'//arc//'[0]', 'GRATING')\n",
      "band = iraf.substr(iraf.imgets.value, 1, 1)\n",
      "if band == 'Z':\n",
      "    clist = 'nifs$data/ArXe_Z.dat'\n",
      "    my_thresh = 100.0\n",
      "else if band == 'K':\n",
      "    clist = 'nifs$data/ArXe_K.dat'\n",
      "    my_thresh=50.0\n",
      "else:\n",
      "    clist = 'gnirs$data/argon.dat'\n",
      "    my_thresh=100.0\n",
      "\n",
      "iraf.nswavelength('rgn'//arc, coordli=clist, nsum=10, thresho=my_thresh, \\\n",
      "                  trace='yes', fwidth=2.0, match=-6, cradius=8.0, \\\n",
      "                  fl_inter='yes', nfound=10, nlost=10, logfile=logfile)"
     ],
     "language": "python",
     "metadata": {},
     "outputs": []
    },
    {
     "cell_type": "heading",
     "level": 2,
     "metadata": {},
     "source": [
      "STEP 8: Trace the spatial curvature and spectral distortion in the Ronchi flat"
     ]
    },
    {
     "cell_type": "code",
     "collapsed": false,
     "input": [
      "iraf.nfprepare('@ronchi.lis', rawpath=rawdir, shiftimage='s'//calflat, \\\n",
      "               bpm='rn'//calflat//'_sflat_bpm.pl', fl_vardq='yes', \\\n",
      "               fl_corr='no', fl_nonl='no', logfile=logfile)"
     ],
     "language": "python",
     "metadata": {},
     "outputs": []
    },
    {
     "cell_type": "markdown",
     "metadata": {},
     "source": [
      "If there is more than on ronchi flats, they will be combined."
     ]
    },
    {
     "cell_type": "code",
     "collapsed": false,
     "input": [
      "count = 0\n",
      "file = open('ronchi.lis', 'r')\n",
      "for line in file:\n",
      "    count += 1\n",
      "if count == 1:\n",
      "    iraf.copy ('n'//ronchiflat//'.fits', 'gn'//ronchiflat//'.fits')\n",
      "else:\n",
      "    iraf.gemcombine ('n//@ronchi.lis', output='gn'//ronchiflat, fl_dqpr='yes', \\\n",
      "                     fl_vardq='yes', masktype='none', logfile=logfile)\n",
      "file.close()\n",
      "\n",
      "print 'Done.'"
     ],
     "language": "python",
     "metadata": {},
     "outputs": []
    },
    {
     "cell_type": "code",
     "collapsed": false,
     "input": [
      "iraf.nsreduce('gn'//ronchiflat, outpref='r', dark='rn'//flatdark//'_dark', \\\n",
      "              flatimage='rn'//calflat//'_flat', fl_cut='yes', fl_nsappw='yes', \\\n",
      "              fl_flat='yes', fl_sky='no', fl_dark='yes', fl_vardq='no', \\\n",
      "              logfile=logfile)\n",
      "\n",
      "# note to self, to this interactively the first time to make sure the\n",
      "# param values are okay.\n",
      "iraf.nfsdist('rgn'//ronchiflat, fwidth=6.0, cradius=8.0, glshift=2.8, \\\n",
      "             minsep=6.5, thresh=2000.0, nlost=3, fl_inter='no', logfile=logfile)\n"
     ],
     "language": "python",
     "metadata": {},
     "outputs": []
    },
    {
     "cell_type": "markdown",
     "metadata": {},
     "source": [
      "<hr size=5>"
     ]
    },
    {
     "cell_type": "heading",
     "level": 2,
     "metadata": {},
     "source": [
      "SUMMARY OF BASELINE CALIBRATION REDUCTION"
     ]
    },
    {
     "cell_type": "markdown",
     "metadata": {},
     "source": [
      "The final output files created from this script for later science reduction have prefixes and file names of:\n",
      "    1. Shift reference file:  \"s\"+calflat\n",
      "    2. Flat field:  \"rn\"+calflat+\"_flat\"\n",
      "    3. Flat BPM (for DQ plane generation):  \"rn\"+calflat+\"_flat_bpm.pl\"\n",
      "    4. Wavelength referenced Arc:  \"wrn\"+arc\n",
      "    5. Spatially referenced Ronchi Flat:  \"rn\"+ronchiflat      \n",
      "\n",
      "    For this reduction,\n",
      "        Shift ref. file =  sN20140228S0369.fits\n",
      "        Flat field      =  rnN20140228S0369_flat.fits\n",
      "        Flat BPM        =  rnN20140228SS0369_sflat_bpm.pl\n",
      "        Arc frame       =  wrnN20140228S0170.fits\n",
      "        Ronchi flat     =  rnN20140228S0381.fits\n"
     ]
    },
    {
     "cell_type": "markdown",
     "metadata": {},
     "source": [
      "<hr size=5>"
     ]
    },
    {
     "cell_type": "markdown",
     "metadata": {},
     "source": [
      "[Table of Contents](#toc)\n",
      "\n",
      "<hr size=5>\n",
      "<a id='science'></a>"
     ]
    },
    {
     "cell_type": "heading",
     "level": 2,
     "metadata": {},
     "source": [
      "REDUCTION OF SCIENCE UP TO TELLURIC CORRECTION - STEPS 9 TO 14"
     ]
    },
    {
     "cell_type": "markdown",
     "metadata": {},
     "source": [
      "<hr size=5>"
     ]
    },
    {
     "cell_type": "markdown",
     "metadata": {},
     "source": [
      "All the variables and filenames are defined above in Step 3.  If you are starting fresh , make sure you do run Steps 0 to 3, inclusively, before proceeding further.  That is where everything is configured."
     ]
    },
    {
     "cell_type": "heading",
     "level": 2,
     "metadata": {},
     "source": [
      "STEP 9: PREPARE THE SCIENCE FRAMES"
     ]
    },
    {
     "cell_type": "code",
     "collapsed": false,
     "input": [
      "iraf.nfprepare('@obj.lis', rawpath=rawdir, shiftimage='s'//calflat, \\\n",
      "               fl_vard='yes', bpm='rn'//calflat//'_sflat_bpm.pl', \\\n",
      "               logfile=logfile)"
     ],
     "language": "python",
     "metadata": {},
     "outputs": []
    },
    {
     "cell_type": "heading",
     "level": 2,
     "metadata": {},
     "source": [
      "STEP 10: CREATE THE SKY FRAME LISTS"
     ]
    },
    {
     "cell_type": "markdown",
     "metadata": {},
     "source": [
      "'gemoffsetlist' construct files with the sky offset information.  Change the 'distance' parameter to correspond to the offset distance (in arcseconds) for your observations."
     ]
    },
    {
     "cell_type": "code",
     "collapsed": false,
     "input": [
      "offset = 20\n",
      "buffer = 3\n",
      "distance = offset + buffer"
     ],
     "language": "python",
     "metadata": {},
     "outputs": [],
     "prompt_number": 5
    },
    {
     "cell_type": "code",
     "collapsed": false,
     "input": [
      "iraf.gemoffsetlist('n@obj.lis', targetli='science.lis', offsetli='sky.lis', \\\n",
      "                   reffile='n'//reference//'.fits', distance=distance, \\\n",
      "                   age=INDEF, logfile=logfile)"
     ],
     "language": "python",
     "metadata": {},
     "outputs": []
    },
    {
     "cell_type": "markdown",
     "metadata": {},
     "source": [
      "From the original cookbook:\n",
      "\n",
      "There are problems with the WCS coordinates.  The automatic sky frame ID and subtraction does not work very well in \"nsreduce\" for NIFS data reductions if the number of sky frames does not equal the number if science frames.  As a result, the sky subtraction in this script was set up to work outside of the \"nsreduce\" call.  This should work for most modes of science acquisition.  However you do have to edit the \"skylist\" generated by the above \"gemoffsetlist\" call to make sure that the number of sky images and science images is the same in both lists."
     ]
    },
    {
     "cell_type": "code",
     "collapsed": false,
     "input": [
      "# Do sky subtraction:\n",
      "# Make sure to edit the \"skylist\" to have the same number\n",
      "# of images in the list as the \"scilist\"\n",
      "skyfile = open('sky.lis', 'r')\n",
      "scifile = open('science.lis', 'r')\n",
      "skys = [ line.strip() for line in skyfile.readlines() ]\n",
      "scis = [ line.strip() for line in scifile.readlines() ]\n",
      "print map(None, scis, skys)"
     ],
     "language": "python",
     "metadata": {},
     "outputs": []
    },
    {
     "cell_type": "markdown",
     "metadata": {},
     "source": [
      "Edit \"sky.lis\" to fill in the None's with the appropriate sky file for each science frame.\n",
      "\n",
      "    vi sky.lis"
     ]
    },
    {
     "cell_type": "heading",
     "level": 2,
     "metadata": {},
     "source": [
      "STEP 11: Do the sky substraction"
     ]
    },
    {
     "cell_type": "code",
     "collapsed": false,
     "input": [
      "skyfile = open('sky.lis', 'r')\n",
      "scifile = open('science.lis', 'r')\n",
      "skys = [ line.strip() for line in skyfile.readlines() ]\n",
      "scis = [ line.strip() for line in scifile.readlines() ]\n",
      "skyfile.close()\n",
      "scifile.close()\n",
      "\n",
      "for sciframe, skyframe in map(None, scis, skys):\n",
      "    if sciframe is None or skyframe is None:\n",
      "        print \"ERROR: the length of the sky list doesn't match that of the science list\"\n",
      "        break\n",
      "    iraf.gemarith (sciframe, '-', skyframe, 's'//sciframe, fl_vardq='yes', \\\n",
      "                   logfile=logfile)"
     ],
     "language": "python",
     "metadata": {},
     "outputs": []
    },
    {
     "cell_type": "heading",
     "level": 2,
     "metadata": {},
     "source": [
      "STEP 12: Flat field and cut the data"
     ]
    },
    {
     "cell_type": "code",
     "collapsed": false,
     "input": [
      "iraf.nsreduce('s@science.lis', fl_cut'yes', fl_nsappw='yes', fl_dark='no', \\\n",
      "              fl_sky='no', fl_flat='yes', flatimage='rn'//calflat//'_flat', \\\n",
      "              fl_vardq='yes', logfile=logfile)"
     ],
     "language": "python",
     "metadata": {},
     "outputs": []
    },
    {
     "cell_type": "heading",
     "level": 2,
     "metadata": {},
     "source": [
      "STEP 13: Interpolate over bad pixels flagged in the DQ plane"
     ]
    },
    {
     "cell_type": "code",
     "collapsed": false,
     "input": [
      "iraf.nffixbad('rs@science.lis', logfile=logfile)"
     ],
     "language": "python",
     "metadata": {},
     "outputs": []
    },
    {
     "cell_type": "heading",
     "level": 2,
     "metadata": {},
     "source": [
      "STEP 14: Derive the 2D to 3D spatial/spectral transformation and apply"
     ]
    },
    {
     "cell_type": "code",
     "collapsed": false,
     "input": [
      "iraf.nsfitcoords('brs@science.lis', lamptransf='wrgn'//arc, \\\n",
      "              sdisttransf='rgn'//ronchiflat, logfile=logfile)\n",
      "\n",
      "iraf.nstransform('fbrs@science.lis', logfile=logfile)"
     ],
     "language": "python",
     "metadata": {},
     "outputs": []
    },
    {
     "cell_type": "markdown",
     "metadata": {},
     "source": [
      "<hr size=5>"
     ]
    },
    {
     "cell_type": "heading",
     "level": 2,
     "metadata": {},
     "source": [
      "SUMMARY OF SCIENCE REDUCTION"
     ]
    },
    {
     "cell_type": "markdown",
     "metadata": {},
     "source": [
      "The next steps will correct for the telluric features and construct a cube.  But at this point in the reduction, we have science frames that have been:\n",
      "* \"prepared\"\n",
      "* sky subtracted\n",
      "* flat corrected\n",
      "* cut\n",
      "* corrected for bad pixels\n",
      "* wavelength calibrated and corrected for spatial distortion\n",
      "\n",
      "The reduced science frames have this naming convention: tfbrsnNYYYYMMDDS####.fits\n",
      "\n",
      "For this reduction:\n",
      "\n",
      "    tfbrsnN201402280161.fits\n",
      "    tfbrsnN201402280162.fits\n",
      "    tfbrsnN201402280163.fits\n",
      "    tfbrsnN201402280164.fits\n",
      "    tfbrsnN201402280165.fits\n",
      "    tfbrsnN201402280166.fits\n",
      "    tfbrsnN201402280167.fits\n",
      "    tfbrsnN201402280168.fits\n",
      "\n",
      "and the file '**science.lis**' contains the 'nN....161-168.fits' file names."
     ]
    },
    {
     "cell_type": "markdown",
     "metadata": {},
     "source": [
      "<hr size=5>"
     ]
    },
    {
     "cell_type": "markdown",
     "metadata": {},
     "source": [
      "[Table of Contents](#toc)\n",
      "\n",
      "<hr size=5>\n",
      "<a id='telluric'></a>"
     ]
    },
    {
     "cell_type": "heading",
     "level": 2,
     "metadata": {},
     "source": [
      "REDUCTION OF TELLURIC STANDARD - STEPS 15 TO 20"
     ]
    },
    {
     "cell_type": "markdown",
     "metadata": {},
     "source": [
      "<hr size=5>"
     ]
    },
    {
     "cell_type": "markdown",
     "metadata": {},
     "source": [
      "In this script, standard star observations are assumed to be taken with a box5 pattern (center + 4 corners).  The sky frame is constructed by median combining position 2 to 5 (the corners)."
     ]
    },
    {
     "cell_type": "heading",
     "level": 2,
     "metadata": {},
     "source": [
      "STEP 15: PREPARE THE TELLURIC OBSERVATIONS"
     ]
    },
    {
     "cell_type": "code",
     "collapsed": false,
     "input": [
      "iraf.nfprepare('@telbefore.lis', rawpath=rawdir, shiftim='s'//calflat, \\\n",
      "               bpm='rn'//calflat//'_sflat_bpm.pl', fl_vardq='yes', \\\n",
      "               fl_inter='yes', fl_corr='no', fl_nonl='no', logfile=logfile)"
     ],
     "language": "python",
     "metadata": {},
     "outputs": []
    },
    {
     "cell_type": "code",
     "collapsed": false,
     "input": [
      "iraf.nfprepare('@telafter.lis', rawpath=rawdir, shiftim='s'//calflat, \\\n",
      "               bpm='rn'//calflat//'_sflat_bpm.pl', fl_vardq='yes', \\\n",
      "               fl_inter='yes', fl_corr='no', fl_nonl='no', logfile=logfile)"
     ],
     "language": "python",
     "metadata": {},
     "outputs": []
    },
    {
     "cell_type": "heading",
     "level": 2,
     "metadata": {},
     "source": [
      "STEP 16: SKY SUBTRACT THE TELLURIC OBSERVATIONS"
     ]
    },
    {
     "cell_type": "code",
     "collapsed": false,
     "input": [
      "# Get then file names of position 2 to 5, ie. the last 4 frames.\n",
      "iraf.tail('telbefore.lis', nlines=4, Stdout='telbeforesky.lis')\n",
      "iraf.tail('telafter.lis', nlines=4, Stdout='telaftersky.lis')\n",
      "\n",
      "# create the sky frame.\n",
      "iraf.gemcombine('n//@telbeforesky.lis', output='n'//telluric_before//'_sky', \\\n",
      "                fl_dqpr='yes', fl_vardq='yes', masktype='none', \\\n",
      "                combine='median', logfile=logfile)\n",
      "iraf.gemcombine('n//@telaftersky.lis', output='n'//telluric_after//'_sky', \\\n",
      "                fl_dqpr='yes', fl_vardq='yes', masktype='none', \\\n",
      "                combine='median', logfile=logfile)\n",
      "\n",
      "# sky subtract\n",
      "telbeforefile = open('telbefore.lis', 'r')\n",
      "telafterfile = open('telafter.lis', 'r')\n",
      "telsbefore = [ line.strip() for line in telbeforefile.readlines() ]\n",
      "telsafter = [ line.strip() for line in telafterfile.readlines() ]\n",
      "telbeforefile.close()\n",
      "telafterfile.close()\n",
      "\n",
      "for telframe in telsbefore:\n",
      "    iraf.gemarith ('n'//telframe, '-', 'n'//telluric_before//'_sky', \\\n",
      "                   'sn'//telframe, fl_vardq='yes', logfile=logfile)\n",
      "for telframe in telsafter:\n",
      "    iraf.gemarith ('n'//telframe, '-', 'n'//telluric_after//'_sky', \\\n",
      "                   'sn'//telframe, fl_vardq='yes', logfile=logfile)"
     ],
     "language": "python",
     "metadata": {},
     "outputs": []
    },
    {
     "cell_type": "heading",
     "level": 2,
     "metadata": {},
     "source": [
      "STEP 17: FLAT FIELD AND CUT THE TELLURIC FRAMES"
     ]
    },
    {
     "cell_type": "code",
     "collapsed": false,
     "input": [
      "iraf.nsreduce('sn@telbefore.lis', outpref='r', flatim='rn'//calflat//'_flat',\\\n",
      "              fl_cut='yes', fl_nsappw='no', fl_vardq='yes', fl_sky='no', \\\n",
      "              fl_dark='no', fl_flat='yes', logfile=logfile)\n",
      "iraf.nsreduce('sn@telafter.lis', outpref='r', flatim='rn'//calflat//'_flat',\\\n",
      "              fl_cut='yes', fl_nsappw='no', fl_vardq='yes', fl_sky='no', \\\n",
      "              fl_dark='no', fl_flat='yes', logfile=logfile)"
     ],
     "language": "python",
     "metadata": {},
     "outputs": []
    },
    {
     "cell_type": "heading",
     "level": 2,
     "metadata": {},
     "source": [
      "STEP 18: FIX BAD PIXELS FLAGGED IN THE TELLURIC DQ PLANE"
     ]
    },
    {
     "cell_type": "code",
     "collapsed": false,
     "input": [
      "iraf.nffixbad('rsn@telbefore.lis', outpref='b', logfile=logfile)\n",
      "iraf.nffixbad('rsn@telafter.lis', outpref='b', logfile=logfile)"
     ],
     "language": "python",
     "metadata": {},
     "outputs": []
    },
    {
     "cell_type": "heading",
     "level": 2,
     "metadata": {},
     "source": [
      "STEP 19: DERIVE THE 2D TO 3D SPATIAL/SPECTRAL TRANSFORMATION FOR THE TELLURIC AND APPLY"
     ]
    },
    {
     "cell_type": "code",
     "collapsed": false,
     "input": [
      "iraf.nsfitcoords('brsn@telbefore.lis', outpref='f', lamptr='wrgn'//arc, \\\n",
      "                 sdisttr='rgn'//ronchiflat, logfile=logfile)\n",
      "iraf.nstransform('fbrsn@telbefore.lis', outpref='t', logfile=logfile)\n",
      "\n",
      "iraf.nsfitcoords('brsn@telafter.lis', outpref='f', lamptr='wrgn'//arc, \\\n",
      "                 sdisttr='rgn'//ronchiflat, logfile=logfile)\n",
      "iraf.nstransform('fbrsn@telafter.lis', outpref='t', logfile=logfile)"
     ],
     "language": "python",
     "metadata": {},
     "outputs": []
    },
    {
     "cell_type": "heading",
     "level": 2,
     "metadata": {},
     "source": [
      "STEP 20: EXTRACT 1D SPECTRA OF THE TELLURIC AND COMBINE"
     ]
    },
    {
     "cell_type": "code",
     "collapsed": false,
     "input": [
      "# Make sure ds9 is up and running.\n",
      "iraf.nfextract('tfbrsn@telbefore.lis', outpref='x', diameter=0.5, fl_int='yes',\n",
      "               fl_zval='yes', z1=0, z2=10000.0, logfile=logfile)\n",
      "iraf.nfextract('tfbrsn@telafter.lis', outpref='x', diameter=0.5, fl_int='yes',\n",
      "               fl_zval='yes', z1=0, z2=10000.0, logfile=logfile)"
     ],
     "language": "python",
     "metadata": {},
     "outputs": []
    },
    {
     "cell_type": "code",
     "collapsed": false,
     "input": [
      "iraf.gemcombine('xtfbrsn//@telbefore.lis', output='gxtfbrsn'//telluric_before,\\\n",
      "                statsec='[*]', combine='median', logfile=logfile, \\\n",
      "                masktype='none', fl_vardq='yes')"
     ],
     "language": "python",
     "metadata": {},
     "outputs": []
    },
    {
     "cell_type": "markdown",
     "metadata": {},
     "source": [
      "<hr size=5>"
     ]
    },
    {
     "cell_type": "heading",
     "level": 2,
     "metadata": {},
     "source": [
      "SUMMARY OF THE REDUCTION OF THE TELLURIC"
     ]
    },
    {
     "cell_type": "markdown",
     "metadata": {},
     "source": [
      "In this case, we have both a telluric taken before the target, and one taken after.  We have reduced both.   The telluric taken before the target fits better in terms of airmass and time delay.\n",
      "\n",
      "The reduced 1D telluric to be used in the next steps to correct the science observations are:\n",
      "\n",
      "    gxtfbrsnN20140228S0151.fits\n",
      "    gxtfbrsnN20140228S0174.fits\n",
      "\n",
      "Each telluric observations have been:\n",
      "\n",
      "    prepared\n",
      "    sky subtracted\n",
      "    flat fielded\n",
      "    fixed for bad pixels\n",
      "    fitcoords'ed\n",
      "    transformed\n",
      "    extracted\n",
      "    the 1D spectra combined\n"
     ]
    },
    {
     "cell_type": "markdown",
     "metadata": {},
     "source": [
      "<hr size=5>"
     ]
    },
    {
     "cell_type": "markdown",
     "metadata": {},
     "source": [
      "[Table of Contents](#toc)\n",
      "\n",
      "<hr size=5>\n",
      "<a id='telluric_correction'></a>"
     ]
    },
    {
     "cell_type": "heading",
     "level": 2,
     "metadata": {},
     "source": [
      "TELLURIC CORRECTION OF SCIENCE SPECTRA - STEPS 21 TO ??"
     ]
    },
    {
     "cell_type": "markdown",
     "metadata": {},
     "source": [
      "<hr size=5>"
     ]
    },
    {
     "cell_type": "heading",
     "level": 2,
     "metadata": {},
     "source": [
      "STEP 21: APPLY TELLURIC CORRECTION TO SCIENCE SPECTRA"
     ]
    },
    {
     "cell_type": "markdown",
     "metadata": {},
     "source": [
      "No matter what standard star you observed for the telluric correction, there will be stellar features in the spectrum.  There are two ways to remove the stellar features from the telluric spectrum:  1) fit a line profile to and remove each stellar feature from the telluric spectrum; 2) use a stellar model, resample, scale, and subtract it from the telluric to remove the stellar features.\n",
      "\n",
      "Here we apply solution #1 and use <code>rmfeature</code> to fit the features."
     ]
    },
    {
     "cell_type": "heading",
     "level": 3,
     "metadata": {},
     "source": [
      "Remove stellar features"
     ]
    },
    {
     "cell_type": "markdown",
     "metadata": {},
     "source": []
    },
    {
     "cell_type": "heading",
     "level": 3,
     "metadata": {},
     "source": [
      "Model a blackbody"
     ]
    },
    {
     "cell_type": "markdown",
     "metadata": {},
     "source": [
      "The first telluric star is ???.  It is a ??? star with an approximate temperature of ??? K.\n",
      "\n",
      "The second telluric star is ???.  It is a ??? star with an approximate temperature of ??? K.\n",
      "\n",
      "Resource for temperatures:\n",
      "\n",
      "[http://www.jach.hawaii.edu/UKIRT/astronomy/utils/temp.html](http://www.jach.hawaii.edu/UKIRT/astronomy/utils/temp.html)\n",
      "\n",
      "First, we figure out the start and end wavelength, and the sampling we require to match the science spectrum.  Then we create the blackbody spectrum and convert it into a MEF file.  This will allow us to keep propagating the variance plane."
     ]
    },
    {
     "cell_type": "code",
     "collapsed": false,
     "input": [
      "iraf.wspectext('xtfobj_comb.fits[sci,1]', 'xtfobj_comb.txt', header='no')\n",
      "wstart = int(round(float(iraf.head('xtfobj_comb.txt', nlines=1, Stdout=1)[0].split()[0])))\n",
      "wend = int(round(float(iraf.tail('xtfobj_comb.txt', nlines=1, Stdout=1)[0].split()[0])))\n",
      "nsamples = int(iraf.hselect('xtfobj_comb.fits[sci,1]', 'NAXIS1', 'yes', Stdout=1)[0])\n",
      "\n",
      "print 'Start wavelength: ', wstart\n",
      "print 'End wavelength: ', wend\n",
      "print 'Number of samples: ', nsamples"
     ],
     "language": "python",
     "metadata": {},
     "outputs": []
    },
    {
     "cell_type": "code",
     "collapsed": false,
     "input": [
      "iraf.imdelete('B7.5V_blackbody_sci.fits', verify='no')\n",
      "iraf.mk1dspec('B7.5V_blackbody_sci.fits', ncols=nsamples, \\\n",
      "              wstart=wstart, wend=wend, temperature=10700)\n",
      "iraf.splot('B7.5V_blackbody_sci.fits')\n",
      "\n",
      "iraf.imdelete('B7.5V_blackbody_var.fits', verify='no')\n",
      "iraf.imdelete('B7.5V_blackbody_dq.fits', verify='no')\n",
      "from astropy.io import fits\n",
      "import numpy as np\n",
      "bb_sci = fits.open('B7.5V_blackbody_sci.fits')\n",
      "bb_var = fits.HDUList()\n",
      "bb_var.append(fits.ImageHDU())\n",
      "bb_var[0].header = bb_sci[0].header\n",
      "bb_var[0].data = np.zeros(bb_sci[0].data.size, dtype=np.float32)\n",
      "bb_var.writeto('B7.5V_blackbody_var.fits')\n",
      "bb_dq = fits.HDUList()\n",
      "bb_dq.append(fits.ImageHDU())\n",
      "bb_dq[0].header = bb_sci[0].header\n",
      "bb_dq[0].data = np.zeros(bb_sci[0].data.size, dtype=np.float32)\n",
      "bb_dq.writeto('B7.5V_blackbody_dq.fits')\n",
      "bb_sci.close()\n",
      "\n",
      "iraf.imdelete('B7.5V_blackbody.fits', verify='no')\n",
      "iraf.wmef('B7.5V_blackbody_sci.fits,B7.5V_blackbody_var.fits,B7.5V_blackbody_dq.fits',\\\n",
      "          'B7.5V_blackbody.fits')\n",
      "\n",
      "iraf.fxhead('B7.5V_blackbody.fits')"
     ],
     "language": "python",
     "metadata": {},
     "outputs": []
    },
    {
     "cell_type": "heading",
     "level": 3,
     "metadata": {},
     "source": [
      "Apply the telluric correction"
     ]
    },
    {
     "cell_type": "code",
     "collapsed": false,
     "input": [
      "iraf.nftelluric('tfbrg@science.lis', telluric_before, outprefix='a1', \\\n",
      "                logfile=logfile)\n",
      "iraf.nftelluric('tfbrg@science.lis', telluric_after, outprefix='a2', \\\n",
      "                logfile=logfile)"
     ],
     "language": "python",
     "metadata": {},
     "outputs": []
    },
    {
     "cell_type": "heading",
     "level": 3,
     "metadata": {},
     "source": [
      "Recover the shape of the continuum"
     ]
    },
    {
     "cell_type": "markdown",
     "metadata": {},
     "source": [
      "The telluric spectrum, ie. the spectrum of a star, was divided into the science spectrum.  This means that to recover the correct continuum for the science spectrum one needs to multiply the science spectrum with a blackbody (if rmfeature was used), or a stellar model (if rmfeature was not used.)"
     ]
    },
    {
     "cell_type": "code",
     "collapsed": false,
     "input": [
      "iraf.imdelete('axtfobj_bb.fits', verify='no')\n",
      "iraf.gemarith('axtfobj_comb.fits','*', 'B7.5V_blackbody.fits', \\\n",
      "              'axtfobj_bb.fits', fl_vardq='yes')"
     ],
     "language": "python",
     "metadata": {},
     "outputs": []
    },
    {
     "cell_type": "code",
     "collapsed": false,
     "input": [
      "iraf.splot('axtfobj_bb.fits[sci,1]', ymin=-20000, ymax=300000)"
     ],
     "language": "python",
     "metadata": {},
     "outputs": []
    },
    {
     "cell_type": "markdown",
     "metadata": {},
     "source": [
      "Using Kathleen's Python <code>splot</code> in a shell, plot the final spectrum with line identifcation and with an overplot of the error."
     ]
    },
    {
     "cell_type": "code",
     "collapsed": false,
     "input": [
      "!splot axtfobj_bb.fits -l quasar -z 0.6128 -y -25000 250000 --variance 2"
     ],
     "language": "python",
     "metadata": {},
     "outputs": []
    },
    {
     "cell_type": "markdown",
     "metadata": {},
     "source": [
      "[Table of Contents](#toc)\n",
      "\n",
      "<hr size=5>\n",
      "<a id='cubing_stacking'></a>"
     ]
    },
    {
     "cell_type": "heading",
     "level": 2,
     "metadata": {},
     "source": [
      "CUBING AND STACKING - STEP 22"
     ]
    },
    {
     "cell_type": "markdown",
     "metadata": {},
     "source": [
      "<hr size=5>"
     ]
    },
    {
     "cell_type": "code",
     "collapsed": false,
     "input": [
      "iraf.nifcube('a1tfbrg@science.lis', logfile=logfile)\n",
      "iraf.nifcube('a2tfbrg@science.lis', logfile=logfile)"
     ],
     "language": "python",
     "metadata": {},
     "outputs": []
    },
    {
     "cell_type": "markdown",
     "metadata": {},
     "source": [
      "<hr size=5>"
     ]
    },
    {
     "cell_type": "heading",
     "level": 2,
     "metadata": {},
     "source": [
      "SUMMARY OF FULL SCIENCE REDUCTION"
     ]
    },
    {
     "cell_type": "markdown",
     "metadata": {},
     "source": [
      "ca1t\n",
      "ca2t"
     ]
    },
    {
     "cell_type": "markdown",
     "metadata": {},
     "source": [
      "<hr size=5>"
     ]
    },
    {
     "cell_type": "code",
     "collapsed": false,
     "input": [],
     "language": "python",
     "metadata": {},
     "outputs": []
    }
   ],
   "metadata": {}
  }
 ]
}