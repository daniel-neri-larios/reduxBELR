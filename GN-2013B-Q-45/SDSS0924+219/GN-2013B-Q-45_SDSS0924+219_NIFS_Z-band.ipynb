{
 "metadata": {
  "name": "",
  "signature": "sha256:aba085e95060734b81e868f570f99ae8dc41bb287fd2711c00bf2825eb53fc2b"
 },
 "nbformat": 3,
 "nbformat_minor": 0,
 "worksheets": [
  {
   "cells": [
    {
     "cell_type": "heading",
     "level": 1,
     "metadata": {},
     "source": [
      "NIFS Z-band Reduction of SDSS J092455.79+021924.9 observed on 2014.02.28"
     ]
    },
    {
     "cell_type": "markdown",
     "metadata": {},
     "source": [
      "-----\n",
      "**Table of Content**\n",
      "<a id='toc'></a>\n",
      "-----\n",
      "* [Observations](#observations)\n",
      "* [Setup the session](#setup)\n",
      "* [Reduction of the calibrations](#calibrations)\n",
      "* [Reduction of the science frames](#science)\n",
      "* [Reduction of the telluric standard](#telluric)\n",
      "* [Telluric correction of the science frames](#telluric_correction)\n",
      "* [Cubing and stacking of the science frames](#cubing_stacking)\n",
      "\n",
      "<a id='observations'></a>"
     ]
    },
    {
     "cell_type": "markdown",
     "metadata": {},
     "source": [
      "----\n",
      "Science Dataset:\n",
      "----------------\n",
      "<table>\n",
      "<tr><td> <strong>Redshift</strong> </td> <td>1.524653</td></tr>\n",
      "</table>\n",
      "\n",
      "<table>\n",
      "<tr><td> <strong>Observation UT date</strong> </td> <td>2014 Feb 28</td></tr>\n",
      "<tr><td> <strong>Data filename prefix</strong> </td><td>N20140228S</td></tr>\n",
      "</table>\n",
      "<br>\n",
      "**File numbers:**\n",
      "<table>\n",
      "<tr><td>Science / Sky Pair</td>          <td>161-168 / 169</td><td>Z, 1.05, 600s, faint</td></tr>\n",
      "<tr><td>Darks for science</td>           <td>353-367</td>      <td>600s, faint, not used, <br>taken care of in sky subtraction</td></tr>\n",
      "<tr><td>Flats (lamps on / lamps off)</td><td>369-373 / 374-378</td><td>Z, 1.05, 8s, bright</td></tr>\n",
      "<tr><td>Arc</td>                         <td>170</td>          <td>Z, 1.05s, 5.3, bright</td></tr>\n",
      "<tr><td>Darks for arc</td>               <td>379-380</td>      <td>5.3s, bright</td></tr>\n",
      "<tr><td>Ronchi</td>                      <td>381-382</td>      <td>Z, 1.05, 8s, bright</td></tr>\n",
      "</table>\n",
      "\n",
      "Telluric Before Dataset:\n",
      "------------------------\n",
      "!!!!!WARNING!!!!!<br>\n",
      "This telluric is SATURATED.  DO NO USE.<br>\n",
      "!!!!!!!!!!!!!!!!!<br>\n",
      "\n",
      "<table>\n",
      "<tr><td> Name: </td><td>HIP 41307</td></tr>\n",
      "<tr><td> Spectral Type: </td><td>A0V</td></tr>\n",
      "<tr><td> Temperature: </td><td>$9,727 K$</td></tr>\n",
      "<tr><td> Airmass: </td><td>1.224</td></tr>\n",
      "<tr><td> Airmass Science: </td><td>1.191</td></tr>\n",
      "<tr><td> Delta Time: </td><td> 13 min.  Tel_end=10:03, Sci_beg=10:16</td></tr>\n",
      "</table>\n",
      "\n",
      "**File numbers:**\n",
      "<table>\n",
      "<tr><td>Telluric (HIP 41307) </td>     <td>151-156</td>      <td>Z, 1.05, 5.3s, bright, ABAABA</td></tr>\n",
      "<tr><td>Flats (lamps on/lamps off)</td><td>369-373 / 374-378</td><td>Z, 1.05, 8s, bright</td></tr>\n",
      "<tr><td>Arc</td>                       <td>170</td>          <td>Z, 1.05s, 5.3, bright</td></tr>\n",
      "<tr><td>Darks for arc</td>             <td>379-380</td>      <td>5.3, bright</td></tr>\n",
      "<tr><td>Ronchi</td>                    <td>381-382</td>      <td>Z, 1.05, 8s, bright</td></tr>\n",
      "</table>\n",
      "\n",
      "Telluric After Dataset:\n",
      "-----------------------\n",
      "<table>\n",
      "<tr><td> Name: </td><td>HIP 54849</td></tr>\n",
      "<tr><td> Spectral Type: </td><td>A0V</td></tr>\n",
      "<tr><td> Temperature: </td><td>$9,727 K$</td></tr>\n",
      "<tr><td> Airmass: </td><td>1.114</td></tr>\n",
      "<tr><td> Airmass Science: </td><td>1.191</td></tr>\n",
      "<tr><td> Delta Time: </td><td> 32 min.  Sci_end=11:38, Tel_beg=12:10</td></tr>\n",
      "</table>\n",
      "\n",
      "**File numbers:**\n",
      "<table>\n",
      "<tr><td>Telluric (HIP 54849) </td>     <td>174-179</td>      <td>Z, 1.05, 5.3s, bright, ABAABA</td></tr>\n",
      "<tr><td>Flats (lamps on/lamps off)</td><td>369-373 / 374-378</td><td>Z, 1.05, 8s, bright</td></tr>\n",
      "<tr><td>Arc</td>                       <td>170</td>          <td>Z, 1.05s, 5.3, bright</td></tr>\n",
      "<tr><td>Darks for arc</td>             <td>379-380</td>      <td>5.3, bright</td></tr>\n",
      "<tr><td>Ronchi</td>                    <td>381-382</td>      <td>Z, 1.05, 8s, bright</td></tr>\n",
      "</table>\n",
      "\n"
     ]
    },
    {
     "cell_type": "markdown",
     "metadata": {},
     "source": [
      "[Table of Contents](#toc)\n",
      "\n",
      "<hr size=5>\n",
      "<a id='setup'>"
     ]
    },
    {
     "cell_type": "heading",
     "level": 2,
     "metadata": {},
     "source": [
      "SESSION CONFIGURATION - STEPS 0 TO 4"
     ]
    },
    {
     "cell_type": "markdown",
     "metadata": {},
     "source": [
      "<hr size=5>"
     ]
    },
    {
     "cell_type": "heading",
     "level": 2,
     "metadata": {},
     "source": [
      "STEP 0: Define variables specific to this target and start parallel PyRAF session."
     ]
    },
    {
     "cell_type": "code",
     "collapsed": false,
     "input": [
      "import os\n",
      "# UPDATE DATE IN REDUX_DIR\n",
      "redux_dir = '/Volumes/MyRugged/research/BELR/GN-2013B-Q-45/SDSS0924+219/20140228-30Mar2015/reduxZ'\n",
      "os.chdir(redux_dir)\n",
      "\n",
      "logfile = \"Z0924.log\"\n",
      "database = \"Z0924_database/\"\n",
      "raw_data_path = \"../../../raw/\"\n",
      "flatroot = \"N20140228S\" ; flatslampson = \"369-373\" ; flatslampsoff = \"374-378\"\n",
      "ronchiroot = \"N20140228S\" ; ronchis = \"381-382\"\n",
      "arcroot = \"N20140228S\" ; arcs = \"170\"\n",
      "arcdarkroot = \"N20140228S\" ; arcdarks = \"379-380\"\n",
      "\n",
      "# objs includes offsets to sky (in this case, 169 is the only sky frame.)\n",
      "objroot = \"N20140228S\" ; objs = \"161-169\"\n",
      "objdarkroot = \"N20140228S\" ; objdarks = \"353-367\"\n",
      "\n",
      "# tels includes offsets to sky (ABAABA)\n",
      "# no darks for tellurics\n",
      "telroot = \"N20140228S\" ; telsbefore = \"151-156\" ; telsafter = \"174-179\"\n",
      "\n",
      "\n",
      "lxorder=3 ; lyorder=3  # used by nsfitcoords.  \n",
      "                       # Values are determined in Step 14."
     ],
     "language": "python",
     "metadata": {},
     "outputs": [],
     "prompt_number": 1
    },
    {
     "cell_type": "heading",
     "level": 4,
     "metadata": {},
     "source": [
      "Now get a PyRAF session ready.  This will be needed for some interactive tasks that don't work well in the notebook."
     ]
    },
    {
     "cell_type": "markdown",
     "metadata": {},
     "source": [
      "Open and xterm or a Terminal then:\n",
      "\n",
      "(UPDATE PATH HERE TOO)\n",
      "\n",
      "    cd '/Volumes/MyRugged/research/BELR/GN-2013B-Q-45/SDSS0924+219/20140228-30Mar2015/reduxZ'\n",
      "    pyraf"
     ]
    },
    {
     "cell_type": "markdown",
     "metadata": {},
     "source": [
      "Then in the PyRAF session:\n",
      "\n",
      "    gemini\n",
      "    nifs\n",
      "    unlearn gemini\n",
      "    unlearn nifs\n",
      "    unlearn gnirs\n",
      "    unlearn gemtools"
     ]
    },
    {
     "cell_type": "markdown",
     "metadata": {},
     "source": [
      "Get your PyRAF configured.  In the PyRAF session:\n",
      "\n",
      "    iraf.nifs.logfile = \"Z0924.log\"\n",
      "    iraf.nifs.database = \"Z0924_database/\"\n",
      "    set rawdir = \"../../../raw/\"\n",
      "    set stdimage=imt2048\n",
      "    nsheaders('nifs', logfile=iraf.nifs.logfile)"
     ]
    },
    {
     "cell_type": "heading",
     "level": 2,
     "metadata": {},
     "source": [
      "STEP 1: Initialize the required packages"
     ]
    },
    {
     "cell_type": "heading",
     "level": 4,
     "metadata": {},
     "source": [
      "Launch ds9 before proceeeding further"
     ]
    },
    {
     "cell_type": "heading",
     "level": 4,
     "metadata": {},
     "source": [
      "Load the packages required for the notebook session."
     ]
    },
    {
     "cell_type": "code",
     "collapsed": false,
     "input": [
      "from pyraf import iraf\n",
      "iraf.gemini()\n",
      "iraf.nifs()"
     ],
     "language": "python",
     "metadata": {},
     "outputs": [
      {
       "output_type": "stream",
       "stream": "stdout",
       "text": [
        "This is the initial release of the IRAF FITSUTIL package\n",
        "to include support for FITS tile compression via 'fpack'.\n",
        "Please send comments and questions to seaman@noao.edu.\n",
        "\n",
        " \n",
        "     +------------------- Gemini IRAF Package -------------------+\n",
        "     |              Version 1.13, January 30, 2015               |\n",
        "     |             Requires IRAF v2.14.1 or greater              |\n",
        "     |              Tested with Ureka IRAF v2.16                 |\n",
        "     |             Gemini Observatory, Hilo, Hawaii              |\n",
        "     |    Please use the help desk for submission of questions   |\n",
        "     |  http://www.gemini.edu/sciops/helpdesk/helpdeskIndex.html |\n",
        "     +-----------------------------------------------------------+\n",
        " \n",
        "     Warning setting imtype=fits\n",
        "     Warning setting use_new_imt=no\n",
        " \n",
        "gemini/:\n",
        " f2/            gmos/           midir/          oscir/\n",
        " flamingos/     gnirs/          nifs/           quirc/\n",
        " gemtools/      gsaoi/          niri/\n"
       ]
      },
      {
       "output_type": "stream",
       "stream": "stdout",
       "text": [
        "\n",
        "Loading the gnirs package:\n",
        "gnirs/:\n",
        " gnirsexamples  nfflt2pin       nsextract       nsreduce        nstransform\n",
        " gnirsinfo      nfquick         nsfitcoords     nsressky        nswavelength\n",
        " gnirsinfoifu   nsappwave       nsflat          nssdist         nswedit\n",
        " gnirsinfols    nscombine       nsheaders       nsslitfunction  nvnoise\n",
        " gnirsinfoxd    nscut           nsoffset        nsstack         nxdisplay\n",
        " nfcube         nsedge          nsprepare       nstelluric\n",
        "\n",
        "Loading the nifs package:\n",
        "nifs/:\n",
        " nfacquire      nffixbad        nfprepare       nifcube\n",
        " nfdispc        nfimage         nfsdist         nifsexamples\n",
        " nfextract      nfmap           nftelluric      nifsinfo\n"
       ]
      }
     ],
     "prompt_number": 2
    },
    {
     "cell_type": "code",
     "collapsed": false,
     "input": [
      "iraf.unlearn(iraf.gemini, iraf.nifs, iraf.gnirs, iraf.gemtools)"
     ],
     "language": "python",
     "metadata": {},
     "outputs": [],
     "prompt_number": 3
    },
    {
     "cell_type": "heading",
     "level": 2,
     "metadata": {},
     "source": [
      "STEP 2: Define various parameters and variables"
     ]
    },
    {
     "cell_type": "markdown",
     "metadata": {},
     "source": [
      "***If necessary to start from scratch, delete the log file and the database***"
     ]
    },
    {
     "cell_type": "code",
     "collapsed": false,
     "input": [
      "if (iraf.access(iraf.nifs.logfile)):\n",
      "    iraf.delete(iraf.nifs.logfile, verify='no')\n",
      "if (iraf.access(iraf.nifs.database)):\n",
      "    iraf.delete(iraf.nifs.database + '*', verify='no')"
     ],
     "language": "python",
     "metadata": {},
     "outputs": [
      {
       "output_type": "stream",
       "stream": "stderr",
       "text": [
        "Warning: Cannot delete file (database)\n"
       ]
      }
     ],
     "prompt_number": 4
    },
    {
     "cell_type": "heading",
     "level": 4,
     "metadata": {},
     "source": [
      "Set package up for NIFS reduction."
     ]
    },
    {
     "cell_type": "code",
     "collapsed": false,
     "input": [
      "iraf.nifs.logfile = logfile\n",
      "iraf.nifs.database = database\n",
      "rawdir = raw_data_path\n",
      "iraf.set(stdimage='imt2048')\n",
      "\n",
      "iraf.nsheaders('nifs', logfile=iraf.nifs.logfile)"
     ],
     "language": "python",
     "metadata": {},
     "outputs": [
      {
       "output_type": "stream",
       "stream": "stdout",
       "text": [
        "------------------------------------------------------------------------------\n"
       ]
      },
      {
       "output_type": "stream",
       "stream": "stdout",
       "text": [
        "NSHEADERS -- Wed Apr 29 16:25:35 HST 2015\n",
        "\n"
       ]
      },
      {
       "output_type": "stream",
       "stream": "stdout",
       "text": [
        "setting header keywords\n",
        "clearing nscut.section\n",
        "clearing nsreduce.section\n",
        "setting nsflat.statsec and fitsec\n",
        "setting nswavelength.dispaxis\n",
        "setting generic default for nswavelength.coordlist,\n",
        "   nswavelength.threshold, and nswavelength.fl_median.\n",
        "setting the default logfile\n"
       ]
      }
     ],
     "prompt_number": 4
    },
    {
     "cell_type": "heading",
     "level": 2,
     "metadata": {},
     "source": [
      "STEP 3: Create the reduction lists and output file names"
     ]
    },
    {
     "cell_type": "code",
     "collapsed": false,
     "input": [
      "iraf.delete('flaton.lis, flatoff.lis, ronchi.lis, arc.lis, arcdark.lis, obj.lis, \\\n",
      "    objdark.lis, telbefore.lis, telafter.lis', verify='no')\n",
      "\n",
      "iraf.gemlist(flatroot, flatslampson, Stdout='flaton.lis')\n",
      "iraf.gemlist(flatroot, flatslampsoff, Stdout='flatoff.lis')\n",
      "iraf.gemlist(ronchiroot, ronchis, Stdout='ronchi.lis')\n",
      "iraf.gemlist(arcroot, arcs, Stdout='arc.lis')\n",
      "iraf.gemlist(arcdarkroot, arcdarks, Stdout='arcdark.lis')\n",
      "iraf.gemlist(objroot, objs, Stdout='obj.lis')\n",
      "iraf.gemlist(objdarkroot, objdarks, Stdout='objdark.lis')\n",
      "iraf.gemlist(telroot, telsbefore, Stdout='telbefore.lis')\n",
      "iraf.gemlist(telroot, telsafter, Stdout='telafter.lis')\n",
      "\n",
      "iraf.concat('flaton.lis, flatoff.lis, ronchi.lis, arc.lis, arcdark.lis, obj.lis, \\\n",
      "    objdark.lis, telbefore.lis, telafter.lis', 'all.lis')\n",
      "\n",
      "# remove duplicates\n",
      "all_file = open('all.lis', 'r')\n",
      "all_lines = all_file.readlines()\n",
      "all_file.close()\n",
      "lines_seen = list()\n",
      "for line in all_lines:\n",
      "    if line not in lines_seen:\n",
      "        lines_seen.append(line)\n",
      "all_file = open('all.lis', 'w')\n",
      "all_file.writelines(lines_seen)\n",
      "all_file.close()\n",
      "\n",
      "# get first file of some list to build output file names\n",
      "calflat = iraf.head('flaton.lis', nlines=1, Stdout=1)[0].strip()\n",
      "flatdark = iraf.head('flatoff.lis', nlines=1, Stdout=1)[0].strip()\n",
      "arc = iraf.head('arc.lis', nlines=1, Stdout=1)[0].strip()\n",
      "arcdark = iraf.head('arcdark.lis', nlines=1, Stdout=1)[0].strip()\n",
      "ronchiflat = iraf.head('ronchi.lis', nlines=1, Stdout=1)[0].strip()\n",
      "reference = iraf.head('obj.lis', nlines=1, Stdout=1)[0].strip()\n",
      "telluric_before = iraf.head('telbefore.lis', nlines=1, Stdout=1)[0].strip()\n",
      "telluric_after = iraf.head('telafter.lis', nlines=1, Stdout=1)[0].strip()"
     ],
     "language": "python",
     "metadata": {},
     "outputs": [],
     "prompt_number": 5
    },
    {
     "cell_type": "markdown",
     "metadata": {},
     "source": [
      "Set these variables up in the PyRAF session too, just in case we need them later.\n",
      "\n",
      "    calflat = iraf.head('flaton.lis', nlines=1, Stdout=1)[0].strip()\n",
      "    flatdark = iraf.head('flatoff.lis', nlines=1, Stdout=1)[0].strip()\n",
      "    arc = iraf.head('arc.lis', nlines=1, Stdout=1)[0].strip()\n",
      "    arcdark = iraf.head('arcdark.lis', nlines=1, Stdout=1)[0].strip()\n",
      "    ronchiflat = iraf.head('ronchi.lis', nlines=1, Stdout=1)[0].strip()\n",
      "    reference = iraf.head('obj.lis', nlines=1, Stdout=1)[0].strip()\n",
      "    telluric_before = iraf.head('telbefore.lis', nlines=1, Stdout=1)[0].strip()\n",
      "    telluric_after = iraf.head('telafter.lis', nlines=1, Stdout=1)[0].strip()"
     ]
    },
    {
     "cell_type": "heading",
     "level": 2,
     "metadata": {},
     "source": [
      "STEP 4: Visually inspect the data"
     ]
    },
    {
     "cell_type": "code",
     "collapsed": false,
     "input": [
      "all_files = open('all.lis', 'r')\n",
      "for line in all_files:\n",
      "    image = line.strip() + '[1]'\n",
      "    print image\n",
      "    iraf.display(rawdir + image, 1)\n",
      "    iraf.sleep(5)\n",
      "    \n",
      "all_files.close()"
     ],
     "language": "python",
     "metadata": {},
     "outputs": [
      {
       "output_type": "stream",
       "stream": "stdout",
       "text": [
        "N20140228S0369[1]\n",
        "z1=-300. z2=10598.\n"
       ]
      },
      {
       "output_type": "stream",
       "stream": "stdout",
       "text": [
        "N20140228S0370[1]\n",
        "z1=-352. z2=10766.\n"
       ]
      },
      {
       "output_type": "stream",
       "stream": "stdout",
       "text": [
        "N20140228S0371[1]\n",
        "z1=-310. z2=10730.\n"
       ]
      },
      {
       "output_type": "stream",
       "stream": "stdout",
       "text": [
        "N20140228S0372[1]\n",
        "z1=-243. z2=10680.\n"
       ]
      },
      {
       "output_type": "stream",
       "stream": "stdout",
       "text": [
        "N20140228S0373[1]\n",
        "z1=-288. z2=10809.\n"
       ]
      },
      {
       "output_type": "stream",
       "stream": "stdout",
       "text": [
        "N20140228S0374[1]\n",
        "z1=-34.54514 z2=36.61637\n"
       ]
      },
      {
       "output_type": "stream",
       "stream": "stdout",
       "text": [
        "N20140228S0375[1]\n",
        "z1=-24. z2=36.08727\n"
       ]
      },
      {
       "output_type": "stream",
       "stream": "stdout",
       "text": [
        "N20140228S0376[1]\n",
        "z1=-35.53321 z2=37.60642\n"
       ]
      },
      {
       "output_type": "stream",
       "stream": "stdout",
       "text": [
        "N20140228S0377[1]\n",
        "z1=-19. z2=33.99886\n"
       ]
      },
      {
       "output_type": "stream",
       "stream": "stdout",
       "text": [
        "N20140228S0378[1]\n",
        "z1=-32. z2=37.31392\n"
       ]
      },
      {
       "output_type": "stream",
       "stream": "stdout",
       "text": [
        "N20140228S0381[1]\n",
        "z1=-10. z2=8099.\n"
       ]
      },
      {
       "output_type": "stream",
       "stream": "stdout",
       "text": [
        "N20140228S0382[1]\n",
        "z1=-61. z2=8413.\n"
       ]
      },
      {
       "output_type": "stream",
       "stream": "stdout",
       "text": [
        "N20140228S0170[1]\n",
        "z1=-20. z2=74.9563\n"
       ]
      },
      {
       "output_type": "stream",
       "stream": "stdout",
       "text": [
        "N20140228S0379[1]\n",
        "z1=-35.39661 z2=35.46754\n"
       ]
      },
      {
       "output_type": "stream",
       "stream": "stdout",
       "text": [
        "N20140228S0380[1]\n",
        "z1=-20. z2=33.76815\n"
       ]
      },
      {
       "output_type": "stream",
       "stream": "stdout",
       "text": [
        "N20140228S0161[1]\n",
        "z1=-6.875 z2=18.33126\n"
       ]
      },
      {
       "output_type": "stream",
       "stream": "stdout",
       "text": [
        "N20140228S0162[1]\n",
        "z1=-10.625 z2=19.11184\n"
       ]
      },
      {
       "output_type": "stream",
       "stream": "stdout",
       "text": [
        "N20140228S0163[1]\n",
        "z1=-12.5625 z2=17.04754\n"
       ]
      },
      {
       "output_type": "stream",
       "stream": "stdout",
       "text": [
        "N20140228S0164[1]\n",
        "z1=-13.89658 z2=17.30281\n"
       ]
      },
      {
       "output_type": "stream",
       "stream": "stdout",
       "text": [
        "N20140228S0165[1]\n",
        "z1=-5.8125 z2=15.75119\n"
       ]
      },
      {
       "output_type": "stream",
       "stream": "stdout",
       "text": [
        "N20140228S0166[1]\n",
        "z1=-12.1875 z2=15.87073\n"
       ]
      },
      {
       "output_type": "stream",
       "stream": "stdout",
       "text": [
        "N20140228S0167[1]\n",
        "z1=-16.47931 z2=16.70003\n"
       ]
      },
      {
       "output_type": "stream",
       "stream": "stdout",
       "text": [
        "N20140228S0168[1]\n",
        "z1=-5.6875 z2=17.88752\n"
       ]
      },
      {
       "output_type": "stream",
       "stream": "stdout",
       "text": [
        "N20140228S0169[1]\n",
        "z1=-12. z2=18.90558\n"
       ]
      },
      {
       "output_type": "stream",
       "stream": "stdout",
       "text": [
        "N20140228S0353[1]\n",
        "z1=-10.5625 z2=14.25963\n"
       ]
      },
      {
       "output_type": "stream",
       "stream": "stdout",
       "text": [
        "N20140228S0354[1]\n",
        "z1=-9.3125 z2=13.9859\n"
       ]
      },
      {
       "output_type": "stream",
       "stream": "stdout",
       "text": [
        "N20140228S0355[1]\n",
        "z1=-8.5625 z2=13.48816\n"
       ]
      },
      {
       "output_type": "stream",
       "stream": "stdout",
       "text": [
        "N20140228S0356[1]\n",
        "z1=-10.1875 z2=15.7231\n"
       ]
      },
      {
       "output_type": "stream",
       "stream": "stdout",
       "text": [
        "N20140228S0357[1]\n",
        "z1=-12.25 z2=14.56917\n"
       ]
      },
      {
       "output_type": "stream",
       "stream": "stdout",
       "text": [
        "N20140228S0358[1]\n",
        "z1=-7.75 z2=14.58158\n"
       ]
      },
      {
       "output_type": "stream",
       "stream": "stdout",
       "text": [
        "N20140228S0359[1]\n",
        "z1=-13.125 z2=14.67167\n"
       ]
      },
      {
       "output_type": "stream",
       "stream": "stdout",
       "text": [
        "N20140228S0360[1]\n",
        "z1=-11.125 z2=14.15134\n"
       ]
      },
      {
       "output_type": "stream",
       "stream": "stdout",
       "text": [
        "N20140228S0361[1]\n",
        "z1=-12.54401 z2=13.69528\n"
       ]
      },
      {
       "output_type": "stream",
       "stream": "stdout",
       "text": [
        "N20140228S0362[1]\n",
        "z1=-11.0625 z2=14.37132\n"
       ]
      },
      {
       "output_type": "stream",
       "stream": "stdout",
       "text": [
        "N20140228S0363[1]\n",
        "z1=-12.30469 z2=14.33135\n"
       ]
      },
      {
       "output_type": "stream",
       "stream": "stdout",
       "text": [
        "N20140228S0364[1]\n",
        "z1=-16.27505 z2=16.18254\n"
       ]
      },
      {
       "output_type": "stream",
       "stream": "stdout",
       "text": [
        "N20140228S0365[1]\n",
        "z1=-12.54459 z2=14.07123\n"
       ]
      },
      {
       "output_type": "stream",
       "stream": "stdout",
       "text": [
        "N20140228S0366[1]\n",
        "z1=-6.875 z2=14.50863\n"
       ]
      },
      {
       "output_type": "stream",
       "stream": "stdout",
       "text": [
        "N20140228S0367[1]\n",
        "z1=-12.11039 z2=13.13566\n"
       ]
      },
      {
       "output_type": "stream",
       "stream": "stdout",
       "text": [
        "N20140228S0151[1]\n",
        "z1=-24. z2=570.371\n"
       ]
      },
      {
       "output_type": "stream",
       "stream": "stdout",
       "text": [
        "N20140228S0152[1]\n",
        "z1=-36. z2=37.36343\n"
       ]
      },
      {
       "output_type": "stream",
       "stream": "stdout",
       "text": [
        "N20140228S0153[1]\n",
        "z1=-12. z2=486.3472\n"
       ]
      },
      {
       "output_type": "stream",
       "stream": "stdout",
       "text": [
        "N20140228S0154[1]\n",
        "z1=-13. z2=485.104\n"
       ]
      },
      {
       "output_type": "stream",
       "stream": "stdout",
       "text": [
        "N20140228S0155[1]\n",
        "z1=-22. z2=37.24912\n"
       ]
      },
      {
       "output_type": "stream",
       "stream": "stdout",
       "text": [
        "N20140228S0156[1]\n",
        "z1=-23. z2=427.8122\n"
       ]
      },
      {
       "output_type": "stream",
       "stream": "stdout",
       "text": [
        "N20140228S0174[1]\n",
        "z1=-38. z2=1748.194\n"
       ]
      },
      {
       "output_type": "stream",
       "stream": "stdout",
       "text": [
        "N20140228S0175[1]\n",
        "z1=-26. z2=36.96386\n"
       ]
      },
      {
       "output_type": "stream",
       "stream": "stdout",
       "text": [
        "N20140228S0176[1]\n",
        "z1=-30. z2=1317.535\n"
       ]
      },
      {
       "output_type": "stream",
       "stream": "stdout",
       "text": [
        "N20140228S0177[1]\n",
        "z1=-11. z2=1412.451\n"
       ]
      },
      {
       "output_type": "stream",
       "stream": "stdout",
       "text": [
        "N20140228S0178[1]\n",
        "z1=-23. z2=38.44693\n"
       ]
      },
      {
       "output_type": "stream",
       "stream": "stdout",
       "text": [
        "N20140228S0179[1]\n",
        "z1=-60. z2=1287.985\n"
       ]
      }
     ],
     "prompt_number": 8
    },
    {
     "cell_type": "markdown",
     "metadata": {},
     "source": [
      "[Table of Contents](#toc)\n",
      "\n",
      "<hr size=5>\n",
      "<a id='calibrations'></a>"
     ]
    },
    {
     "cell_type": "heading",
     "level": 2,
     "metadata": {},
     "source": [
      "REDUCTION OF THE BASELINE CALIBRATIONS - STEPS 5 TO 8"
     ]
    },
    {
     "cell_type": "markdown",
     "metadata": {},
     "source": [
      "<hr size=5>"
     ]
    },
    {
     "cell_type": "heading",
     "level": 2,
     "metadata": {},
     "source": [
      "STEP 5: Determine the shift to the MDF file"
     ]
    },
    {
     "cell_type": "code",
     "collapsed": false,
     "input": [
      "iraf.imdelete(calflat+'_shift', verify='no')\n",
      "\n",
      "iraf.nfprepare(calflat, rawpath=rawdir, outimages=calflat+'_shift', \\\n",
      "               shiftx='INDEF', shifty='INDEF', fl_vardq='no', fl_corr='no', \\\n",
      "               fl_nonl='no')"
     ],
     "language": "python",
     "metadata": {},
     "outputs": [
      {
       "output_type": "stream",
       "stream": "stdout",
       "text": [
        "-------------------------------------------------------------------------------\n",
        "NFPREPARE -- Thu Apr  2 14:46:51 HST 2015"
       ]
      },
      {
       "output_type": "stream",
       "stream": "stdout",
       "text": [
        "\n",
        " \n",
        "Processing 1 files"
       ]
      },
      {
       "output_type": "stream",
       "stream": "stdout",
       "text": [
        "\n",
        "NFPREPARE: Will measure MDF offset using ../../../raw/N20140228S0369\n",
        "           (OBSTYPE=FLAT)\n",
        "NFPREPARE: Both shiftx and shifty are INDEF.  The shift for MDF will be\n",
        "           measured using cross-correlation.\n",
        "           You should verify that the measured shift is correct by\n",
        "           examining the cut data.\n",
        "           NOTE that it is important to ensure that the same shift is used\n",
        "           for all data processed together, including calibration frames.\n",
        "           So, if you use the automatic shift, either process all the data\n",
        "           in just one call to nfprepare or use the shiftimage parameter\n",
        "           (or shiftx and shifty directly) to copy the shift from a \n",
        "           previously processed image on subsequent calls to nfprepare.\n"
       ]
      },
      {
       "output_type": "stream",
       "stream": "stdout",
       "text": [
        "----------------------------------------------------------------------------\n",
        "NFPREPARE: Subtracting reference pixels.\n",
        "WARNING - NFPREPARE: Not correcting for non-linearity."
       ]
      },
      {
       "output_type": "stream",
       "stream": "stdout",
       "text": [
        "\n",
        "----------------------------------------------------------------------------\n",
        "NFPAD: Padding NIFS data in the y-dimension for extended slices\n"
       ]
      },
      {
       "output_type": "stream",
       "stream": "stdout",
       "text": [
        "NFPAD: Input file is a non-MEF NIFS frame\n"
       ]
      },
      {
       "output_type": "stream",
       "stream": "stdout",
       "text": [
        "NFPAD exit status:  good.\n",
        "----------------------------------------------------------------------------\n"
       ]
      },
      {
       "output_type": "stream",
       "stream": "stdout",
       "text": [
        "------------------------------------------------------------------------------\n",
        "NSOFFSET -- Thu Apr  2 14:47:01 HST 2015\n",
        " \n"
       ]
      },
      {
       "output_type": "stream",
       "stream": "stdout",
       "text": [
        "NSOFFSET: Calculating cross correlation (please wait).\n",
        "NSOFFSET: Integer offset for nifs$data/nifs-mdf is 2."
       ]
      },
      {
       "output_type": "stream",
       "stream": "stdout",
       "text": [
        "\n"
       ]
      },
      {
       "output_type": "stream",
       "stream": "stdout",
       "text": [
        "NSOFFSET: Final offset for nifs$data/nifs-mdf is 2.0.\n"
       ]
      },
      {
       "output_type": "stream",
       "stream": "stdout",
       "text": [
        "NSOFFSET: Shifting nifs-mdf-28290_366.fits[1] in Y by 2.0 pixels.\n"
       ]
      },
      {
       "output_type": "stream",
       "stream": "stdout",
       "text": [
        " \n",
        "NSOFFSET exit status: good.\n",
        "-------------------------------------------------------------------------------\n"
       ]
      },
      {
       "output_type": "stream",
       "stream": "stdout",
       "text": [
        " \n",
        "  n      input file -->      output file\n",
        "  1 ../../../raw/N20140228S0369 --> N20140228S0369_shift \n",
        "                 filter     focal plane       input BPM    RN  gain     sat\n",
        "               ZJ_G0601        3.0_Mask            none   6.3   2.4   50000 \n"
       ]
      },
      {
       "output_type": "stream",
       "stream": "stdout",
       "text": [
        " \n",
        "NFPREPARE exit status:  good.\n",
        "----------------------------------------------------------------------------\n"
       ]
      }
     ],
     "prompt_number": 11
    },
    {
     "cell_type": "heading",
     "level": 2,
     "metadata": {},
     "source": [
      "STEP 6: Make the flat field and the BPM"
     ]
    },
    {
     "cell_type": "heading",
     "level": 4,
     "metadata": {},
     "source": [
      "Prepare the lamps-on and lamps-off flats"
     ]
    },
    {
     "cell_type": "code",
     "collapsed": false,
     "input": [
      "iraf.imdelete('n@flaton.lis', verify='no')\n",
      "iraf.imdelete('n@flatoff.lis', verify='no')\n",
      "\n",
      "iraf.nfprepare('@flaton.lis', rawpath=rawdir, shiftim=calflat+'_shift', \\\n",
      "          fl_vardq='yes', fl_int='yes', fl_corr='no', fl_nonl='no')\n",
      "iraf.nfprepare('@flatoff.lis', rawpath=rawdir, shiftim=calflat+'_shift', \\\n",
      "          fl_vardq='yes', fl_int='yes', fl_corr='no', fl_nonl='no')"
     ],
     "language": "python",
     "metadata": {},
     "outputs": [
      {
       "output_type": "stream",
       "stream": "stdout",
       "text": [
        "-------------------------------------------------------------------------------\n",
        "NFPREPARE -- Thu Apr  2 14:55:13 HST 2015\n",
        " \n",
        "WARNING - NFPREPARE: Non-linear pixels not flagged.\n",
        "NFPREPARE: Shift from N20140228S0369_shift[0]\n",
        "Processing 5 files"
       ]
      },
      {
       "output_type": "stream",
       "stream": "stdout",
       "text": [
        "\n",
        "NFPREPARE: Bad pixel mask not specified."
       ]
      },
      {
       "output_type": "stream",
       "stream": "stdout",
       "text": [
        "\n"
       ]
      },
      {
       "output_type": "stream",
       "stream": "stdout",
       "text": [
        "----------------------------------------------------------------------------\n",
        "NFPREPARE: Subtracting reference pixels.\n",
        "WARNING - NFPREPARE: Not correcting for non-linearity."
       ]
      },
      {
       "output_type": "stream",
       "stream": "stdout",
       "text": [
        "\n",
        "----------------------------------------------------------------------------\n",
        "NFPAD: Padding NIFS data in the y-dimension for extended slices\n"
       ]
      },
      {
       "output_type": "stream",
       "stream": "stdout",
       "text": [
        "NFPAD: Input file is a non-MEF NIFS frame\n"
       ]
      },
      {
       "output_type": "stream",
       "stream": "stdout",
       "text": [
        "NFPAD exit status:  good.\n",
        "----------------------------------------------------------------------------\n"
       ]
      },
      {
       "output_type": "stream",
       "stream": "stdout",
       "text": [
        "----------------------------------------------------------------------------\n",
        "NFPAD: Padding NIFS data in the y-dimension for extended slices\n"
       ]
      },
      {
       "output_type": "stream",
       "stream": "stdout",
       "text": [
        "NFPAD: Input file is a non-MEF NIFS frame\n"
       ]
      },
      {
       "output_type": "stream",
       "stream": "stdout",
       "text": [
        "NFPAD exit status:  good.\n",
        "----------------------------------------------------------------------------\n"
       ]
      },
      {
       "output_type": "stream",
       "stream": "stdout",
       "text": [
        "----------------------------------------------------------------------------\n",
        "NFPAD: Padding NIFS data in the y-dimension for extended slices\n"
       ]
      },
      {
       "output_type": "stream",
       "stream": "stdout",
       "text": [
        "NFPAD: Input file is a non-MEF NIFS frame\n"
       ]
      },
      {
       "output_type": "stream",
       "stream": "stdout",
       "text": [
        "NFPAD exit status:  good.\n",
        "----------------------------------------------------------------------------\n"
       ]
      },
      {
       "output_type": "stream",
       "stream": "stdout",
       "text": [
        "NFPREPARE: Shifting MDF in Y by 2.0 pixels (subtracted from y_ccd)\n"
       ]
      },
      {
       "output_type": "stream",
       "stream": "stdout",
       "text": [
        " \n",
        "  n      input file -->      output file\n",
        "  1 ../../../raw/N20140228S0369 -->  nN20140228S0369 \n",
        "                 filter     focal plane       input BPM    RN  gain     sat\n",
        "               ZJ_G0601        3.0_Mask            none   6.3   2.4   50000 \n",
        "----------------------------------------------------------------------------"
       ]
      },
      {
       "output_type": "stream",
       "stream": "stdout",
       "text": [
        "\n",
        "NFPREPARE: Subtracting reference pixels.\n",
        "WARNING - NFPREPARE: Not correcting for non-linearity."
       ]
      },
      {
       "output_type": "stream",
       "stream": "stdout",
       "text": [
        "\n",
        "----------------------------------------------------------------------------\n",
        "NFPAD: Padding NIFS data in the y-dimension for extended slices\n"
       ]
      },
      {
       "output_type": "stream",
       "stream": "stdout",
       "text": [
        "NFPAD: Input file is a non-MEF NIFS frame\n"
       ]
      },
      {
       "output_type": "stream",
       "stream": "stdout",
       "text": [
        "NFPAD exit status:  good.\n",
        "----------------------------------------------------------------------------\n"
       ]
      },
      {
       "output_type": "stream",
       "stream": "stdout",
       "text": [
        "----------------------------------------------------------------------------\n",
        "NFPAD: Padding NIFS data in the y-dimension for extended slices\n"
       ]
      },
      {
       "output_type": "stream",
       "stream": "stdout",
       "text": [
        "NFPAD: Input file is a non-MEF NIFS frame\n"
       ]
      },
      {
       "output_type": "stream",
       "stream": "stdout",
       "text": [
        "NFPAD exit status:  good.\n",
        "----------------------------------------------------------------------------\n"
       ]
      },
      {
       "output_type": "stream",
       "stream": "stdout",
       "text": [
        "----------------------------------------------------------------------------\n",
        "NFPAD: Padding NIFS data in the y-dimension for extended slices\n"
       ]
      },
      {
       "output_type": "stream",
       "stream": "stdout",
       "text": [
        "NFPAD: Input file is a non-MEF NIFS frame\n"
       ]
      },
      {
       "output_type": "stream",
       "stream": "stdout",
       "text": [
        "NFPAD exit status:  good.\n",
        "----------------------------------------------------------------------------\n"
       ]
      },
      {
       "output_type": "stream",
       "stream": "stdout",
       "text": [
        "NFPREPARE: Shifting MDF in Y by 2.0 pixels (subtracted from y_ccd)\n"
       ]
      },
      {
       "output_type": "stream",
       "stream": "stdout",
       "text": [
        " \n",
        "  n      input file -->      output file\n",
        "  2 ../../../raw/N20140228S0370 -->  nN20140228S0370 \n",
        "                 filter     focal plane       input BPM    RN  gain     sat\n",
        "               ZJ_G0601        3.0_Mask            none   6.3   2.4   50000 \n",
        "----------------------------------------------------------------------------"
       ]
      },
      {
       "output_type": "stream",
       "stream": "stdout",
       "text": [
        "\n",
        "NFPREPARE: Subtracting reference pixels.\n",
        "WARNING - NFPREPARE: Not correcting for non-linearity."
       ]
      },
      {
       "output_type": "stream",
       "stream": "stdout",
       "text": [
        "\n",
        "----------------------------------------------------------------------------\n",
        "NFPAD: Padding NIFS data in the y-dimension for extended slices\n"
       ]
      },
      {
       "output_type": "stream",
       "stream": "stdout",
       "text": [
        "NFPAD: Input file is a non-MEF NIFS frame\n"
       ]
      },
      {
       "output_type": "stream",
       "stream": "stdout",
       "text": [
        "NFPAD exit status:  good.\n",
        "----------------------------------------------------------------------------\n"
       ]
      },
      {
       "output_type": "stream",
       "stream": "stdout",
       "text": [
        "----------------------------------------------------------------------------\n",
        "NFPAD: Padding NIFS data in the y-dimension for extended slices\n"
       ]
      },
      {
       "output_type": "stream",
       "stream": "stdout",
       "text": [
        "NFPAD: Input file is a non-MEF NIFS frame\n"
       ]
      },
      {
       "output_type": "stream",
       "stream": "stdout",
       "text": [
        "NFPAD exit status:  good.\n",
        "----------------------------------------------------------------------------\n"
       ]
      },
      {
       "output_type": "stream",
       "stream": "stdout",
       "text": [
        "----------------------------------------------------------------------------\n",
        "NFPAD: Padding NIFS data in the y-dimension for extended slices\n"
       ]
      },
      {
       "output_type": "stream",
       "stream": "stdout",
       "text": [
        "NFPAD: Input file is a non-MEF NIFS frame\n"
       ]
      },
      {
       "output_type": "stream",
       "stream": "stdout",
       "text": [
        "NFPAD exit status:  good.\n",
        "----------------------------------------------------------------------------\n"
       ]
      },
      {
       "output_type": "stream",
       "stream": "stdout",
       "text": [
        "NFPREPARE: Shifting MDF in Y by 2.0 pixels (subtracted from y_ccd)\n"
       ]
      },
      {
       "output_type": "stream",
       "stream": "stdout",
       "text": [
        " \n",
        "  n      input file -->      output file\n",
        "  3 ../../../raw/N20140228S0371 -->  nN20140228S0371 \n",
        "                 filter     focal plane       input BPM    RN  gain     sat\n",
        "               ZJ_G0601        3.0_Mask            none   6.3   2.4   50000 \n",
        "----------------------------------------------------------------------------"
       ]
      },
      {
       "output_type": "stream",
       "stream": "stdout",
       "text": [
        "\n",
        "NFPREPARE: Subtracting reference pixels.\n",
        "WARNING - NFPREPARE: Not correcting for non-linearity."
       ]
      },
      {
       "output_type": "stream",
       "stream": "stdout",
       "text": [
        "\n",
        "----------------------------------------------------------------------------\n",
        "NFPAD: Padding NIFS data in the y-dimension for extended slices\n"
       ]
      },
      {
       "output_type": "stream",
       "stream": "stdout",
       "text": [
        "NFPAD: Input file is a non-MEF NIFS frame\n"
       ]
      },
      {
       "output_type": "stream",
       "stream": "stdout",
       "text": [
        "NFPAD exit status:  good.\n",
        "----------------------------------------------------------------------------\n"
       ]
      },
      {
       "output_type": "stream",
       "stream": "stdout",
       "text": [
        "----------------------------------------------------------------------------\n",
        "NFPAD: Padding NIFS data in the y-dimension for extended slices\n"
       ]
      },
      {
       "output_type": "stream",
       "stream": "stdout",
       "text": [
        "NFPAD: Input file is a non-MEF NIFS frame\n"
       ]
      },
      {
       "output_type": "stream",
       "stream": "stdout",
       "text": [
        "NFPAD exit status:  good.\n",
        "----------------------------------------------------------------------------\n"
       ]
      },
      {
       "output_type": "stream",
       "stream": "stdout",
       "text": [
        "----------------------------------------------------------------------------\n",
        "NFPAD: Padding NIFS data in the y-dimension for extended slices\n"
       ]
      },
      {
       "output_type": "stream",
       "stream": "stdout",
       "text": [
        "NFPAD: Input file is a non-MEF NIFS frame\n"
       ]
      },
      {
       "output_type": "stream",
       "stream": "stdout",
       "text": [
        "NFPAD exit status:  good.\n",
        "----------------------------------------------------------------------------\n"
       ]
      },
      {
       "output_type": "stream",
       "stream": "stdout",
       "text": [
        "NFPREPARE: Shifting MDF in Y by 2.0 pixels (subtracted from y_ccd)\n"
       ]
      },
      {
       "output_type": "stream",
       "stream": "stdout",
       "text": [
        " \n",
        "  n      input file -->      output file\n",
        "  4 ../../../raw/N20140228S0372 -->  nN20140228S0372 \n",
        "                 filter     focal plane       input BPM    RN  gain     sat\n",
        "               ZJ_G0601        3.0_Mask            none   6.3   2.4   50000 \n",
        "----------------------------------------------------------------------------"
       ]
      },
      {
       "output_type": "stream",
       "stream": "stdout",
       "text": [
        "\n",
        "NFPREPARE: Subtracting reference pixels.\n",
        "WARNING - NFPREPARE: Not correcting for non-linearity."
       ]
      },
      {
       "output_type": "stream",
       "stream": "stdout",
       "text": [
        "\n",
        "----------------------------------------------------------------------------\n",
        "NFPAD: Padding NIFS data in the y-dimension for extended slices\n"
       ]
      },
      {
       "output_type": "stream",
       "stream": "stdout",
       "text": [
        "NFPAD: Input file is a non-MEF NIFS frame\n"
       ]
      },
      {
       "output_type": "stream",
       "stream": "stdout",
       "text": [
        "NFPAD exit status:  good.\n",
        "----------------------------------------------------------------------------\n"
       ]
      },
      {
       "output_type": "stream",
       "stream": "stdout",
       "text": [
        "----------------------------------------------------------------------------\n",
        "NFPAD: Padding NIFS data in the y-dimension for extended slices\n"
       ]
      },
      {
       "output_type": "stream",
       "stream": "stdout",
       "text": [
        "NFPAD: Input file is a non-MEF NIFS frame\n"
       ]
      },
      {
       "output_type": "stream",
       "stream": "stdout",
       "text": [
        "NFPAD exit status:  good.\n",
        "----------------------------------------------------------------------------\n"
       ]
      },
      {
       "output_type": "stream",
       "stream": "stdout",
       "text": [
        "----------------------------------------------------------------------------\n",
        "NFPAD: Padding NIFS data in the y-dimension for extended slices\n"
       ]
      },
      {
       "output_type": "stream",
       "stream": "stdout",
       "text": [
        "NFPAD: Input file is a non-MEF NIFS frame\n"
       ]
      },
      {
       "output_type": "stream",
       "stream": "stdout",
       "text": [
        "NFPAD exit status:  good.\n",
        "----------------------------------------------------------------------------\n"
       ]
      },
      {
       "output_type": "stream",
       "stream": "stdout",
       "text": [
        "NFPREPARE: Shifting MDF in Y by 2.0 pixels (subtracted from y_ccd)\n"
       ]
      },
      {
       "output_type": "stream",
       "stream": "stdout",
       "text": [
        " \n",
        "  n      input file -->      output file\n",
        "  5 ../../../raw/N20140228S0373 -->  nN20140228S0373 \n",
        "                 filter     focal plane       input BPM    RN  gain     sat\n",
        "               ZJ_G0601        3.0_Mask            none   6.3   2.4   50000 \n",
        " "
       ]
      },
      {
       "output_type": "stream",
       "stream": "stdout",
       "text": [
        "\n",
        "NFPREPARE exit status:  good.\n",
        "----------------------------------------------------------------------------\n"
       ]
      },
      {
       "output_type": "stream",
       "stream": "stdout",
       "text": [
        "-------------------------------------------------------------------------------\n",
        "NFPREPARE -- Thu Apr  2 14:56:50 HST 2015"
       ]
      },
      {
       "output_type": "stream",
       "stream": "stdout",
       "text": [
        "\n",
        " \n",
        "WARNING - NFPREPARE: Non-linear pixels not flagged.\n",
        "NFPREPARE: Shift from N20140228S0369_shift[0]"
       ]
      },
      {
       "output_type": "stream",
       "stream": "stdout",
       "text": [
        "\n",
        "Processing 5 files"
       ]
      },
      {
       "output_type": "stream",
       "stream": "stdout",
       "text": [
        "\n",
        "NFPREPARE: Bad pixel mask not specified.\n"
       ]
      },
      {
       "output_type": "stream",
       "stream": "stdout",
       "text": [
        "----------------------------------------------------------------------------\n",
        "NFPREPARE: Subtracting reference pixels.\n",
        "WARNING - NFPREPARE: Not correcting for non-linearity."
       ]
      },
      {
       "output_type": "stream",
       "stream": "stdout",
       "text": [
        "\n",
        "----------------------------------------------------------------------------\n",
        "NFPAD: Padding NIFS data in the y-dimension for extended slices\n"
       ]
      },
      {
       "output_type": "stream",
       "stream": "stdout",
       "text": [
        "NFPAD: Input file is a non-MEF NIFS frame\n"
       ]
      },
      {
       "output_type": "stream",
       "stream": "stdout",
       "text": [
        "NFPAD exit status:  good.\n",
        "----------------------------------------------------------------------------\n"
       ]
      },
      {
       "output_type": "stream",
       "stream": "stdout",
       "text": [
        "----------------------------------------------------------------------------\n",
        "NFPAD: Padding NIFS data in the y-dimension for extended slices\n"
       ]
      },
      {
       "output_type": "stream",
       "stream": "stdout",
       "text": [
        "NFPAD: Input file is a non-MEF NIFS frame\n"
       ]
      },
      {
       "output_type": "stream",
       "stream": "stdout",
       "text": [
        "NFPAD exit status:  good.\n",
        "----------------------------------------------------------------------------\n"
       ]
      },
      {
       "output_type": "stream",
       "stream": "stdout",
       "text": [
        "----------------------------------------------------------------------------\n",
        "NFPAD: Padding NIFS data in the y-dimension for extended slices\n"
       ]
      },
      {
       "output_type": "stream",
       "stream": "stdout",
       "text": [
        "NFPAD: Input file is a non-MEF NIFS frame\n"
       ]
      },
      {
       "output_type": "stream",
       "stream": "stdout",
       "text": [
        "NFPAD exit status:  good.\n",
        "----------------------------------------------------------------------------\n"
       ]
      },
      {
       "output_type": "stream",
       "stream": "stdout",
       "text": [
        "NFPREPARE: Shifting MDF in Y by 2.0 pixels (subtracted from y_ccd)\n"
       ]
      },
      {
       "output_type": "stream",
       "stream": "stdout",
       "text": [
        " \n",
        "  n      input file -->      output file\n",
        "  1 ../../../raw/N20140228S0374 -->  nN20140228S0374 \n",
        "                 filter     focal plane       input BPM    RN  gain     sat\n",
        "               ZJ_G0601        3.0_Mask            none   6.3   2.4   50000 \n",
        "----------------------------------------------------------------------------"
       ]
      },
      {
       "output_type": "stream",
       "stream": "stdout",
       "text": [
        "\n",
        "NFPREPARE: Subtracting reference pixels.\n",
        "WARNING - NFPREPARE: Not correcting for non-linearity."
       ]
      },
      {
       "output_type": "stream",
       "stream": "stdout",
       "text": [
        "\n",
        "----------------------------------------------------------------------------\n",
        "NFPAD: Padding NIFS data in the y-dimension for extended slices\n"
       ]
      },
      {
       "output_type": "stream",
       "stream": "stdout",
       "text": [
        "NFPAD: Input file is a non-MEF NIFS frame\n"
       ]
      },
      {
       "output_type": "stream",
       "stream": "stdout",
       "text": [
        "NFPAD exit status:  good.\n",
        "----------------------------------------------------------------------------\n"
       ]
      },
      {
       "output_type": "stream",
       "stream": "stdout",
       "text": [
        "----------------------------------------------------------------------------\n",
        "NFPAD: Padding NIFS data in the y-dimension for extended slices\n"
       ]
      },
      {
       "output_type": "stream",
       "stream": "stdout",
       "text": [
        "NFPAD: Input file is a non-MEF NIFS frame\n"
       ]
      },
      {
       "output_type": "stream",
       "stream": "stdout",
       "text": [
        "NFPAD exit status:  good.\n",
        "----------------------------------------------------------------------------\n"
       ]
      },
      {
       "output_type": "stream",
       "stream": "stdout",
       "text": [
        "----------------------------------------------------------------------------\n",
        "NFPAD: Padding NIFS data in the y-dimension for extended slices\n"
       ]
      },
      {
       "output_type": "stream",
       "stream": "stdout",
       "text": [
        "NFPAD: Input file is a non-MEF NIFS frame\n"
       ]
      },
      {
       "output_type": "stream",
       "stream": "stdout",
       "text": [
        "NFPAD exit status:  good.\n",
        "----------------------------------------------------------------------------\n"
       ]
      },
      {
       "output_type": "stream",
       "stream": "stdout",
       "text": [
        "NFPREPARE: Shifting MDF in Y by 2.0 pixels (subtracted from y_ccd)\n"
       ]
      },
      {
       "output_type": "stream",
       "stream": "stdout",
       "text": [
        " \n",
        "  n      input file -->      output file\n",
        "  2 ../../../raw/N20140228S0375 -->  nN20140228S0375 \n",
        "                 filter     focal plane       input BPM    RN  gain     sat\n",
        "               ZJ_G0601        3.0_Mask            none   6.3   2.4   50000 \n",
        "----------------------------------------------------------------------------"
       ]
      },
      {
       "output_type": "stream",
       "stream": "stdout",
       "text": [
        "\n",
        "NFPREPARE: Subtracting reference pixels.\n",
        "WARNING - NFPREPARE: Not correcting for non-linearity."
       ]
      },
      {
       "output_type": "stream",
       "stream": "stdout",
       "text": [
        "\n",
        "----------------------------------------------------------------------------\n",
        "NFPAD: Padding NIFS data in the y-dimension for extended slices\n"
       ]
      },
      {
       "output_type": "stream",
       "stream": "stdout",
       "text": [
        "NFPAD: Input file is a non-MEF NIFS frame\n"
       ]
      },
      {
       "output_type": "stream",
       "stream": "stdout",
       "text": [
        "NFPAD exit status:  good.\n",
        "----------------------------------------------------------------------------\n"
       ]
      },
      {
       "output_type": "stream",
       "stream": "stdout",
       "text": [
        "----------------------------------------------------------------------------\n",
        "NFPAD: Padding NIFS data in the y-dimension for extended slices\n"
       ]
      },
      {
       "output_type": "stream",
       "stream": "stdout",
       "text": [
        "NFPAD: Input file is a non-MEF NIFS frame\n"
       ]
      },
      {
       "output_type": "stream",
       "stream": "stdout",
       "text": [
        "NFPAD exit status:  good.\n",
        "----------------------------------------------------------------------------\n"
       ]
      },
      {
       "output_type": "stream",
       "stream": "stdout",
       "text": [
        "----------------------------------------------------------------------------\n",
        "NFPAD: Padding NIFS data in the y-dimension for extended slices\n"
       ]
      },
      {
       "output_type": "stream",
       "stream": "stdout",
       "text": [
        "NFPAD: Input file is a non-MEF NIFS frame\n"
       ]
      },
      {
       "output_type": "stream",
       "stream": "stdout",
       "text": [
        "NFPAD exit status:  good.\n",
        "----------------------------------------------------------------------------\n"
       ]
      },
      {
       "output_type": "stream",
       "stream": "stdout",
       "text": [
        "NFPREPARE: Shifting MDF in Y by 2.0 pixels (subtracted from y_ccd)\n"
       ]
      },
      {
       "output_type": "stream",
       "stream": "stdout",
       "text": [
        " \n",
        "  n      input file -->      output file\n",
        "  3 ../../../raw/N20140228S0376 -->  nN20140228S0376 \n",
        "                 filter     focal plane       input BPM    RN  gain     sat\n",
        "               ZJ_G0601        3.0_Mask            none   6.3   2.4   50000 \n",
        "----------------------------------------------------------------------------"
       ]
      },
      {
       "output_type": "stream",
       "stream": "stdout",
       "text": [
        "\n",
        "NFPREPARE: Subtracting reference pixels.\n",
        "WARNING - NFPREPARE: Not correcting for non-linearity."
       ]
      },
      {
       "output_type": "stream",
       "stream": "stdout",
       "text": [
        "\n",
        "----------------------------------------------------------------------------\n",
        "NFPAD: Padding NIFS data in the y-dimension for extended slices\n"
       ]
      },
      {
       "output_type": "stream",
       "stream": "stdout",
       "text": [
        "NFPAD: Input file is a non-MEF NIFS frame\n"
       ]
      },
      {
       "output_type": "stream",
       "stream": "stdout",
       "text": [
        "NFPAD exit status:  good.\n",
        "----------------------------------------------------------------------------\n"
       ]
      },
      {
       "output_type": "stream",
       "stream": "stdout",
       "text": [
        "----------------------------------------------------------------------------\n",
        "NFPAD: Padding NIFS data in the y-dimension for extended slices\n"
       ]
      },
      {
       "output_type": "stream",
       "stream": "stdout",
       "text": [
        "NFPAD: Input file is a non-MEF NIFS frame\n"
       ]
      },
      {
       "output_type": "stream",
       "stream": "stdout",
       "text": [
        "NFPAD exit status:  good.\n",
        "----------------------------------------------------------------------------\n"
       ]
      },
      {
       "output_type": "stream",
       "stream": "stdout",
       "text": [
        "----------------------------------------------------------------------------\n",
        "NFPAD: Padding NIFS data in the y-dimension for extended slices\n"
       ]
      },
      {
       "output_type": "stream",
       "stream": "stdout",
       "text": [
        "NFPAD: Input file is a non-MEF NIFS frame\n"
       ]
      },
      {
       "output_type": "stream",
       "stream": "stdout",
       "text": [
        "NFPAD exit status:  good.\n",
        "----------------------------------------------------------------------------\n"
       ]
      },
      {
       "output_type": "stream",
       "stream": "stdout",
       "text": [
        "NFPREPARE: Shifting MDF in Y by 2.0 pixels (subtracted from y_ccd)\n"
       ]
      },
      {
       "output_type": "stream",
       "stream": "stdout",
       "text": [
        " \n",
        "  n      input file -->      output file\n",
        "  4 ../../../raw/N20140228S0377 -->  nN20140228S0377 \n",
        "                 filter     focal plane       input BPM    RN  gain     sat\n",
        "               ZJ_G0601        3.0_Mask            none   6.3   2.4   50000 \n",
        "----------------------------------------------------------------------------"
       ]
      },
      {
       "output_type": "stream",
       "stream": "stdout",
       "text": [
        "\n",
        "NFPREPARE: Subtracting reference pixels.\n",
        "WARNING - NFPREPARE: Not correcting for non-linearity."
       ]
      },
      {
       "output_type": "stream",
       "stream": "stdout",
       "text": [
        "\n",
        "----------------------------------------------------------------------------\n",
        "NFPAD: Padding NIFS data in the y-dimension for extended slices\n"
       ]
      },
      {
       "output_type": "stream",
       "stream": "stdout",
       "text": [
        "NFPAD: Input file is a non-MEF NIFS frame\n"
       ]
      },
      {
       "output_type": "stream",
       "stream": "stdout",
       "text": [
        "NFPAD exit status:  good.\n",
        "----------------------------------------------------------------------------\n"
       ]
      },
      {
       "output_type": "stream",
       "stream": "stdout",
       "text": [
        "----------------------------------------------------------------------------\n",
        "NFPAD: Padding NIFS data in the y-dimension for extended slices\n"
       ]
      },
      {
       "output_type": "stream",
       "stream": "stdout",
       "text": [
        "NFPAD: Input file is a non-MEF NIFS frame\n"
       ]
      },
      {
       "output_type": "stream",
       "stream": "stdout",
       "text": [
        "NFPAD exit status:  good.\n",
        "----------------------------------------------------------------------------\n"
       ]
      },
      {
       "output_type": "stream",
       "stream": "stdout",
       "text": [
        "----------------------------------------------------------------------------\n",
        "NFPAD: Padding NIFS data in the y-dimension for extended slices\n"
       ]
      },
      {
       "output_type": "stream",
       "stream": "stdout",
       "text": [
        "NFPAD: Input file is a non-MEF NIFS frame\n"
       ]
      },
      {
       "output_type": "stream",
       "stream": "stdout",
       "text": [
        "NFPAD exit status:  good.\n",
        "----------------------------------------------------------------------------\n"
       ]
      },
      {
       "output_type": "stream",
       "stream": "stdout",
       "text": [
        "NFPREPARE: Shifting MDF in Y by 2.0 pixels (subtracted from y_ccd)\n"
       ]
      },
      {
       "output_type": "stream",
       "stream": "stdout",
       "text": [
        " \n",
        "  n      input file -->      output file"
       ]
      },
      {
       "output_type": "stream",
       "stream": "stdout",
       "text": [
        "\n",
        "  5 ../../../raw/N20140228S0378 -->  nN20140228S0378 \n",
        "                 filter     focal plane       input BPM    RN  gain     sat\n",
        "               ZJ_G0601        3.0_Mask            none   6.3   2.4   50000 "
       ]
      },
      {
       "output_type": "stream",
       "stream": "stdout",
       "text": [
        "\n",
        " "
       ]
      },
      {
       "output_type": "stream",
       "stream": "stdout",
       "text": [
        "\n",
        "NFPREPARE exit status:  good.\n",
        "----------------------------------------------------------------------------\n"
       ]
      }
     ],
     "prompt_number": 12
    },
    {
     "cell_type": "heading",
     "level": 4,
     "metadata": {},
     "source": [
      "Combine the prepared lamps-on and lamps-off flats"
     ]
    },
    {
     "cell_type": "code",
     "collapsed": false,
     "input": [
      "iraf.imdelete('gn'+calflat, verify='no')\n",
      "iraf.imdelete('gn'+flatdark, verify='no')\n",
      "\n",
      "iraf.gemcombine('n//@flaton.lis', output='gn'+calflat, \\\n",
      "           fl_dqpr='yes', fl_vardq='yes', masktype='none', \\\n",
      "           logfile=iraf.nifs.logfile)\n",
      "iraf.gemcombine('n//@flatoff.lis', output='gn'+flatdark, \\\n",
      "           fl_dqpr='yes', fl_vardq='yes', masktype='none', \\\n",
      "           logfile=iraf.nifs.logfile)"
     ],
     "language": "python",
     "metadata": {},
     "outputs": [
      {
       "output_type": "stream",
       "stream": "stdout",
       "text": [
        "--------------------------------------------------------------------------------\n",
        "GEMCOMBINE -- Thu Apr  2 15:01:04 HST 2015\n",
        " \n",
        "GEMCOMBINE: input = n//@flaton.lis\n",
        "GEMCOMBINE: output = gnN20140228S0369\n",
        "GEMCOMBINE: title = \n",
        "GEMCOMBINE: bpmfile = \n",
        "GEMCOMBINE: sci_ext = SCI\n",
        "GEMCOMBINE: var_ext = VAR\n",
        "GEMCOMBINE: dq_ext = DQ\n",
        " \n"
       ]
      },
      {
       "output_type": "stream",
       "stream": "stdout",
       "text": [
        "WARNING - GEMCOMBINE: five or less images to combine.\n",
        "\n",
        "Apr  2 15:01: IMCOMBINE\n",
        "  combine = average, scale = none, zero = none, weight = none\n",
        "  reject = avsigclip, mclip = yes, nkeep = 1\n",
        "  lsigma = 3., hsigma = 3.\n",
        "  blank = 0.\n",
        "  statsec = Apr  2 15:01\n",
        "                Images \n",
        "  nN20140228S0369.fits[SCI,1]\n",
        "  nN20140228S0370.fits[SCI,1]\n",
        "  nN20140228S0371.fits[SCI,1]\n",
        "  nN20140228S0372.fits[SCI,1]\n",
        "  nN20140228S0373.fits[SCI,1]\n",
        "\n",
        "  Output image = tmpcombout28290_678, ncombine = 5\n",
        "  Number rejected mask = tmpcombdq28290_679.pl\n",
        "  Sigma image = tmpcombsig28290_680\n"
       ]
      },
      {
       "output_type": "stream",
       "stream": "stdout",
       "text": [
        " \n",
        "GEMCOMBINE: Propagating DQ values\n"
       ]
      },
      {
       "output_type": "stream",
       "stream": "stdout",
       "text": [
        "GEMCOMBINE: Attaching the MDF\n"
       ]
      },
      {
       "output_type": "stream",
       "stream": "stdout",
       "text": [
        " \n",
        "GEMCOMBINE -- Finished: Thu Apr  2 15:01:14 HST 2015\n",
        " \n",
        "GEMCOMBINE -- Exit status: GOOD\n",
        "--------------------------------------------------------------------------------\n",
        "--------------------------------------------------------------------------------"
       ]
      },
      {
       "output_type": "stream",
       "stream": "stdout",
       "text": [
        "\n",
        "GEMCOMBINE -- Thu Apr  2 15:01:14 HST 2015\n",
        " \n",
        "GEMCOMBINE: input = n//@flatoff.lis\n",
        "GEMCOMBINE: output = gnN20140228S0374\n",
        "GEMCOMBINE: title = \n",
        "GEMCOMBINE: bpmfile = \n",
        "GEMCOMBINE: sci_ext = SCI\n",
        "GEMCOMBINE: var_ext = VAR\n",
        "GEMCOMBINE: dq_ext = DQ\n",
        " \n"
       ]
      },
      {
       "output_type": "stream",
       "stream": "stdout",
       "text": [
        "WARNING - GEMCOMBINE: five or less images to combine.\n",
        "\n",
        "Apr  2 15:01: IMCOMBINE\n",
        "  combine = average, scale = none, zero = none, weight = none\n",
        "  reject = avsigclip, mclip = yes, nkeep = 1\n",
        "  lsigma = 3., hsigma = 3.\n",
        "  blank = 0.\n",
        "  statsec = Apr  2 15:01\n",
        "                Images \n",
        "  nN20140228S0374.fits[SCI,1]\n",
        "  nN20140228S0375.fits[SCI,1]\n",
        "  nN20140228S0376.fits[SCI,1]\n",
        "  nN20140228S0377.fits[SCI,1]\n",
        "  nN20140228S0378.fits[SCI,1]\n",
        "\n",
        "  Output image = tmpcombout28290_699, ncombine = 5\n",
        "  Number rejected mask = tmpcombdq28290_700.pl\n",
        "  Sigma image = tmpcombsig28290_701\n"
       ]
      },
      {
       "output_type": "stream",
       "stream": "stdout",
       "text": [
        " \n",
        "GEMCOMBINE: Propagating DQ values\n"
       ]
      },
      {
       "output_type": "stream",
       "stream": "stdout",
       "text": [
        "GEMCOMBINE: Attaching the MDF\n"
       ]
      },
      {
       "output_type": "stream",
       "stream": "stdout",
       "text": [
        " \n",
        "GEMCOMBINE -- Finished: Thu Apr  2 15:01:24 HST 2015\n",
        " \n",
        "GEMCOMBINE -- Exit status: GOOD\n",
        "--------------------------------------------------------------------------------\n"
       ]
      }
     ],
     "prompt_number": 13
    },
    {
     "cell_type": "heading",
     "level": 4,
     "metadata": {},
     "source": [
      "Cut and add approximate wavelength solution"
     ]
    },
    {
     "cell_type": "code",
     "collapsed": false,
     "input": [
      "iraf.imdelete('rgn'+calflat, verify='no')\n",
      "iraf.imdelete('rgn'+flatdark, verify='no')\n",
      "\n",
      "iraf.nsreduce('gn'+calflat, fl_cut='yes', fl_nsappw='yes', fl_vardq='yes', \\\n",
      "              fl_sky='no', fl_dark='no', fl_flat='no')\n",
      "iraf.nsreduce('gn'+flatdark, fl_cut='yes', fl_nsappw='yes', fl_vardq='yes', \\\n",
      "              fl_sky='no', fl_dark='no', fl_flat='no')"
     ],
     "language": "python",
     "metadata": {},
     "outputs": [
      {
       "output_type": "stream",
       "stream": "stdout",
       "text": [
        "-------------------------------------------------------------------------------\n",
        "NSREDUCE -- Thu Apr  2 15:39:10 HST 2015\n",
        " \n",
        "------------------------------------------------------------------------------"
       ]
      },
      {
       "output_type": "stream",
       "stream": "stdout",
       "text": [
        "\n",
        "NSCUT -- Thu Apr  2 15:39:10 HST 2015\n",
        " "
       ]
      },
      {
       "output_type": "stream",
       "stream": "stdout",
       "text": [
        "\n",
        "NSCUT: Processing 1 files\n"
       ]
      },
      {
       "output_type": "stream",
       "stream": "stdout",
       "text": [
        "\n"
       ]
      },
      {
       "output_type": "stream",
       "stream": "stdout",
       "text": [
        "gnN20140228S0369 --> gnN20140228S0369-28290_1153\n",
        " [SCI,1][1:2040,1998:2066] --> [SCI,1]"
       ]
      },
      {
       "output_type": "stream",
       "stream": "stdout",
       "text": [
        "\n",
        " [SCI,1][1:2040,1927:1995] --> [SCI,2]"
       ]
      },
      {
       "output_type": "stream",
       "stream": "stdout",
       "text": [
        "\n",
        " [SCI,1][1:2040,1856:1924] --> [SCI,3]"
       ]
      },
      {
       "output_type": "stream",
       "stream": "stdout",
       "text": [
        "\n",
        " [SCI,1][1:2040,1785:1853] --> [SCI,4]"
       ]
      },
      {
       "output_type": "stream",
       "stream": "stdout",
       "text": [
        "\n",
        " [SCI,1][1:2040,1715:1783] --> [SCI,5]"
       ]
      },
      {
       "output_type": "stream",
       "stream": "stdout",
       "text": [
        "\n",
        " [SCI,1][1:2040,1644:1712] --> [SCI,6]"
       ]
      },
      {
       "output_type": "stream",
       "stream": "stdout",
       "text": [
        "\n",
        " [SCI,1][1:2040,1573:1641] --> [SCI,7]"
       ]
      },
      {
       "output_type": "stream",
       "stream": "stdout",
       "text": [
        "\n",
        " [SCI,1][1:2040,1502:1570] --> [SCI,8]"
       ]
      },
      {
       "output_type": "stream",
       "stream": "stdout",
       "text": [
        "\n",
        " [SCI,1][1:2040,1431:1499] --> [SCI,9]"
       ]
      },
      {
       "output_type": "stream",
       "stream": "stdout",
       "text": [
        "\n",
        " [SCI,1][1:2040,1360:1428] --> [SCI,10]"
       ]
      },
      {
       "output_type": "stream",
       "stream": "stdout",
       "text": [
        "\n",
        " [SCI,1][1:2040,1289:1357] --> [SCI,11]"
       ]
      },
      {
       "output_type": "stream",
       "stream": "stdout",
       "text": [
        "\n",
        " [SCI,1][1:2040,1219:1287] --> [SCI,12]"
       ]
      },
      {
       "output_type": "stream",
       "stream": "stdout",
       "text": [
        "\n",
        " [SCI,1][1:2040,1148:1216] --> [SCI,13]"
       ]
      },
      {
       "output_type": "stream",
       "stream": "stdout",
       "text": [
        "\n",
        " [SCI,1][1:2040,1077:1145] --> [SCI,14]"
       ]
      },
      {
       "output_type": "stream",
       "stream": "stdout",
       "text": [
        "\n",
        " [SCI,1][1:2040,1006:1074] --> [SCI,15]"
       ]
      },
      {
       "output_type": "stream",
       "stream": "stdout",
       "text": [
        "\n",
        " [SCI,1][1:2040,935:1003] --> [SCI,16]"
       ]
      },
      {
       "output_type": "stream",
       "stream": "stdout",
       "text": [
        "\n",
        " [SCI,1][1:2040,864:932] --> [SCI,17]"
       ]
      },
      {
       "output_type": "stream",
       "stream": "stdout",
       "text": [
        "\n",
        " [SCI,1][1:2040,793:861] --> [SCI,18]"
       ]
      },
      {
       "output_type": "stream",
       "stream": "stdout",
       "text": [
        "\n",
        " [SCI,1][1:2040,722:790] --> [SCI,19]"
       ]
      },
      {
       "output_type": "stream",
       "stream": "stdout",
       "text": [
        "\n",
        " [SCI,1][1:2040,651:719] --> [SCI,20]"
       ]
      },
      {
       "output_type": "stream",
       "stream": "stdout",
       "text": [
        "\n",
        " [SCI,1][1:2040,580:648] --> [SCI,21]"
       ]
      },
      {
       "output_type": "stream",
       "stream": "stdout",
       "text": [
        "\n",
        " [SCI,1][1:2040,510:578] --> [SCI,22]"
       ]
      },
      {
       "output_type": "stream",
       "stream": "stdout",
       "text": [
        "\n",
        " [SCI,1][1:2040,439:507] --> [SCI,23]"
       ]
      },
      {
       "output_type": "stream",
       "stream": "stdout",
       "text": [
        "\n",
        " [SCI,1][1:2040,368:436] --> [SCI,24]"
       ]
      },
      {
       "output_type": "stream",
       "stream": "stdout",
       "text": [
        "\n",
        " [SCI,1][1:2040,297:365] --> [SCI,25]"
       ]
      },
      {
       "output_type": "stream",
       "stream": "stdout",
       "text": [
        "\n",
        " [SCI,1][1:2040,226:294] --> [SCI,26]"
       ]
      },
      {
       "output_type": "stream",
       "stream": "stdout",
       "text": [
        "\n",
        " [SCI,1][1:2040,155:223] --> [SCI,27]"
       ]
      },
      {
       "output_type": "stream",
       "stream": "stdout",
       "text": [
        "\n",
        " [SCI,1][1:2040,84:152] --> [SCI,28]"
       ]
      },
      {
       "output_type": "stream",
       "stream": "stdout",
       "text": [
        "\n",
        " [SCI,1][1:2040,13:81] --> [SCI,29]"
       ]
      },
      {
       "output_type": "stream",
       "stream": "stdout",
       "text": [
        "\n",
        " "
       ]
      },
      {
       "output_type": "stream",
       "stream": "stdout",
       "text": [
        "\n",
        "NSCUT exit status: good.\n",
        "------------------------------------------------------------------------------\n",
        "------------------------------------------------------------------------------\n",
        "NSAPPWAVE -- Thu Apr  2 15:39:24 HST 2015\n",
        " \n"
       ]
      },
      {
       "output_type": "stream",
       "stream": "stdout",
       "text": [
        "NSAPPWAVE: Processing 29 extension(s) from 1 file(s).\n",
        "  Camera     Grating    Filter     Prism      FPMask     Wave   Delta Order Axis\n"
       ]
      },
      {
       "output_type": "stream",
       "stream": "stderr",
       "text": [
        "gnN20140228S0369-28290_1153.fits[1] -> gnN20140228S0369-28290_1154.fits\n"
       ]
      },
      {
       "output_type": "stream",
       "stream": "stdout",
       "text": [
        "gnN20140228S0369-28290_1153 -> gnN20140228S0369-28290_1154 ( 1)\n",
        "        NIFS    Z_G5602   ZJ_G0601                           1.05  0.00 INDEF 1\n"
       ]
      },
      {
       "output_type": "stream",
       "stream": "stdout",
       "text": [
        "NSAPPWAVE: cradius not from table for gnN20140228S0369-28290_1153.\n",
        "           (further table messages supressed for this file).\n",
        "  extension  1: 10500.000000 -1.025000 INDEF\n",
        "  extension  2: 10500.000000 -1.025000 INDEF"
       ]
      },
      {
       "output_type": "stream",
       "stream": "stdout",
       "text": [
        "\n",
        "  extension  3: 10500.000000 -1.025000 INDEF"
       ]
      },
      {
       "output_type": "stream",
       "stream": "stdout",
       "text": [
        "\n",
        "  extension  4: 10500.000000 -1.025000 INDEF"
       ]
      },
      {
       "output_type": "stream",
       "stream": "stdout",
       "text": [
        "\n",
        "  extension  5: 10500.000000 -1.025000 INDEF"
       ]
      },
      {
       "output_type": "stream",
       "stream": "stdout",
       "text": [
        "\n",
        "  extension  6: 10500.000000 -1.025000 INDEF"
       ]
      },
      {
       "output_type": "stream",
       "stream": "stdout",
       "text": [
        "\n",
        "  extension  7: 10500.000000 -1.025000 INDEF"
       ]
      },
      {
       "output_type": "stream",
       "stream": "stdout",
       "text": [
        "\n",
        "  extension  8: 10500.000000 -1.025000 INDEF"
       ]
      },
      {
       "output_type": "stream",
       "stream": "stdout",
       "text": [
        "\n",
        "  extension  9: 10500.000000 -1.025000 INDEF"
       ]
      },
      {
       "output_type": "stream",
       "stream": "stdout",
       "text": [
        "\n",
        "  extension 10: 10500.000000 -1.025000 INDEF"
       ]
      },
      {
       "output_type": "stream",
       "stream": "stdout",
       "text": [
        "\n",
        "  extension 11: 10500.000000 -1.025000 INDEF"
       ]
      },
      {
       "output_type": "stream",
       "stream": "stdout",
       "text": [
        "\n",
        "  extension 12: 10500.000000 -1.025000 INDEF"
       ]
      },
      {
       "output_type": "stream",
       "stream": "stdout",
       "text": [
        "\n",
        "  extension 13: 10500.000000 -1.025000 INDEF"
       ]
      },
      {
       "output_type": "stream",
       "stream": "stdout",
       "text": [
        "\n",
        "  extension 14: 10500.000000 -1.025000 INDEF"
       ]
      },
      {
       "output_type": "stream",
       "stream": "stdout",
       "text": [
        "\n",
        "  extension 15: 10500.000000 -1.025000 INDEF"
       ]
      },
      {
       "output_type": "stream",
       "stream": "stdout",
       "text": [
        "\n",
        "  extension 16: 10500.000000 -1.025000 INDEF"
       ]
      },
      {
       "output_type": "stream",
       "stream": "stdout",
       "text": [
        "\n",
        "  extension 17: 10500.000000 -1.025000 INDEF"
       ]
      },
      {
       "output_type": "stream",
       "stream": "stdout",
       "text": [
        "\n",
        "  extension 18: 10500.000000 -1.025000 INDEF"
       ]
      },
      {
       "output_type": "stream",
       "stream": "stdout",
       "text": [
        "\n",
        "  extension 19: 10500.000000 -1.025000 INDEF"
       ]
      },
      {
       "output_type": "stream",
       "stream": "stdout",
       "text": [
        "\n",
        "  extension 20: 10500.000000 -1.025000 INDEF"
       ]
      },
      {
       "output_type": "stream",
       "stream": "stdout",
       "text": [
        "\n",
        "  extension 21: 10500.000000 -1.025000 INDEF"
       ]
      },
      {
       "output_type": "stream",
       "stream": "stdout",
       "text": [
        "\n",
        "  extension 22: 10500.000000 -1.025000 INDEF"
       ]
      },
      {
       "output_type": "stream",
       "stream": "stdout",
       "text": [
        "\n",
        "  extension 23: 10500.000000 -1.025000 INDEF"
       ]
      },
      {
       "output_type": "stream",
       "stream": "stdout",
       "text": [
        "\n",
        "  extension 24: 10500.000000 -1.025000 INDEF"
       ]
      },
      {
       "output_type": "stream",
       "stream": "stdout",
       "text": [
        "\n",
        "  extension 25: 10500.000000 -1.025000 INDEF"
       ]
      },
      {
       "output_type": "stream",
       "stream": "stdout",
       "text": [
        "\n",
        "  extension 26: 10500.000000 -1.025000 INDEF"
       ]
      },
      {
       "output_type": "stream",
       "stream": "stdout",
       "text": [
        "\n",
        "  extension 27: 10500.000000 -1.025000 INDEF"
       ]
      },
      {
       "output_type": "stream",
       "stream": "stdout",
       "text": [
        "\n",
        "  extension 28: 10500.000000 -1.025000 INDEF"
       ]
      },
      {
       "output_type": "stream",
       "stream": "stdout",
       "text": [
        "\n",
        "  extension 29: 10500.000000 -1.025000 INDEF"
       ]
      },
      {
       "output_type": "stream",
       "stream": "stdout",
       "text": [
        "\n"
       ]
      },
      {
       "output_type": "stream",
       "stream": "stdout",
       "text": [
        "\n",
        "NSAPPWAVE Exit status good\n",
        "------------------------------------------------------------------------------\n",
        "NSREDUCE: Processing 29 extension(s) from 1 file(s)."
       ]
      },
      {
       "output_type": "stream",
       "stream": "stdout",
       "text": [
        "\n"
       ]
      },
      {
       "output_type": "stream",
       "stream": "stdout",
       "text": [
        "NSREDUCE: slit: 3.0_Mask_G5610\n",
        "NSREDUCE: grism: ZJ_G0601\n",
        "\n",
        "   n input                   --> output                  sky image\n",
        " dark                    flat                    scale\n",
        "\n",
        "   1 gnN20140228S0369        --> rgnN20140228S0369       none                   \n",
        " none                    none                    1.0000 \n"
       ]
      },
      {
       "output_type": "stream",
       "stream": "stdout",
       "text": [
        " \n",
        "NSREDUCE exit status: good.\n",
        "------------------------------------------------------------------------------\n",
        "-------------------------------------------------------------------------------"
       ]
      },
      {
       "output_type": "stream",
       "stream": "stdout",
       "text": [
        "\n",
        "NSREDUCE -- Thu Apr  2 15:40:42 HST 2015\n",
        " \n",
        "------------------------------------------------------------------------------"
       ]
      },
      {
       "output_type": "stream",
       "stream": "stdout",
       "text": [
        "\n",
        "NSCUT -- Thu Apr  2 15:40:42 HST 2015\n",
        " \n",
        "NSCUT: Processing 1 files\n"
       ]
      },
      {
       "output_type": "stream",
       "stream": "stdout",
       "text": [
        "\n"
       ]
      },
      {
       "output_type": "stream",
       "stream": "stdout",
       "text": [
        "gnN20140228S0374 --> gnN20140228S0374-28290_1365\n",
        " [SCI,1][1:2040,1998:2066] --> [SCI,1]"
       ]
      },
      {
       "output_type": "stream",
       "stream": "stdout",
       "text": [
        "\n",
        " [SCI,1][1:2040,1927:1995] --> [SCI,2]"
       ]
      },
      {
       "output_type": "stream",
       "stream": "stdout",
       "text": [
        "\n",
        " [SCI,1][1:2040,1856:1924] --> [SCI,3]"
       ]
      },
      {
       "output_type": "stream",
       "stream": "stdout",
       "text": [
        "\n",
        " [SCI,1][1:2040,1785:1853] --> [SCI,4]"
       ]
      },
      {
       "output_type": "stream",
       "stream": "stdout",
       "text": [
        "\n",
        " [SCI,1][1:2040,1715:1783] --> [SCI,5]"
       ]
      },
      {
       "output_type": "stream",
       "stream": "stdout",
       "text": [
        "\n",
        " [SCI,1][1:2040,1644:1712] --> [SCI,6]"
       ]
      },
      {
       "output_type": "stream",
       "stream": "stdout",
       "text": [
        "\n",
        " [SCI,1][1:2040,1573:1641] --> [SCI,7]"
       ]
      },
      {
       "output_type": "stream",
       "stream": "stdout",
       "text": [
        "\n",
        " [SCI,1][1:2040,1502:1570] --> [SCI,8]"
       ]
      },
      {
       "output_type": "stream",
       "stream": "stdout",
       "text": [
        "\n",
        " [SCI,1][1:2040,1431:1499] --> [SCI,9]"
       ]
      },
      {
       "output_type": "stream",
       "stream": "stdout",
       "text": [
        "\n",
        " [SCI,1][1:2040,1360:1428] --> [SCI,10]"
       ]
      },
      {
       "output_type": "stream",
       "stream": "stdout",
       "text": [
        "\n",
        " [SCI,1][1:2040,1289:1357] --> [SCI,11]"
       ]
      },
      {
       "output_type": "stream",
       "stream": "stdout",
       "text": [
        "\n",
        " [SCI,1][1:2040,1219:1287] --> [SCI,12]"
       ]
      },
      {
       "output_type": "stream",
       "stream": "stdout",
       "text": [
        "\n",
        " [SCI,1][1:2040,1148:1216] --> [SCI,13]"
       ]
      },
      {
       "output_type": "stream",
       "stream": "stdout",
       "text": [
        "\n",
        " [SCI,1][1:2040,1077:1145] --> [SCI,14]"
       ]
      },
      {
       "output_type": "stream",
       "stream": "stdout",
       "text": [
        "\n",
        " [SCI,1][1:2040,1006:1074] --> [SCI,15]"
       ]
      },
      {
       "output_type": "stream",
       "stream": "stdout",
       "text": [
        "\n",
        " [SCI,1][1:2040,935:1003] --> [SCI,16]"
       ]
      },
      {
       "output_type": "stream",
       "stream": "stdout",
       "text": [
        "\n",
        " [SCI,1][1:2040,864:932] --> [SCI,17]"
       ]
      },
      {
       "output_type": "stream",
       "stream": "stdout",
       "text": [
        "\n",
        " [SCI,1][1:2040,793:861] --> [SCI,18]"
       ]
      },
      {
       "output_type": "stream",
       "stream": "stdout",
       "text": [
        "\n",
        " [SCI,1][1:2040,722:790] --> [SCI,19]"
       ]
      },
      {
       "output_type": "stream",
       "stream": "stdout",
       "text": [
        "\n",
        " [SCI,1][1:2040,651:719] --> [SCI,20]"
       ]
      },
      {
       "output_type": "stream",
       "stream": "stdout",
       "text": [
        "\n",
        " [SCI,1][1:2040,580:648] --> [SCI,21]"
       ]
      },
      {
       "output_type": "stream",
       "stream": "stdout",
       "text": [
        "\n",
        " [SCI,1][1:2040,510:578] --> [SCI,22]"
       ]
      },
      {
       "output_type": "stream",
       "stream": "stdout",
       "text": [
        "\n",
        " [SCI,1][1:2040,439:507] --> [SCI,23]"
       ]
      },
      {
       "output_type": "stream",
       "stream": "stdout",
       "text": [
        "\n",
        " [SCI,1][1:2040,368:436] --> [SCI,24]"
       ]
      },
      {
       "output_type": "stream",
       "stream": "stdout",
       "text": [
        "\n",
        " [SCI,1][1:2040,297:365] --> [SCI,25]"
       ]
      },
      {
       "output_type": "stream",
       "stream": "stdout",
       "text": [
        "\n",
        " [SCI,1][1:2040,226:294] --> [SCI,26]"
       ]
      },
      {
       "output_type": "stream",
       "stream": "stdout",
       "text": [
        "\n",
        " [SCI,1][1:2040,155:223] --> [SCI,27]"
       ]
      },
      {
       "output_type": "stream",
       "stream": "stdout",
       "text": [
        "\n",
        " [SCI,1][1:2040,84:152] --> [SCI,28]"
       ]
      },
      {
       "output_type": "stream",
       "stream": "stdout",
       "text": [
        "\n",
        " [SCI,1][1:2040,13:81] --> [SCI,29]"
       ]
      },
      {
       "output_type": "stream",
       "stream": "stdout",
       "text": [
        "\n",
        " "
       ]
      },
      {
       "output_type": "stream",
       "stream": "stdout",
       "text": [
        "\n",
        "NSCUT exit status: good.\n",
        "------------------------------------------------------------------------------\n",
        "------------------------------------------------------------------------------\n",
        "NSAPPWAVE -- Thu Apr  2 15:40:57 HST 2015\n",
        " \n"
       ]
      },
      {
       "output_type": "stream",
       "stream": "stdout",
       "text": [
        "NSAPPWAVE: Processing 29 extension(s) from 1 file(s).\n",
        "  Camera     Grating    Filter     Prism      FPMask     Wave   Delta Order Axis\n"
       ]
      },
      {
       "output_type": "stream",
       "stream": "stderr",
       "text": [
        "gnN20140228S0374-28290_1365.fits[1] -> gnN20140228S0374-28290_1366.fits\n"
       ]
      },
      {
       "output_type": "stream",
       "stream": "stdout",
       "text": [
        "gnN20140228S0374-28290_1365 -> gnN20140228S0374-28290_1366 ( 1)\n",
        "        NIFS    Z_G5602   ZJ_G0601                           1.05  0.00 INDEF 1\n"
       ]
      },
      {
       "output_type": "stream",
       "stream": "stdout",
       "text": [
        "NSAPPWAVE: cradius not from table for gnN20140228S0374-28290_1365.\n",
        "           (further table messages supressed for this file).\n",
        "  extension  1: 10500.000000 -1.025000 INDEF\n",
        "  extension  2: 10500.000000 -1.025000 INDEF"
       ]
      },
      {
       "output_type": "stream",
       "stream": "stdout",
       "text": [
        "\n",
        "  extension  3: 10500.000000 -1.025000 INDEF"
       ]
      },
      {
       "output_type": "stream",
       "stream": "stdout",
       "text": [
        "\n",
        "  extension  4: 10500.000000 -1.025000 INDEF"
       ]
      },
      {
       "output_type": "stream",
       "stream": "stdout",
       "text": [
        "\n",
        "  extension  5: 10500.000000 -1.025000 INDEF"
       ]
      },
      {
       "output_type": "stream",
       "stream": "stdout",
       "text": [
        "\n",
        "  extension  6: 10500.000000 -1.025000 INDEF"
       ]
      },
      {
       "output_type": "stream",
       "stream": "stdout",
       "text": [
        "\n",
        "  extension  7: 10500.000000 -1.025000 INDEF"
       ]
      },
      {
       "output_type": "stream",
       "stream": "stdout",
       "text": [
        "\n",
        "  extension  8: 10500.000000 -1.025000 INDEF"
       ]
      },
      {
       "output_type": "stream",
       "stream": "stdout",
       "text": [
        "\n",
        "  extension  9: 10500.000000 -1.025000 INDEF"
       ]
      },
      {
       "output_type": "stream",
       "stream": "stdout",
       "text": [
        "\n",
        "  extension 10: 10500.000000 -1.025000 INDEF"
       ]
      },
      {
       "output_type": "stream",
       "stream": "stdout",
       "text": [
        "\n",
        "  extension 11: 10500.000000 -1.025000 INDEF"
       ]
      },
      {
       "output_type": "stream",
       "stream": "stdout",
       "text": [
        "\n",
        "  extension 12: 10500.000000 -1.025000 INDEF"
       ]
      },
      {
       "output_type": "stream",
       "stream": "stdout",
       "text": [
        "\n",
        "  extension 13: 10500.000000 -1.025000 INDEF"
       ]
      },
      {
       "output_type": "stream",
       "stream": "stdout",
       "text": [
        "\n",
        "  extension 14: 10500.000000 -1.025000 INDEF"
       ]
      },
      {
       "output_type": "stream",
       "stream": "stdout",
       "text": [
        "\n",
        "  extension 15: 10500.000000 -1.025000 INDEF"
       ]
      },
      {
       "output_type": "stream",
       "stream": "stdout",
       "text": [
        "\n",
        "  extension 16: 10500.000000 -1.025000 INDEF"
       ]
      },
      {
       "output_type": "stream",
       "stream": "stdout",
       "text": [
        "\n",
        "  extension 17: 10500.000000 -1.025000 INDEF"
       ]
      },
      {
       "output_type": "stream",
       "stream": "stdout",
       "text": [
        "\n",
        "  extension 18: 10500.000000 -1.025000 INDEF"
       ]
      },
      {
       "output_type": "stream",
       "stream": "stdout",
       "text": [
        "\n",
        "  extension 19: 10500.000000 -1.025000 INDEF"
       ]
      },
      {
       "output_type": "stream",
       "stream": "stdout",
       "text": [
        "\n",
        "  extension 20: 10500.000000 -1.025000 INDEF"
       ]
      },
      {
       "output_type": "stream",
       "stream": "stdout",
       "text": [
        "\n",
        "  extension 21: 10500.000000 -1.025000 INDEF"
       ]
      },
      {
       "output_type": "stream",
       "stream": "stdout",
       "text": [
        "\n",
        "  extension 22: 10500.000000 -1.025000 INDEF"
       ]
      },
      {
       "output_type": "stream",
       "stream": "stdout",
       "text": [
        "\n",
        "  extension 23: 10500.000000 -1.025000 INDEF"
       ]
      },
      {
       "output_type": "stream",
       "stream": "stdout",
       "text": [
        "\n",
        "  extension 24: 10500.000000 -1.025000 INDEF"
       ]
      },
      {
       "output_type": "stream",
       "stream": "stdout",
       "text": [
        "\n",
        "  extension 25: 10500.000000 -1.025000 INDEF"
       ]
      },
      {
       "output_type": "stream",
       "stream": "stdout",
       "text": [
        "\n",
        "  extension 26: 10500.000000 -1.025000 INDEF"
       ]
      },
      {
       "output_type": "stream",
       "stream": "stdout",
       "text": [
        "\n",
        "  extension 27: 10500.000000 -1.025000 INDEF"
       ]
      },
      {
       "output_type": "stream",
       "stream": "stdout",
       "text": [
        "\n",
        "  extension 28: 10500.000000 -1.025000 INDEF"
       ]
      },
      {
       "output_type": "stream",
       "stream": "stdout",
       "text": [
        "\n",
        "  extension 29: 10500.000000 -1.025000 INDEF"
       ]
      },
      {
       "output_type": "stream",
       "stream": "stdout",
       "text": [
        "\n"
       ]
      },
      {
       "output_type": "stream",
       "stream": "stdout",
       "text": [
        "\n",
        "NSAPPWAVE Exit status good\n",
        "------------------------------------------------------------------------------\n",
        "NSREDUCE: Processing 29 extension(s) from 1 file(s)."
       ]
      },
      {
       "output_type": "stream",
       "stream": "stdout",
       "text": [
        "\n"
       ]
      },
      {
       "output_type": "stream",
       "stream": "stdout",
       "text": [
        "NSREDUCE: slit: 3.0_Mask_G5610\n",
        "NSREDUCE: grism: ZJ_G0601\n",
        "\n",
        "   n input                   --> output                  sky image\n",
        " dark                    flat                    scale\n",
        "\n",
        "   1 gnN20140228S0374        --> rgnN20140228S0374       none                   \n",
        " none                    none                    1.0000 \n"
       ]
      },
      {
       "output_type": "stream",
       "stream": "stdout",
       "text": [
        " \n",
        "NSREDUCE exit status: good.\n",
        "------------------------------------------------------------------------------\n"
       ]
      }
     ],
     "prompt_number": 15
    },
    {
     "cell_type": "heading",
     "level": 4,
     "metadata": {},
     "source": [
      "Create the flat field and the BPM"
     ]
    },
    {
     "cell_type": "code",
     "collapsed": false,
     "input": [
      "iraf.imdelete('rgn'+calflat+'_sflat.fits', verify='no')\n",
      "iraf.imdelete(flatdark+'_dark.fits', verify='no')\n",
      "iraf.delete(calflat+'_bpm.pl', verify='no')\n",
      "\n",
      "iraf.nsflat('rgn'+calflat, darks='rgn'+flatdark, \\\n",
      "        flatfile='rgn'+calflat+'_sflat', darkfile=flatdark+'_flatdark', \\\n",
      "        fl_save_dark='yes', process='fit', thr_flo=0.15, thr_fup=1.55, \\\n",
      "        fl_vardq='yes', logfile=iraf.nifs.logfile)\n",
      "iraf.imrename('rgn'+calflat+'_sflat_bpm.pl', calflat+'_bpm.pl')\n"
     ],
     "language": "python",
     "metadata": {},
     "outputs": [
      {
       "output_type": "stream",
       "stream": "stdout",
       "text": [
        "-------------------------------------------------------------------------------\n",
        "NSFLAT -- Thu Apr  2 15:44:06 HST 2015\n",
        " \n",
        "lampson = rgnN20140228S0369"
       ]
      },
      {
       "output_type": "stream",
       "stream": "stdout",
       "text": [
        "\n",
        "darks = rgnN20140228S0374\n",
        "thr_dlo = -20.0\n",
        "thr_dup = 100.0\n",
        "fitting function = spline3\n",
        "fit order = -1\n",
        "fitting section = MDF\n",
        "Normalization statistic = midpt\n",
        "Statistics region = MDF\n",
        "WARNING - NSFLAT: Dark images already extracted with NSCUT."
       ]
      },
      {
       "output_type": "stream",
       "stream": "stdout",
       "text": [
        "\n",
        "flatfile = rgnN20140228S0369_sflat"
       ]
      },
      {
       "output_type": "stream",
       "stream": "stdout",
       "text": [
        "\n",
        "bpmfile = rgnN20140228S0369_sflat_bpm.pl\n"
       ]
      },
      {
       "output_type": "stream",
       "stream": "stdout",
       "text": [
        "WARNING - NSFLAT: only one input image (flats).\n"
       ]
      },
      {
       "output_type": "stream",
       "stream": "stdout",
       "text": [
        "WARNING - NSFLAT: only one input image (darks).\n"
       ]
      },
      {
       "output_type": "stream",
       "stream": "stdout",
       "text": [
        "\n",
        " Extn            Stats.        Lamps         Darks         Flat\n",
        " no.             section     Mean   S/N    Mean   S/N    Mean   S/N\n",
        "   1                       6917.0 287.8     5.0   3.7    0.99 236.3  "
       ]
      },
      {
       "output_type": "stream",
       "stream": "stdout",
       "text": [
        "\n",
        "   2                       7659.1 302.8     4.6   3.5    0.99 256.7  "
       ]
      },
      {
       "output_type": "stream",
       "stream": "stdout",
       "text": [
        "\n",
        "   3                       7495.2 299.6     3.8   2.9    0.98 252.8  "
       ]
      },
      {
       "output_type": "stream",
       "stream": "stdout",
       "text": [
        "\n",
        "   4                       7329.4 296.2     2.8   2.2    0.99 255.9  "
       ]
      },
      {
       "output_type": "stream",
       "stream": "stdout",
       "text": [
        "\n",
        "   5                       7514.3 300.0     2.2   1.8    0.99 263.6  "
       ]
      },
      {
       "output_type": "stream",
       "stream": "stdout",
       "text": [
        "\n",
        "   6                       7385.7 297.4     1.5   1.2    0.99 264.4  "
       ]
      },
      {
       "output_type": "stream",
       "stream": "stdout",
       "text": [
        "\n",
        "   7                       7732.0 304.3     1.3   1.1    0.99 275.0  "
       ]
      },
      {
       "output_type": "stream",
       "stream": "stdout",
       "text": [
        "\n",
        "   8                       7501.0 299.7     1.0   0.9    0.99 270.7  "
       ]
      },
      {
       "output_type": "stream",
       "stream": "stdout",
       "text": [
        "\n",
        "   9                       7400.4 297.7     1.0   0.8    0.99 270.3  "
       ]
      },
      {
       "output_type": "stream",
       "stream": "stdout",
       "text": [
        "\n",
        "  10                       7283.8 295.3     0.8   0.6    0.99 267.2  "
       ]
      },
      {
       "output_type": "stream",
       "stream": "stdout",
       "text": [
        "\n",
        "  11                       6926.7 288.0     0.9   0.7    1.00 261.1  "
       ]
      },
      {
       "output_type": "stream",
       "stream": "stdout",
       "text": [
        "\n",
        "  12                       6955.3 288.6     0.8   0.7    0.99 260.8  "
       ]
      },
      {
       "output_type": "stream",
       "stream": "stdout",
       "text": [
        "\n",
        "  13                       7066.4 290.9     0.8   0.6    0.99 264.0  "
       ]
      },
      {
       "output_type": "stream",
       "stream": "stdout",
       "text": [
        "\n",
        "  14                       7066.9 290.9     0.8   0.7    0.99 267.6  "
       ]
      },
      {
       "output_type": "stream",
       "stream": "stdout",
       "text": [
        "\n",
        "  15                       7004.9 289.6     0.8   0.7    0.99 266.2  "
       ]
      },
      {
       "output_type": "stream",
       "stream": "stdout",
       "text": [
        "\n",
        "  16                       7021.9 289.9     0.6   0.5    0.99 266.8  "
       ]
      },
      {
       "output_type": "stream",
       "stream": "stdout",
       "text": [
        "\n",
        "  17                       6576.6 280.6     0.7   0.6    0.99 256.0  "
       ]
      },
      {
       "output_type": "stream",
       "stream": "stdout",
       "text": [
        "\n",
        "  18                       7016.9 289.8     0.7   0.5    0.99 266.8  "
       ]
      },
      {
       "output_type": "stream",
       "stream": "stdout",
       "text": [
        "\n",
        "  19                       6724.6 283.7     0.3   0.3    0.99 259.6  "
       ]
      },
      {
       "output_type": "stream",
       "stream": "stdout",
       "text": [
        "\n",
        "  20                       7096.9 291.5     0.2   0.2    1.00 268.9  "
       ]
      },
      {
       "output_type": "stream",
       "stream": "stdout",
       "text": [
        "\n",
        "  21                       6927.8 288.0     0.2   0.2    0.99 261.9  "
       ]
      },
      {
       "output_type": "stream",
       "stream": "stdout",
       "text": [
        "\n",
        "  22                       7323.2 296.1     0.1   0.1    0.99 268.9  "
       ]
      },
      {
       "output_type": "stream",
       "stream": "stdout",
       "text": [
        "\n",
        "  23                       6799.4 285.3    -0.0  -0.0    0.99 254.0  "
       ]
      },
      {
       "output_type": "stream",
       "stream": "stdout",
       "text": [
        "\n",
        "  24                       6939.8 288.2     0.1   0.1    0.99 255.4  "
       ]
      },
      {
       "output_type": "stream",
       "stream": "stdout",
       "text": [
        "\n",
        "  25                       6873.9 286.9     0.2   0.1    0.99 253.3  "
       ]
      },
      {
       "output_type": "stream",
       "stream": "stdout",
       "text": [
        "\n",
        "  26                       6729.5 283.8     0.2   0.2    0.98 247.5  "
       ]
      },
      {
       "output_type": "stream",
       "stream": "stdout",
       "text": [
        "\n",
        "  27                       6965.9 288.8     0.2   0.1    0.99 253.4  "
       ]
      },
      {
       "output_type": "stream",
       "stream": "stdout",
       "text": [
        "\n",
        "  28                       6622.3 281.5     0.2   0.1    0.99 242.7  "
       ]
      },
      {
       "output_type": "stream",
       "stream": "stdout",
       "text": [
        "\n",
        "  29                       6181.1 272.0     0.2   0.2    0.98 226.9  "
       ]
      },
      {
       "output_type": "stream",
       "stream": "stdout",
       "text": [
        "\n"
       ]
      },
      {
       "output_type": "stream",
       "stream": "stdout",
       "text": [
        " \n",
        "NSFLAT exit status: good."
       ]
      },
      {
       "output_type": "stream",
       "stream": "stdout",
       "text": [
        "\n",
        "-------------------------------------------------------------------------------\n"
       ]
      }
     ],
     "prompt_number": 17
    },
    {
     "cell_type": "heading",
     "level": 4,
     "metadata": {},
     "source": [
      "Rectify the flat for slit function differences"
     ]
    },
    {
     "cell_type": "markdown",
     "metadata": {},
     "source": [
      "The output of this command is the FINAL FLAT that will be used to calibrate the data."
     ]
    },
    {
     "cell_type": "code",
     "collapsed": false,
     "input": [
      "iraf.imdelete(calflat+'_flat', verify='no')\n",
      "\n",
      "iraf.nsslitfunction('rgn'+calflat, calflat+'_flat', \\\n",
      "                    flat='rgn'+calflat+'_sflat', dark=flatdark+'_flatdark', \\\n",
      "                    combine='median', order=3, fl_var='no')\n",
      "\n",
      "print '*************************************'\n",
      "print 'FINAL FLAT:', calflat+'_flat.fits'\n",
      "print 'BPM:', calflat+'_bpm.pl'\n",
      "print '*************************************'"
     ],
     "language": "python",
     "metadata": {},
     "outputs": [
      {
       "output_type": "stream",
       "stream": "stdout",
       "text": [
        "------------------------------------------------------------------------------\n",
        "NSSLITFUNCTION -- Thu Apr  2 15:48:24 HST 2015\n",
        " \n",
        "skyflats = rgnN20140228S0369\n",
        "dark = N20140228S0374_dark\n",
        "output = N20140228S0369_flat\n",
        "title = \n",
        "function = spline3\n",
        "order = 3\n",
        "sci_ext = SCI\n",
        "var_ext = VAR\n",
        "dq_ext = DQ\n",
        " \n",
        "NSSLITFUNCTION: Subtracting dark and applying (flex)flat."
       ]
      },
      {
       "output_type": "stream",
       "stream": "stdout",
       "text": [
        "\n"
       ]
      },
      {
       "output_type": "stream",
       "stream": "stdout",
       "text": [
        "NSSLITFUNCTION: Calculating illumination response.\n"
       ]
      },
      {
       "output_type": "stream",
       "stream": "stdout",
       "text": [
        "NSSLITFUNCTION: No flexure shift.\n",
        "NSSLITFUNCTION: Normalizing response."
       ]
      },
      {
       "output_type": "stream",
       "stream": "stdout",
       "text": [
        "\n"
       ]
      },
      {
       "output_type": "stream",
       "stream": "stdout",
       "text": [
        " \n",
        "NSSLITFUNCTION done"
       ]
      },
      {
       "output_type": "stream",
       "stream": "stdout",
       "text": [
        "\n",
        "--------------------------------------------------------------------------------\n",
        "*************************************\n",
        "FINAL FLAT: N20140228S0369_flat.fits\n",
        "BPM: N20140228S0369_bpm.pl\n",
        "*************************************\n"
       ]
      }
     ],
     "prompt_number": 20
    },
    {
     "cell_type": "heading",
     "level": 2,
     "metadata": {},
     "source": [
      "STEP 7: Reduce the arc and determine the wavelength solution"
     ]
    },
    {
     "cell_type": "heading",
     "level": 4,
     "metadata": {},
     "source": [
      "Prepare the arc and its dark."
     ]
    },
    {
     "cell_type": "code",
     "collapsed": false,
     "input": [
      "iraf.imdelete('n@arc.lis', verify='no')\n",
      "iraf.imdelete('n@arcdark.lis', verify='no')\n",
      "\n",
      "iraf.nfprepare(\"@arc.lis\", rawpath=rawdir, shiftimage=calflat+'_shift',\n",
      "               bpm=calflat+'_bpm.pl', fl_vardq='yes', fl_corr='no', \\\n",
      "               fl_nonl='no')\n",
      "iraf.nfprepare(\"@arcdark.lis\", rawpath=rawdir, shiftimage=calflat+'_shift',\n",
      "               bpm=calflat+'_bpm.pl', fl_vardq='yes', fl_corr='no', \\\n",
      "               fl_nonl='no')"
     ],
     "language": "python",
     "metadata": {},
     "outputs": [
      {
       "output_type": "stream",
       "stream": "stdout",
       "text": [
        "-------------------------------------------------------------------------------\n",
        "NFPREPARE -- Thu Apr  2 15:50:53 HST 2015\n",
        " \n",
        "WARNING - NFPREPARE: Non-linear pixels not flagged."
       ]
      },
      {
       "output_type": "stream",
       "stream": "stdout",
       "text": [
        "\n",
        "NFPREPARE: Shift from N20140228S0369_shift[0]\n",
        "Processing 1 files"
       ]
      },
      {
       "output_type": "stream",
       "stream": "stdout",
       "text": [
        "\n"
       ]
      },
      {
       "output_type": "stream",
       "stream": "stdout",
       "text": [
        "----------------------------------------------------------------------------\n",
        "NFPREPARE: Subtracting reference pixels.\n",
        "WARNING - NFPREPARE: Not correcting for non-linearity."
       ]
      },
      {
       "output_type": "stream",
       "stream": "stdout",
       "text": [
        "\n",
        "----------------------------------------------------------------------------\n",
        "NFPAD: Padding NIFS data in the y-dimension for extended slices\n"
       ]
      },
      {
       "output_type": "stream",
       "stream": "stdout",
       "text": [
        "NFPAD: Input file is a non-MEF NIFS frame\n"
       ]
      },
      {
       "output_type": "stream",
       "stream": "stdout",
       "text": [
        "NFPAD exit status:  good.\n",
        "----------------------------------------------------------------------------\n"
       ]
      },
      {
       "output_type": "stream",
       "stream": "stdout",
       "text": [
        "----------------------------------------------------------------------------\n",
        "NFPAD: Padding NIFS data in the y-dimension for extended slices\n"
       ]
      },
      {
       "output_type": "stream",
       "stream": "stdout",
       "text": [
        "NFPAD: Input file is a non-MEF NIFS frame\n"
       ]
      },
      {
       "output_type": "stream",
       "stream": "stdout",
       "text": [
        "NFPAD exit status:  good.\n",
        "----------------------------------------------------------------------------\n"
       ]
      },
      {
       "output_type": "stream",
       "stream": "stdout",
       "text": [
        "----------------------------------------------------------------------------\n",
        "NFPAD: Padding NIFS data in the y-dimension for extended slices\n"
       ]
      },
      {
       "output_type": "stream",
       "stream": "stdout",
       "text": [
        "NFPAD: Input file is a non-MEF NIFS frame\n"
       ]
      },
      {
       "output_type": "stream",
       "stream": "stdout",
       "text": [
        "NFPAD exit status:  good.\n",
        "----------------------------------------------------------------------------\n"
       ]
      },
      {
       "output_type": "stream",
       "stream": "stdout",
       "text": [
        "NFPREPARE: Shifting MDF in Y by 2.0 pixels (subtracted from y_ccd)\n"
       ]
      },
      {
       "output_type": "stream",
       "stream": "stdout",
       "text": [
        " \n",
        "  n      input file -->      output file\n",
        "  1 ../../../raw/N20140228S0170 -->  nN20140228S0170 \n",
        "                 filter     focal plane       input BPM    RN  gain     sat\n",
        "               ZJ_G0601        3.0_Mask N20140228S0369_bpm.pl   6.3   2.4   50000 \n",
        " "
       ]
      },
      {
       "output_type": "stream",
       "stream": "stdout",
       "text": [
        "\n",
        "NFPREPARE exit status:  good.\n",
        "----------------------------------------------------------------------------\n"
       ]
      },
      {
       "output_type": "stream",
       "stream": "stdout",
       "text": [
        "-------------------------------------------------------------------------------\n",
        "NFPREPARE -- Thu Apr  2 15:51:11 HST 2015\n",
        " \n",
        "WARNING - NFPREPARE: Non-linear pixels not flagged.\n",
        "NFPREPARE: Shift from N20140228S0369_shift[0]\n",
        "Processing 2 files"
       ]
      },
      {
       "output_type": "stream",
       "stream": "stdout",
       "text": [
        "\n",
        "WARNING - NFPREPARE: ../../../raw/N20140228S0379 is a dark\n",
        "                     and so will not have an MDF added.\n"
       ]
      },
      {
       "output_type": "stream",
       "stream": "stdout",
       "text": [
        "----------------------------------------------------------------------------\n",
        "NFPREPARE: Subtracting reference pixels.\n",
        "WARNING - NFPREPARE: Not correcting for non-linearity."
       ]
      },
      {
       "output_type": "stream",
       "stream": "stdout",
       "text": [
        "\n",
        "----------------------------------------------------------------------------\n",
        "NFPAD: Padding NIFS data in the y-dimension for extended slices\n"
       ]
      },
      {
       "output_type": "stream",
       "stream": "stdout",
       "text": [
        "NFPAD: Input file is a non-MEF NIFS frame\n"
       ]
      },
      {
       "output_type": "stream",
       "stream": "stdout",
       "text": [
        "NFPAD exit status:  good.\n",
        "----------------------------------------------------------------------------\n"
       ]
      },
      {
       "output_type": "stream",
       "stream": "stdout",
       "text": [
        "----------------------------------------------------------------------------\n",
        "NFPAD: Padding NIFS data in the y-dimension for extended slices\n"
       ]
      },
      {
       "output_type": "stream",
       "stream": "stdout",
       "text": [
        "NFPAD: Input file is a non-MEF NIFS frame\n"
       ]
      },
      {
       "output_type": "stream",
       "stream": "stdout",
       "text": [
        "NFPAD exit status:  good.\n",
        "----------------------------------------------------------------------------\n"
       ]
      },
      {
       "output_type": "stream",
       "stream": "stdout",
       "text": [
        "----------------------------------------------------------------------------\n",
        "NFPAD: Padding NIFS data in the y-dimension for extended slices\n"
       ]
      },
      {
       "output_type": "stream",
       "stream": "stdout",
       "text": [
        "NFPAD: Input file is a non-MEF NIFS frame\n"
       ]
      },
      {
       "output_type": "stream",
       "stream": "stdout",
       "text": [
        "NFPAD exit status:  good.\n",
        "----------------------------------------------------------------------------\n"
       ]
      },
      {
       "output_type": "stream",
       "stream": "stdout",
       "text": [
        " \n",
        "  n      input file -->      output file"
       ]
      },
      {
       "output_type": "stream",
       "stream": "stdout",
       "text": [
        "\n",
        "  1 ../../../raw/N20140228S0379 -->  nN20140228S0379 \n",
        "                 filter     focal plane       input BPM    RN  gain     sat"
       ]
      },
      {
       "output_type": "stream",
       "stream": "stdout",
       "text": [
        "\n",
        "                                Blocked N20140228S0369_bpm.pl   6.3   2.4   50000 \n",
        "WARNING - NFPREPARE: ../../../raw/N20140228S0380 is a dark"
       ]
      },
      {
       "output_type": "stream",
       "stream": "stdout",
       "text": [
        "\n",
        "                     and so will not have an MDF added.\n",
        "----------------------------------------------------------------------------"
       ]
      },
      {
       "output_type": "stream",
       "stream": "stdout",
       "text": [
        "\n",
        "NFPREPARE: Subtracting reference pixels.\n",
        "WARNING - NFPREPARE: Not correcting for non-linearity."
       ]
      },
      {
       "output_type": "stream",
       "stream": "stdout",
       "text": [
        "\n",
        "----------------------------------------------------------------------------\n",
        "NFPAD: Padding NIFS data in the y-dimension for extended slices\n"
       ]
      },
      {
       "output_type": "stream",
       "stream": "stdout",
       "text": [
        "NFPAD: Input file is a non-MEF NIFS frame\n"
       ]
      },
      {
       "output_type": "stream",
       "stream": "stdout",
       "text": [
        "NFPAD exit status:  good.\n",
        "----------------------------------------------------------------------------\n"
       ]
      },
      {
       "output_type": "stream",
       "stream": "stdout",
       "text": [
        "----------------------------------------------------------------------------\n",
        "NFPAD: Padding NIFS data in the y-dimension for extended slices\n"
       ]
      },
      {
       "output_type": "stream",
       "stream": "stdout",
       "text": [
        "NFPAD: Input file is a non-MEF NIFS frame\n"
       ]
      },
      {
       "output_type": "stream",
       "stream": "stdout",
       "text": [
        "NFPAD exit status:  good.\n",
        "----------------------------------------------------------------------------\n"
       ]
      },
      {
       "output_type": "stream",
       "stream": "stdout",
       "text": [
        "----------------------------------------------------------------------------\n",
        "NFPAD: Padding NIFS data in the y-dimension for extended slices\n"
       ]
      },
      {
       "output_type": "stream",
       "stream": "stdout",
       "text": [
        "NFPAD: Input file is a non-MEF NIFS frame\n"
       ]
      },
      {
       "output_type": "stream",
       "stream": "stdout",
       "text": [
        "NFPAD exit status:  good.\n",
        "----------------------------------------------------------------------------\n"
       ]
      },
      {
       "output_type": "stream",
       "stream": "stdout",
       "text": [
        " \n",
        "  n      input file -->      output file\n",
        "  2 ../../../raw/N20140228S0380 -->  nN20140228S0380 \n",
        "                 filter     focal plane       input BPM    RN  gain     sat\n",
        "                                Blocked N20140228S0369_bpm.pl   6.3   2.4   50000 \n",
        " "
       ]
      },
      {
       "output_type": "stream",
       "stream": "stdout",
       "text": [
        "\n",
        "NFPREPARE exit status:  good.\n",
        "----------------------------------------------------------------------------\n"
       ]
      }
     ],
     "prompt_number": 22
    },
    {
     "cell_type": "heading",
     "level": 4,
     "metadata": {},
     "source": [
      "Combine the arcs and the darks, if multiple."
     ]
    },
    {
     "cell_type": "markdown",
     "metadata": {},
     "source": [
      "There might be more than one arc, and more than one dark for the arc.  The code below with take care of that possibility seemlessly.  Essentially, the arcs and the darks are combined before the arc is reduced.\n",
      "\n",
      "For this observation, there is one arc, but two darks."
     ]
    },
    {
     "cell_type": "code",
     "collapsed": false,
     "input": [
      "iraf.imdelete('gn'+arc, verify='no')\n",
      "iraf.imdelete('gn'+arcdark, verify='no')\n",
      "\n",
      "count = 0\n",
      "file = open('arc.lis', 'r')\n",
      "for line in file:\n",
      "    count += 1\n",
      "if count == 1:\n",
      "    iraf.copy ('n'+arc+'.fits', 'gn'+arc+'.fits')\n",
      "else:\n",
      "    iraf.gemcombine ('n//@arc.lis', output='gn'+arc, fl_dqpr='yes', \\\n",
      "                     fl_vardq='yes', masktype='none', \\\n",
      "                     logfile=iraf.nifs.logfile)\n",
      "file.close()\n",
      "\n",
      "count = 0\n",
      "file = open('arcdark.lis', 'r')\n",
      "for line in file:\n",
      "    count += 1\n",
      "if count == 1:\n",
      "    iraf.copy ('n'+arcdark+'.fits', 'gn'+arcdark+'.fits')\n",
      "else:\n",
      "    iraf.gemcombine ('n//@arcdark.lis', output='gn'+arcdark, fl_dqpr='yes', \\\n",
      "                     fl_vardq='yes', masktype='none', \\\n",
      "                     logfile=iraf.nifs.logfile)\n",
      "file.close()\n",
      "\n",
      "print 'Done.'"
     ],
     "language": "python",
     "metadata": {},
     "outputs": [
      {
       "output_type": "stream",
       "stream": "stdout",
       "text": [
        "--------------------------------------------------------------------------------\n",
        "GEMCOMBINE -- Thu Apr  2 15:53:05 HST 2015\n",
        " \n",
        "GEMCOMBINE: input = n//@arcdark.lis\n",
        "GEMCOMBINE: output = gnN20140228S0379\n",
        "GEMCOMBINE: title = \n",
        "GEMCOMBINE: bpmfile = \n",
        "GEMCOMBINE: sci_ext = SCI\n",
        "GEMCOMBINE: var_ext = VAR\n",
        "GEMCOMBINE: dq_ext = DQ\n",
        " \n"
       ]
      },
      {
       "output_type": "stream",
       "stream": "stdout",
       "text": [
        "WARNING - GEMCOMBINE: five or less images to combine.\n",
        "\n",
        "Apr  2 15:53: IMCOMBINE\n",
        "  combine = average, scale = none, zero = none, weight = none\n",
        "  reject = avsigclip, mclip = yes, nkeep = 1\n",
        "  lsigma = 3., hsigma = 3.\n",
        "  blank = 0.\n",
        "  statsec = Apr  2 15:53\n",
        "                Images \n",
        "  nN20140228S0379.fits[SCI,1]\n",
        "  nN20140228S0380.fits[SCI,1]\n",
        "\n",
        "  Output image = tmpcombout28290_3132, ncombine = 2\n",
        "  Number rejected mask = tmpcombdq28290_3133.pl\n",
        "  Sigma image = tmpcombsig28290_3134\n"
       ]
      },
      {
       "output_type": "stream",
       "stream": "stdout",
       "text": [
        " \n",
        "GEMCOMBINE: Propagating DQ values\n"
       ]
      },
      {
       "output_type": "stream",
       "stream": "stdout",
       "text": [
        " \n",
        "GEMCOMBINE -- Finished: Thu Apr  2 15:53:14 HST 2015"
       ]
      },
      {
       "output_type": "stream",
       "stream": "stdout",
       "text": [
        "\n",
        " \n",
        "GEMCOMBINE -- Exit status: GOOD\n",
        "--------------------------------------------------------------------------------"
       ]
      },
      {
       "output_type": "stream",
       "stream": "stdout",
       "text": [
        "\n",
        "Done."
       ]
      },
      {
       "output_type": "stream",
       "stream": "stdout",
       "text": [
        "\n"
       ]
      }
     ],
     "prompt_number": 23
    },
    {
     "cell_type": "heading",
     "level": 4,
     "metadata": {},
     "source": [
      "Reduce the arc."
     ]
    },
    {
     "cell_type": "code",
     "collapsed": false,
     "input": [
      "iraf.imdelete('rgn'+arc, verify='no')\n",
      "\n",
      "iraf.nsreduce('gn'+arc, outprefix='r', darkimage='gn'+arcdark, \\\n",
      "              flatimage=calflat+'_flat', fl_vardq='no', fl_cut='yes', \\\n",
      "              fl_nsappw='yes', fl_sky='no', fl_dark='yes', fl_flat='yes')"
     ],
     "language": "python",
     "metadata": {},
     "outputs": [
      {
       "output_type": "stream",
       "stream": "stdout",
       "text": [
        "-------------------------------------------------------------------------------\n",
        "NSREDUCE -- Thu Apr  2 15:56:02 HST 2015"
       ]
      },
      {
       "output_type": "stream",
       "stream": "stdout",
       "text": [
        "\n",
        " \n",
        "------------------------------------------------------------------------------"
       ]
      },
      {
       "output_type": "stream",
       "stream": "stdout",
       "text": [
        "\n",
        "NSCUT -- Thu Apr  2 15:56:02 HST 2015\n",
        " \n",
        "NSCUT: Processing 1 files\n"
       ]
      },
      {
       "output_type": "stream",
       "stream": "stdout",
       "text": [
        "\n"
       ]
      },
      {
       "output_type": "stream",
       "stream": "stdout",
       "text": [
        "gnN20140228S0170 --> gnN20140228S0170-28290_3466\n",
        " [SCI,1][1:2040,1998:2066] --> [SCI,1]"
       ]
      },
      {
       "output_type": "stream",
       "stream": "stdout",
       "text": [
        "\n",
        " [SCI,1][1:2040,1927:1995] --> [SCI,2]"
       ]
      },
      {
       "output_type": "stream",
       "stream": "stdout",
       "text": [
        "\n",
        " [SCI,1][1:2040,1856:1924] --> [SCI,3]"
       ]
      },
      {
       "output_type": "stream",
       "stream": "stdout",
       "text": [
        "\n",
        " [SCI,1][1:2040,1785:1853] --> [SCI,4]"
       ]
      },
      {
       "output_type": "stream",
       "stream": "stdout",
       "text": [
        "\n",
        " [SCI,1][1:2040,1715:1783] --> [SCI,5]"
       ]
      },
      {
       "output_type": "stream",
       "stream": "stdout",
       "text": [
        "\n",
        " [SCI,1][1:2040,1644:1712] --> [SCI,6]"
       ]
      },
      {
       "output_type": "stream",
       "stream": "stdout",
       "text": [
        "\n",
        " [SCI,1][1:2040,1573:1641] --> [SCI,7]"
       ]
      },
      {
       "output_type": "stream",
       "stream": "stdout",
       "text": [
        "\n",
        " [SCI,1][1:2040,1502:1570] --> [SCI,8]"
       ]
      },
      {
       "output_type": "stream",
       "stream": "stdout",
       "text": [
        "\n",
        " [SCI,1][1:2040,1431:1499] --> [SCI,9]"
       ]
      },
      {
       "output_type": "stream",
       "stream": "stdout",
       "text": [
        "\n",
        " [SCI,1][1:2040,1360:1428] --> [SCI,10]"
       ]
      },
      {
       "output_type": "stream",
       "stream": "stdout",
       "text": [
        "\n",
        " [SCI,1][1:2040,1289:1357] --> [SCI,11]"
       ]
      },
      {
       "output_type": "stream",
       "stream": "stdout",
       "text": [
        "\n",
        " [SCI,1][1:2040,1219:1287] --> [SCI,12]"
       ]
      },
      {
       "output_type": "stream",
       "stream": "stdout",
       "text": [
        "\n",
        " [SCI,1][1:2040,1148:1216] --> [SCI,13]"
       ]
      },
      {
       "output_type": "stream",
       "stream": "stdout",
       "text": [
        "\n",
        " [SCI,1][1:2040,1077:1145] --> [SCI,14]"
       ]
      },
      {
       "output_type": "stream",
       "stream": "stdout",
       "text": [
        "\n",
        " [SCI,1][1:2040,1006:1074] --> [SCI,15]"
       ]
      },
      {
       "output_type": "stream",
       "stream": "stdout",
       "text": [
        "\n",
        " [SCI,1][1:2040,935:1003] --> [SCI,16]"
       ]
      },
      {
       "output_type": "stream",
       "stream": "stdout",
       "text": [
        "\n",
        " [SCI,1][1:2040,864:932] --> [SCI,17]"
       ]
      },
      {
       "output_type": "stream",
       "stream": "stdout",
       "text": [
        "\n",
        " [SCI,1][1:2040,793:861] --> [SCI,18]"
       ]
      },
      {
       "output_type": "stream",
       "stream": "stdout",
       "text": [
        "\n",
        " [SCI,1][1:2040,722:790] --> [SCI,19]"
       ]
      },
      {
       "output_type": "stream",
       "stream": "stdout",
       "text": [
        "\n",
        " [SCI,1][1:2040,651:719] --> [SCI,20]"
       ]
      },
      {
       "output_type": "stream",
       "stream": "stdout",
       "text": [
        "\n",
        " [SCI,1][1:2040,580:648] --> [SCI,21]"
       ]
      },
      {
       "output_type": "stream",
       "stream": "stdout",
       "text": [
        "\n",
        " [SCI,1][1:2040,510:578] --> [SCI,22]"
       ]
      },
      {
       "output_type": "stream",
       "stream": "stdout",
       "text": [
        "\n",
        " [SCI,1][1:2040,439:507] --> [SCI,23]"
       ]
      },
      {
       "output_type": "stream",
       "stream": "stdout",
       "text": [
        "\n",
        " [SCI,1][1:2040,368:436] --> [SCI,24]"
       ]
      },
      {
       "output_type": "stream",
       "stream": "stdout",
       "text": [
        "\n",
        " [SCI,1][1:2040,297:365] --> [SCI,25]"
       ]
      },
      {
       "output_type": "stream",
       "stream": "stdout",
       "text": [
        "\n",
        " [SCI,1][1:2040,226:294] --> [SCI,26]"
       ]
      },
      {
       "output_type": "stream",
       "stream": "stdout",
       "text": [
        "\n",
        " [SCI,1][1:2040,155:223] --> [SCI,27]"
       ]
      },
      {
       "output_type": "stream",
       "stream": "stdout",
       "text": [
        "\n",
        " [SCI,1][1:2040,84:152] --> [SCI,28]"
       ]
      },
      {
       "output_type": "stream",
       "stream": "stdout",
       "text": [
        "\n",
        " [SCI,1][1:2040,13:81] --> [SCI,29]"
       ]
      },
      {
       "output_type": "stream",
       "stream": "stdout",
       "text": [
        "\n",
        " "
       ]
      },
      {
       "output_type": "stream",
       "stream": "stdout",
       "text": [
        "\n",
        "NSCUT exit status: good.\n",
        "------------------------------------------------------------------------------\n",
        "------------------------------------------------------------------------------\n",
        "NSAPPWAVE -- Thu Apr  2 15:56:15 HST 2015"
       ]
      },
      {
       "output_type": "stream",
       "stream": "stdout",
       "text": [
        "\n",
        " \n"
       ]
      },
      {
       "output_type": "stream",
       "stream": "stdout",
       "text": [
        "NSAPPWAVE: Processing 29 extension(s) from 1 file(s).\n",
        "  Camera     Grating    Filter     Prism      FPMask     Wave   Delta Order Axis\n"
       ]
      },
      {
       "output_type": "stream",
       "stream": "stderr",
       "text": [
        "gnN20140228S0170-28290_3466.fits[1] -> gnN20140228S0170-28290_3467.fits\n"
       ]
      },
      {
       "output_type": "stream",
       "stream": "stdout",
       "text": [
        "gnN20140228S0170-28290_3466 -> gnN20140228S0170-28290_3467 ( 1)\n",
        "        NIFS    Z_G5602   ZJ_G0601                           1.05  0.00 INDEF 1\n"
       ]
      },
      {
       "output_type": "stream",
       "stream": "stdout",
       "text": [
        "NSAPPWAVE: cradius not from table for gnN20140228S0170-28290_3466.\n",
        "           (further table messages supressed for this file).\n",
        "  extension  1: 10500.000000 -1.025000 INDEF\n",
        "  extension  2: 10500.000000 -1.025000 INDEF"
       ]
      },
      {
       "output_type": "stream",
       "stream": "stdout",
       "text": [
        "\n",
        "  extension  3: 10500.000000 -1.025000 INDEF"
       ]
      },
      {
       "output_type": "stream",
       "stream": "stdout",
       "text": [
        "\n",
        "  extension  4: 10500.000000 -1.025000 INDEF"
       ]
      },
      {
       "output_type": "stream",
       "stream": "stdout",
       "text": [
        "\n",
        "  extension  5: 10500.000000 -1.025000 INDEF"
       ]
      },
      {
       "output_type": "stream",
       "stream": "stdout",
       "text": [
        "\n",
        "  extension  6: 10500.000000 -1.025000 INDEF"
       ]
      },
      {
       "output_type": "stream",
       "stream": "stdout",
       "text": [
        "\n",
        "  extension  7: 10500.000000 -1.025000 INDEF"
       ]
      },
      {
       "output_type": "stream",
       "stream": "stdout",
       "text": [
        "\n",
        "  extension  8: 10500.000000 -1.025000 INDEF"
       ]
      },
      {
       "output_type": "stream",
       "stream": "stdout",
       "text": [
        "\n",
        "  extension  9: 10500.000000 -1.025000 INDEF"
       ]
      },
      {
       "output_type": "stream",
       "stream": "stdout",
       "text": [
        "\n",
        "  extension 10: 10500.000000 -1.025000 INDEF"
       ]
      },
      {
       "output_type": "stream",
       "stream": "stdout",
       "text": [
        "\n",
        "  extension 11: 10500.000000 -1.025000 INDEF"
       ]
      },
      {
       "output_type": "stream",
       "stream": "stdout",
       "text": [
        "\n",
        "  extension 12: 10500.000000 -1.025000 INDEF"
       ]
      },
      {
       "output_type": "stream",
       "stream": "stdout",
       "text": [
        "\n",
        "  extension 13: 10500.000000 -1.025000 INDEF"
       ]
      },
      {
       "output_type": "stream",
       "stream": "stdout",
       "text": [
        "\n",
        "  extension 14: 10500.000000 -1.025000 INDEF"
       ]
      },
      {
       "output_type": "stream",
       "stream": "stdout",
       "text": [
        "\n",
        "  extension 15: 10500.000000 -1.025000 INDEF"
       ]
      },
      {
       "output_type": "stream",
       "stream": "stdout",
       "text": [
        "\n",
        "  extension 16: 10500.000000 -1.025000 INDEF"
       ]
      },
      {
       "output_type": "stream",
       "stream": "stdout",
       "text": [
        "\n",
        "  extension 17: 10500.000000 -1.025000 INDEF"
       ]
      },
      {
       "output_type": "stream",
       "stream": "stdout",
       "text": [
        "\n",
        "  extension 18: 10500.000000 -1.025000 INDEF"
       ]
      },
      {
       "output_type": "stream",
       "stream": "stdout",
       "text": [
        "\n",
        "  extension 19: 10500.000000 -1.025000 INDEF"
       ]
      },
      {
       "output_type": "stream",
       "stream": "stdout",
       "text": [
        "\n",
        "  extension 20: 10500.000000 -1.025000 INDEF"
       ]
      },
      {
       "output_type": "stream",
       "stream": "stdout",
       "text": [
        "\n",
        "  extension 21: 10500.000000 -1.025000 INDEF"
       ]
      },
      {
       "output_type": "stream",
       "stream": "stdout",
       "text": [
        "\n",
        "  extension 22: 10500.000000 -1.025000 INDEF"
       ]
      },
      {
       "output_type": "stream",
       "stream": "stdout",
       "text": [
        "\n",
        "  extension 23: 10500.000000 -1.025000 INDEF"
       ]
      },
      {
       "output_type": "stream",
       "stream": "stdout",
       "text": [
        "\n",
        "  extension 24: 10500.000000 -1.025000 INDEF"
       ]
      },
      {
       "output_type": "stream",
       "stream": "stdout",
       "text": [
        "\n",
        "  extension 25: 10500.000000 -1.025000 INDEF"
       ]
      },
      {
       "output_type": "stream",
       "stream": "stdout",
       "text": [
        "\n",
        "  extension 26: 10500.000000 -1.025000 INDEF"
       ]
      },
      {
       "output_type": "stream",
       "stream": "stdout",
       "text": [
        "\n",
        "  extension 27: 10500.000000 -1.025000 INDEF"
       ]
      },
      {
       "output_type": "stream",
       "stream": "stdout",
       "text": [
        "\n",
        "  extension 28: 10500.000000 -1.025000 INDEF"
       ]
      },
      {
       "output_type": "stream",
       "stream": "stdout",
       "text": [
        "\n",
        "  extension 29: 10500.000000 -1.025000 INDEF"
       ]
      },
      {
       "output_type": "stream",
       "stream": "stdout",
       "text": [
        "\n"
       ]
      },
      {
       "output_type": "stream",
       "stream": "stdout",
       "text": [
        "\n",
        "NSAPPWAVE Exit status good\n",
        "------------------------------------------------------------------------------\n",
        "NSREDUCE: Processing 29 extension(s) from 1 file(s)."
       ]
      },
      {
       "output_type": "stream",
       "stream": "stdout",
       "text": [
        "\n",
        "------------------------------------------------------------------------------"
       ]
      },
      {
       "output_type": "stream",
       "stream": "stdout",
       "text": [
        "\n",
        "NSCUT -- Thu Apr  2 15:57:20 HST 2015\n",
        " \n",
        "NSCUT: Processing 1 files\n"
       ]
      },
      {
       "output_type": "stream",
       "stream": "stdout",
       "text": [
        "\n"
       ]
      },
      {
       "output_type": "stream",
       "stream": "stdout",
       "text": [
        "mdfdark28290_3464 --> tmpdark28290_3656\n",
        " [SCI,1][1:2040,1998:2066] --> [SCI,1]"
       ]
      },
      {
       "output_type": "stream",
       "stream": "stdout",
       "text": [
        "\n",
        " [SCI,1][1:2040,1927:1995] --> [SCI,2]"
       ]
      },
      {
       "output_type": "stream",
       "stream": "stdout",
       "text": [
        "\n",
        " [SCI,1][1:2040,1856:1924] --> [SCI,3]"
       ]
      },
      {
       "output_type": "stream",
       "stream": "stdout",
       "text": [
        "\n",
        " [SCI,1][1:2040,1785:1853] --> [SCI,4]"
       ]
      },
      {
       "output_type": "stream",
       "stream": "stdout",
       "text": [
        "\n",
        " [SCI,1][1:2040,1715:1783] --> [SCI,5]"
       ]
      },
      {
       "output_type": "stream",
       "stream": "stdout",
       "text": [
        "\n",
        " [SCI,1][1:2040,1644:1712] --> [SCI,6]"
       ]
      },
      {
       "output_type": "stream",
       "stream": "stdout",
       "text": [
        "\n",
        " [SCI,1][1:2040,1573:1641] --> [SCI,7]"
       ]
      },
      {
       "output_type": "stream",
       "stream": "stdout",
       "text": [
        "\n",
        " [SCI,1][1:2040,1502:1570] --> [SCI,8]"
       ]
      },
      {
       "output_type": "stream",
       "stream": "stdout",
       "text": [
        "\n",
        " [SCI,1][1:2040,1431:1499] --> [SCI,9]"
       ]
      },
      {
       "output_type": "stream",
       "stream": "stdout",
       "text": [
        "\n",
        " [SCI,1][1:2040,1360:1428] --> [SCI,10]"
       ]
      },
      {
       "output_type": "stream",
       "stream": "stdout",
       "text": [
        "\n",
        " [SCI,1][1:2040,1289:1357] --> [SCI,11]"
       ]
      },
      {
       "output_type": "stream",
       "stream": "stdout",
       "text": [
        "\n",
        " [SCI,1][1:2040,1219:1287] --> [SCI,12]"
       ]
      },
      {
       "output_type": "stream",
       "stream": "stdout",
       "text": [
        "\n",
        " [SCI,1][1:2040,1148:1216] --> [SCI,13]"
       ]
      },
      {
       "output_type": "stream",
       "stream": "stdout",
       "text": [
        "\n",
        " [SCI,1][1:2040,1077:1145] --> [SCI,14]"
       ]
      },
      {
       "output_type": "stream",
       "stream": "stdout",
       "text": [
        "\n",
        " [SCI,1][1:2040,1006:1074] --> [SCI,15]"
       ]
      },
      {
       "output_type": "stream",
       "stream": "stdout",
       "text": [
        "\n",
        " [SCI,1][1:2040,935:1003] --> [SCI,16]"
       ]
      },
      {
       "output_type": "stream",
       "stream": "stdout",
       "text": [
        "\n",
        " [SCI,1][1:2040,864:932] --> [SCI,17]"
       ]
      },
      {
       "output_type": "stream",
       "stream": "stdout",
       "text": [
        "\n",
        " [SCI,1][1:2040,793:861] --> [SCI,18]"
       ]
      },
      {
       "output_type": "stream",
       "stream": "stdout",
       "text": [
        "\n",
        " [SCI,1][1:2040,722:790] --> [SCI,19]"
       ]
      },
      {
       "output_type": "stream",
       "stream": "stdout",
       "text": [
        "\n",
        " [SCI,1][1:2040,651:719] --> [SCI,20]"
       ]
      },
      {
       "output_type": "stream",
       "stream": "stdout",
       "text": [
        "\n",
        " [SCI,1][1:2040,580:648] --> [SCI,21]"
       ]
      },
      {
       "output_type": "stream",
       "stream": "stdout",
       "text": [
        "\n",
        " [SCI,1][1:2040,510:578] --> [SCI,22]"
       ]
      },
      {
       "output_type": "stream",
       "stream": "stdout",
       "text": [
        "\n",
        " [SCI,1][1:2040,439:507] --> [SCI,23]"
       ]
      },
      {
       "output_type": "stream",
       "stream": "stdout",
       "text": [
        "\n",
        " [SCI,1][1:2040,368:436] --> [SCI,24]"
       ]
      },
      {
       "output_type": "stream",
       "stream": "stdout",
       "text": [
        "\n",
        " [SCI,1][1:2040,297:365] --> [SCI,25]"
       ]
      },
      {
       "output_type": "stream",
       "stream": "stdout",
       "text": [
        "\n",
        " [SCI,1][1:2040,226:294] --> [SCI,26]"
       ]
      },
      {
       "output_type": "stream",
       "stream": "stdout",
       "text": [
        "\n",
        " [SCI,1][1:2040,155:223] --> [SCI,27]"
       ]
      },
      {
       "output_type": "stream",
       "stream": "stdout",
       "text": [
        "\n",
        " [SCI,1][1:2040,84:152] --> [SCI,28]"
       ]
      },
      {
       "output_type": "stream",
       "stream": "stdout",
       "text": [
        "\n",
        " [SCI,1][1:2040,13:81] --> [SCI,29]"
       ]
      },
      {
       "output_type": "stream",
       "stream": "stdout",
       "text": [
        "\n",
        " "
       ]
      },
      {
       "output_type": "stream",
       "stream": "stdout",
       "text": [
        "\n",
        "NSCUT exit status: good.\n",
        "------------------------------------------------------------------------------\n"
       ]
      },
      {
       "output_type": "stream",
       "stream": "stdout",
       "text": [
        "NSREDUCE: slit: 3.0_Mask_G5610\n",
        "NSREDUCE: grism: ZJ_G0601\n",
        "\n",
        "   n input                   --> output                  sky image\n",
        " dark                    flat                    scale\n",
        "\n",
        "   1 gnN20140228S0170        --> rgnN20140228S0170       none                   \n",
        " tmpdark28290_3656       N20140228S0369_flat     1.0000 \n"
       ]
      },
      {
       "output_type": "stream",
       "stream": "stdout",
       "text": [
        " \n",
        "NSREDUCE exit status: good.\n",
        "------------------------------------------------------------------------------\n"
       ]
      }
     ],
     "prompt_number": 25
    },
    {
     "cell_type": "heading",
     "level": 4,
     "metadata": {},
     "source": [
      "Identify lines and calculate wavelength solution."
     ]
    },
    {
     "cell_type": "markdown",
     "metadata": {},
     "source": [
      "DATA REDUCTION HINT (from original cookbook):\n",
      "\n",
      "For the nswavelength call, the different wavelength settings use different values for some of the parameters. For optimal automated results, use:               \n",
      "\n",
      "    K-band: threshold=50.0, cradius=8.0   -->  (gives rms of 0.1 to 0.3)\n",
      "    H-band: threshold=100.0, cradius=8.0  -->  (gives rms of 0.05 to 0.15)\n",
      "    J-band: threshold=100.0               -->  (gives rms of 0.03 to 0.09) \n",
      "    Z-band: threshold=150.0, but not working very well for non-interactive mode\n",
      "\n",
      "Note that better RMS fits can be obtained by running the wavelength calibration interactively and identifying all of the lines manually.  Tedious, but will give more accurate results than the automatic mode (i.e., fl_inter='no').  Use fl_inter='yes' for manual mode.\n",
      "\n",
      "*KL:  I personally always run nswavelength in interactive mode anyway.*"
     ]
    },
    {
     "cell_type": "markdown",
     "metadata": {},
     "source": [
      "The commands below determine the wavelength of the observation and set the arc coordinate file and threshold default.  If the user wishes to change the coordinate file to a different one, they need only to change the \"clist\" variable to their line list or the \"coordlist=\" parameter in the nswavelength call.\n",
      "\n",
      "Resources to help identify lines (interactive mode):\n",
      "\n",
      "http://www.ukirt.hawaii.edu/astronomy/calib/spec_cal/arcmaps.html\n",
      "http://www.gemini.edu/sciops/instruments/nifs/calibration?q=node/10166\n",
      "\n",
      "For full interactivity, it is better to run nswavelength from the PyRAF session.  If you find that you need to mark lines, simply cut and paste the commands below into the PyRAF session."
     ]
    },
    {
     "cell_type": "code",
     "collapsed": false,
     "input": [
      "iraf.imdelete(arc+'_arc', verify='no')\n",
      "\n",
      "iraf.imgets('rgn'+arc+'[0]', 'GRATING')\n",
      "band = iraf.substr(iraf.imgets.value, 1, 1)\n",
      "if band == 'Z':\n",
      "    #clist = 'nifs$data/ArXe_Z.dat'\n",
      "    clist = '../../../auxfiles/ArXe_Z.dat'\n",
      "    my_thresh = 150.0\n",
      "elif band == 'K':\n",
      "    clist = 'nifs$data/ArXe_K.dat'\n",
      "    my_thresh=50.0\n",
      "else:\n",
      "    clist = 'gnirs$data/argon.dat'\n",
      "    my_thresh=100.0\n",
      "\n",
      "iraf.nswavelength('rgn'+arc, outspec=arc+'_arc', coordlist=clist, nsum=10, \\\n",
      "                  threshold=my_thresh, trace='yes', fwidth=2.0, match=-6, \\\n",
      "                  cradius=8.0, fl_inter='yes', nfound=10, nlost=10)"
     ],
     "language": "python",
     "metadata": {},
     "outputs": [
      {
       "output_type": "stream",
       "stream": "stdout",
       "text": [
        "-------------------------------------------------------------------------------\n",
        "NSWAVELENGTH -- Thu Apr  2 16:04:10 HST 2015\n"
       ]
      },
      {
       "output_type": "stream",
       "stream": "stdout",
       "text": [
        "\n",
        "NSWAVELENGTH: IFU data detected. Calling nswhelper to process data."
       ]
      },
      {
       "output_type": "stream",
       "stream": "stdout",
       "text": [
        "\n",
        "-------------------------------------------------------------------------------\n",
        "NSWHELPER -- Thu Apr  2 16:04:11 HST 2015\n",
        "\n"
       ]
      },
      {
       "output_type": "stream",
       "stream": "stdout",
       "text": [
        "Using input files:\n",
        "rgnN20140228S0170\n"
       ]
      },
      {
       "output_type": "stream",
       "stream": "stdout",
       "text": [
        "Using output files:\n",
        "N20140228S0170_arc\n"
       ]
      },
      {
       "output_type": "stream",
       "stream": "stdout",
       "text": [
        "Lamp image: rgnN20140228S0170[SCI,1]\n",
        "\n"
       ]
      },
      {
       "output_type": "stream",
       "stream": "stdout",
       "text": [
        "AUTOIDENTIFY: NOAO/IRAF V2.16 klabrie@libellule.local Thu 16:04:11 02-Apr-2015\n"
       ]
      },
      {
       "output_type": "stream",
       "stream": "stdout",
       "text": [
        "  Spectrum                 # Found   Midpoint Dispersion        RMS\n"
       ]
      },
      {
       "output_type": "stream",
       "stream": "stdout",
       "text": [
        "  N20140228S0170_arc[SCI,1][*,35]         23   10517.25      -1.04     0.0895\n"
       ]
      },
      {
       "output_type": "stream",
       "stream": "stdout",
       "text": [
        "N20140228S0170_arc[SCI,1][*,35]: Examine identifications interactively?"
       ]
      },
      {
       "output_type": "stream",
       "stream": "stdout",
       "text": [
        "   1845.14  9660.4276    9660.43 \n"
       ]
      },
      {
       "output_type": "stream",
       "stream": "stdout",
       "text": [
        "User coordinate ( 9660.3916): "
       ]
      },
      {
       "output_type": "stream",
       "stream": "stdout",
       "text": [
        "Recentered=23/23, pixel shift=0.00, user shift=-0.00, z=-1.8E-7, rms=0.089\n"
       ]
      },
      {
       "output_type": "stream",
       "stream": "stdout",
       "text": [
        "\n",
        "REIDENTIFY: NOAO/IRAF V2.16 klabrie@libellule.local Thu 16:04:19 02-Apr-2015\n"
       ]
      },
      {
       "output_type": "stream",
       "stream": "stdout",
       "text": [
        "  Reference image = N20140228S0170_arc[SCI,1], New image = N20140228S0170_arc[SCI,1], Refit = yes\n",
        "          Image Data    Found     Fit Pix Shift  User Shift  Z Shift      RMS\n"
       ]
      },
      {
       "output_type": "stream",
       "stream": "stdout",
       "text": [
        "N20140228S0170_arc[SCI,1][*,25] 23/23   22/23      0.355      -0.368  -3.4E-5   0.0646\n"
       ]
      },
      {
       "output_type": "stream",
       "stream": "stdout",
       "text": [
        "N20140228S0170_arc[SCI,1][*,25] 23/23   22/23      0.355      -0.368  -3.4E-5   0.0646\n"
       ]
      },
      {
       "output_type": "stream",
       "stream": "stdout",
       "text": [
        "N20140228S0170_arc[SCI,1][*,15] 23/23   22/23      0.356      -0.369  -3.4E-5   0.0591\n"
       ]
      },
      {
       "output_type": "stream",
       "stream": "stdout",
       "text": [
        "N20140228S0170_arc[SCI,1][*,5] 23/23   22/23       0.35      -0.362  -3.4E-5   0.0578\n"
       ]
      },
      {
       "output_type": "stream",
       "stream": "stdout",
       "text": [
        "N20140228S0170_arc[SCI,1][*,45] 23/23   21/23     -0.414       0.429  4.03E-5   0.0648\n"
       ]
      },
      {
       "output_type": "stream",
       "stream": "stdout",
       "text": [
        "N20140228S0170_arc[SCI,1][*,55] 23/23   23/23     -0.435       0.451  4.21E-5   0.0861\n"
       ]
      },
      {
       "output_type": "stream",
       "stream": "stdout",
       "text": [
        "N20140228S0170_arc[SCI,1][*,65] 23/23   23/23     -0.421       0.436  4.07E-5   0.0708\n"
       ]
      },
      {
       "output_type": "stream",
       "stream": "stdout",
       "text": [
        "Lamp image: rgnN20140228S0170[SCI,2]\n",
        "\n"
       ]
      },
      {
       "output_type": "stream",
       "stream": "stdout",
       "text": [
        "AUTOIDENTIFY: NOAO/IRAF V2.16 klabrie@libellule.local Thu 16:04:19 02-Apr-2015\n"
       ]
      },
      {
       "output_type": "stream",
       "stream": "stdout",
       "text": [
        "  Spectrum                 # Found   Midpoint Dispersion        RMS\n"
       ]
      },
      {
       "output_type": "stream",
       "stream": "stdout",
       "text": [
        "  N20140228S0170_arc[SCI,2][*,35]         23   10517.84      -1.04     0.0919\n"
       ]
      },
      {
       "output_type": "stream",
       "stream": "stdout",
       "text": [
        "N20140228S0170_arc[SCI,2][*,35]: Examine identifications interactively?"
       ]
      },
      {
       "output_type": "stream",
       "stream": "stdout",
       "text": [
        "   1845.49  9660.5514    9660.43 \n"
       ]
      },
      {
       "output_type": "stream",
       "stream": "stdout",
       "text": [
        "\n",
        "REIDENTIFY: NOAO/IRAF V2.16 klabrie@libellule.local Thu 16:04:20 02-Apr-2015\n"
       ]
      },
      {
       "output_type": "stream",
       "stream": "stdout",
       "text": [
        "  Reference image = N20140228S0170_arc[SCI,2], New image = N20140228S0170_arc[SCI,2], Refit = yes\n",
        "          Image Data    Found     Fit Pix Shift  User Shift  Z Shift      RMS\n"
       ]
      },
      {
       "output_type": "stream",
       "stream": "stdout",
       "text": [
        "N20140228S0170_arc[SCI,2][*,25] 23/23   23/23      0.395      -0.408  -3.8E-5   0.0722\n"
       ]
      },
      {
       "output_type": "stream",
       "stream": "stdout",
       "text": [
        "N20140228S0170_arc[SCI,2][*,25] 23/23   23/23      0.395      -0.408  -3.8E-5   0.0722\n"
       ]
      },
      {
       "output_type": "stream",
       "stream": "stdout",
       "text": [
        "N20140228S0170_arc[SCI,2][*,15] 22/23   21/22      0.405      -0.419  -3.9E-5   0.0589\n"
       ]
      },
      {
       "output_type": "stream",
       "stream": "stdout",
       "text": [
        "N20140228S0170_arc[SCI,2][*,5] 22/22   22/22      0.275      -0.285  -2.7E-5   0.0794\n"
       ]
      },
      {
       "output_type": "stream",
       "stream": "stdout",
       "text": [
        "N20140228S0170_arc[SCI,2][*,45] 23/23   23/23     -0.393       0.408  3.80E-5     0.06\n"
       ]
      },
      {
       "output_type": "stream",
       "stream": "stdout",
       "text": [
        "N20140228S0170_arc[SCI,2][*,55] 23/23   23/23     -0.432       0.448  4.21E-5   0.0891\n"
       ]
      },
      {
       "output_type": "stream",
       "stream": "stdout",
       "text": [
        "N20140228S0170_arc[SCI,2][*,65] 23/23   23/23     -0.355       0.367  3.40E-5   0.0759\n"
       ]
      },
      {
       "output_type": "stream",
       "stream": "stdout",
       "text": [
        "Lamp image: rgnN20140228S0170[SCI,3]\n",
        "\n"
       ]
      },
      {
       "output_type": "stream",
       "stream": "stdout",
       "text": [
        "AUTOIDENTIFY: NOAO/IRAF V2.16 klabrie@libellule.local Thu 16:04:21 02-Apr-2015\n"
       ]
      },
      {
       "output_type": "stream",
       "stream": "stdout",
       "text": [
        "  Spectrum                 # Found   Midpoint Dispersion        RMS\n"
       ]
      },
      {
       "output_type": "stream",
       "stream": "stdout",
       "text": [
        "  N20140228S0170_arc[SCI,3][*,35]         23   10518.29      -1.04     0.0609\n"
       ]
      },
      {
       "output_type": "stream",
       "stream": "stdout",
       "text": [
        "N20140228S0170_arc[SCI,3][*,35]: Examine identifications interactively?"
       ]
      },
      {
       "output_type": "stream",
       "stream": "stdout",
       "text": [
        "   1724.46  9787.1669    9787.18 \n"
       ]
      },
      {
       "output_type": "stream",
       "stream": "stdout",
       "text": [
        "\n",
        "REIDENTIFY: NOAO/IRAF V2.16 klabrie@libellule.local Thu 16:04:21 02-Apr-2015\n"
       ]
      },
      {
       "output_type": "stream",
       "stream": "stdout",
       "text": [
        "  Reference image = N20140228S0170_arc[SCI,3], New image = N20140228S0170_arc[SCI,3], Refit = yes\n",
        "          Image Data    Found     Fit Pix Shift  User Shift  Z Shift      RMS\n"
       ]
      },
      {
       "output_type": "stream",
       "stream": "stdout",
       "text": [
        "N20140228S0170_arc[SCI,3][*,25] 23/23   23/23      0.403      -0.417  -3.9E-5   0.0484\n"
       ]
      },
      {
       "output_type": "stream",
       "stream": "stdout",
       "text": [
        "N20140228S0170_arc[SCI,3][*,25] 23/23   23/23      0.403      -0.417  -3.9E-5   0.0484\n"
       ]
      },
      {
       "output_type": "stream",
       "stream": "stdout",
       "text": [
        "N20140228S0170_arc[SCI,3][*,15] 23/23   23/23      0.227      -0.235  -2.2E-5   0.0831\n"
       ]
      },
      {
       "output_type": "stream",
       "stream": "stdout",
       "text": [
        "N20140228S0170_arc[SCI,3][*,5] 22/23   20/22      0.313      -0.324  -3.0E-5   0.0538\n"
       ]
      },
      {
       "output_type": "stream",
       "stream": "stdout",
       "text": [
        "N20140228S0170_arc[SCI,3][*,45] 23/23   23/23     -0.469       0.485  4.56E-5   0.0852\n"
       ]
      },
      {
       "output_type": "stream",
       "stream": "stdout",
       "text": [
        "N20140228S0170_arc[SCI,3][*,55] 23/23   23/23     -0.316       0.327  3.05E-5   0.0793\n"
       ]
      },
      {
       "output_type": "stream",
       "stream": "stdout",
       "text": [
        "N20140228S0170_arc[SCI,3][*,65] 23/23   23/23     -0.384       0.398  3.71E-5   0.0663\n"
       ]
      },
      {
       "output_type": "stream",
       "stream": "stdout",
       "text": [
        "Lamp image: rgnN20140228S0170[SCI,4]\n",
        "\n"
       ]
      },
      {
       "output_type": "stream",
       "stream": "stdout",
       "text": [
        "AUTOIDENTIFY: NOAO/IRAF V2.16 klabrie@libellule.local Thu 16:04:22 02-Apr-2015\n"
       ]
      },
      {
       "output_type": "stream",
       "stream": "stdout",
       "text": [
        "  Spectrum                 # Found   Midpoint Dispersion        RMS\n"
       ]
      },
      {
       "output_type": "stream",
       "stream": "stdout",
       "text": [
        "  N20140228S0170_arc[SCI,4][*,35]         24   10518.68      -1.04     0.0498\n"
       ]
      },
      {
       "output_type": "stream",
       "stream": "stdout",
       "text": [
        "N20140228S0170_arc[SCI,4][*,35]: Examine identifications interactively?"
       ]
      },
      {
       "output_type": "stream",
       "stream": "stdout",
       "text": [
        "   1710.07  9802.3562     9802.4 \n"
       ]
      },
      {
       "output_type": "stream",
       "stream": "stdout",
       "text": [
        "\n",
        "REIDENTIFY: NOAO/IRAF V2.16 klabrie@libellule.local Thu 16:04:22 02-Apr-2015\n"
       ]
      },
      {
       "output_type": "stream",
       "stream": "stdout",
       "text": [
        "  Reference image = N20140228S0170_arc[SCI,4], New image = N20140228S0170_arc[SCI,4], Refit = yes\n",
        "          Image Data    Found     Fit Pix Shift  User Shift  Z Shift      RMS\n"
       ]
      },
      {
       "output_type": "stream",
       "stream": "stdout",
       "text": [
        "N20140228S0170_arc[SCI,4][*,25] 23/24   23/23      0.254      -0.264  -2.5E-5   0.0885\n"
       ]
      },
      {
       "output_type": "stream",
       "stream": "stdout",
       "text": [
        "N20140228S0170_arc[SCI,4][*,25] 23/24   23/23      0.254      -0.264  -2.5E-5   0.0885\n"
       ]
      },
      {
       "output_type": "stream",
       "stream": "stdout",
       "text": [
        "N20140228S0170_arc[SCI,4][*,15] 22/23   21/22      0.323      -0.334  -3.1E-5   0.0464\n"
       ]
      },
      {
       "output_type": "stream",
       "stream": "stdout",
       "text": [
        "N20140228S0170_arc[SCI,4][*,5] 22/22   22/22      0.265      -0.275  -2.6E-5   0.0441\n"
       ]
      },
      {
       "output_type": "stream",
       "stream": "stdout",
       "text": [
        "N20140228S0170_arc[SCI,4][*,45] 23/24   22/23     -0.427       0.443  4.13E-5   0.0621\n"
       ]
      },
      {
       "output_type": "stream",
       "stream": "stdout",
       "text": [
        "N20140228S0170_arc[SCI,4][*,55] 23/23   22/23     -0.456       0.473  4.42E-5   0.0909\n"
       ]
      },
      {
       "output_type": "stream",
       "stream": "stdout",
       "text": [
        "N20140228S0170_arc[SCI,4][*,65] 23/23   22/23     -0.319        0.33  3.07E-5   0.0641\n"
       ]
      },
      {
       "output_type": "stream",
       "stream": "stdout",
       "text": [
        "Lamp image: rgnN20140228S0170[SCI,5]\n",
        "\n"
       ]
      },
      {
       "output_type": "stream",
       "stream": "stdout",
       "text": [
        "AUTOIDENTIFY: NOAO/IRAF V2.16 klabrie@libellule.local Thu 16:04:22 02-Apr-2015\n"
       ]
      },
      {
       "output_type": "stream",
       "stream": "stdout",
       "text": [
        "  Spectrum                 # Found   Midpoint Dispersion        RMS\n"
       ]
      },
      {
       "output_type": "stream",
       "stream": "stdout",
       "text": [
        "  N20140228S0170_arc[SCI,5][*,35]         24   10518.42      -1.04     0.0901\n"
       ]
      },
      {
       "output_type": "stream",
       "stream": "stdout",
       "text": [
        "N20140228S0170_arc[SCI,5][*,35]: Examine identifications interactively?"
       ]
      },
      {
       "output_type": "stream",
       "stream": "stdout",
       "text": [
        "   1846.50  9660.2429    9660.43 \n"
       ]
      },
      {
       "output_type": "stream",
       "stream": "stdout",
       "text": [
        "\n",
        "REIDENTIFY: NOAO/IRAF V2.16 klabrie@libellule.local Thu 16:04:23 02-Apr-2015\n"
       ]
      },
      {
       "output_type": "stream",
       "stream": "stdout",
       "text": [
        "  Reference image = N20140228S0170_arc[SCI,5], New image = N20140228S0170_arc[SCI,5], Refit = yes\n",
        "          Image Data    Found     Fit Pix Shift  User Shift  Z Shift      RMS\n"
       ]
      },
      {
       "output_type": "stream",
       "stream": "stdout",
       "text": [
        "N20140228S0170_arc[SCI,5][*,25] 24/24   22/24      0.381      -0.394  -3.7E-5   0.0523\n"
       ]
      },
      {
       "output_type": "stream",
       "stream": "stdout",
       "text": [
        "N20140228S0170_arc[SCI,5][*,25] 24/24   22/24      0.381      -0.394  -3.7E-5   0.0523\n"
       ]
      },
      {
       "output_type": "stream",
       "stream": "stdout",
       "text": [
        "N20140228S0170_arc[SCI,5][*,15] 24/24   23/24      0.174      -0.181  -1.7E-5   0.0958\n"
       ]
      },
      {
       "output_type": "stream",
       "stream": "stdout",
       "text": [
        "N20140228S0170_arc[SCI,5][*,5] 23/24   23/23      0.334      -0.346  -3.2E-5   0.0928\n"
       ]
      },
      {
       "output_type": "stream",
       "stream": "stdout",
       "text": [
        "N20140228S0170_arc[SCI,5][*,45] 23/24   23/23     -0.339       0.352  3.32E-5   0.0805\n"
       ]
      },
      {
       "output_type": "stream",
       "stream": "stdout",
       "text": [
        "N20140228S0170_arc[SCI,5][*,55] 23/23   22/23       -0.3       0.311  2.90E-5   0.0588\n"
       ]
      },
      {
       "output_type": "stream",
       "stream": "stdout",
       "text": [
        "N20140228S0170_arc[SCI,5][*,65] 23/23   22/23     -0.272       0.282  2.61E-5   0.0456\n"
       ]
      },
      {
       "output_type": "stream",
       "stream": "stdout",
       "text": [
        "Lamp image: rgnN20140228S0170[SCI,6]\n",
        "\n"
       ]
      },
      {
       "output_type": "stream",
       "stream": "stdout",
       "text": [
        "AUTOIDENTIFY: NOAO/IRAF V2.16 klabrie@libellule.local Thu 16:04:24 02-Apr-2015\n"
       ]
      },
      {
       "output_type": "stream",
       "stream": "stdout",
       "text": [
        "  Spectrum                 # Found   Midpoint Dispersion        RMS\n"
       ]
      },
      {
       "output_type": "stream",
       "stream": "stdout",
       "text": [
        "  N20140228S0170_arc[SCI,6][*,35]         24   10518.31      -1.04     0.0696\n"
       ]
      },
      {
       "output_type": "stream",
       "stream": "stdout",
       "text": [
        "N20140228S0170_arc[SCI,6][*,35]: Examine identifications interactively?"
       ]
      },
      {
       "output_type": "stream",
       "stream": "stdout",
       "text": [
        "   1846.34  9660.3402    9660.43 \n"
       ]
      },
      {
       "output_type": "stream",
       "stream": "stdout",
       "text": [
        "\n",
        "REIDENTIFY: NOAO/IRAF V2.16 klabrie@libellule.local Thu 16:04:24 02-Apr-2015\n"
       ]
      },
      {
       "output_type": "stream",
       "stream": "stdout",
       "text": [
        "  Reference image = N20140228S0170_arc[SCI,6], New image = N20140228S0170_arc[SCI,6], Refit = yes\n",
        "          Image Data    Found     Fit Pix Shift  User Shift  Z Shift      RMS\n"
       ]
      },
      {
       "output_type": "stream",
       "stream": "stdout",
       "text": [
        "N20140228S0170_arc[SCI,6][*,25] 24/24   23/24      0.327      -0.339  -3.2E-5   0.0712\n"
       ]
      },
      {
       "output_type": "stream",
       "stream": "stdout",
       "text": [
        "N20140228S0170_arc[SCI,6][*,25] 24/24   23/24      0.327      -0.339  -3.2E-5   0.0712\n"
       ]
      },
      {
       "output_type": "stream",
       "stream": "stdout",
       "text": [
        "N20140228S0170_arc[SCI,6][*,15] 23/24   23/23      0.188      -0.194  -1.8E-5   0.0721\n"
       ]
      },
      {
       "output_type": "stream",
       "stream": "stdout",
       "text": [
        "N20140228S0170_arc[SCI,6][*,5] 23/23   21/23      0.263      -0.273  -2.5E-5   0.0391\n"
       ]
      },
      {
       "output_type": "stream",
       "stream": "stdout",
       "text": [
        "N20140228S0170_arc[SCI,6][*,45] 22/24   22/22     -0.279       0.289  2.72E-5   0.0714\n"
       ]
      },
      {
       "output_type": "stream",
       "stream": "stdout",
       "text": [
        "N20140228S0170_arc[SCI,6][*,55] 22/22   20/22     -0.314       0.326  3.05E-5   0.0347\n"
       ]
      },
      {
       "output_type": "stream",
       "stream": "stdout",
       "text": [
        "N20140228S0170_arc[SCI,6][*,65] 22/22   21/22      -0.31       0.322  2.99E-5   0.0439\n"
       ]
      },
      {
       "output_type": "stream",
       "stream": "stdout",
       "text": [
        "Lamp image: rgnN20140228S0170[SCI,7]\n",
        "\n"
       ]
      },
      {
       "output_type": "stream",
       "stream": "stdout",
       "text": [
        "AUTOIDENTIFY: NOAO/IRAF V2.16 klabrie@libellule.local Thu 16:04:25 02-Apr-2015\n"
       ]
      },
      {
       "output_type": "stream",
       "stream": "stdout",
       "text": [
        "  Spectrum                 # Found   Midpoint Dispersion        RMS\n"
       ]
      },
      {
       "output_type": "stream",
       "stream": "stdout",
       "text": [
        "  N20140228S0170_arc[SCI,7][*,35]         23   10517.95      -1.04     0.0559\n"
       ]
      },
      {
       "output_type": "stream",
       "stream": "stdout",
       "text": [
        "N20140228S0170_arc[SCI,7][*,35]: Examine identifications interactively?"
       ]
      },
      {
       "output_type": "stream",
       "stream": "stdout",
       "text": [
        "   1845.55  9660.5438    9660.43 \n"
       ]
      },
      {
       "output_type": "stream",
       "stream": "stdout",
       "text": [
        "\n",
        "REIDENTIFY: NOAO/IRAF V2.16 klabrie@libellule.local Thu 16:04:25 02-Apr-2015\n"
       ]
      },
      {
       "output_type": "stream",
       "stream": "stdout",
       "text": [
        "  Reference image = N20140228S0170_arc[SCI,7], New image = N20140228S0170_arc[SCI,7], Refit = yes\n",
        "          Image Data    Found     Fit Pix Shift  User Shift  Z Shift      RMS\n"
       ]
      },
      {
       "output_type": "stream",
       "stream": "stdout",
       "text": [
        "N20140228S0170_arc[SCI,7][*,25] 23/23   23/23      0.263      -0.274  -2.6E-5   0.0614\n"
       ]
      },
      {
       "output_type": "stream",
       "stream": "stdout",
       "text": [
        "N20140228S0170_arc[SCI,7][*,25] 23/23   23/23      0.263      -0.274  -2.6E-5   0.0614\n"
       ]
      },
      {
       "output_type": "stream",
       "stream": "stdout",
       "text": [
        "N20140228S0170_arc[SCI,7][*,15] 23/23   21/23      0.225      -0.233  -2.2E-5   0.0429\n"
       ]
      },
      {
       "output_type": "stream",
       "stream": "stdout",
       "text": [
        "N20140228S0170_arc[SCI,7][*,5] 23/23   21/23       0.19      -0.196  -1.8E-5   0.0404\n"
       ]
      },
      {
       "output_type": "stream",
       "stream": "stdout",
       "text": [
        "N20140228S0170_arc[SCI,7][*,45] 23/23   23/23     -0.222        0.23  2.15E-5   0.0849\n"
       ]
      },
      {
       "output_type": "stream",
       "stream": "stdout",
       "text": [
        "N20140228S0170_arc[SCI,7][*,55] 23/23   20/23     -0.187       0.194  1.75E-5   0.0324\n"
       ]
      },
      {
       "output_type": "stream",
       "stream": "stdout",
       "text": [
        "N20140228S0170_arc[SCI,7][*,65] 23/23   21/23      -0.25       0.259  2.43E-5   0.0574\n"
       ]
      },
      {
       "output_type": "stream",
       "stream": "stdout",
       "text": [
        "Lamp image: rgnN20140228S0170[SCI,8]\n",
        "\n"
       ]
      },
      {
       "output_type": "stream",
       "stream": "stdout",
       "text": [
        "AUTOIDENTIFY: NOAO/IRAF V2.16 klabrie@libellule.local Thu 16:04:26 02-Apr-2015\n"
       ]
      },
      {
       "output_type": "stream",
       "stream": "stdout",
       "text": [
        "  Spectrum                 # Found   Midpoint Dispersion        RMS\n"
       ]
      },
      {
       "output_type": "stream",
       "stream": "stdout",
       "text": [
        "  N20140228S0170_arc[SCI,8][*,35]         25   10517.32      -1.04     0.0687\n"
       ]
      },
      {
       "output_type": "stream",
       "stream": "stdout",
       "text": [
        "N20140228S0170_arc[SCI,8][*,35]: Examine identifications interactively?"
       ]
      },
      {
       "output_type": "stream",
       "stream": "stdout",
       "text": [
        "   1590.02  9925.8691     9925.9 \n"
       ]
      },
      {
       "output_type": "stream",
       "stream": "stdout",
       "text": [
        "\n",
        "REIDENTIFY: NOAO/IRAF V2.16 klabrie@libellule.local Thu 16:04:26 02-Apr-2015\n"
       ]
      },
      {
       "output_type": "stream",
       "stream": "stdout",
       "text": [
        "  Reference image = N20140228S0170_arc[SCI,8], New image = N20140228S0170_arc[SCI,8], Refit = yes\n",
        "          Image Data    Found     Fit Pix Shift  User Shift  Z Shift      RMS\n"
       ]
      },
      {
       "output_type": "stream",
       "stream": "stdout",
       "text": [
        "N20140228S0170_arc[SCI,8][*,25] 23/25   22/23      0.205      -0.213  -2.0E-5   0.0702\n"
       ]
      },
      {
       "output_type": "stream",
       "stream": "stdout",
       "text": [
        "N20140228S0170_arc[SCI,8][*,25] 23/25   22/23      0.205      -0.213  -2.0E-5   0.0702\n"
       ]
      },
      {
       "output_type": "stream",
       "stream": "stdout",
       "text": [
        "N20140228S0170_arc[SCI,8][*,15] 23/23   23/23      0.194      -0.201  -1.9E-5   0.0589\n"
       ]
      },
      {
       "output_type": "stream",
       "stream": "stdout",
       "text": [
        "N20140228S0170_arc[SCI,8][*,5] 23/23   23/23      0.166      -0.172  -1.6E-5   0.0831\n"
       ]
      },
      {
       "output_type": "stream",
       "stream": "stdout",
       "text": [
        "N20140228S0170_arc[SCI,8][*,45] 23/25   22/23     -0.261       0.271  2.55E-5   0.0442\n"
       ]
      },
      {
       "output_type": "stream",
       "stream": "stdout",
       "text": [
        "N20140228S0170_arc[SCI,8][*,55] 23/23   23/23     -0.262       0.271  2.54E-5   0.0677\n"
       ]
      },
      {
       "output_type": "stream",
       "stream": "stdout",
       "text": [
        "N20140228S0170_arc[SCI,8][*,65] 22/23   22/22     -0.162       0.168  1.54E-5   0.0481\n"
       ]
      },
      {
       "output_type": "stream",
       "stream": "stdout",
       "text": [
        "Lamp image: rgnN20140228S0170[SCI,9]\n",
        "\n"
       ]
      },
      {
       "output_type": "stream",
       "stream": "stdout",
       "text": [
        "AUTOIDENTIFY: NOAO/IRAF V2.16 klabrie@libellule.local Thu 16:04:27 02-Apr-2015\n"
       ]
      },
      {
       "output_type": "stream",
       "stream": "stdout",
       "text": [
        "  Spectrum                 # Found   Midpoint Dispersion        RMS\n"
       ]
      },
      {
       "output_type": "stream",
       "stream": "stdout",
       "text": [
        "  N20140228S0170_arc[SCI,9][*,35]         23   10516.57      -1.04     0.0468\n"
       ]
      },
      {
       "output_type": "stream",
       "stream": "stdout",
       "text": [
        "N20140228S0170_arc[SCI,9][*,35]: Examine identifications interactively?"
       ]
      },
      {
       "output_type": "stream",
       "stream": "stdout",
       "text": [
        "   1722.62  9787.2061    9787.18 \n"
       ]
      },
      {
       "output_type": "stream",
       "stream": "stdout",
       "text": [
        "\n",
        "REIDENTIFY: NOAO/IRAF V2.16 klabrie@libellule.local Thu 16:04:27 02-Apr-2015\n"
       ]
      },
      {
       "output_type": "stream",
       "stream": "stdout",
       "text": [
        "  Reference image = N20140228S0170_arc[SCI,9], New image = N20140228S0170_arc[SCI,9], Refit = yes\n",
        "          Image Data    Found     Fit Pix Shift  User Shift  Z Shift      RMS\n"
       ]
      },
      {
       "output_type": "stream",
       "stream": "stdout",
       "text": [
        "N20140228S0170_arc[SCI,9][*,25] 22/23   22/22      0.221      -0.228  -2.1E-5   0.0423\n"
       ]
      },
      {
       "output_type": "stream",
       "stream": "stdout",
       "text": [
        "N20140228S0170_arc[SCI,9][*,25] 22/23   22/22      0.221      -0.228  -2.1E-5   0.0423\n"
       ]
      },
      {
       "output_type": "stream",
       "stream": "stdout",
       "text": [
        "N20140228S0170_arc[SCI,9][*,15] 22/22   21/22      0.182      -0.188  -1.7E-5   0.0751\n"
       ]
      },
      {
       "output_type": "stream",
       "stream": "stdout",
       "text": [
        "N20140228S0170_arc[SCI,9][*,5] 22/22   22/22      0.151      -0.157  -1.5E-5   0.0432\n"
       ]
      },
      {
       "output_type": "stream",
       "stream": "stdout",
       "text": [
        "N20140228S0170_arc[SCI,9][*,45] 22/23   21/22     -0.225       0.233  2.19E-5   0.0363\n"
       ]
      },
      {
       "output_type": "stream",
       "stream": "stdout",
       "text": [
        "N20140228S0170_arc[SCI,9][*,55] 22/22   21/22     -0.208       0.215  2.00E-5   0.0548\n"
       ]
      },
      {
       "output_type": "stream",
       "stream": "stdout",
       "text": [
        "N20140228S0170_arc[SCI,9][*,65] 21/22   20/21     -0.136       0.141  1.33E-5   0.0479\n"
       ]
      },
      {
       "output_type": "stream",
       "stream": "stdout",
       "text": [
        "Lamp image: rgnN20140228S0170[SCI,10]\n",
        "\n"
       ]
      },
      {
       "output_type": "stream",
       "stream": "stdout",
       "text": [
        "AUTOIDENTIFY: NOAO/IRAF V2.16 klabrie@libellule.local Thu 16:04:28 02-Apr-2015\n"
       ]
      },
      {
       "output_type": "stream",
       "stream": "stdout",
       "text": [
        "  Spectrum                 # Found   Midpoint Dispersion        RMS\n"
       ]
      },
      {
       "output_type": "stream",
       "stream": "stdout",
       "text": [
        "  N20140228S0170_arc[SCI,10][*,35]         24   10515.65      -1.04      0.041\n"
       ]
      },
      {
       "output_type": "stream",
       "stream": "stdout",
       "text": [
        "N20140228S0170_arc[SCI,10][*,35]: Examine identifications interactively?"
       ]
      },
      {
       "output_type": "stream",
       "stream": "stdout",
       "text": [
        "   1707.17  9802.3484     9802.4 \n"
       ]
      },
      {
       "output_type": "stream",
       "stream": "stdout",
       "text": [
        "\n",
        "REIDENTIFY: NOAO/IRAF V2.16 klabrie@libellule.local Thu 16:04:29 02-Apr-2015\n"
       ]
      },
      {
       "output_type": "stream",
       "stream": "stdout",
       "text": [
        "  Reference image = N20140228S0170_arc[SCI,10], New image = N20140228S0170_arc[SCI,10], Refit = yes\n",
        "          Image Data    Found     Fit Pix Shift  User Shift  Z Shift      RMS\n"
       ]
      },
      {
       "output_type": "stream",
       "stream": "stdout",
       "text": [
        "N20140228S0170_arc[SCI,10][*,25] 24/24   23/24      0.147      -0.151  -1.4E-5   0.0636\n"
       ]
      },
      {
       "output_type": "stream",
       "stream": "stdout",
       "text": [
        "N20140228S0170_arc[SCI,10][*,25] 24/24   23/24      0.147      -0.151  -1.4E-5   0.0636\n"
       ]
      },
      {
       "output_type": "stream",
       "stream": "stdout",
       "text": [
        "N20140228S0170_arc[SCI,10][*,15] 23/24   23/23       0.14      -0.145  -1.4E-5   0.0551\n"
       ]
      },
      {
       "output_type": "stream",
       "stream": "stdout",
       "text": [
        "N20140228S0170_arc[SCI,10][*,5] 23/23   23/23      0.107      -0.111  -1.0E-5   0.0695\n"
       ]
      },
      {
       "output_type": "stream",
       "stream": "stdout",
       "text": [
        "N20140228S0170_arc[SCI,10][*,45] 24/24   23/24     -0.208       0.215  2.01E-5   0.0775\n"
       ]
      },
      {
       "output_type": "stream",
       "stream": "stdout",
       "text": [
        "N20140228S0170_arc[SCI,10][*,55] 23/24   23/23      -0.24       0.249  2.31E-5    0.124\n"
       ]
      },
      {
       "output_type": "stream",
       "stream": "stdout",
       "text": [
        "N20140228S0170_arc[SCI,10][*,65] 23/23   23/23     -0.178       0.184  1.72E-5   0.0571\n"
       ]
      },
      {
       "output_type": "stream",
       "stream": "stdout",
       "text": [
        "Lamp image: rgnN20140228S0170[SCI,11]\n",
        "\n"
       ]
      },
      {
       "output_type": "stream",
       "stream": "stdout",
       "text": [
        "AUTOIDENTIFY: NOAO/IRAF V2.16 klabrie@libellule.local Thu 16:04:30 02-Apr-2015\n"
       ]
      },
      {
       "output_type": "stream",
       "stream": "stdout",
       "text": [
        "  Spectrum                 # Found   Midpoint Dispersion        RMS\n"
       ]
      },
      {
       "output_type": "stream",
       "stream": "stdout",
       "text": [
        "  N20140228S0170_arc[SCI,11][*,35]         24    10514.5      -1.04     0.0733\n"
       ]
      },
      {
       "output_type": "stream",
       "stream": "stdout",
       "text": [
        "N20140228S0170_arc[SCI,11][*,35]: Examine identifications interactively?"
       ]
      },
      {
       "output_type": "stream",
       "stream": "stdout",
       "text": [
        "   1706.06  9802.3572     9802.4 \n"
       ]
      },
      {
       "output_type": "stream",
       "stream": "stdout",
       "text": [
        "\n",
        "REIDENTIFY: NOAO/IRAF V2.16 klabrie@libellule.local Thu 16:04:30 02-Apr-2015\n"
       ]
      },
      {
       "output_type": "stream",
       "stream": "stdout",
       "text": [
        "  Reference image = N20140228S0170_arc[SCI,11], New image = N20140228S0170_arc[SCI,11], Refit = yes\n",
        "          Image Data    Found     Fit Pix Shift  User Shift  Z Shift      RMS\n"
       ]
      },
      {
       "output_type": "stream",
       "stream": "stdout",
       "text": [
        "N20140228S0170_arc[SCI,11][*,25] 23/24   23/23     0.0978      -0.101  -9.5E-6   0.0598\n"
       ]
      },
      {
       "output_type": "stream",
       "stream": "stdout",
       "text": [
        "N20140228S0170_arc[SCI,11][*,25] 23/24   23/23     0.0978      -0.101  -9.5E-6   0.0598\n"
       ]
      },
      {
       "output_type": "stream",
       "stream": "stdout",
       "text": [
        "N20140228S0170_arc[SCI,11][*,15] 23/23   23/23     0.0986      -0.102  -9.5E-6    0.075\n"
       ]
      },
      {
       "output_type": "stream",
       "stream": "stdout",
       "text": [
        "N20140228S0170_arc[SCI,11][*,5] 23/23   23/23      0.111      -0.115  -1.1E-5   0.0715\n"
       ]
      },
      {
       "output_type": "stream",
       "stream": "stdout",
       "text": [
        "N20140228S0170_arc[SCI,11][*,45] 23/24   22/23     -0.157       0.163  1.52E-5   0.0637\n"
       ]
      },
      {
       "output_type": "stream",
       "stream": "stdout",
       "text": [
        "N20140228S0170_arc[SCI,11][*,55] 23/23   23/23     -0.192       0.199  1.85E-5   0.0719\n"
       ]
      },
      {
       "output_type": "stream",
       "stream": "stdout",
       "text": [
        "N20140228S0170_arc[SCI,11][*,65] 23/23   21/23     -0.163       0.169  1.60E-5   0.0544\n"
       ]
      },
      {
       "output_type": "stream",
       "stream": "stdout",
       "text": [
        "Lamp image: rgnN20140228S0170[SCI,12]\n",
        "\n"
       ]
      },
      {
       "output_type": "stream",
       "stream": "stdout",
       "text": [
        "AUTOIDENTIFY: NOAO/IRAF V2.16 klabrie@libellule.local Thu 16:04:31 02-Apr-2015\n"
       ]
      },
      {
       "output_type": "stream",
       "stream": "stdout",
       "text": [
        "  Spectrum                 # Found   Midpoint Dispersion        RMS\n"
       ]
      },
      {
       "output_type": "stream",
       "stream": "stdout",
       "text": [
        "  N20140228S0170_arc[SCI,12][*,35]         23   10512.99      -1.04     0.0711\n"
       ]
      },
      {
       "output_type": "stream",
       "stream": "stdout",
       "text": [
        "N20140228S0170_arc[SCI,12][*,35]: Examine identifications interactively?"
       ]
      },
      {
       "output_type": "stream",
       "stream": "stdout",
       "text": [
        "   1841.08  9660.4305    9660.43 \n"
       ]
      },
      {
       "output_type": "stream",
       "stream": "stdout",
       "text": [
        "\n",
        "REIDENTIFY: NOAO/IRAF V2.16 klabrie@libellule.local Thu 16:04:31 02-Apr-2015\n"
       ]
      },
      {
       "output_type": "stream",
       "stream": "stdout",
       "text": [
        "  Reference image = N20140228S0170_arc[SCI,12], New image = N20140228S0170_arc[SCI,12], Refit = yes\n",
        "          Image Data    Found     Fit Pix Shift  User Shift  Z Shift      RMS\n"
       ]
      },
      {
       "output_type": "stream",
       "stream": "stdout",
       "text": [
        "N20140228S0170_arc[SCI,12][*,25] 23/23   22/23      0.234      -0.242  -2.3E-5   0.0526\n"
       ]
      },
      {
       "output_type": "stream",
       "stream": "stdout",
       "text": [
        "N20140228S0170_arc[SCI,12][*,25] 23/23   22/23      0.234      -0.242  -2.3E-5   0.0526\n"
       ]
      },
      {
       "output_type": "stream",
       "stream": "stdout",
       "text": [
        "N20140228S0170_arc[SCI,12][*,15] 23/23   23/23      0.068     -0.0705  -6.7E-6    0.062\n"
       ]
      },
      {
       "output_type": "stream",
       "stream": "stdout",
       "text": [
        "N20140228S0170_arc[SCI,12][*,5] 23/23   22/23     0.0492     -0.0509  -4.7E-6   0.0458\n"
       ]
      },
      {
       "output_type": "stream",
       "stream": "stdout",
       "text": [
        "N20140228S0170_arc[SCI,12][*,45] 23/23   22/23     -0.149       0.155  1.44E-5   0.0389\n"
       ]
      },
      {
       "output_type": "stream",
       "stream": "stdout",
       "text": [
        "N20140228S0170_arc[SCI,12][*,55] 23/23   22/23     -0.151       0.156  1.47E-5   0.0513\n"
       ]
      },
      {
       "output_type": "stream",
       "stream": "stdout",
       "text": [
        "N20140228S0170_arc[SCI,12][*,65] 22/23   22/22      -0.12       0.124  1.17E-5   0.0992\n"
       ]
      },
      {
       "output_type": "stream",
       "stream": "stdout",
       "text": [
        "Lamp image: rgnN20140228S0170[SCI,13]\n",
        "\n"
       ]
      },
      {
       "output_type": "stream",
       "stream": "stdout",
       "text": [
        "AUTOIDENTIFY: NOAO/IRAF V2.16 klabrie@libellule.local Thu 16:04:31 02-Apr-2015\n"
       ]
      },
      {
       "output_type": "stream",
       "stream": "stdout",
       "text": [
        "  Spectrum                 # Found   Midpoint Dispersion        RMS\n"
       ]
      },
      {
       "output_type": "stream",
       "stream": "stdout",
       "text": [
        "  N20140228S0170_arc[SCI,13][*,35]         24   10511.26      -1.04     0.0379\n"
       ]
      },
      {
       "output_type": "stream",
       "stream": "stdout",
       "text": [
        "N20140228S0170_arc[SCI,13][*,35]: Examine identifications interactively?"
       ]
      },
      {
       "output_type": "stream",
       "stream": "stdout",
       "text": [
        "   1717.58  9787.1868    9787.18 \n"
       ]
      },
      {
       "output_type": "stream",
       "stream": "stdout",
       "text": [
        "\n",
        "REIDENTIFY: NOAO/IRAF V2.16 klabrie@libellule.local Thu 16:04:32 02-Apr-2015\n"
       ]
      },
      {
       "output_type": "stream",
       "stream": "stdout",
       "text": [
        "  Reference image = N20140228S0170_arc[SCI,13], New image = N20140228S0170_arc[SCI,13], Refit = yes\n",
        "          Image Data    Found     Fit Pix Shift  User Shift  Z Shift      RMS\n"
       ]
      },
      {
       "output_type": "stream",
       "stream": "stdout",
       "text": [
        "N20140228S0170_arc[SCI,13][*,25] 23/24   22/23     0.0792     -0.0816  -7.5E-6   0.0507\n"
       ]
      },
      {
       "output_type": "stream",
       "stream": "stdout",
       "text": [
        "N20140228S0170_arc[SCI,13][*,25] 23/24   22/23     0.0792     -0.0816  -7.5E-6   0.0507\n"
       ]
      },
      {
       "output_type": "stream",
       "stream": "stdout",
       "text": [
        "N20140228S0170_arc[SCI,13][*,15] 23/23   23/23      0.102      -0.106  -1.0E-5    0.073\n"
       ]
      },
      {
       "output_type": "stream",
       "stream": "stdout",
       "text": [
        "N20140228S0170_arc[SCI,13][*,5] 23/23   23/23      0.124      -0.129  -1.2E-5   0.0732\n"
       ]
      },
      {
       "output_type": "stream",
       "stream": "stdout",
       "text": [
        "N20140228S0170_arc[SCI,13][*,45] 24/24   23/24     -0.127       0.131  1.21E-5   0.0556\n"
       ]
      },
      {
       "output_type": "stream",
       "stream": "stdout",
       "text": [
        "N20140228S0170_arc[SCI,13][*,55] 24/24   24/24    -0.0725      0.0752  7.06E-6   0.0893\n"
       ]
      },
      {
       "output_type": "stream",
       "stream": "stdout",
       "text": [
        "N20140228S0170_arc[SCI,13][*,65] 23/24   22/23    -0.0668      0.0692  6.35E-6   0.0921\n"
       ]
      },
      {
       "output_type": "stream",
       "stream": "stdout",
       "text": [
        "Lamp image: rgnN20140228S0170[SCI,14]\n",
        "\n"
       ]
      },
      {
       "output_type": "stream",
       "stream": "stdout",
       "text": [
        "AUTOIDENTIFY: NOAO/IRAF V2.16 klabrie@libellule.local Thu 16:04:32 02-Apr-2015\n"
       ]
      },
      {
       "output_type": "stream",
       "stream": "stdout",
       "text": [
        "  Spectrum                 # Found   Midpoint Dispersion        RMS\n"
       ]
      },
      {
       "output_type": "stream",
       "stream": "stdout",
       "text": [
        "  N20140228S0170_arc[SCI,14][*,35]         25   10509.51      -1.04     0.0746\n"
       ]
      },
      {
       "output_type": "stream",
       "stream": "stdout",
       "text": [
        "N20140228S0170_arc[SCI,14][*,35]: Examine identifications interactively?"
       ]
      },
      {
       "output_type": "stream",
       "stream": "stdout",
       "text": [
        "   1715.91  9787.1622  9787.1797 \n"
       ]
      },
      {
       "output_type": "stream",
       "stream": "stdout",
       "text": [
        "\n",
        "REIDENTIFY: NOAO/IRAF V2.16 klabrie@libellule.local Thu 16:04:33 02-Apr-2015\n"
       ]
      },
      {
       "output_type": "stream",
       "stream": "stdout",
       "text": [
        "  Reference image = N20140228S0170_arc[SCI,14], New image = N20140228S0170_arc[SCI,14], Refit = yes\n",
        "          Image Data    Found     Fit Pix Shift  User Shift  Z Shift      RMS\n"
       ]
      },
      {
       "output_type": "stream",
       "stream": "stdout",
       "text": [
        "N20140228S0170_arc[SCI,14][*,25] 23/25   23/23     0.0547     -0.0563  -5.2E-6    0.084\n"
       ]
      },
      {
       "output_type": "stream",
       "stream": "stdout",
       "text": [
        "N20140228S0170_arc[SCI,14][*,25] 23/25   23/23     0.0547     -0.0563  -5.2E-6    0.084\n"
       ]
      },
      {
       "output_type": "stream",
       "stream": "stdout",
       "text": [
        "N20140228S0170_arc[SCI,14][*,15] 23/23   22/23     0.0629     -0.0652  -6.2E-6   0.0517\n"
       ]
      },
      {
       "output_type": "stream",
       "stream": "stdout",
       "text": [
        "N20140228S0170_arc[SCI,14][*,5] 23/23   23/23     0.0281     -0.0292  -2.8E-6    0.059\n"
       ]
      },
      {
       "output_type": "stream",
       "stream": "stdout",
       "text": [
        "N20140228S0170_arc[SCI,14][*,45] 23/25   23/23     -0.115       0.119  1.11E-5   0.0445\n"
       ]
      },
      {
       "output_type": "stream",
       "stream": "stdout",
       "text": [
        "N20140228S0170_arc[SCI,14][*,55] 23/23   21/23      -0.14       0.145  1.34E-5   0.0327\n"
       ]
      },
      {
       "output_type": "stream",
       "stream": "stdout",
       "text": [
        "N20140228S0170_arc[SCI,14][*,65] 23/23   22/23     -0.076      0.0787  7.38E-6     0.07\n"
       ]
      },
      {
       "output_type": "stream",
       "stream": "stdout",
       "text": [
        "Lamp image: rgnN20140228S0170[SCI,15]\n",
        "\n"
       ]
      },
      {
       "output_type": "stream",
       "stream": "stdout",
       "text": [
        "AUTOIDENTIFY: NOAO/IRAF V2.16 klabrie@libellule.local Thu 16:04:34 02-Apr-2015\n"
       ]
      },
      {
       "output_type": "stream",
       "stream": "stdout",
       "text": [
        "  Spectrum                 # Found   Midpoint Dispersion        RMS\n"
       ]
      },
      {
       "output_type": "stream",
       "stream": "stdout",
       "text": [
        "  N20140228S0170_arc[SCI,15][*,35]         23   10507.52      -1.04     0.0862\n"
       ]
      },
      {
       "output_type": "stream",
       "stream": "stdout",
       "text": [
        "N20140228S0170_arc[SCI,15][*,35]: Examine identifications interactively?"
       ]
      },
      {
       "output_type": "stream",
       "stream": "stdout",
       "text": [
        "   1699.37  9802.2998     9802.4 \n"
       ]
      },
      {
       "output_type": "stream",
       "stream": "stdout",
       "text": [
        "\n",
        "REIDENTIFY: NOAO/IRAF V2.16 klabrie@libellule.local Thu 16:04:34 02-Apr-2015\n"
       ]
      },
      {
       "output_type": "stream",
       "stream": "stdout",
       "text": [
        "  Reference image = N20140228S0170_arc[SCI,15], New image = N20140228S0170_arc[SCI,15], Refit = yes\n",
        "          Image Data    Found     Fit Pix Shift  User Shift  Z Shift      RMS\n"
       ]
      },
      {
       "output_type": "stream",
       "stream": "stdout",
       "text": [
        "N20140228S0170_arc[SCI,15][*,25] 22/23   21/22    0.00101    -0.00122  -2.5E-7     0.08\n"
       ]
      },
      {
       "output_type": "stream",
       "stream": "stdout",
       "text": [
        "N20140228S0170_arc[SCI,15][*,25] 22/23   21/22    0.00101    -0.00122  -2.5E-7     0.08\n"
       ]
      },
      {
       "output_type": "stream",
       "stream": "stdout",
       "text": [
        "N20140228S0170_arc[SCI,15][*,15] 22/22   21/22     0.0818     -0.0848  -7.8E-6   0.0542\n"
       ]
      },
      {
       "output_type": "stream",
       "stream": "stdout",
       "text": [
        "N20140228S0170_arc[SCI,15][*,5] 21/22   21/21    -0.0125       0.013  1.20E-6   0.0711\n"
       ]
      },
      {
       "output_type": "stream",
       "stream": "stdout",
       "text": [
        "N20140228S0170_arc[SCI,15][*,45] 22/23   21/22     -0.165       0.171  1.60E-5   0.0597\n"
       ]
      },
      {
       "output_type": "stream",
       "stream": "stdout",
       "text": [
        "N20140228S0170_arc[SCI,15][*,55] 22/22   20/22      -0.12       0.125  1.16E-5   0.0315\n"
       ]
      },
      {
       "output_type": "stream",
       "stream": "stdout",
       "text": [
        "N20140228S0170_arc[SCI,15][*,65] 22/22   20/22      0.053     -0.0549  -5.1E-6   0.0359\n"
       ]
      },
      {
       "output_type": "stream",
       "stream": "stdout",
       "text": [
        "Lamp image: rgnN20140228S0170[SCI,16]\n",
        "\n"
       ]
      },
      {
       "output_type": "stream",
       "stream": "stdout",
       "text": [
        "AUTOIDENTIFY: NOAO/IRAF V2.16 klabrie@libellule.local Thu 16:04:35 02-Apr-2015\n"
       ]
      },
      {
       "output_type": "stream",
       "stream": "stdout",
       "text": [
        "  Spectrum                 # Found   Midpoint Dispersion        RMS\n"
       ]
      },
      {
       "output_type": "stream",
       "stream": "stdout",
       "text": [
        "  N20140228S0170_arc[SCI,16][*,35]         25    10505.2      -1.04     0.0689\n"
       ]
      },
      {
       "output_type": "stream",
       "stream": "stdout",
       "text": [
        "N20140228S0170_arc[SCI,16][*,35]: Examine identifications interactively?"
       ]
      },
      {
       "output_type": "stream",
       "stream": "stdout",
       "text": [
        "   1711.79    9787.17    9787.18 \n"
       ]
      },
      {
       "output_type": "stream",
       "stream": "stdout",
       "text": [
        "\n",
        "REIDENTIFY: NOAO/IRAF V2.16 klabrie@libellule.local Thu 16:04:35 02-Apr-2015\n"
       ]
      },
      {
       "output_type": "stream",
       "stream": "stdout",
       "text": [
        "  Reference image = N20140228S0170_arc[SCI,16], New image = N20140228S0170_arc[SCI,16], Refit = yes\n",
        "          Image Data    Found     Fit Pix Shift  User Shift  Z Shift      RMS\n"
       ]
      },
      {
       "output_type": "stream",
       "stream": "stdout",
       "text": [
        "N20140228S0170_arc[SCI,16][*,25] 24/25   22/24     -0.134       0.138  1.26E-5    0.039\n"
       ]
      },
      {
       "output_type": "stream",
       "stream": "stdout",
       "text": [
        "N20140228S0170_arc[SCI,16][*,25] 24/25   22/24     -0.134       0.138  1.26E-5    0.039\n"
       ]
      },
      {
       "output_type": "stream",
       "stream": "stdout",
       "text": [
        "N20140228S0170_arc[SCI,16][*,15] 24/24   23/24     0.0319     -0.0331  -3.1E-6   0.0775\n"
       ]
      },
      {
       "output_type": "stream",
       "stream": "stdout",
       "text": [
        "N20140228S0170_arc[SCI,16][*,5] 24/24   23/24      0.108      -0.112  -1.0E-5    0.096\n"
       ]
      },
      {
       "output_type": "stream",
       "stream": "stdout",
       "text": [
        "N20140228S0170_arc[SCI,16][*,45] 23/25   23/23    -0.0624      0.0646  6.04E-6   0.0554\n"
       ]
      },
      {
       "output_type": "stream",
       "stream": "stdout",
       "text": [
        "N20140228S0170_arc[SCI,16][*,55] 23/23   22/23    -0.0357       0.037  3.46E-6   0.0369\n"
       ]
      },
      {
       "output_type": "stream",
       "stream": "stdout",
       "text": [
        "N20140228S0170_arc[SCI,16][*,65] 23/23   22/23    -0.0167      0.0173  1.66E-6   0.0511\n"
       ]
      },
      {
       "output_type": "stream",
       "stream": "stdout",
       "text": [
        "Lamp image: rgnN20140228S0170[SCI,17]\n",
        "\n"
       ]
      },
      {
       "output_type": "stream",
       "stream": "stdout",
       "text": [
        "AUTOIDENTIFY: NOAO/IRAF V2.16 klabrie@libellule.local Thu 16:04:36 02-Apr-2015\n"
       ]
      },
      {
       "output_type": "stream",
       "stream": "stdout",
       "text": [
        "  Spectrum                 # Found   Midpoint Dispersion        RMS\n"
       ]
      },
      {
       "output_type": "stream",
       "stream": "stdout",
       "text": [
        "  N20140228S0170_arc[SCI,17][*,35]         27   10502.92      -1.04     0.0277\n"
       ]
      },
      {
       "output_type": "stream",
       "stream": "stdout",
       "text": [
        "N20140228S0170_arc[SCI,17][*,35]: Examine identifications interactively?"
       ]
      },
      {
       "output_type": "stream",
       "stream": "stdout",
       "text": [
        "   1049.40  10472.941    10472.9 \n"
       ]
      },
      {
       "output_type": "stream",
       "stream": "stdout",
       "text": [
        "\n",
        "REIDENTIFY: NOAO/IRAF V2.16 klabrie@libellule.local Thu 16:04:36 02-Apr-2015\n"
       ]
      },
      {
       "output_type": "stream",
       "stream": "stdout",
       "text": [
        "  Reference image = N20140228S0170_arc[SCI,17], New image = N20140228S0170_arc[SCI,17], Refit = yes\n",
        "          Image Data    Found     Fit Pix Shift  User Shift  Z Shift      RMS\n"
       ]
      },
      {
       "output_type": "stream",
       "stream": "stdout",
       "text": [
        "N20140228S0170_arc[SCI,17][*,25] 24/27   22/24      0.209      -0.216  -2.0E-5   0.0598\n"
       ]
      },
      {
       "output_type": "stream",
       "stream": "stdout",
       "text": [
        "N20140228S0170_arc[SCI,17][*,25] 24/27   22/24      0.209      -0.216  -2.0E-5   0.0598\n"
       ]
      },
      {
       "output_type": "stream",
       "stream": "stdout",
       "text": [
        "N20140228S0170_arc[SCI,17][*,15] 24/24   23/24     -0.065      0.0674  6.41E-6    0.123\n"
       ]
      },
      {
       "output_type": "stream",
       "stream": "stdout",
       "text": [
        "N20140228S0170_arc[SCI,17][*,5] 23/24   22/23    -0.0395      0.0409  3.67E-6   0.0701\n"
       ]
      },
      {
       "output_type": "stream",
       "stream": "stdout",
       "text": [
        "N20140228S0170_arc[SCI,17][*,45] 24/27   23/24    -0.0576      0.0597  5.59E-6   0.0469\n"
       ]
      },
      {
       "output_type": "stream",
       "stream": "stdout",
       "text": [
        "N20140228S0170_arc[SCI,17][*,55] 24/24   22/24     -0.129       0.133  1.25E-5   0.0334\n"
       ]
      },
      {
       "output_type": "stream",
       "stream": "stdout",
       "text": [
        "N20140228S0170_arc[SCI,17][*,65] 23/24   23/23    -0.0294      0.0304  2.84E-6   0.0991\n"
       ]
      },
      {
       "output_type": "stream",
       "stream": "stdout",
       "text": [
        "Lamp image: rgnN20140228S0170[SCI,18]\n",
        "\n"
       ]
      },
      {
       "output_type": "stream",
       "stream": "stdout",
       "text": [
        "AUTOIDENTIFY: NOAO/IRAF V2.16 klabrie@libellule.local Thu 16:04:36 02-Apr-2015\n"
       ]
      },
      {
       "output_type": "stream",
       "stream": "stdout",
       "text": [
        "  Spectrum                 # Found   Midpoint Dispersion        RMS\n"
       ]
      },
      {
       "output_type": "stream",
       "stream": "stdout",
       "text": [
        "  N20140228S0170_arc[SCI,18][*,35]         24   10500.06      -1.04     0.0614\n"
       ]
      },
      {
       "output_type": "stream",
       "stream": "stdout",
       "text": [
        "N20140228S0170_arc[SCI,18][*,35]: Examine identifications interactively?"
       ]
      },
      {
       "output_type": "stream",
       "stream": "stdout",
       "text": [
        "   1692.29  9802.2846     9802.4 \n"
       ]
      },
      {
       "output_type": "stream",
       "stream": "stdout",
       "text": [
        "\n",
        "REIDENTIFY: NOAO/IRAF V2.16 klabrie@libellule.local Thu 16:04:37 02-Apr-2015\n"
       ]
      },
      {
       "output_type": "stream",
       "stream": "stdout",
       "text": [
        "  Reference image = N20140228S0170_arc[SCI,18], New image = N20140228S0170_arc[SCI,18], Refit = yes\n",
        "          Image Data    Found     Fit Pix Shift  User Shift  Z Shift      RMS\n"
       ]
      },
      {
       "output_type": "stream",
       "stream": "stdout",
       "text": [
        "N20140228S0170_arc[SCI,18][*,25] 23/24   23/23   -0.00836     0.00914  7.77E-7   0.0795\n"
       ]
      },
      {
       "output_type": "stream",
       "stream": "stdout",
       "text": [
        "N20140228S0170_arc[SCI,18][*,25] 23/24   23/23   -0.00836     0.00914  7.77E-7   0.0795\n"
       ]
      },
      {
       "output_type": "stream",
       "stream": "stdout",
       "text": [
        "N20140228S0170_arc[SCI,18][*,15] 23/23   22/23    -0.0127      0.0132  1.35E-6   0.0637\n"
       ]
      },
      {
       "output_type": "stream",
       "stream": "stdout",
       "text": [
        "N20140228S0170_arc[SCI,18][*,5] 23/23   23/23   -0.00503     0.00518  4.00E-7    0.075\n"
       ]
      },
      {
       "output_type": "stream",
       "stream": "stdout",
       "text": [
        "N20140228S0170_arc[SCI,18][*,45] 23/24   23/23    -0.0365      0.0378  3.50E-6   0.0588\n"
       ]
      },
      {
       "output_type": "stream",
       "stream": "stdout",
       "text": [
        "N20140228S0170_arc[SCI,18][*,55] 23/23   22/23     0.0315     -0.0326  -3.0E-6   0.0512\n"
       ]
      },
      {
       "output_type": "stream",
       "stream": "stdout",
       "text": [
        "N20140228S0170_arc[SCI,18][*,65] 23/23   23/23     0.0227     -0.0235  -2.3E-6   0.0657\n"
       ]
      },
      {
       "output_type": "stream",
       "stream": "stdout",
       "text": [
        "Lamp image: rgnN20140228S0170[SCI,19]\n",
        "\n"
       ]
      },
      {
       "output_type": "stream",
       "stream": "stdout",
       "text": [
        "AUTOIDENTIFY: NOAO/IRAF V2.16 klabrie@libellule.local Thu 16:04:38 02-Apr-2015\n"
       ]
      },
      {
       "output_type": "stream",
       "stream": "stdout",
       "text": [
        "  Spectrum                 # Found   Midpoint Dispersion        RMS\n"
       ]
      },
      {
       "output_type": "stream",
       "stream": "stdout",
       "text": [
        "  N20140228S0170_arc[SCI,19][*,35]         27   10497.28      -1.04     0.0506\n"
       ]
      },
      {
       "output_type": "stream",
       "stream": "stdout",
       "text": [
        "N20140228S0170_arc[SCI,19][*,35]: Examine identifications interactively?"
       ]
      },
      {
       "output_type": "stream",
       "stream": "stdout",
       "text": [
        "   1570.77  9925.8814     9925.9 \n"
       ]
      },
      {
       "output_type": "stream",
       "stream": "stdout",
       "text": [
        "\n",
        "REIDENTIFY: NOAO/IRAF V2.16 klabrie@libellule.local Thu 16:04:38 02-Apr-2015\n"
       ]
      },
      {
       "output_type": "stream",
       "stream": "stdout",
       "text": [
        "  Reference image = N20140228S0170_arc[SCI,19], New image = N20140228S0170_arc[SCI,19], Refit = yes\n",
        "          Image Data    Found     Fit Pix Shift  User Shift  Z Shift      RMS\n"
       ]
      },
      {
       "output_type": "stream",
       "stream": "stdout",
       "text": [
        "N20140228S0170_arc[SCI,19][*,25] 24/27   23/24     -0.174        0.18  1.67E-5   0.0571\n"
       ]
      },
      {
       "output_type": "stream",
       "stream": "stdout",
       "text": [
        "N20140228S0170_arc[SCI,19][*,25] 24/27   23/24     -0.174        0.18  1.67E-5   0.0571\n"
       ]
      },
      {
       "output_type": "stream",
       "stream": "stdout",
       "text": [
        "N20140228S0170_arc[SCI,19][*,15] 23/24   22/23    -0.0425      0.0441  4.15E-6   0.0515\n"
       ]
      },
      {
       "output_type": "stream",
       "stream": "stdout",
       "text": [
        "N20140228S0170_arc[SCI,19][*,5] 23/23   23/23    -0.0422      0.0438  4.12E-6   0.0809\n"
       ]
      },
      {
       "output_type": "stream",
       "stream": "stdout",
       "text": [
        "N20140228S0170_arc[SCI,19][*,45] 25/27   23/25     0.0201     -0.0209  -2.0E-6   0.0565\n"
       ]
      },
      {
       "output_type": "stream",
       "stream": "stdout",
       "text": [
        "N20140228S0170_arc[SCI,19][*,55] 23/25   23/23    -0.0881      0.0913  8.52E-6   0.0699\n"
       ]
      },
      {
       "output_type": "stream",
       "stream": "stdout",
       "text": [
        "N20140228S0170_arc[SCI,19][*,65] 23/23   22/23     0.0476     -0.0493  -4.6E-6   0.0453\n"
       ]
      },
      {
       "output_type": "stream",
       "stream": "stdout",
       "text": [
        "Lamp image: rgnN20140228S0170[SCI,20]\n",
        "\n"
       ]
      },
      {
       "output_type": "stream",
       "stream": "stdout",
       "text": [
        "AUTOIDENTIFY: NOAO/IRAF V2.16 klabrie@libellule.local Thu 16:04:39 02-Apr-2015\n"
       ]
      },
      {
       "output_type": "stream",
       "stream": "stdout",
       "text": [
        "  Spectrum                 # Found   Midpoint Dispersion        RMS\n"
       ]
      },
      {
       "output_type": "stream",
       "stream": "stdout",
       "text": [
        "  N20140228S0170_arc[SCI,20][*,35]         24   10494.13      -1.04     0.0594\n"
       ]
      },
      {
       "output_type": "stream",
       "stream": "stdout",
       "text": [
        "N20140228S0170_arc[SCI,20][*,35]: Examine identifications interactively?"
       ]
      },
      {
       "output_type": "stream",
       "stream": "stdout",
       "text": [
        "   1701.16  9787.1462    9787.18 \n"
       ]
      },
      {
       "output_type": "stream",
       "stream": "stdout",
       "text": [
        "\n",
        "REIDENTIFY: NOAO/IRAF V2.16 klabrie@libellule.local Thu 16:04:39 02-Apr-2015\n"
       ]
      },
      {
       "output_type": "stream",
       "stream": "stdout",
       "text": [
        "  Reference image = N20140228S0170_arc[SCI,20], New image = N20140228S0170_arc[SCI,20], Refit = yes\n",
        "          Image Data    Found     Fit Pix Shift  User Shift  Z Shift      RMS\n"
       ]
      },
      {
       "output_type": "stream",
       "stream": "stdout",
       "text": [
        "N20140228S0170_arc[SCI,20][*,25] 23/24   23/23    -0.0658      0.0683  6.41E-6   0.0858\n"
       ]
      },
      {
       "output_type": "stream",
       "stream": "stdout",
       "text": [
        "N20140228S0170_arc[SCI,20][*,25] 23/24   23/23    -0.0658      0.0683  6.41E-6   0.0858\n"
       ]
      },
      {
       "output_type": "stream",
       "stream": "stdout",
       "text": [
        "N20140228S0170_arc[SCI,20][*,15] 23/23   23/23    0.00796    -0.00831  -9.0E-7   0.0905\n"
       ]
      },
      {
       "output_type": "stream",
       "stream": "stdout",
       "text": [
        "N20140228S0170_arc[SCI,20][*,5] 23/23   23/23     -0.167       0.173  1.62E-5   0.0742\n"
       ]
      },
      {
       "output_type": "stream",
       "stream": "stdout",
       "text": [
        "N20140228S0170_arc[SCI,20][*,45] 23/24   23/23     0.0483       -0.05  -4.7E-6   0.0551\n"
       ]
      },
      {
       "output_type": "stream",
       "stream": "stdout",
       "text": [
        "N20140228S0170_arc[SCI,20][*,55] 23/23   23/23      0.141      -0.146  -1.4E-5   0.0486\n"
       ]
      },
      {
       "output_type": "stream",
       "stream": "stdout",
       "text": [
        "N20140228S0170_arc[SCI,20][*,65] 23/23   21/23     0.0301     -0.0312  -3.0E-6   0.0602\n"
       ]
      },
      {
       "output_type": "stream",
       "stream": "stdout",
       "text": [
        "Lamp image: rgnN20140228S0170[SCI,21]\n",
        "\n"
       ]
      },
      {
       "output_type": "stream",
       "stream": "stdout",
       "text": [
        "AUTOIDENTIFY: NOAO/IRAF V2.16 klabrie@libellule.local Thu 16:04:41 02-Apr-2015\n"
       ]
      },
      {
       "output_type": "stream",
       "stream": "stdout",
       "text": [
        "  Spectrum                 # Found   Midpoint Dispersion        RMS\n"
       ]
      },
      {
       "output_type": "stream",
       "stream": "stdout",
       "text": [
        "  N20140228S0170_arc[SCI,21][*,35]         23   10490.96      -1.04     0.0457\n"
       ]
      },
      {
       "output_type": "stream",
       "stream": "stdout",
       "text": [
        "N20140228S0170_arc[SCI,21][*,35]: Examine identifications interactively?"
       ]
      },
      {
       "output_type": "stream",
       "stream": "stdout",
       "text": [
        "   1698.06  9787.1729    9787.18 \n"
       ]
      },
      {
       "output_type": "stream",
       "stream": "stdout",
       "text": [
        "\n",
        "REIDENTIFY: NOAO/IRAF V2.16 klabrie@libellule.local Thu 16:04:41 02-Apr-2015\n"
       ]
      },
      {
       "output_type": "stream",
       "stream": "stdout",
       "text": [
        "  Reference image = N20140228S0170_arc[SCI,21], New image = N20140228S0170_arc[SCI,21], Refit = yes\n",
        "          Image Data    Found     Fit Pix Shift  User Shift  Z Shift      RMS\n"
       ]
      },
      {
       "output_type": "stream",
       "stream": "stdout",
       "text": [
        "N20140228S0170_arc[SCI,21][*,25] 23/23   23/23      -0.12       0.124  1.16E-5   0.0622\n"
       ]
      },
      {
       "output_type": "stream",
       "stream": "stdout",
       "text": [
        "N20140228S0170_arc[SCI,21][*,25] 23/23   23/23      -0.12       0.124  1.16E-5   0.0622\n"
       ]
      },
      {
       "output_type": "stream",
       "stream": "stdout",
       "text": [
        "N20140228S0170_arc[SCI,21][*,15] 23/23   23/23     -0.191       0.198  1.85E-5    0.079\n"
       ]
      },
      {
       "output_type": "stream",
       "stream": "stdout",
       "text": [
        "N20140228S0170_arc[SCI,21][*,5] 23/23   23/23    -0.0934      0.0967  9.00E-6   0.0659\n"
       ]
      },
      {
       "output_type": "stream",
       "stream": "stdout",
       "text": [
        "N20140228S0170_arc[SCI,21][*,45] 23/23   23/23     0.0772     -0.0799  -7.4E-6   0.0612\n"
       ]
      },
      {
       "output_type": "stream",
       "stream": "stdout",
       "text": [
        "N20140228S0170_arc[SCI,21][*,55] 23/23   23/23     0.0392     -0.0407  -4.0E-6   0.0669\n"
       ]
      },
      {
       "output_type": "stream",
       "stream": "stdout",
       "text": [
        "N20140228S0170_arc[SCI,21][*,65] 23/23   20/23      0.108      -0.112  -1.0E-5   0.0365\n"
       ]
      },
      {
       "output_type": "stream",
       "stream": "stdout",
       "text": [
        "Lamp image: rgnN20140228S0170[SCI,22]\n",
        "\n"
       ]
      },
      {
       "output_type": "stream",
       "stream": "stdout",
       "text": [
        "AUTOIDENTIFY: NOAO/IRAF V2.16 klabrie@libellule.local Thu 16:04:42 02-Apr-2015\n"
       ]
      },
      {
       "output_type": "stream",
       "stream": "stdout",
       "text": [
        "  Spectrum                 # Found   Midpoint Dispersion        RMS\n"
       ]
      },
      {
       "output_type": "stream",
       "stream": "stdout",
       "text": [
        "  N20140228S0170_arc[SCI,22][*,35]         23   10487.38      -1.04     0.0428\n"
       ]
      },
      {
       "output_type": "stream",
       "stream": "stdout",
       "text": [
        "N20140228S0170_arc[SCI,22][*,35]: Examine identifications interactively?"
       ]
      },
      {
       "output_type": "stream",
       "stream": "stdout",
       "text": [
        "   1816.48  9660.4101    9660.43 \n"
       ]
      },
      {
       "output_type": "stream",
       "stream": "stdout",
       "text": [
        "\n",
        "REIDENTIFY: NOAO/IRAF V2.16 klabrie@libellule.local Thu 16:04:42 02-Apr-2015\n"
       ]
      },
      {
       "output_type": "stream",
       "stream": "stdout",
       "text": [
        "  Reference image = N20140228S0170_arc[SCI,22], New image = N20140228S0170_arc[SCI,22], Refit = yes\n",
        "          Image Data    Found     Fit Pix Shift  User Shift  Z Shift      RMS\n"
       ]
      },
      {
       "output_type": "stream",
       "stream": "stdout",
       "text": [
        "N20140228S0170_arc[SCI,22][*,25] 23/23   23/23     -0.142       0.147  1.37E-5   0.0505\n"
       ]
      },
      {
       "output_type": "stream",
       "stream": "stdout",
       "text": [
        "N20140228S0170_arc[SCI,22][*,25] 23/23   23/23     -0.142       0.147  1.37E-5   0.0505\n"
       ]
      },
      {
       "output_type": "stream",
       "stream": "stdout",
       "text": [
        "N20140228S0170_arc[SCI,22][*,15] 23/23   23/23     -0.119       0.123  1.15E-5   0.0702\n"
       ]
      },
      {
       "output_type": "stream",
       "stream": "stdout",
       "text": [
        "N20140228S0170_arc[SCI,22][*,5] 23/23   21/23     -0.139       0.144  1.35E-5   0.0544\n"
       ]
      },
      {
       "output_type": "stream",
       "stream": "stdout",
       "text": [
        "N20140228S0170_arc[SCI,22][*,45] 22/23   22/22      0.145      -0.151  -1.4E-5   0.0481\n"
       ]
      },
      {
       "output_type": "stream",
       "stream": "stdout",
       "text": [
        "N20140228S0170_arc[SCI,22][*,55] 22/22   22/22     0.0351     -0.0363  -3.2E-6   0.0733\n"
       ]
      },
      {
       "output_type": "stream",
       "stream": "stdout",
       "text": [
        "N20140228S0170_arc[SCI,22][*,65] 22/22   20/22     0.0837     -0.0867  -8.0E-6   0.0475\n"
       ]
      },
      {
       "output_type": "stream",
       "stream": "stdout",
       "text": [
        "Lamp image: rgnN20140228S0170[SCI,23]\n",
        "\n"
       ]
      },
      {
       "output_type": "stream",
       "stream": "stdout",
       "text": [
        "AUTOIDENTIFY: NOAO/IRAF V2.16 klabrie@libellule.local Thu 16:04:43 02-Apr-2015\n"
       ]
      },
      {
       "output_type": "stream",
       "stream": "stdout",
       "text": [
        "  Spectrum                 # Found   Midpoint Dispersion        RMS\n"
       ]
      },
      {
       "output_type": "stream",
       "stream": "stdout",
       "text": [
        "  N20140228S0170_arc[SCI,23][*,35]         25   10483.81      -1.04     0.0483\n"
       ]
      },
      {
       "output_type": "stream",
       "stream": "stdout",
       "text": [
        "N20140228S0170_arc[SCI,23][*,35]: Examine identifications interactively?"
       ]
      },
      {
       "output_type": "stream",
       "stream": "stdout",
       "text": [
        "   1557.85  9925.8867     9925.9 \n"
       ]
      },
      {
       "output_type": "stream",
       "stream": "stdout",
       "text": [
        "\n",
        "REIDENTIFY: NOAO/IRAF V2.16 klabrie@libellule.local Thu 16:04:43 02-Apr-2015\n"
       ]
      },
      {
       "output_type": "stream",
       "stream": "stdout",
       "text": [
        "  Reference image = N20140228S0170_arc[SCI,23], New image = N20140228S0170_arc[SCI,23], Refit = yes\n",
        "          Image Data    Found     Fit Pix Shift  User Shift  Z Shift      RMS\n"
       ]
      },
      {
       "output_type": "stream",
       "stream": "stdout",
       "text": [
        "N20140228S0170_arc[SCI,23][*,25] 23/25   23/23     -0.099       0.103  9.70E-6   0.0835\n"
       ]
      },
      {
       "output_type": "stream",
       "stream": "stdout",
       "text": [
        "N20140228S0170_arc[SCI,23][*,25] 23/25   23/23     -0.099       0.103  9.70E-6   0.0835\n"
       ]
      },
      {
       "output_type": "stream",
       "stream": "stdout",
       "text": [
        "N20140228S0170_arc[SCI,23][*,15] 23/23   22/23     -0.229       0.237  2.21E-5    0.045\n"
       ]
      },
      {
       "output_type": "stream",
       "stream": "stdout",
       "text": [
        "N20140228S0170_arc[SCI,23][*,5] 23/23   22/23     -0.138       0.143  1.36E-5   0.0854\n"
       ]
      },
      {
       "output_type": "stream",
       "stream": "stdout",
       "text": [
        "N20140228S0170_arc[SCI,23][*,45] 24/25   21/24     0.0194       -0.02  -1.8E-6   0.0356\n"
       ]
      },
      {
       "output_type": "stream",
       "stream": "stdout",
       "text": [
        "N20140228S0170_arc[SCI,23][*,55] 24/24   24/24      0.124      -0.128  -1.2E-5   0.0516\n"
       ]
      },
      {
       "output_type": "stream",
       "stream": "stdout",
       "text": [
        "N20140228S0170_arc[SCI,23][*,65] 23/24   21/23      0.174       -0.18  -1.7E-5   0.0458\n"
       ]
      },
      {
       "output_type": "stream",
       "stream": "stdout",
       "text": [
        "Lamp image: rgnN20140228S0170[SCI,24]\n",
        "\n"
       ]
      },
      {
       "output_type": "stream",
       "stream": "stdout",
       "text": [
        "AUTOIDENTIFY: NOAO/IRAF V2.16 klabrie@libellule.local Thu 16:04:44 02-Apr-2015\n"
       ]
      },
      {
       "output_type": "stream",
       "stream": "stdout",
       "text": [
        "  Spectrum                 # Found   Midpoint Dispersion        RMS\n"
       ]
      },
      {
       "output_type": "stream",
       "stream": "stdout",
       "text": [
        "  N20140228S0170_arc[SCI,24][*,35]         24   10479.67      -1.04     0.0728\n"
       ]
      },
      {
       "output_type": "stream",
       "stream": "stdout",
       "text": [
        "N20140228S0170_arc[SCI,24][*,35]: Examine identifications interactively?"
       ]
      },
      {
       "output_type": "stream",
       "stream": "stdout",
       "text": [
        "   1687.31  9787.1769  9787.1797 \n"
       ]
      },
      {
       "output_type": "stream",
       "stream": "stdout",
       "text": [
        "\n",
        "REIDENTIFY: NOAO/IRAF V2.16 klabrie@libellule.local Thu 16:04:44 02-Apr-2015\n"
       ]
      },
      {
       "output_type": "stream",
       "stream": "stdout",
       "text": [
        "  Reference image = N20140228S0170_arc[SCI,24], New image = N20140228S0170_arc[SCI,24], Refit = yes\n",
        "          Image Data    Found     Fit Pix Shift  User Shift  Z Shift      RMS\n"
       ]
      },
      {
       "output_type": "stream",
       "stream": "stdout",
       "text": [
        "N20140228S0170_arc[SCI,24][*,25] 24/24   23/24     -0.472       0.488  4.54E-5   0.0789\n"
       ]
      },
      {
       "output_type": "stream",
       "stream": "stdout",
       "text": [
        "N20140228S0170_arc[SCI,24][*,25] 24/24   23/24     -0.472       0.488  4.54E-5   0.0789\n"
       ]
      },
      {
       "output_type": "stream",
       "stream": "stdout",
       "text": [
        "N20140228S0170_arc[SCI,24][*,15] 23/24   23/23     -0.201       0.208  1.93E-5   0.0945\n"
       ]
      },
      {
       "output_type": "stream",
       "stream": "stdout",
       "text": [
        "N20140228S0170_arc[SCI,24][*,5] 23/23   23/23     -0.116        0.12  1.11E-5    0.054\n"
       ]
      },
      {
       "output_type": "stream",
       "stream": "stdout",
       "text": [
        "N20140228S0170_arc[SCI,24][*,45] 23/24   21/23      0.309       -0.32  -3.0E-5   0.0381\n"
       ]
      },
      {
       "output_type": "stream",
       "stream": "stdout",
       "text": [
        "N20140228S0170_arc[SCI,24][*,55] 23/23   22/23      0.215      -0.222  -2.1E-5   0.0558\n"
       ]
      },
      {
       "output_type": "stream",
       "stream": "stdout",
       "text": [
        "N20140228S0170_arc[SCI,24][*,65] 23/23   20/23      0.135       -0.14  -1.3E-5   0.0402\n"
       ]
      },
      {
       "output_type": "stream",
       "stream": "stdout",
       "text": [
        "Lamp image: rgnN20140228S0170[SCI,25]\n",
        "\n"
       ]
      },
      {
       "output_type": "stream",
       "stream": "stdout",
       "text": [
        "AUTOIDENTIFY: NOAO/IRAF V2.16 klabrie@libellule.local Thu 16:04:45 02-Apr-2015\n"
       ]
      },
      {
       "output_type": "stream",
       "stream": "stdout",
       "text": [
        "  Spectrum                 # Found   Midpoint Dispersion        RMS\n"
       ]
      },
      {
       "output_type": "stream",
       "stream": "stdout",
       "text": [
        "  N20140228S0170_arc[SCI,25][*,35]         26   10475.77      -1.04     0.0619\n"
       ]
      },
      {
       "output_type": "stream",
       "stream": "stdout",
       "text": [
        "N20140228S0170_arc[SCI,25][*,35]: Examine identifications interactively?"
       ]
      },
      {
       "output_type": "stream",
       "stream": "stdout",
       "text": [
        "   1668.88  9802.3877     9802.4 \n"
       ]
      },
      {
       "output_type": "stream",
       "stream": "stdout",
       "text": [
        "\n",
        "REIDENTIFY: NOAO/IRAF V2.16 klabrie@libellule.local Thu 16:04:45 02-Apr-2015\n"
       ]
      },
      {
       "output_type": "stream",
       "stream": "stdout",
       "text": [
        "  Reference image = N20140228S0170_arc[SCI,25], New image = N20140228S0170_arc[SCI,25], Refit = yes\n",
        "          Image Data    Found     Fit Pix Shift  User Shift  Z Shift      RMS\n"
       ]
      },
      {
       "output_type": "stream",
       "stream": "stdout",
       "text": [
        "N20140228S0170_arc[SCI,25][*,25] 24/26   22/24     -0.225       0.233  2.18E-5    0.055\n"
       ]
      },
      {
       "output_type": "stream",
       "stream": "stdout",
       "text": [
        "N20140228S0170_arc[SCI,25][*,25] 24/26   22/24     -0.225       0.233  2.18E-5    0.055\n"
       ]
      },
      {
       "output_type": "stream",
       "stream": "stdout",
       "text": [
        "N20140228S0170_arc[SCI,25][*,15] 23/24   22/23     -0.255       0.265  2.48E-5   0.0582\n"
       ]
      },
      {
       "output_type": "stream",
       "stream": "stdout",
       "text": [
        "N20140228S0170_arc[SCI,25][*,5] 22/23   21/22     -0.269       0.278  2.61E-5   0.0619\n"
       ]
      },
      {
       "output_type": "stream",
       "stream": "stdout",
       "text": [
        "N20140228S0170_arc[SCI,25][*,45] 24/26   24/24      0.178      -0.185  -1.7E-5   0.0979\n"
       ]
      },
      {
       "output_type": "stream",
       "stream": "stdout",
       "text": [
        "N20140228S0170_arc[SCI,25][*,55] 24/24   22/24      0.242      -0.251  -2.3E-5   0.0316\n"
       ]
      },
      {
       "output_type": "stream",
       "stream": "stdout",
       "text": [
        "N20140228S0170_arc[SCI,25][*,65] 24/24   22/24      0.114      -0.118  -1.1E-5   0.0486\n"
       ]
      },
      {
       "output_type": "stream",
       "stream": "stdout",
       "text": [
        "Lamp image: rgnN20140228S0170[SCI,26]\n",
        "\n"
       ]
      },
      {
       "output_type": "stream",
       "stream": "stdout",
       "text": [
        "AUTOIDENTIFY: NOAO/IRAF V2.16 klabrie@libellule.local Thu 16:04:46 02-Apr-2015\n"
       ]
      },
      {
       "output_type": "stream",
       "stream": "stdout",
       "text": [
        "  Spectrum                 # Found   Midpoint Dispersion        RMS\n"
       ]
      },
      {
       "output_type": "stream",
       "stream": "stdout",
       "text": [
        "  N20140228S0170_arc[SCI,26][*,35]         23   10471.56      -1.04     0.0498\n"
       ]
      },
      {
       "output_type": "stream",
       "stream": "stdout",
       "text": [
        "N20140228S0170_arc[SCI,26][*,35]: Examine identifications interactively?"
       ]
      },
      {
       "output_type": "stream",
       "stream": "stdout",
       "text": [
        "   1801.39  9660.4135    9660.43 \n"
       ]
      },
      {
       "output_type": "stream",
       "stream": "stdout",
       "text": [
        "\n",
        "REIDENTIFY: NOAO/IRAF V2.16 klabrie@libellule.local Thu 16:04:46 02-Apr-2015\n"
       ]
      },
      {
       "output_type": "stream",
       "stream": "stdout",
       "text": [
        "  Reference image = N20140228S0170_arc[SCI,26], New image = N20140228S0170_arc[SCI,26], Refit = yes\n",
        "          Image Data    Found     Fit Pix Shift  User Shift  Z Shift      RMS\n"
       ]
      },
      {
       "output_type": "stream",
       "stream": "stdout",
       "text": [
        "N20140228S0170_arc[SCI,26][*,25] 23/23   22/23     -0.236       0.246  2.31E-5   0.0451\n"
       ]
      },
      {
       "output_type": "stream",
       "stream": "stdout",
       "text": [
        "N20140228S0170_arc[SCI,26][*,25] 23/23   22/23     -0.236       0.246  2.31E-5   0.0451\n"
       ]
      },
      {
       "output_type": "stream",
       "stream": "stdout",
       "text": [
        "N20140228S0170_arc[SCI,26][*,15] 23/23   22/23     -0.214       0.222  2.08E-5   0.0402\n"
       ]
      },
      {
       "output_type": "stream",
       "stream": "stdout",
       "text": [
        "N20140228S0170_arc[SCI,26][*,5] 23/23   23/23     -0.308       0.319  2.97E-5    0.067\n"
       ]
      },
      {
       "output_type": "stream",
       "stream": "stdout",
       "text": [
        "N20140228S0170_arc[SCI,26][*,45] 23/23   22/23     0.0979      -0.101  -9.3E-6   0.0535\n"
       ]
      },
      {
       "output_type": "stream",
       "stream": "stdout",
       "text": [
        "N20140228S0170_arc[SCI,26][*,55] 23/23   22/23      0.263      -0.272  -2.6E-5   0.0306\n"
       ]
      },
      {
       "output_type": "stream",
       "stream": "stdout",
       "text": [
        "N20140228S0170_arc[SCI,26][*,65] 22/23   21/22       0.14      -0.145  -1.4E-5   0.0601\n"
       ]
      },
      {
       "output_type": "stream",
       "stream": "stdout",
       "text": [
        "Lamp image: rgnN20140228S0170[SCI,27]\n",
        "\n"
       ]
      },
      {
       "output_type": "stream",
       "stream": "stdout",
       "text": [
        "AUTOIDENTIFY: NOAO/IRAF V2.16 klabrie@libellule.local Thu 16:04:47 02-Apr-2015\n"
       ]
      },
      {
       "output_type": "stream",
       "stream": "stdout",
       "text": [
        "  Spectrum                 # Found   Midpoint Dispersion        RMS\n"
       ]
      },
      {
       "output_type": "stream",
       "stream": "stdout",
       "text": [
        "  N20140228S0170_arc[SCI,27][*,35]         23   10466.82      -1.04      0.075\n"
       ]
      },
      {
       "output_type": "stream",
       "stream": "stdout",
       "text": [
        "N20140228S0170_arc[SCI,27][*,35]: Examine identifications interactively?"
       ]
      },
      {
       "output_type": "stream",
       "stream": "stdout",
       "text": [
        "   1796.75  9660.5404    9660.43 \n"
       ]
      },
      {
       "output_type": "stream",
       "stream": "stdout",
       "text": [
        "\n",
        "REIDENTIFY: NOAO/IRAF V2.16 klabrie@libellule.local Thu 16:04:48 02-Apr-2015\n"
       ]
      },
      {
       "output_type": "stream",
       "stream": "stdout",
       "text": [
        "  Reference image = N20140228S0170_arc[SCI,27], New image = N20140228S0170_arc[SCI,27], Refit = yes\n",
        "          Image Data    Found     Fit Pix Shift  User Shift  Z Shift      RMS\n"
       ]
      },
      {
       "output_type": "stream",
       "stream": "stdout",
       "text": [
        "N20140228S0170_arc[SCI,27][*,25] 23/23   22/23     -0.289       0.299  2.77E-5   0.0573\n"
       ]
      },
      {
       "output_type": "stream",
       "stream": "stdout",
       "text": [
        "N20140228S0170_arc[SCI,27][*,25] 23/23   22/23     -0.289       0.299  2.77E-5   0.0573\n"
       ]
      },
      {
       "output_type": "stream",
       "stream": "stdout",
       "text": [
        "N20140228S0170_arc[SCI,27][*,15] 23/23   23/23     -0.227       0.235  2.21E-5   0.0693\n"
       ]
      },
      {
       "output_type": "stream",
       "stream": "stdout",
       "text": [
        "N20140228S0170_arc[SCI,27][*,5] 23/23   20/23     -0.268       0.278  2.61E-5   0.0471\n"
       ]
      },
      {
       "output_type": "stream",
       "stream": "stdout",
       "text": [
        "N20140228S0170_arc[SCI,27][*,45] 23/23   22/23      0.299       -0.31  -2.9E-5   0.0738\n"
       ]
      },
      {
       "output_type": "stream",
       "stream": "stdout",
       "text": [
        "N20140228S0170_arc[SCI,27][*,55] 23/23   22/23      0.311      -0.323  -3.0E-5    0.032\n"
       ]
      },
      {
       "output_type": "stream",
       "stream": "stdout",
       "text": [
        "N20140228S0170_arc[SCI,27][*,65] 23/23   23/23      0.196      -0.203  -1.9E-5   0.0889\n"
       ]
      },
      {
       "output_type": "stream",
       "stream": "stdout",
       "text": [
        "Lamp image: rgnN20140228S0170[SCI,28]\n",
        "\n"
       ]
      },
      {
       "output_type": "stream",
       "stream": "stdout",
       "text": [
        "AUTOIDENTIFY: NOAO/IRAF V2.16 klabrie@libellule.local Thu 16:04:48 02-Apr-2015\n"
       ]
      },
      {
       "output_type": "stream",
       "stream": "stdout",
       "text": [
        "  Spectrum                 # Found   Midpoint Dispersion        RMS\n"
       ]
      },
      {
       "output_type": "stream",
       "stream": "stdout",
       "text": [
        "  N20140228S0170_arc[SCI,28][*,35]         24   10462.11      -1.04      0.124\n"
       ]
      },
      {
       "output_type": "stream",
       "stream": "stdout",
       "text": [
        "N20140228S0170_arc[SCI,28][*,35]: Examine identifications interactively?"
       ]
      },
      {
       "output_type": "stream",
       "stream": "stdout",
       "text": [
        "   1670.49  9787.1136  9787.1797 \n"
       ]
      },
      {
       "output_type": "stream",
       "stream": "stdout",
       "text": [
        "\n",
        "REIDENTIFY: NOAO/IRAF V2.16 klabrie@libellule.local Thu 16:04:49 02-Apr-2015\n"
       ]
      },
      {
       "output_type": "stream",
       "stream": "stdout",
       "text": [
        "  Reference image = N20140228S0170_arc[SCI,28], New image = N20140228S0170_arc[SCI,28], Refit = yes\n",
        "          Image Data    Found     Fit Pix Shift  User Shift  Z Shift      RMS\n"
       ]
      },
      {
       "output_type": "stream",
       "stream": "stdout",
       "text": [
        "N20140228S0170_arc[SCI,28][*,25] 23/24   23/23     -0.332       0.343  3.20E-5   0.0597\n"
       ]
      },
      {
       "output_type": "stream",
       "stream": "stdout",
       "text": [
        "N20140228S0170_arc[SCI,28][*,25] 23/24   23/23     -0.332       0.343  3.20E-5   0.0597\n"
       ]
      },
      {
       "output_type": "stream",
       "stream": "stdout",
       "text": [
        "N20140228S0170_arc[SCI,28][*,15] 23/23   20/23     -0.369       0.383  3.59E-5   0.0244\n"
       ]
      },
      {
       "output_type": "stream",
       "stream": "stdout",
       "text": [
        "N20140228S0170_arc[SCI,28][*,5] 22/23   22/22    -0.0926      0.0961  9.28E-6    0.171\n"
       ]
      },
      {
       "output_type": "stream",
       "stream": "stdout",
       "text": [
        "N20140228S0170_arc[SCI,28][*,45] 23/24   22/23      0.306      -0.317  -3.0E-5   0.0433\n"
       ]
      },
      {
       "output_type": "stream",
       "stream": "stdout",
       "text": [
        "N20140228S0170_arc[SCI,28][*,55] 23/23   22/23      0.366      -0.379  -3.5E-5   0.0316\n"
       ]
      },
      {
       "output_type": "stream",
       "stream": "stdout",
       "text": [
        "N20140228S0170_arc[SCI,28][*,65] 23/23   21/23      0.158      -0.164  -1.5E-5   0.0373\n"
       ]
      },
      {
       "output_type": "stream",
       "stream": "stdout",
       "text": [
        "Lamp image: rgnN20140228S0170[SCI,29]\n",
        "\n"
       ]
      },
      {
       "output_type": "stream",
       "stream": "stdout",
       "text": [
        "AUTOIDENTIFY: NOAO/IRAF V2.16 klabrie@libellule.local Thu 16:04:49 02-Apr-2015\n"
       ]
      },
      {
       "output_type": "stream",
       "stream": "stdout",
       "text": [
        "  Spectrum                 # Found   Midpoint Dispersion        RMS\n"
       ]
      },
      {
       "output_type": "stream",
       "stream": "stdout",
       "text": [
        "  N20140228S0170_arc[SCI,29][*,35]         23   10457.28      -1.04      0.137\n"
       ]
      },
      {
       "output_type": "stream",
       "stream": "stdout",
       "text": [
        "N20140228S0170_arc[SCI,29][*,35]: Examine identifications interactively?"
       ]
      },
      {
       "output_type": "stream",
       "stream": "stdout",
       "text": [
        "   1787.57  9660.5293    9660.43 \n"
       ]
      },
      {
       "output_type": "stream",
       "stream": "stdout",
       "text": [
        "\n",
        "REIDENTIFY: NOAO/IRAF V2.16 klabrie@libellule.local Thu 16:04:50 02-Apr-2015\n"
       ]
      },
      {
       "output_type": "stream",
       "stream": "stdout",
       "text": [
        "  Reference image = N20140228S0170_arc[SCI,29], New image = N20140228S0170_arc[SCI,29], Refit = yes\n",
        "          Image Data    Found     Fit Pix Shift  User Shift  Z Shift      RMS\n"
       ]
      },
      {
       "output_type": "stream",
       "stream": "stdout",
       "text": [
        "N20140228S0170_arc[SCI,29][*,25] 23/23   21/23     -0.351       0.363  3.38E-5   0.0466\n"
       ]
      },
      {
       "output_type": "stream",
       "stream": "stdout",
       "text": [
        "N20140228S0170_arc[SCI,29][*,25] 23/23   21/23     -0.351       0.363  3.38E-5   0.0466\n"
       ]
      },
      {
       "output_type": "stream",
       "stream": "stdout",
       "text": [
        "N20140228S0170_arc[SCI,29][*,15] 22/23   22/22     -0.373       0.387  3.61E-5    0.105\n"
       ]
      },
      {
       "output_type": "stream",
       "stream": "stdout",
       "text": [
        "N20140228S0170_arc[SCI,29][*,5] 20/22   20/20    -0.0921      0.0955  9.01E-6   0.0986\n"
       ]
      },
      {
       "output_type": "stream",
       "stream": "stdout",
       "text": [
        "N20140228S0170_arc[SCI,29][*,45] 23/23   23/23      0.301      -0.312  -2.9E-5     0.11\n"
       ]
      },
      {
       "output_type": "stream",
       "stream": "stdout",
       "text": [
        "N20140228S0170_arc[SCI,29][*,55] 23/23   22/23      0.335      -0.347  -3.2E-5   0.0531\n"
       ]
      },
      {
       "output_type": "stream",
       "stream": "stdout",
       "text": [
        "N20140228S0170_arc[SCI,29][*,65] 22/23   21/22      0.449      -0.466  -4.4E-5   0.0662\n"
       ]
      },
      {
       "output_type": "stream",
       "stream": "stdout",
       "text": [
        "\n",
        "NSWHELPER Exit status good\n",
        "-------------------------------------------------------------------------------\n",
        "\n",
        "NSWAVELENGTH Exit status good\n",
        "-------------------------------------------------------------------------------\n"
       ]
      }
     ],
     "prompt_number": 27
    },
    {
     "cell_type": "heading",
     "level": 2,
     "metadata": {},
     "source": [
      "STEP 8: Trace the spatial curvature and spectral distortion in the Ronchi flat"
     ]
    },
    {
     "cell_type": "heading",
     "level": 4,
     "metadata": {},
     "source": [
      "Prepare the Ronchi flats"
     ]
    },
    {
     "cell_type": "code",
     "collapsed": false,
     "input": [
      "iraf.imdelete('n@ronchi.lis', verify='no')\n",
      "\n",
      "iraf.nfprepare('@ronchi.lis', rawpath=rawdir, shiftimage=calflat+'_shift', \\\n",
      "               bpm=calflat+'_bpm.pl', fl_vardq='yes', fl_corr='no', \\\n",
      "               fl_nonl='no')"
     ],
     "language": "python",
     "metadata": {},
     "outputs": [
      {
       "output_type": "stream",
       "stream": "stdout",
       "text": [
        "-------------------------------------------------------------------------------\n",
        "NFPREPARE -- Thu Apr  2 16:07:39 HST 2015\n",
        " "
       ]
      },
      {
       "output_type": "stream",
       "stream": "stdout",
       "text": [
        "\n",
        "WARNING - NFPREPARE: Non-linear pixels not flagged.\n",
        "NFPREPARE: Shift from N20140228S0369_shift[0]"
       ]
      },
      {
       "output_type": "stream",
       "stream": "stdout",
       "text": [
        "\n",
        "Processing 2 files"
       ]
      },
      {
       "output_type": "stream",
       "stream": "stdout",
       "text": [
        "\n"
       ]
      },
      {
       "output_type": "stream",
       "stream": "stdout",
       "text": [
        "----------------------------------------------------------------------------\n",
        "NFPREPARE: Subtracting reference pixels.\n",
        "WARNING - NFPREPARE: Not correcting for non-linearity."
       ]
      },
      {
       "output_type": "stream",
       "stream": "stdout",
       "text": [
        "\n",
        "----------------------------------------------------------------------------\n",
        "NFPAD: Padding NIFS data in the y-dimension for extended slices\n"
       ]
      },
      {
       "output_type": "stream",
       "stream": "stdout",
       "text": [
        "NFPAD: Input file is a non-MEF NIFS frame\n"
       ]
      },
      {
       "output_type": "stream",
       "stream": "stdout",
       "text": [
        "NFPAD exit status:  good.\n",
        "----------------------------------------------------------------------------\n"
       ]
      },
      {
       "output_type": "stream",
       "stream": "stdout",
       "text": [
        "----------------------------------------------------------------------------\n",
        "NFPAD: Padding NIFS data in the y-dimension for extended slices\n"
       ]
      },
      {
       "output_type": "stream",
       "stream": "stdout",
       "text": [
        "NFPAD: Input file is a non-MEF NIFS frame\n"
       ]
      },
      {
       "output_type": "stream",
       "stream": "stdout",
       "text": [
        "NFPAD exit status:  good.\n",
        "----------------------------------------------------------------------------\n"
       ]
      },
      {
       "output_type": "stream",
       "stream": "stdout",
       "text": [
        "----------------------------------------------------------------------------\n",
        "NFPAD: Padding NIFS data in the y-dimension for extended slices\n"
       ]
      },
      {
       "output_type": "stream",
       "stream": "stdout",
       "text": [
        "NFPAD: Input file is a non-MEF NIFS frame\n"
       ]
      },
      {
       "output_type": "stream",
       "stream": "stdout",
       "text": [
        "NFPAD exit status:  good.\n",
        "----------------------------------------------------------------------------\n"
       ]
      },
      {
       "output_type": "stream",
       "stream": "stdout",
       "text": [
        "NFPREPARE: Shifting MDF in Y by 2.0 pixels (subtracted from y_ccd)\n"
       ]
      },
      {
       "output_type": "stream",
       "stream": "stdout",
       "text": [
        " \n",
        "  n      input file -->      output file\n",
        "  1 ../../../raw/N20140228S0381 -->  nN20140228S0381 \n",
        "                 filter     focal plane       input BPM    RN  gain     sat\n",
        "               ZJ_G0601   Ronchi_Screen N20140228S0369_bpm.pl   6.3   2.4   50000 \n",
        "----------------------------------------------------------------------------"
       ]
      },
      {
       "output_type": "stream",
       "stream": "stdout",
       "text": [
        "\n",
        "NFPREPARE: Subtracting reference pixels.\n",
        "WARNING - NFPREPARE: Not correcting for non-linearity."
       ]
      },
      {
       "output_type": "stream",
       "stream": "stdout",
       "text": [
        "\n",
        "----------------------------------------------------------------------------\n",
        "NFPAD: Padding NIFS data in the y-dimension for extended slices\n"
       ]
      },
      {
       "output_type": "stream",
       "stream": "stdout",
       "text": [
        "NFPAD: Input file is a non-MEF NIFS frame\n"
       ]
      },
      {
       "output_type": "stream",
       "stream": "stdout",
       "text": [
        "NFPAD exit status:  good.\n",
        "----------------------------------------------------------------------------\n"
       ]
      },
      {
       "output_type": "stream",
       "stream": "stdout",
       "text": [
        "----------------------------------------------------------------------------\n",
        "NFPAD: Padding NIFS data in the y-dimension for extended slices\n"
       ]
      },
      {
       "output_type": "stream",
       "stream": "stdout",
       "text": [
        "NFPAD: Input file is a non-MEF NIFS frame\n"
       ]
      },
      {
       "output_type": "stream",
       "stream": "stdout",
       "text": [
        "NFPAD exit status:  good.\n",
        "----------------------------------------------------------------------------\n"
       ]
      },
      {
       "output_type": "stream",
       "stream": "stdout",
       "text": [
        "----------------------------------------------------------------------------\n",
        "NFPAD: Padding NIFS data in the y-dimension for extended slices\n"
       ]
      },
      {
       "output_type": "stream",
       "stream": "stdout",
       "text": [
        "NFPAD: Input file is a non-MEF NIFS frame\n"
       ]
      },
      {
       "output_type": "stream",
       "stream": "stdout",
       "text": [
        "NFPAD exit status:  good.\n",
        "----------------------------------------------------------------------------\n"
       ]
      },
      {
       "output_type": "stream",
       "stream": "stdout",
       "text": [
        "NFPREPARE: Shifting MDF in Y by 2.0 pixels (subtracted from y_ccd)\n"
       ]
      },
      {
       "output_type": "stream",
       "stream": "stdout",
       "text": [
        " \n",
        "  n      input file -->      output file\n",
        "  2 ../../../raw/N20140228S0382 -->  nN20140228S0382 \n",
        "                 filter     focal plane       input BPM    RN  gain     sat\n",
        "               ZJ_G0601   Ronchi_Screen N20140228S0369_bpm.pl   6.3   2.4   50000 \n",
        " "
       ]
      },
      {
       "output_type": "stream",
       "stream": "stdout",
       "text": [
        "\n",
        "NFPREPARE exit status:  good.\n",
        "----------------------------------------------------------------------------\n"
       ]
      }
     ],
     "prompt_number": 29
    },
    {
     "cell_type": "heading",
     "level": 4,
     "metadata": {},
     "source": [
      "Combine the Ronchi flat, if there's more than one."
     ]
    },
    {
     "cell_type": "code",
     "collapsed": false,
     "input": [
      "iraf.imdelete('gn'+ronchiflat, verify='no')\n",
      "\n",
      "count = 0\n",
      "file = open('ronchi.lis', 'r')\n",
      "for line in file:\n",
      "    count += 1\n",
      "if count == 1:\n",
      "    iraf.copy ('n'+ronchiflat+'.fits', 'gn'+ronchiflat+'.fits')\n",
      "else:\n",
      "    iraf.gemcombine ('n//@ronchi.lis', output='gn'+ronchiflat, fl_dqpr='yes', \\\n",
      "                     fl_vardq='yes', masktype='none', \\\n",
      "                     logfile=iraf.nifs.logfile)\n",
      "file.close()\n",
      "\n",
      "print 'Done.'"
     ],
     "language": "python",
     "metadata": {},
     "outputs": [
      {
       "output_type": "stream",
       "stream": "stdout",
       "text": [
        "--------------------------------------------------------------------------------\n",
        "GEMCOMBINE -- Thu Apr  2 16:09:11 HST 2015\n",
        " \n",
        "GEMCOMBINE: input = n//@ronchi.lis\n",
        "GEMCOMBINE: output = gnN20140228S0381\n",
        "GEMCOMBINE: title = \n",
        "GEMCOMBINE: bpmfile = \n",
        "GEMCOMBINE: sci_ext = SCI"
       ]
      },
      {
       "output_type": "stream",
       "stream": "stdout",
       "text": [
        "\n",
        "GEMCOMBINE: var_ext = VAR\n",
        "GEMCOMBINE: dq_ext = DQ\n",
        " \n"
       ]
      },
      {
       "output_type": "stream",
       "stream": "stdout",
       "text": [
        "WARNING - GEMCOMBINE: five or less images to combine.\n",
        "\n",
        "Apr  2 16:09: IMCOMBINE\n",
        "  combine = average, scale = none, zero = none, weight = none\n",
        "  reject = avsigclip, mclip = yes, nkeep = 1\n",
        "  lsigma = 3., hsigma = 3.\n",
        "  blank = 0.\n",
        "  statsec = Apr  2 16:09\n",
        "                Images \n",
        "  nN20140228S0381.fits[SCI,1]\n",
        "  nN20140228S0382.fits[SCI,1]\n",
        "\n",
        "  Output image = tmpcombout28290_3930, ncombine = 2\n",
        "  Number rejected mask = tmpcombdq28290_3931.pl\n",
        "  Sigma image = tmpcombsig28290_3932\n"
       ]
      },
      {
       "output_type": "stream",
       "stream": "stdout",
       "text": [
        " \n",
        "GEMCOMBINE: Propagating DQ values\n"
       ]
      },
      {
       "output_type": "stream",
       "stream": "stdout",
       "text": [
        "GEMCOMBINE: Attaching the MDF\n"
       ]
      },
      {
       "output_type": "stream",
       "stream": "stdout",
       "text": [
        " \n",
        "GEMCOMBINE -- Finished: Thu Apr  2 16:09:17 HST 2015\n",
        " \n",
        "GEMCOMBINE -- Exit status: GOOD\n",
        "--------------------------------------------------------------------------------\n",
        "Done."
       ]
      },
      {
       "output_type": "stream",
       "stream": "stdout",
       "text": [
        "\n"
       ]
      }
     ],
     "prompt_number": 31
    },
    {
     "cell_type": "heading",
     "level": 4,
     "metadata": {},
     "source": [
      "Reduce the Ronchi flats."
     ]
    },
    {
     "cell_type": "code",
     "collapsed": false,
     "input": [
      "iraf.imdelete(ronchiflat+'_ronchi', verify='no')\n",
      "\n",
      "iraf.nsreduce('gn'+ronchiflat, outimage=ronchiflat+'_ronchi', \\\n",
      "              dark=flatdark+'_flatdark', \\\n",
      "              flatimage=calflat+'_flat', fl_cut='yes', fl_nsappw='yes', \\\n",
      "              fl_flat='yes', fl_sky='no', fl_dark='yes', fl_vardq='no')"
     ],
     "language": "python",
     "metadata": {},
     "outputs": [
      {
       "output_type": "stream",
       "stream": "stdout",
       "text": [
        "-------------------------------------------------------------------------------\n",
        "NSREDUCE -- Thu Apr  2 16:17:47 HST 2015\n",
        " \n",
        "------------------------------------------------------------------------------"
       ]
      },
      {
       "output_type": "stream",
       "stream": "stdout",
       "text": [
        "\n",
        "NSCUT -- Thu Apr  2 16:17:47 HST 2015"
       ]
      },
      {
       "output_type": "stream",
       "stream": "stdout",
       "text": [
        "\n",
        " \n",
        "NSCUT: Processing 1 files\n"
       ]
      },
      {
       "output_type": "stream",
       "stream": "stdout",
       "text": [
        "\n"
       ]
      },
      {
       "output_type": "stream",
       "stream": "stdout",
       "text": [
        "gnN20140228S0381 --> gnN20140228S0381-28290_4384\n",
        " [SCI,1][1:2040,1998:2066] --> [SCI,1]"
       ]
      },
      {
       "output_type": "stream",
       "stream": "stdout",
       "text": [
        "\n",
        " [SCI,1][1:2040,1927:1995] --> [SCI,2]"
       ]
      },
      {
       "output_type": "stream",
       "stream": "stdout",
       "text": [
        "\n",
        " [SCI,1][1:2040,1856:1924] --> [SCI,3]"
       ]
      },
      {
       "output_type": "stream",
       "stream": "stdout",
       "text": [
        "\n",
        " [SCI,1][1:2040,1785:1853] --> [SCI,4]"
       ]
      },
      {
       "output_type": "stream",
       "stream": "stdout",
       "text": [
        "\n",
        " [SCI,1][1:2040,1715:1783] --> [SCI,5]"
       ]
      },
      {
       "output_type": "stream",
       "stream": "stdout",
       "text": [
        "\n",
        " [SCI,1][1:2040,1644:1712] --> [SCI,6]"
       ]
      },
      {
       "output_type": "stream",
       "stream": "stdout",
       "text": [
        "\n",
        " [SCI,1][1:2040,1573:1641] --> [SCI,7]"
       ]
      },
      {
       "output_type": "stream",
       "stream": "stdout",
       "text": [
        "\n",
        " [SCI,1][1:2040,1502:1570] --> [SCI,8]"
       ]
      },
      {
       "output_type": "stream",
       "stream": "stdout",
       "text": [
        "\n",
        " [SCI,1][1:2040,1431:1499] --> [SCI,9]"
       ]
      },
      {
       "output_type": "stream",
       "stream": "stdout",
       "text": [
        "\n",
        " [SCI,1][1:2040,1360:1428] --> [SCI,10]"
       ]
      },
      {
       "output_type": "stream",
       "stream": "stdout",
       "text": [
        "\n",
        " [SCI,1][1:2040,1289:1357] --> [SCI,11]"
       ]
      },
      {
       "output_type": "stream",
       "stream": "stdout",
       "text": [
        "\n",
        " [SCI,1][1:2040,1219:1287] --> [SCI,12]"
       ]
      },
      {
       "output_type": "stream",
       "stream": "stdout",
       "text": [
        "\n",
        " [SCI,1][1:2040,1148:1216] --> [SCI,13]"
       ]
      },
      {
       "output_type": "stream",
       "stream": "stdout",
       "text": [
        "\n",
        " [SCI,1][1:2040,1077:1145] --> [SCI,14]"
       ]
      },
      {
       "output_type": "stream",
       "stream": "stdout",
       "text": [
        "\n",
        " [SCI,1][1:2040,1006:1074] --> [SCI,15]"
       ]
      },
      {
       "output_type": "stream",
       "stream": "stdout",
       "text": [
        "\n",
        " [SCI,1][1:2040,935:1003] --> [SCI,16]"
       ]
      },
      {
       "output_type": "stream",
       "stream": "stdout",
       "text": [
        "\n",
        " [SCI,1][1:2040,864:932] --> [SCI,17]"
       ]
      },
      {
       "output_type": "stream",
       "stream": "stdout",
       "text": [
        "\n",
        " [SCI,1][1:2040,793:861] --> [SCI,18]"
       ]
      },
      {
       "output_type": "stream",
       "stream": "stdout",
       "text": [
        "\n",
        " [SCI,1][1:2040,722:790] --> [SCI,19]"
       ]
      },
      {
       "output_type": "stream",
       "stream": "stdout",
       "text": [
        "\n",
        " [SCI,1][1:2040,651:719] --> [SCI,20]"
       ]
      },
      {
       "output_type": "stream",
       "stream": "stdout",
       "text": [
        "\n",
        " [SCI,1][1:2040,580:648] --> [SCI,21]"
       ]
      },
      {
       "output_type": "stream",
       "stream": "stdout",
       "text": [
        "\n",
        " [SCI,1][1:2040,510:578] --> [SCI,22]"
       ]
      },
      {
       "output_type": "stream",
       "stream": "stdout",
       "text": [
        "\n",
        " [SCI,1][1:2040,439:507] --> [SCI,23]"
       ]
      },
      {
       "output_type": "stream",
       "stream": "stdout",
       "text": [
        "\n",
        " [SCI,1][1:2040,368:436] --> [SCI,24]"
       ]
      },
      {
       "output_type": "stream",
       "stream": "stdout",
       "text": [
        "\n",
        " [SCI,1][1:2040,297:365] --> [SCI,25]"
       ]
      },
      {
       "output_type": "stream",
       "stream": "stdout",
       "text": [
        "\n",
        " [SCI,1][1:2040,226:294] --> [SCI,26]"
       ]
      },
      {
       "output_type": "stream",
       "stream": "stdout",
       "text": [
        "\n",
        " [SCI,1][1:2040,155:223] --> [SCI,27]"
       ]
      },
      {
       "output_type": "stream",
       "stream": "stdout",
       "text": [
        "\n",
        " [SCI,1][1:2040,84:152] --> [SCI,28]"
       ]
      },
      {
       "output_type": "stream",
       "stream": "stdout",
       "text": [
        "\n",
        " [SCI,1][1:2040,13:81] --> [SCI,29]"
       ]
      },
      {
       "output_type": "stream",
       "stream": "stdout",
       "text": [
        "\n",
        " "
       ]
      },
      {
       "output_type": "stream",
       "stream": "stdout",
       "text": [
        "\n",
        "NSCUT exit status: good.\n",
        "------------------------------------------------------------------------------\n",
        "------------------------------------------------------------------------------\n",
        "NSAPPWAVE -- Thu Apr  2 16:18:01 HST 2015\n",
        " "
       ]
      },
      {
       "output_type": "stream",
       "stream": "stdout",
       "text": [
        "\n"
       ]
      },
      {
       "output_type": "stream",
       "stream": "stdout",
       "text": [
        "NSAPPWAVE: Processing 29 extension(s) from 1 file(s).\n",
        "  Camera     Grating    Filter     Prism      FPMask     Wave   Delta Order Axis\n"
       ]
      },
      {
       "output_type": "stream",
       "stream": "stderr",
       "text": [
        "gnN20140228S0381-28290_4384.fits[1] -> gnN20140228S0381-28290_4385.fits\n"
       ]
      },
      {
       "output_type": "stream",
       "stream": "stdout",
       "text": [
        "gnN20140228S0381-28290_4384 -> gnN20140228S0381-28290_4385 ( 1)\n",
        "        NIFS    Z_G5602   ZJ_G0601                           1.05  0.00 INDEF 1\n"
       ]
      },
      {
       "output_type": "stream",
       "stream": "stdout",
       "text": [
        "NSAPPWAVE: cradius not from table for gnN20140228S0381-28290_4384.\n",
        "           (further table messages supressed for this file).\n",
        "  extension  1: 10500.000000 -1.025000 INDEF\n",
        "  extension  2: 10500.000000 -1.025000 INDEF"
       ]
      },
      {
       "output_type": "stream",
       "stream": "stdout",
       "text": [
        "\n",
        "  extension  3: 10500.000000 -1.025000 INDEF"
       ]
      },
      {
       "output_type": "stream",
       "stream": "stdout",
       "text": [
        "\n",
        "  extension  4: 10500.000000 -1.025000 INDEF"
       ]
      },
      {
       "output_type": "stream",
       "stream": "stdout",
       "text": [
        "\n",
        "  extension  5: 10500.000000 -1.025000 INDEF"
       ]
      },
      {
       "output_type": "stream",
       "stream": "stdout",
       "text": [
        "\n",
        "  extension  6: 10500.000000 -1.025000 INDEF"
       ]
      },
      {
       "output_type": "stream",
       "stream": "stdout",
       "text": [
        "\n",
        "  extension  7: 10500.000000 -1.025000 INDEF"
       ]
      },
      {
       "output_type": "stream",
       "stream": "stdout",
       "text": [
        "\n",
        "  extension  8: 10500.000000 -1.025000 INDEF"
       ]
      },
      {
       "output_type": "stream",
       "stream": "stdout",
       "text": [
        "\n",
        "  extension  9: 10500.000000 -1.025000 INDEF"
       ]
      },
      {
       "output_type": "stream",
       "stream": "stdout",
       "text": [
        "\n",
        "  extension 10: 10500.000000 -1.025000 INDEF"
       ]
      },
      {
       "output_type": "stream",
       "stream": "stdout",
       "text": [
        "\n",
        "  extension 11: 10500.000000 -1.025000 INDEF"
       ]
      },
      {
       "output_type": "stream",
       "stream": "stdout",
       "text": [
        "\n",
        "  extension 12: 10500.000000 -1.025000 INDEF"
       ]
      },
      {
       "output_type": "stream",
       "stream": "stdout",
       "text": [
        "\n",
        "  extension 13: 10500.000000 -1.025000 INDEF"
       ]
      },
      {
       "output_type": "stream",
       "stream": "stdout",
       "text": [
        "\n",
        "  extension 14: 10500.000000 -1.025000 INDEF"
       ]
      },
      {
       "output_type": "stream",
       "stream": "stdout",
       "text": [
        "\n",
        "  extension 15: 10500.000000 -1.025000 INDEF"
       ]
      },
      {
       "output_type": "stream",
       "stream": "stdout",
       "text": [
        "\n",
        "  extension 16: 10500.000000 -1.025000 INDEF"
       ]
      },
      {
       "output_type": "stream",
       "stream": "stdout",
       "text": [
        "\n",
        "  extension 17: 10500.000000 -1.025000 INDEF"
       ]
      },
      {
       "output_type": "stream",
       "stream": "stdout",
       "text": [
        "\n",
        "  extension 18: 10500.000000 -1.025000 INDEF"
       ]
      },
      {
       "output_type": "stream",
       "stream": "stdout",
       "text": [
        "\n",
        "  extension 19: 10500.000000 -1.025000 INDEF"
       ]
      },
      {
       "output_type": "stream",
       "stream": "stdout",
       "text": [
        "\n",
        "  extension 20: 10500.000000 -1.025000 INDEF"
       ]
      },
      {
       "output_type": "stream",
       "stream": "stdout",
       "text": [
        "\n",
        "  extension 21: 10500.000000 -1.025000 INDEF"
       ]
      },
      {
       "output_type": "stream",
       "stream": "stdout",
       "text": [
        "\n",
        "  extension 22: 10500.000000 -1.025000 INDEF"
       ]
      },
      {
       "output_type": "stream",
       "stream": "stdout",
       "text": [
        "\n",
        "  extension 23: 10500.000000 -1.025000 INDEF"
       ]
      },
      {
       "output_type": "stream",
       "stream": "stdout",
       "text": [
        "\n",
        "  extension 24: 10500.000000 -1.025000 INDEF"
       ]
      },
      {
       "output_type": "stream",
       "stream": "stdout",
       "text": [
        "\n",
        "  extension 25: 10500.000000 -1.025000 INDEF"
       ]
      },
      {
       "output_type": "stream",
       "stream": "stdout",
       "text": [
        "\n",
        "  extension 26: 10500.000000 -1.025000 INDEF"
       ]
      },
      {
       "output_type": "stream",
       "stream": "stdout",
       "text": [
        "\n",
        "  extension 27: 10500.000000 -1.025000 INDEF"
       ]
      },
      {
       "output_type": "stream",
       "stream": "stdout",
       "text": [
        "\n",
        "  extension 28: 10500.000000 -1.025000 INDEF"
       ]
      },
      {
       "output_type": "stream",
       "stream": "stdout",
       "text": [
        "\n",
        "  extension 29: 10500.000000 -1.025000 INDEF"
       ]
      },
      {
       "output_type": "stream",
       "stream": "stdout",
       "text": [
        "\n"
       ]
      },
      {
       "output_type": "stream",
       "stream": "stdout",
       "text": [
        "\n",
        "NSAPPWAVE Exit status good\n",
        "------------------------------------------------------------------------------\n",
        "NSREDUCE: Processing 29 extension(s) from 1 file(s)."
       ]
      },
      {
       "output_type": "stream",
       "stream": "stdout",
       "text": [
        "\n"
       ]
      },
      {
       "output_type": "stream",
       "stream": "stdout",
       "text": [
        "WARNING - NSREDUCE: The slit for image gnN20140228S0381 does not match\n",
        "                    the flat image slit. Proceeding anyway.\n",
        "NSREDUCE: slit: Ronchi_Screen_G5615"
       ]
      },
      {
       "output_type": "stream",
       "stream": "stdout",
       "text": [
        "\n",
        "NSREDUCE: grism: ZJ_G0601\n",
        "\n",
        "   n input                   --> output                  sky image\n",
        " dark                    flat                    scale\n",
        "\n",
        "   1 gnN20140228S0381        --> N20140228S0381_ronchi   none                   \n",
        " N20140228S0374_dark     N20140228S0369_flat     1.0000 \n"
       ]
      },
      {
       "output_type": "stream",
       "stream": "stdout",
       "text": [
        " \n",
        "NSREDUCE exit status: good.\n",
        "------------------------------------------------------------------------------\n"
       ]
      }
     ],
     "prompt_number": 34
    },
    {
     "cell_type": "heading",
     "level": 4,
     "metadata": {},
     "source": [
      "Measure the s-distortion."
     ]
    },
    {
     "cell_type": "markdown",
     "metadata": {},
     "source": [
      "It is recommended to do nfsdist interactively the first time to make sure that the parameters are set such that the peaks are identified correctly by the software.  \n",
      "\n",
      "There will be one plot per slice, ie. 29.  The plots should look like this:\n",
      "\n",
      "![nfsdst_Z_peakID](screenshots/nfsdist_Z_peakID.png)\n",
      "\n",
      "It might happen that a peak does not get identified.  Either mark it with \"m\" or just leave it.  As long as all the others are identified, it should be fine.   The last slice might be truncated a bit, that's okay.\n",
      "\n",
      "WARNING: nfsdist takes a while to run in the notebook when verbose='yes'.  The screen outputs seem to be the bottleneck.  This is why verbose='no' below.  All the info goes to the log anyway.  (Beside, it isn't missed, just a bunch of numbers we never look at.)"
     ]
    },
    {
     "cell_type": "code",
     "collapsed": false,
     "input": [
      "if (iraf.access(iraf.nifs.database)):\n",
      "   iraf.delete(iraf.nifs.database+'id'+ronchiflat+'_ronchi_SCI*', verify='no')\n",
      "   iraf.delete(iraf.nifs.database+'id'+arc+'arc_SCI*', verify='no')\n",
      "\n",
      "iraf.nfsdist(ronchiflat+'_ronchi', fwidth=6.0, cradius=8.0, glshift=2.8, \\\n",
      "             minsep=6.5, thresh=2000.0, nlost=3, fl_inter='yes', verbose='no',\\\n",
      "             database=iraf.nifs.database, logfile=iraf.nifs.logfile)\n",
      "\n",
      "print 'Done.'"
     ],
     "language": "python",
     "metadata": {},
     "outputs": [
      {
       "output_type": "stream",
       "stream": "stdout",
       "text": [
        "WARNING - NFSDIST: Image N20140228S0381_ronchi[0] has been run\n",
        "                   through NFSDIST before.\n",
        "WARNING - NFSDIST: Existing database entries will be overwritten.\n",
        "WARNING - NFSDIST: No (unused) in N20140228S0381_ronchi[0]."
       ]
      },
      {
       "output_type": "stream",
       "stream": "stdout",
       "text": [
        "\n",
        "WARNING - NFSDIST: No (unused) in N20140228S0381_ronchi[0].\n",
        "WARNING - NFSDIST: No CDELT2 in N20140228S0381_ronchi[SCI,1].\n"
       ]
      },
      {
       "output_type": "stream",
       "stream": "stdout",
       "text": [
        "\n",
        "NFSDIST - Mark features to use\n",
        "   Accept coordinate or assign new coordinate to each feature\n",
        "   m - mark feature \n",
        "   b - autoidentify \n",
        "   ? - help, q - exit \n",
        "\n"
       ]
      },
      {
       "output_type": "stream",
       "stream": "stdout",
       "text": [
        "AUTOIDENTIFY: NOAO/IRAF V2.16 klabrie@libellule.local Thu 17:27:28 02-Apr-2015\n"
       ]
      },
      {
       "output_type": "stream",
       "stream": "stdout",
       "text": [
        "  Spectrum                 # Found   Midpoint Dispersion        RMS\n"
       ]
      },
      {
       "output_type": "stream",
       "stream": "stdout",
       "text": [
        "  N20140228S0381_ronchi[SCI,1][1024,*]  No solution found\n"
       ]
      },
      {
       "output_type": "stream",
       "stream": "stdout",
       "text": [
        "      8.30  8.2984915        9.8 \n"
       ]
      },
      {
       "output_type": "stream",
       "stream": "stdout",
       "text": [
        "WARNING - NFSDIST: No CDELT2 in N20140228S0381_ronchi[SCI,2].\n"
       ]
      },
      {
       "output_type": "stream",
       "stream": "stdout",
       "text": [
        "\n",
        "NFSDIST - Mark features to use\n",
        "   Accept coordinate or assign new coordinate to each feature\n",
        "   m - mark feature \n",
        "   b - autoidentify \n",
        "   ? - help, q - exit \n",
        "\n"
       ]
      },
      {
       "output_type": "stream",
       "stream": "stdout",
       "text": [
        "AUTOIDENTIFY: NOAO/IRAF V2.16 klabrie@libellule.local Thu 17:27:31 02-Apr-2015\n"
       ]
      },
      {
       "output_type": "stream",
       "stream": "stdout",
       "text": [
        "  Spectrum                 # Found   Midpoint Dispersion        RMS\n"
       ]
      },
      {
       "output_type": "stream",
       "stream": "stdout",
       "text": [
        "  N20140228S0381_ronchi[SCI,2][1024,*]  No solution found\n"
       ]
      },
      {
       "output_type": "stream",
       "stream": "stdout",
       "text": [
        "      8.54  8.5435648       9.77 \n"
       ]
      },
      {
       "output_type": "stream",
       "stream": "stdout",
       "text": [
        "WARNING - NFSDIST: No CDELT2 in N20140228S0381_ronchi[SCI,3].\n"
       ]
      },
      {
       "output_type": "stream",
       "stream": "stdout",
       "text": [
        "\n",
        "NFSDIST - Mark features to use\n",
        "   Accept coordinate or assign new coordinate to each feature\n",
        "   m - mark feature \n",
        "   b - autoidentify \n",
        "   ? - help, q - exit \n",
        "\n"
       ]
      },
      {
       "output_type": "stream",
       "stream": "stdout",
       "text": [
        "AUTOIDENTIFY: NOAO/IRAF V2.16 klabrie@libellule.local Thu 17:27:38 02-Apr-2015\n"
       ]
      },
      {
       "output_type": "stream",
       "stream": "stdout",
       "text": [
        "  Spectrum                 # Found   Midpoint Dispersion        RMS\n"
       ]
      },
      {
       "output_type": "stream",
       "stream": "stdout",
       "text": [
        "  N20140228S0381_ronchi[SCI,3][1024,*]  No solution found\n"
       ]
      },
      {
       "output_type": "stream",
       "stream": "stdout",
       "text": [
        "      8.76  8.7555323       9.75 \n"
       ]
      },
      {
       "output_type": "stream",
       "stream": "stdout",
       "text": [
        "     23.83  23.828686 (     24.63 ): "
       ]
      },
      {
       "output_type": "stream",
       "stream": "stdout",
       "text": [
        "     23.83  23.828686      24.63 \n"
       ]
      },
      {
       "output_type": "stream",
       "stream": "stdout",
       "text": [
        "WARNING - NFSDIST: No CDELT2 in N20140228S0381_ronchi[SCI,4].\n"
       ]
      },
      {
       "output_type": "stream",
       "stream": "stdout",
       "text": [
        "\n",
        "NFSDIST - Mark features to use\n",
        "   Accept coordinate or assign new coordinate to each feature\n",
        "   m - mark feature \n",
        "   b - autoidentify \n",
        "   ? - help, q - exit \n",
        "\n"
       ]
      },
      {
       "output_type": "stream",
       "stream": "stdout",
       "text": [
        "AUTOIDENTIFY: NOAO/IRAF V2.16 klabrie@libellule.local Thu 17:27:42 02-Apr-2015\n"
       ]
      },
      {
       "output_type": "stream",
       "stream": "stdout",
       "text": [
        "  Spectrum                 # Found   Midpoint Dispersion        RMS\n"
       ]
      },
      {
       "output_type": "stream",
       "stream": "stdout",
       "text": [
        "  N20140228S0381_ronchi[SCI,4][1024,*]  No solution found\n"
       ]
      },
      {
       "output_type": "stream",
       "stream": "stdout",
       "text": [
        "      8.99  8.9856787       9.72 \n"
       ]
      },
      {
       "output_type": "stream",
       "stream": "stdout",
       "text": [
        "WARNING - NFSDIST: No CDELT2 in N20140228S0381_ronchi[SCI,5].\n"
       ]
      },
      {
       "output_type": "stream",
       "stream": "stdout",
       "text": [
        "\n",
        "NFSDIST - Mark features to use\n",
        "   Accept coordinate or assign new coordinate to each feature\n",
        "   m - mark feature \n",
        "   b - autoidentify \n",
        "   ? - help, q - exit \n",
        "\n"
       ]
      },
      {
       "output_type": "stream",
       "stream": "stdout",
       "text": [
        "AUTOIDENTIFY: NOAO/IRAF V2.16 klabrie@libellule.local Thu 17:27:44 02-Apr-2015\n"
       ]
      },
      {
       "output_type": "stream",
       "stream": "stdout",
       "text": [
        "  Spectrum                 # Found   Midpoint Dispersion        RMS\n"
       ]
      },
      {
       "output_type": "stream",
       "stream": "stdout",
       "text": [
        "  N20140228S0381_ronchi[SCI,5][1024,*]  No solution found\n"
       ]
      },
      {
       "output_type": "stream",
       "stream": "stdout",
       "text": [
        "      8.02  8.0210571  9.6899996 \n"
       ]
      },
      {
       "output_type": "stream",
       "stream": "stdout",
       "text": [
        "WARNING - NFSDIST: No CDELT2 in N20140228S0381_ronchi[SCI,6].\n"
       ]
      },
      {
       "output_type": "stream",
       "stream": "stdout",
       "text": [
        "\n",
        "NFSDIST - Mark features to use\n",
        "   Accept coordinate or assign new coordinate to each feature\n",
        "   m - mark feature \n",
        "   b - autoidentify \n",
        "   ? - help, q - exit \n",
        "\n"
       ]
      },
      {
       "output_type": "stream",
       "stream": "stdout",
       "text": [
        "AUTOIDENTIFY: NOAO/IRAF V2.16 klabrie@libellule.local Thu 17:27:47 02-Apr-2015\n"
       ]
      },
      {
       "output_type": "stream",
       "stream": "stdout",
       "text": [
        "  Spectrum                 # Found   Midpoint Dispersion        RMS\n"
       ]
      },
      {
       "output_type": "stream",
       "stream": "stdout",
       "text": [
        "  N20140228S0381_ronchi[SCI,6][1024,*]  No solution found\n"
       ]
      },
      {
       "output_type": "stream",
       "stream": "stdout",
       "text": [
        "      8.19  8.1911316       9.67 \n"
       ]
      },
      {
       "output_type": "stream",
       "stream": "stdout",
       "text": [
        "     38.16   38.15947 (      39.6 ): "
       ]
      },
      {
       "output_type": "stream",
       "stream": "stdout",
       "text": [
        "     38.16   38.15947       39.6 \n"
       ]
      },
      {
       "output_type": "stream",
       "stream": "stdout",
       "text": [
        "WARNING - NFSDIST: No CDELT2 in N20140228S0381_ronchi[SCI,7].\n"
       ]
      },
      {
       "output_type": "stream",
       "stream": "stdout",
       "text": [
        "\n",
        "NFSDIST - Mark features to use\n",
        "   Accept coordinate or assign new coordinate to each feature\n",
        "   m - mark feature \n",
        "   b - autoidentify \n",
        "   ? - help, q - exit \n",
        "\n"
       ]
      },
      {
       "output_type": "stream",
       "stream": "stdout",
       "text": [
        "AUTOIDENTIFY: NOAO/IRAF V2.16 klabrie@libellule.local Thu 17:27:51 02-Apr-2015\n"
       ]
      },
      {
       "output_type": "stream",
       "stream": "stdout",
       "text": [
        "  Spectrum                 # Found   Midpoint Dispersion        RMS\n"
       ]
      },
      {
       "output_type": "stream",
       "stream": "stdout",
       "text": [
        "  N20140228S0381_ronchi[SCI,7][1024,*]  No solution found\n"
       ]
      },
      {
       "output_type": "stream",
       "stream": "stdout",
       "text": [
        "      8.29  8.2881432       9.64 \n"
       ]
      },
      {
       "output_type": "stream",
       "stream": "stdout",
       "text": [
        "WARNING - NFSDIST: No CDELT2 in N20140228S0381_ronchi[SCI,8].\n"
       ]
      },
      {
       "output_type": "stream",
       "stream": "stdout",
       "text": [
        "\n",
        "NFSDIST - Mark features to use\n",
        "   Accept coordinate or assign new coordinate to each feature\n",
        "   m - mark feature \n",
        "   b - autoidentify \n",
        "   ? - help, q - exit \n",
        "\n"
       ]
      },
      {
       "output_type": "stream",
       "stream": "stdout",
       "text": [
        "AUTOIDENTIFY: NOAO/IRAF V2.16 klabrie@libellule.local Thu 17:27:54 02-Apr-2015\n"
       ]
      },
      {
       "output_type": "stream",
       "stream": "stdout",
       "text": [
        "  Spectrum                 # Found   Midpoint Dispersion        RMS\n"
       ]
      },
      {
       "output_type": "stream",
       "stream": "stdout",
       "text": [
        "  N20140228S0381_ronchi[SCI,8][1024,*]  No solution found\n"
       ]
      },
      {
       "output_type": "stream",
       "stream": "stdout",
       "text": [
        "      8.53  8.5274954  9.6199999 \n"
       ]
      },
      {
       "output_type": "stream",
       "stream": "stdout",
       "text": [
        "WARNING - NFSDIST: No CDELT2 in N20140228S0381_ronchi[SCI,9].\n"
       ]
      },
      {
       "output_type": "stream",
       "stream": "stdout",
       "text": [
        "\n",
        "NFSDIST - Mark features to use\n",
        "   Accept coordinate or assign new coordinate to each feature\n",
        "   m - mark feature \n",
        "   b - autoidentify \n",
        "   ? - help, q - exit \n",
        "\n"
       ]
      },
      {
       "output_type": "stream",
       "stream": "stdout",
       "text": [
        "AUTOIDENTIFY: NOAO/IRAF V2.16 klabrie@libellule.local Thu 17:27:56 02-Apr-2015\n"
       ]
      },
      {
       "output_type": "stream",
       "stream": "stdout",
       "text": [
        "  Spectrum                 # Found   Midpoint Dispersion        RMS\n"
       ]
      },
      {
       "output_type": "stream",
       "stream": "stdout",
       "text": [
        "  N20140228S0381_ronchi[SCI,9][1024,*]  No solution found\n"
       ]
      },
      {
       "output_type": "stream",
       "stream": "stdout",
       "text": [
        "      8.70  8.7006798       9.59 \n"
       ]
      },
      {
       "output_type": "stream",
       "stream": "stdout",
       "text": [
        "     46.09  46.094582 (     47.01 ): "
       ]
      },
      {
       "output_type": "stream",
       "stream": "stdout",
       "text": [
        "     46.09  46.094582      47.01 \n"
       ]
      },
      {
       "output_type": "stream",
       "stream": "stdout",
       "text": [
        "WARNING - NFSDIST: No CDELT2 in N20140228S0381_ronchi[SCI,10].\n"
       ]
      },
      {
       "output_type": "stream",
       "stream": "stdout",
       "text": [
        "\n",
        "NFSDIST - Mark features to use\n",
        "   Accept coordinate or assign new coordinate to each feature\n",
        "   m - mark feature \n",
        "   b - autoidentify \n",
        "   ? - help, q - exit \n",
        "\n"
       ]
      },
      {
       "output_type": "stream",
       "stream": "stdout",
       "text": [
        "AUTOIDENTIFY: NOAO/IRAF V2.16 klabrie@libellule.local Thu 17:28:01 02-Apr-2015\n"
       ]
      },
      {
       "output_type": "stream",
       "stream": "stdout",
       "text": [
        "  Spectrum                 # Found   Midpoint Dispersion        RMS\n"
       ]
      },
      {
       "output_type": "stream",
       "stream": "stdout",
       "text": [
        "  N20140228S0381_ronchi[SCI,10][1024,*]  No solution found\n"
       ]
      },
      {
       "output_type": "stream",
       "stream": "stdout",
       "text": [
        "      8.83  8.8305216       9.56 \n"
       ]
      },
      {
       "output_type": "stream",
       "stream": "stdout",
       "text": [
        "     46.26  46.256069 (     46.98 ): "
       ]
      },
      {
       "output_type": "stream",
       "stream": "stdout",
       "text": [
        "     46.26  46.256069      46.98 \n"
       ]
      },
      {
       "output_type": "stream",
       "stream": "stdout",
       "text": [
        "WARNING - NFSDIST: No CDELT2 in N20140228S0381_ronchi[SCI,11].\n"
       ]
      },
      {
       "output_type": "stream",
       "stream": "stdout",
       "text": [
        "\n",
        "NFSDIST - Mark features to use\n",
        "   Accept coordinate or assign new coordinate to each feature\n",
        "   m - mark feature \n",
        "   b - autoidentify \n",
        "   ? - help, q - exit \n",
        "\n"
       ]
      },
      {
       "output_type": "stream",
       "stream": "stdout",
       "text": [
        "AUTOIDENTIFY: NOAO/IRAF V2.16 klabrie@libellule.local Thu 17:28:05 02-Apr-2015\n"
       ]
      },
      {
       "output_type": "stream",
       "stream": "stdout",
       "text": [
        "  Spectrum                 # Found   Midpoint Dispersion        RMS\n"
       ]
      },
      {
       "output_type": "stream",
       "stream": "stdout",
       "text": [
        "  N20140228S0381_ronchi[SCI,11][1024,*]  No solution found\n"
       ]
      },
      {
       "output_type": "stream",
       "stream": "stdout",
       "text": [
        "      8.93  8.9296303       9.54 \n"
       ]
      },
      {
       "output_type": "stream",
       "stream": "stdout",
       "text": [
        "WARNING - NFSDIST: No CDELT2 in N20140228S0381_ronchi[SCI,12].\n"
       ]
      },
      {
       "output_type": "stream",
       "stream": "stdout",
       "text": [
        "\n",
        "NFSDIST - Mark features to use\n",
        "   Accept coordinate or assign new coordinate to each feature\n",
        "   m - mark feature \n",
        "   b - autoidentify \n",
        "   ? - help, q - exit \n",
        "\n"
       ]
      },
      {
       "output_type": "stream",
       "stream": "stdout",
       "text": [
        "AUTOIDENTIFY: NOAO/IRAF V2.16 klabrie@libellule.local Thu 17:28:07 02-Apr-2015\n"
       ]
      },
      {
       "output_type": "stream",
       "stream": "stdout",
       "text": [
        "  Spectrum                 # Found   Midpoint Dispersion        RMS\n"
       ]
      },
      {
       "output_type": "stream",
       "stream": "stdout",
       "text": [
        "  N20140228S0381_ronchi[SCI,12][1024,*]  No solution found\n"
       ]
      },
      {
       "output_type": "stream",
       "stream": "stdout",
       "text": [
        "      8.00  8.0044289       9.51 \n"
       ]
      },
      {
       "output_type": "stream",
       "stream": "stdout",
       "text": [
        "WARNING - NFSDIST: No CDELT2 in N20140228S0381_ronchi[SCI,13].\n"
       ]
      },
      {
       "output_type": "stream",
       "stream": "stdout",
       "text": [
        "\n",
        "NFSDIST - Mark features to use\n",
        "   Accept coordinate or assign new coordinate to each feature\n",
        "   m - mark feature \n",
        "   b - autoidentify \n",
        "   ? - help, q - exit \n",
        "\n"
       ]
      },
      {
       "output_type": "stream",
       "stream": "stdout",
       "text": [
        "AUTOIDENTIFY: NOAO/IRAF V2.16 klabrie@libellule.local Thu 17:28:10 02-Apr-2015\n"
       ]
      },
      {
       "output_type": "stream",
       "stream": "stdout",
       "text": [
        "  Spectrum                 # Found   Midpoint Dispersion        RMS\n"
       ]
      },
      {
       "output_type": "stream",
       "stream": "stdout",
       "text": [
        "  N20140228S0381_ronchi[SCI,13][1024,*]  No solution found\n"
       ]
      },
      {
       "output_type": "stream",
       "stream": "stdout",
       "text": [
        "      8.14  8.1398592  9.4799995 \n"
       ]
      },
      {
       "output_type": "stream",
       "stream": "stdout",
       "text": [
        "     15.70  15.696442 (     16.86 ): "
       ]
      },
      {
       "output_type": "stream",
       "stream": "stdout",
       "text": [
        "     15.70  15.696442      16.86 \n"
       ]
      },
      {
       "output_type": "stream",
       "stream": "stdout",
       "text": [
        "WARNING - NFSDIST: No CDELT2 in N20140228S0381_ronchi[SCI,14].\n"
       ]
      },
      {
       "output_type": "stream",
       "stream": "stdout",
       "text": [
        "\n",
        "NFSDIST - Mark features to use\n",
        "   Accept coordinate or assign new coordinate to each feature\n",
        "   m - mark feature \n",
        "   b - autoidentify \n",
        "   ? - help, q - exit \n",
        "\n"
       ]
      },
      {
       "output_type": "stream",
       "stream": "stdout",
       "text": [
        "AUTOIDENTIFY: NOAO/IRAF V2.16 klabrie@libellule.local Thu 17:28:15 02-Apr-2015\n"
       ]
      },
      {
       "output_type": "stream",
       "stream": "stdout",
       "text": [
        "  Spectrum                 # Found   Midpoint Dispersion        RMS\n"
       ]
      },
      {
       "output_type": "stream",
       "stream": "stdout",
       "text": [
        "  N20140228S0381_ronchi[SCI,14][1024,*]  No solution found\n"
       ]
      },
      {
       "output_type": "stream",
       "stream": "stdout",
       "text": [
        "      8.19  8.1887255       9.46 \n"
       ]
      },
      {
       "output_type": "stream",
       "stream": "stdout",
       "text": [
        "WARNING - NFSDIST: No CDELT2 in N20140228S0381_ronchi[SCI,15].\n"
       ]
      },
      {
       "output_type": "stream",
       "stream": "stdout",
       "text": [
        "\n",
        "NFSDIST - Mark features to use\n",
        "   Accept coordinate or assign new coordinate to each feature\n",
        "   m - mark feature \n",
        "   b - autoidentify \n",
        "   ? - help, q - exit \n",
        "\n"
       ]
      },
      {
       "output_type": "stream",
       "stream": "stdout",
       "text": [
        "AUTOIDENTIFY: NOAO/IRAF V2.16 klabrie@libellule.local Thu 17:28:17 02-Apr-2015\n"
       ]
      },
      {
       "output_type": "stream",
       "stream": "stdout",
       "text": [
        "  Spectrum                 # Found   Midpoint Dispersion        RMS\n"
       ]
      },
      {
       "output_type": "stream",
       "stream": "stdout",
       "text": [
        "  N20140228S0381_ronchi[SCI,15][1024,*]  No solution found\n"
       ]
      },
      {
       "output_type": "stream",
       "stream": "stdout",
       "text": [
        "      8.24  8.2359314       9.43 \n"
       ]
      },
      {
       "output_type": "stream",
       "stream": "stdout",
       "text": [
        "WARNING - NFSDIST: No CDELT2 in N20140228S0381_ronchi[SCI,16].\n"
       ]
      },
      {
       "output_type": "stream",
       "stream": "stdout",
       "text": [
        "\n",
        "NFSDIST - Mark features to use\n",
        "   Accept coordinate or assign new coordinate to each feature\n",
        "   m - mark feature \n",
        "   b - autoidentify \n",
        "   ? - help, q - exit \n",
        "\n"
       ]
      },
      {
       "output_type": "stream",
       "stream": "stdout",
       "text": [
        "AUTOIDENTIFY: NOAO/IRAF V2.16 klabrie@libellule.local Thu 17:28:20 02-Apr-2015\n"
       ]
      },
      {
       "output_type": "stream",
       "stream": "stdout",
       "text": [
        "  Spectrum                 # Found   Midpoint Dispersion        RMS\n"
       ]
      },
      {
       "output_type": "stream",
       "stream": "stdout",
       "text": [
        "  N20140228S0381_ronchi[SCI,16][1024,*]  No solution found\n"
       ]
      },
      {
       "output_type": "stream",
       "stream": "stdout",
       "text": [
        "      8.39  8.3920698  9.3999996 \n"
       ]
      },
      {
       "output_type": "stream",
       "stream": "stdout",
       "text": [
        "WARNING - NFSDIST: No CDELT2 in N20140228S0381_ronchi[SCI,17].\n"
       ]
      },
      {
       "output_type": "stream",
       "stream": "stdout",
       "text": [
        "\n",
        "NFSDIST - Mark features to use\n",
        "   Accept coordinate or assign new coordinate to each feature\n",
        "   m - mark feature \n",
        "   b - autoidentify \n",
        "   ? - help, q - exit \n",
        "\n"
       ]
      },
      {
       "output_type": "stream",
       "stream": "stdout",
       "text": [
        "AUTOIDENTIFY: NOAO/IRAF V2.16 klabrie@libellule.local Thu 17:28:22 02-Apr-2015\n"
       ]
      },
      {
       "output_type": "stream",
       "stream": "stdout",
       "text": [
        "  Spectrum                 # Found   Midpoint Dispersion        RMS\n"
       ]
      },
      {
       "output_type": "stream",
       "stream": "stdout",
       "text": [
        "  N20140228S0381_ronchi[SCI,17][1024,*]  No solution found\n"
       ]
      },
      {
       "output_type": "stream",
       "stream": "stdout",
       "text": [
        "      8.44  8.4410114       9.38 \n"
       ]
      },
      {
       "output_type": "stream",
       "stream": "stdout",
       "text": [
        "WARNING - NFSDIST: No CDELT2 in N20140228S0381_ronchi[SCI,18].\n"
       ]
      },
      {
       "output_type": "stream",
       "stream": "stdout",
       "text": [
        "\n",
        "NFSDIST - Mark features to use\n",
        "   Accept coordinate or assign new coordinate to each feature\n",
        "   m - mark feature \n",
        "   b - autoidentify \n",
        "   ? - help, q - exit \n",
        "\n"
       ]
      },
      {
       "output_type": "stream",
       "stream": "stdout",
       "text": [
        "AUTOIDENTIFY: NOAO/IRAF V2.16 klabrie@libellule.local Thu 17:28:25 02-Apr-2015\n"
       ]
      },
      {
       "output_type": "stream",
       "stream": "stdout",
       "text": [
        "  Spectrum                 # Found   Midpoint Dispersion        RMS\n"
       ]
      },
      {
       "output_type": "stream",
       "stream": "stdout",
       "text": [
        "  N20140228S0381_ronchi[SCI,18][1024,*]  No solution found\n"
       ]
      },
      {
       "output_type": "stream",
       "stream": "stdout",
       "text": [
        "      8.52  8.5244627       9.35 \n"
       ]
      },
      {
       "output_type": "stream",
       "stream": "stdout",
       "text": [
        "WARNING - NFSDIST: No CDELT2 in N20140228S0381_ronchi[SCI,19].\n"
       ]
      },
      {
       "output_type": "stream",
       "stream": "stdout",
       "text": [
        "\n",
        "NFSDIST - Mark features to use\n",
        "   Accept coordinate or assign new coordinate to each feature\n",
        "   m - mark feature \n",
        "   b - autoidentify \n",
        "   ? - help, q - exit \n",
        "\n"
       ]
      },
      {
       "output_type": "stream",
       "stream": "stdout",
       "text": [
        "AUTOIDENTIFY: NOAO/IRAF V2.16 klabrie@libellule.local Thu 17:28:27 02-Apr-2015\n"
       ]
      },
      {
       "output_type": "stream",
       "stream": "stdout",
       "text": [
        "  Spectrum                 # Found   Midpoint Dispersion        RMS\n"
       ]
      },
      {
       "output_type": "stream",
       "stream": "stdout",
       "text": [
        "  N20140228S0381_ronchi[SCI,19][1024,*]  No solution found\n"
       ]
      },
      {
       "output_type": "stream",
       "stream": "stdout",
       "text": [
        "      8.62  8.6210442  9.3199997 \n"
       ]
      },
      {
       "output_type": "stream",
       "stream": "stdout",
       "text": [
        "WARNING - NFSDIST: No CDELT2 in N20140228S0381_ronchi[SCI,20].\n"
       ]
      },
      {
       "output_type": "stream",
       "stream": "stdout",
       "text": [
        "\n",
        "NFSDIST - Mark features to use\n",
        "   Accept coordinate or assign new coordinate to each feature\n",
        "   m - mark feature \n",
        "   b - autoidentify \n",
        "   ? - help, q - exit \n",
        "\n"
       ]
      },
      {
       "output_type": "stream",
       "stream": "stdout",
       "text": [
        "AUTOIDENTIFY: NOAO/IRAF V2.16 klabrie@libellule.local Thu 17:28:30 02-Apr-2015\n"
       ]
      },
      {
       "output_type": "stream",
       "stream": "stdout",
       "text": [
        "  Spectrum                 # Found   Midpoint Dispersion        RMS\n"
       ]
      },
      {
       "output_type": "stream",
       "stream": "stdout",
       "text": [
        "  N20140228S0381_ronchi[SCI,20][1024,*]  No solution found\n"
       ]
      },
      {
       "output_type": "stream",
       "stream": "stdout",
       "text": [
        "      8.76  8.7575083        9.3 \n"
       ]
      },
      {
       "output_type": "stream",
       "stream": "stdout",
       "text": [
        "WARNING - NFSDIST: No CDELT2 in N20140228S0381_ronchi[SCI,21].\n"
       ]
      },
      {
       "output_type": "stream",
       "stream": "stdout",
       "text": [
        "\n",
        "NFSDIST - Mark features to use\n",
        "   Accept coordinate or assign new coordinate to each feature\n",
        "   m - mark feature \n",
        "   b - autoidentify \n",
        "   ? - help, q - exit \n",
        "\n"
       ]
      },
      {
       "output_type": "stream",
       "stream": "stdout",
       "text": [
        "AUTOIDENTIFY: NOAO/IRAF V2.16 klabrie@libellule.local Thu 17:28:32 02-Apr-2015\n"
       ]
      },
      {
       "output_type": "stream",
       "stream": "stdout",
       "text": [
        "  Spectrum                 # Found   Midpoint Dispersion        RMS\n"
       ]
      },
      {
       "output_type": "stream",
       "stream": "stdout",
       "text": [
        "  N20140228S0381_ronchi[SCI,21][1024,*]  No solution found\n"
       ]
      },
      {
       "output_type": "stream",
       "stream": "stdout",
       "text": [
        "      8.84  8.8365612       9.27 \n"
       ]
      },
      {
       "output_type": "stream",
       "stream": "stdout",
       "text": [
        "WARNING - NFSDIST: No CDELT2 in N20140228S0381_ronchi[SCI,22].\n"
       ]
      },
      {
       "output_type": "stream",
       "stream": "stdout",
       "text": [
        "\n",
        "NFSDIST - Mark features to use\n",
        "   Accept coordinate or assign new coordinate to each feature\n",
        "   m - mark feature \n",
        "   b - autoidentify \n",
        "   ? - help, q - exit \n",
        "\n"
       ]
      },
      {
       "output_type": "stream",
       "stream": "stdout",
       "text": [
        "AUTOIDENTIFY: NOAO/IRAF V2.16 klabrie@libellule.local Thu 17:28:35 02-Apr-2015\n"
       ]
      },
      {
       "output_type": "stream",
       "stream": "stdout",
       "text": [
        "  Spectrum                 # Found   Midpoint Dispersion        RMS\n"
       ]
      },
      {
       "output_type": "stream",
       "stream": "stdout",
       "text": [
        "  N20140228S0381_ronchi[SCI,22][1024,*]  No solution found\n"
       ]
      },
      {
       "output_type": "stream",
       "stream": "stdout",
       "text": [
        "      7.87  7.8708658  9.2399998 \n"
       ]
      },
      {
       "output_type": "stream",
       "stream": "stdout",
       "text": [
        "WARNING - NFSDIST: No CDELT2 in N20140228S0381_ronchi[SCI,23].\n"
       ]
      },
      {
       "output_type": "stream",
       "stream": "stdout",
       "text": [
        "\n",
        "NFSDIST - Mark features to use\n",
        "   Accept coordinate or assign new coordinate to each feature\n",
        "   m - mark feature \n",
        "   b - autoidentify \n",
        "   ? - help, q - exit \n",
        "\n"
       ]
      },
      {
       "output_type": "stream",
       "stream": "stdout",
       "text": [
        "AUTOIDENTIFY: NOAO/IRAF V2.16 klabrie@libellule.local Thu 17:28:38 02-Apr-2015\n"
       ]
      },
      {
       "output_type": "stream",
       "stream": "stdout",
       "text": [
        "  Spectrum                 # Found   Midpoint Dispersion        RMS\n"
       ]
      },
      {
       "output_type": "stream",
       "stream": "stdout",
       "text": [
        "  N20140228S0381_ronchi[SCI,23][1024,*]  No solution found\n"
       ]
      },
      {
       "output_type": "stream",
       "stream": "stdout",
       "text": [
        "      7.90  7.8970613       9.22 \n"
       ]
      },
      {
       "output_type": "stream",
       "stream": "stdout",
       "text": [
        "WARNING - NFSDIST: No CDELT2 in N20140228S0381_ronchi[SCI,24].\n"
       ]
      },
      {
       "output_type": "stream",
       "stream": "stdout",
       "text": [
        "\n",
        "NFSDIST - Mark features to use\n",
        "   Accept coordinate or assign new coordinate to each feature\n",
        "   m - mark feature \n",
        "   b - autoidentify \n",
        "   ? - help, q - exit \n",
        "\n"
       ]
      },
      {
       "output_type": "stream",
       "stream": "stdout",
       "text": [
        "AUTOIDENTIFY: NOAO/IRAF V2.16 klabrie@libellule.local Thu 17:28:40 02-Apr-2015\n"
       ]
      },
      {
       "output_type": "stream",
       "stream": "stdout",
       "text": [
        "  Spectrum                 # Found   Midpoint Dispersion        RMS\n"
       ]
      },
      {
       "output_type": "stream",
       "stream": "stdout",
       "text": [
        "  N20140228S0381_ronchi[SCI,24][1024,*]  No solution found\n"
       ]
      },
      {
       "output_type": "stream",
       "stream": "stdout",
       "text": [
        "      7.94  7.9427528  9.1899996 \n"
       ]
      },
      {
       "output_type": "stream",
       "stream": "stdout",
       "text": [
        "WARNING - NFSDIST: No CDELT2 in N20140228S0381_ronchi[SCI,25].\n"
       ]
      },
      {
       "output_type": "stream",
       "stream": "stdout",
       "text": [
        "\n",
        "NFSDIST - Mark features to use\n",
        "   Accept coordinate or assign new coordinate to each feature\n",
        "   m - mark feature \n",
        "   b - autoidentify \n",
        "   ? - help, q - exit \n",
        "\n"
       ]
      },
      {
       "output_type": "stream",
       "stream": "stdout",
       "text": [
        "AUTOIDENTIFY: NOAO/IRAF V2.16 klabrie@libellule.local Thu 17:28:42 02-Apr-2015\n"
       ]
      },
      {
       "output_type": "stream",
       "stream": "stdout",
       "text": [
        "  Spectrum                 # Found   Midpoint Dispersion        RMS\n"
       ]
      },
      {
       "output_type": "stream",
       "stream": "stdout",
       "text": [
        "  N20140228S0381_ronchi[SCI,25][1024,*]  No solution found\n"
       ]
      },
      {
       "output_type": "stream",
       "stream": "stdout",
       "text": [
        "      8.02  8.0194492       9.17 \n"
       ]
      },
      {
       "output_type": "stream",
       "stream": "stdout",
       "text": [
        "WARNING - NFSDIST: No CDELT2 in N20140228S0381_ronchi[SCI,26].\n"
       ]
      },
      {
       "output_type": "stream",
       "stream": "stdout",
       "text": [
        "\n",
        "NFSDIST - Mark features to use\n",
        "   Accept coordinate or assign new coordinate to each feature\n",
        "   m - mark feature \n",
        "   b - autoidentify \n",
        "   ? - help, q - exit \n",
        "\n"
       ]
      },
      {
       "output_type": "stream",
       "stream": "stdout",
       "text": [
        "AUTOIDENTIFY: NOAO/IRAF V2.16 klabrie@libellule.local Thu 17:28:45 02-Apr-2015\n"
       ]
      },
      {
       "output_type": "stream",
       "stream": "stdout",
       "text": [
        "  Spectrum                 # Found   Midpoint Dispersion        RMS\n"
       ]
      },
      {
       "output_type": "stream",
       "stream": "stdout",
       "text": [
        "  N20140228S0381_ronchi[SCI,26][1024,*]  No solution found\n"
       ]
      },
      {
       "output_type": "stream",
       "stream": "stdout",
       "text": [
        "      8.05  8.0534153       9.14 \n"
       ]
      },
      {
       "output_type": "stream",
       "stream": "stdout",
       "text": [
        "WARNING - NFSDIST: No CDELT2 in N20140228S0381_ronchi[SCI,27].\n"
       ]
      },
      {
       "output_type": "stream",
       "stream": "stdout",
       "text": [
        "\n",
        "NFSDIST - Mark features to use\n",
        "   Accept coordinate or assign new coordinate to each feature\n",
        "   m - mark feature \n",
        "   b - autoidentify \n",
        "   ? - help, q - exit \n",
        "\n"
       ]
      },
      {
       "output_type": "stream",
       "stream": "stdout",
       "text": [
        "AUTOIDENTIFY: NOAO/IRAF V2.16 klabrie@libellule.local Thu 17:28:48 02-Apr-2015\n"
       ]
      },
      {
       "output_type": "stream",
       "stream": "stdout",
       "text": [
        "  Spectrum                 # Found   Midpoint Dispersion        RMS\n"
       ]
      },
      {
       "output_type": "stream",
       "stream": "stdout",
       "text": [
        "  N20140228S0381_ronchi[SCI,27][1024,*]  No solution found\n"
       ]
      },
      {
       "output_type": "stream",
       "stream": "stdout",
       "text": [
        "      8.20  8.2021427  9.1099997 \n"
       ]
      },
      {
       "output_type": "stream",
       "stream": "stdout",
       "text": [
        "WARNING - NFSDIST: No CDELT2 in N20140228S0381_ronchi[SCI,28].\n"
       ]
      },
      {
       "output_type": "stream",
       "stream": "stdout",
       "text": [
        "\n",
        "NFSDIST - Mark features to use\n",
        "   Accept coordinate or assign new coordinate to each feature\n",
        "   m - mark feature \n",
        "   b - autoidentify \n",
        "   ? - help, q - exit \n",
        "\n"
       ]
      },
      {
       "output_type": "stream",
       "stream": "stdout",
       "text": [
        "AUTOIDENTIFY: NOAO/IRAF V2.16 klabrie@libellule.local Thu 17:28:50 02-Apr-2015\n"
       ]
      },
      {
       "output_type": "stream",
       "stream": "stdout",
       "text": [
        "  Spectrum                 # Found   Midpoint Dispersion        RMS\n"
       ]
      },
      {
       "output_type": "stream",
       "stream": "stdout",
       "text": [
        "  N20140228S0381_ronchi[SCI,28][1024,*]  No solution found\n"
       ]
      },
      {
       "output_type": "stream",
       "stream": "stdout",
       "text": [
        "      8.37   8.371171       9.09 \n"
       ]
      },
      {
       "output_type": "stream",
       "stream": "stdout",
       "text": [
        "WARNING - NFSDIST: No CDELT2 in N20140228S0381_ronchi[SCI,29].\n"
       ]
      },
      {
       "output_type": "stream",
       "stream": "stdout",
       "text": [
        "\n",
        "NFSDIST - Mark features to use\n",
        "   Accept coordinate or assign new coordinate to each feature\n",
        "   m - mark feature \n",
        "   b - autoidentify \n",
        "   ? - help, q - exit \n",
        "\n"
       ]
      },
      {
       "output_type": "stream",
       "stream": "stdout",
       "text": [
        "AUTOIDENTIFY: NOAO/IRAF V2.16 klabrie@libellule.local Thu 17:28:52 02-Apr-2015\n"
       ]
      },
      {
       "output_type": "stream",
       "stream": "stdout",
       "text": [
        "  Spectrum                 # Found   Midpoint Dispersion        RMS\n"
       ]
      },
      {
       "output_type": "stream",
       "stream": "stdout",
       "text": [
        "  N20140228S0381_ronchi[SCI,29][1024,*]  No solution found\n"
       ]
      },
      {
       "output_type": "stream",
       "stream": "stdout",
       "text": [
        "     16.10  16.103584      16.44 \n"
       ]
      },
      {
       "output_type": "stream",
       "stream": "stdout",
       "text": [
        "Done.\n"
       ]
      }
     ],
     "prompt_number": 11
    },
    {
     "cell_type": "markdown",
     "metadata": {},
     "source": [
      "<hr size=5>"
     ]
    },
    {
     "cell_type": "heading",
     "level": 2,
     "metadata": {},
     "source": [
      "SUMMARY OF BASELINE CALIBRATION REDUCTION"
     ]
    },
    {
     "cell_type": "markdown",
     "metadata": {},
     "source": [
      "The final output files created in this section for later science reduction have suffixes and file names of:\n",
      "\n",
      "    1. Shift reference file:  calflat+'_shift'\n",
      "    2. Dark frame:  calflat+'_flatdark'\n",
      "    3. Flat field:  calflat+'_flat'\n",
      "    4. Flat BPM (for DQ plane generation):  calflat+'_bpm.pl'\n",
      "    5. Wavelength referenced Arc:  arc+'_arc'\n",
      "    6. Spatially referenced Ronchi Flat:  ronchiflat+'_ronchi'\n",
      "\n",
      "    Specifically, for this reduction,\n",
      "        Shift ref. file =  N20140228S0369_shift.fits\n",
      "        Dark frame      =  N20140228S0374_flatdark.fits\n",
      "        Flat field      =  N20140228S0369_flat.fits\n",
      "        Flat BPM        =  N20140228S0369_bpm.pl\n",
      "        Arc frame       =  N20140228S0170_arc.fits\n",
      "        Ronchi flat     =  N20140228S0381_ronchi.fits\n"
     ]
    },
    {
     "cell_type": "markdown",
     "metadata": {},
     "source": [
      "<hr size=5>"
     ]
    },
    {
     "cell_type": "markdown",
     "metadata": {},
     "source": [
      "[Table of Contents](#toc)\n",
      "\n",
      "<hr size=5>\n",
      "<a id='science'></a>"
     ]
    },
    {
     "cell_type": "heading",
     "level": 2,
     "metadata": {},
     "source": [
      "REDUCTION OF SCIENCE UP TO TELLURIC CORRECTION - STEPS 9 TO 14"
     ]
    },
    {
     "cell_type": "markdown",
     "metadata": {},
     "source": [
      "<hr size=5>"
     ]
    },
    {
     "cell_type": "markdown",
     "metadata": {},
     "source": [
      "All the variables and filenames are defined above in Step 3.  If you are starting fresh , make sure you do run Steps 0 to 3, inclusively, before proceeding further.  That is where everything is configured."
     ]
    },
    {
     "cell_type": "heading",
     "level": 2,
     "metadata": {},
     "source": [
      "STEP 9: PREPARE THE SCIENCE FRAMES"
     ]
    },
    {
     "cell_type": "code",
     "collapsed": false,
     "input": [
      "iraf.imdelete('n@obj.lis', verify='no')\n",
      "\n",
      "iraf.nfprepare('@obj.lis', rawpath=rawdir, shiftimage=calflat+'_shift', \\\n",
      "               fl_vard='yes', bpm=calflat+'_bpm.pl')"
     ],
     "language": "python",
     "metadata": {},
     "outputs": [
      {
       "output_type": "stream",
       "stream": "stdout",
       "text": [
        "-------------------------------------------------------------------------------\n",
        "NFPREPARE -- Thu Apr  2 17:34:42 HST 2015\n",
        " \n",
        "WARNING - NFPREPARE: Non-linear pixels not flagged.\n",
        "NFPREPARE: Shift from N20140228S0369_shift[0]"
       ]
      },
      {
       "output_type": "stream",
       "stream": "stdout",
       "text": [
        "\n",
        "Processing 9 files"
       ]
      },
      {
       "output_type": "stream",
       "stream": "stdout",
       "text": [
        "\n"
       ]
      },
      {
       "output_type": "stream",
       "stream": "stdout",
       "text": [
        "----------------------------------------------------------------------------\n",
        "NFPREPARE: Subtracting reference pixels.\n",
        "WARNING - NFPREPARE: Not correcting for non-linearity."
       ]
      },
      {
       "output_type": "stream",
       "stream": "stdout",
       "text": [
        "\n",
        "----------------------------------------------------------------------------\n",
        "NFPAD: Padding NIFS data in the y-dimension for extended slices\n"
       ]
      },
      {
       "output_type": "stream",
       "stream": "stdout",
       "text": [
        "NFPAD: Input file is a non-MEF NIFS frame\n"
       ]
      },
      {
       "output_type": "stream",
       "stream": "stdout",
       "text": [
        "NFPAD exit status:  good.\n",
        "----------------------------------------------------------------------------\n"
       ]
      },
      {
       "output_type": "stream",
       "stream": "stdout",
       "text": [
        "----------------------------------------------------------------------------\n",
        "NFPAD: Padding NIFS data in the y-dimension for extended slices\n"
       ]
      },
      {
       "output_type": "stream",
       "stream": "stdout",
       "text": [
        "NFPAD: Input file is a non-MEF NIFS frame\n"
       ]
      },
      {
       "output_type": "stream",
       "stream": "stdout",
       "text": [
        "NFPAD exit status:  good.\n",
        "----------------------------------------------------------------------------\n"
       ]
      },
      {
       "output_type": "stream",
       "stream": "stdout",
       "text": [
        "----------------------------------------------------------------------------\n",
        "NFPAD: Padding NIFS data in the y-dimension for extended slices\n"
       ]
      },
      {
       "output_type": "stream",
       "stream": "stdout",
       "text": [
        "NFPAD: Input file is a non-MEF NIFS frame\n"
       ]
      },
      {
       "output_type": "stream",
       "stream": "stdout",
       "text": [
        "NFPAD exit status:  good.\n",
        "----------------------------------------------------------------------------\n"
       ]
      },
      {
       "output_type": "stream",
       "stream": "stdout",
       "text": [
        "NFPREPARE: Shifting MDF in Y by 2.0 pixels (subtracted from y_ccd)\n"
       ]
      },
      {
       "output_type": "stream",
       "stream": "stdout",
       "text": [
        " \n",
        "  n      input file -->      output file\n",
        "  1 ../../../raw/N20140228S0161 -->  nN20140228S0161 \n",
        "                 filter     focal plane       input BPM    RN  gain     sat\n",
        "               ZJ_G0601        3.0_Mask N20140228S0369_bpm.pl   1.6   2.4   50000 \n",
        "----------------------------------------------------------------------------"
       ]
      },
      {
       "output_type": "stream",
       "stream": "stdout",
       "text": [
        "\n",
        "NFPREPARE: Subtracting reference pixels.\n",
        "WARNING - NFPREPARE: Not correcting for non-linearity."
       ]
      },
      {
       "output_type": "stream",
       "stream": "stdout",
       "text": [
        "\n",
        "----------------------------------------------------------------------------\n",
        "NFPAD: Padding NIFS data in the y-dimension for extended slices\n"
       ]
      },
      {
       "output_type": "stream",
       "stream": "stdout",
       "text": [
        "NFPAD: Input file is a non-MEF NIFS frame\n"
       ]
      },
      {
       "output_type": "stream",
       "stream": "stdout",
       "text": [
        "NFPAD exit status:  good.\n",
        "----------------------------------------------------------------------------"
       ]
      },
      {
       "output_type": "stream",
       "stream": "stdout",
       "text": [
        "\n"
       ]
      },
      {
       "output_type": "stream",
       "stream": "stdout",
       "text": [
        "----------------------------------------------------------------------------\n",
        "NFPAD: Padding NIFS data in the y-dimension for extended slices\n"
       ]
      },
      {
       "output_type": "stream",
       "stream": "stdout",
       "text": [
        "NFPAD: Input file is a non-MEF NIFS frame\n"
       ]
      },
      {
       "output_type": "stream",
       "stream": "stdout",
       "text": [
        "NFPAD exit status:  good.\n",
        "----------------------------------------------------------------------------\n"
       ]
      },
      {
       "output_type": "stream",
       "stream": "stdout",
       "text": [
        "----------------------------------------------------------------------------\n",
        "NFPAD: Padding NIFS data in the y-dimension for extended slices\n"
       ]
      },
      {
       "output_type": "stream",
       "stream": "stdout",
       "text": [
        "NFPAD: Input file is a non-MEF NIFS frame\n"
       ]
      },
      {
       "output_type": "stream",
       "stream": "stdout",
       "text": [
        "NFPAD exit status:  good.\n",
        "----------------------------------------------------------------------------\n"
       ]
      },
      {
       "output_type": "stream",
       "stream": "stdout",
       "text": [
        "NFPREPARE: Shifting MDF in Y by 2.0 pixels (subtracted from y_ccd)\n"
       ]
      },
      {
       "output_type": "stream",
       "stream": "stdout",
       "text": [
        " \n",
        "  n      input file -->      output file\n",
        "  2 ../../../raw/N20140228S0162 -->  nN20140228S0162 \n",
        "                 filter     focal plane       input BPM    RN  gain     sat\n",
        "               ZJ_G0601        3.0_Mask N20140228S0369_bpm.pl   1.6   2.4   50000 \n",
        "----------------------------------------------------------------------------"
       ]
      },
      {
       "output_type": "stream",
       "stream": "stdout",
       "text": [
        "\n",
        "NFPREPARE: Subtracting reference pixels.\n",
        "WARNING - NFPREPARE: Not correcting for non-linearity."
       ]
      },
      {
       "output_type": "stream",
       "stream": "stdout",
       "text": [
        "\n",
        "----------------------------------------------------------------------------\n",
        "NFPAD: Padding NIFS data in the y-dimension for extended slices\n"
       ]
      },
      {
       "output_type": "stream",
       "stream": "stdout",
       "text": [
        "NFPAD: Input file is a non-MEF NIFS frame\n"
       ]
      },
      {
       "output_type": "stream",
       "stream": "stdout",
       "text": [
        "NFPAD exit status:  good.\n",
        "----------------------------------------------------------------------------\n"
       ]
      },
      {
       "output_type": "stream",
       "stream": "stdout",
       "text": [
        "----------------------------------------------------------------------------\n",
        "NFPAD: Padding NIFS data in the y-dimension for extended slices\n"
       ]
      },
      {
       "output_type": "stream",
       "stream": "stdout",
       "text": [
        "NFPAD: Input file is a non-MEF NIFS frame\n"
       ]
      },
      {
       "output_type": "stream",
       "stream": "stdout",
       "text": [
        "NFPAD exit status:  good.\n",
        "----------------------------------------------------------------------------\n"
       ]
      },
      {
       "output_type": "stream",
       "stream": "stdout",
       "text": [
        "----------------------------------------------------------------------------\n",
        "NFPAD: Padding NIFS data in the y-dimension for extended slices\n"
       ]
      },
      {
       "output_type": "stream",
       "stream": "stdout",
       "text": [
        "NFPAD: Input file is a non-MEF NIFS frame\n"
       ]
      },
      {
       "output_type": "stream",
       "stream": "stdout",
       "text": [
        "NFPAD exit status:  good.\n",
        "----------------------------------------------------------------------------\n"
       ]
      },
      {
       "output_type": "stream",
       "stream": "stdout",
       "text": [
        "NFPREPARE: Shifting MDF in Y by 2.0 pixels (subtracted from y_ccd)\n"
       ]
      },
      {
       "output_type": "stream",
       "stream": "stdout",
       "text": [
        " \n",
        "  n      input file -->      output file\n",
        "  3 ../../../raw/N20140228S0163 -->  nN20140228S0163 \n",
        "                 filter     focal plane       input BPM    RN  gain     sat\n",
        "               ZJ_G0601        3.0_Mask N20140228S0369_bpm.pl   1.6   2.4   50000 \n",
        "----------------------------------------------------------------------------"
       ]
      },
      {
       "output_type": "stream",
       "stream": "stdout",
       "text": [
        "\n",
        "NFPREPARE: Subtracting reference pixels.\n",
        "WARNING - NFPREPARE: Not correcting for non-linearity."
       ]
      },
      {
       "output_type": "stream",
       "stream": "stdout",
       "text": [
        "\n",
        "----------------------------------------------------------------------------\n",
        "NFPAD: Padding NIFS data in the y-dimension for extended slices\n"
       ]
      },
      {
       "output_type": "stream",
       "stream": "stdout",
       "text": [
        "NFPAD: Input file is a non-MEF NIFS frame\n"
       ]
      },
      {
       "output_type": "stream",
       "stream": "stdout",
       "text": [
        "NFPAD exit status:  good.\n",
        "----------------------------------------------------------------------------\n"
       ]
      },
      {
       "output_type": "stream",
       "stream": "stdout",
       "text": [
        "----------------------------------------------------------------------------\n",
        "NFPAD: Padding NIFS data in the y-dimension for extended slices\n"
       ]
      },
      {
       "output_type": "stream",
       "stream": "stdout",
       "text": [
        "NFPAD: Input file is a non-MEF NIFS frame\n"
       ]
      },
      {
       "output_type": "stream",
       "stream": "stdout",
       "text": [
        "NFPAD exit status:  good.\n",
        "----------------------------------------------------------------------------\n"
       ]
      },
      {
       "output_type": "stream",
       "stream": "stdout",
       "text": [
        "----------------------------------------------------------------------------\n",
        "NFPAD: Padding NIFS data in the y-dimension for extended slices\n"
       ]
      },
      {
       "output_type": "stream",
       "stream": "stdout",
       "text": [
        "NFPAD: Input file is a non-MEF NIFS frame\n"
       ]
      },
      {
       "output_type": "stream",
       "stream": "stdout",
       "text": [
        "NFPAD exit status:  good.\n",
        "----------------------------------------------------------------------------\n"
       ]
      },
      {
       "output_type": "stream",
       "stream": "stdout",
       "text": [
        "NFPREPARE: Shifting MDF in Y by 2.0 pixels (subtracted from y_ccd)\n"
       ]
      },
      {
       "output_type": "stream",
       "stream": "stdout",
       "text": [
        " \n",
        "  n      input file -->      output file\n",
        "  4 ../../../raw/N20140228S0164 -->  nN20140228S0164 \n",
        "                 filter     focal plane       input BPM    RN  gain     sat\n",
        "               ZJ_G0601        3.0_Mask N20140228S0369_bpm.pl   1.6   2.4   50000 \n",
        "----------------------------------------------------------------------------"
       ]
      },
      {
       "output_type": "stream",
       "stream": "stdout",
       "text": [
        "\n",
        "NFPREPARE: Subtracting reference pixels.\n",
        "WARNING - NFPREPARE: Not correcting for non-linearity."
       ]
      },
      {
       "output_type": "stream",
       "stream": "stdout",
       "text": [
        "\n",
        "----------------------------------------------------------------------------\n",
        "NFPAD: Padding NIFS data in the y-dimension for extended slices\n"
       ]
      },
      {
       "output_type": "stream",
       "stream": "stdout",
       "text": [
        "NFPAD: Input file is a non-MEF NIFS frame\n"
       ]
      },
      {
       "output_type": "stream",
       "stream": "stdout",
       "text": [
        "NFPAD exit status:  good.\n",
        "----------------------------------------------------------------------------\n"
       ]
      },
      {
       "output_type": "stream",
       "stream": "stdout",
       "text": [
        "----------------------------------------------------------------------------\n",
        "NFPAD: Padding NIFS data in the y-dimension for extended slices\n"
       ]
      },
      {
       "output_type": "stream",
       "stream": "stdout",
       "text": [
        "NFPAD: Input file is a non-MEF NIFS frame\n"
       ]
      },
      {
       "output_type": "stream",
       "stream": "stdout",
       "text": [
        "NFPAD exit status:  good.\n",
        "----------------------------------------------------------------------------\n"
       ]
      },
      {
       "output_type": "stream",
       "stream": "stdout",
       "text": [
        "----------------------------------------------------------------------------\n",
        "NFPAD: Padding NIFS data in the y-dimension for extended slices\n"
       ]
      },
      {
       "output_type": "stream",
       "stream": "stdout",
       "text": [
        "NFPAD: Input file is a non-MEF NIFS frame\n"
       ]
      },
      {
       "output_type": "stream",
       "stream": "stdout",
       "text": [
        "NFPAD exit status:  good.\n",
        "----------------------------------------------------------------------------\n"
       ]
      },
      {
       "output_type": "stream",
       "stream": "stdout",
       "text": [
        "NFPREPARE: Shifting MDF in Y by 2.0 pixels (subtracted from y_ccd)\n"
       ]
      },
      {
       "output_type": "stream",
       "stream": "stdout",
       "text": [
        " \n",
        "  n      input file -->      output file\n",
        "  5 ../../../raw/N20140228S0165 -->  nN20140228S0165 \n",
        "                 filter     focal plane       input BPM    RN  gain     sat\n",
        "               ZJ_G0601        3.0_Mask N20140228S0369_bpm.pl   1.6   2.4   50000 \n",
        "----------------------------------------------------------------------------"
       ]
      },
      {
       "output_type": "stream",
       "stream": "stdout",
       "text": [
        "\n",
        "NFPREPARE: Subtracting reference pixels.\n",
        "WARNING - NFPREPARE: Not correcting for non-linearity."
       ]
      },
      {
       "output_type": "stream",
       "stream": "stdout",
       "text": [
        "\n",
        "----------------------------------------------------------------------------\n",
        "NFPAD: Padding NIFS data in the y-dimension for extended slices\n"
       ]
      },
      {
       "output_type": "stream",
       "stream": "stdout",
       "text": [
        "NFPAD: Input file is a non-MEF NIFS frame\n"
       ]
      },
      {
       "output_type": "stream",
       "stream": "stdout",
       "text": [
        "NFPAD exit status:  good.\n",
        "----------------------------------------------------------------------------\n"
       ]
      },
      {
       "output_type": "stream",
       "stream": "stdout",
       "text": [
        "----------------------------------------------------------------------------\n",
        "NFPAD: Padding NIFS data in the y-dimension for extended slices\n"
       ]
      },
      {
       "output_type": "stream",
       "stream": "stdout",
       "text": [
        "NFPAD: Input file is a non-MEF NIFS frame\n"
       ]
      },
      {
       "output_type": "stream",
       "stream": "stdout",
       "text": [
        "NFPAD exit status:  good.\n",
        "----------------------------------------------------------------------------\n"
       ]
      },
      {
       "output_type": "stream",
       "stream": "stdout",
       "text": [
        "----------------------------------------------------------------------------\n",
        "NFPAD: Padding NIFS data in the y-dimension for extended slices\n"
       ]
      },
      {
       "output_type": "stream",
       "stream": "stdout",
       "text": [
        "NFPAD: Input file is a non-MEF NIFS frame\n"
       ]
      },
      {
       "output_type": "stream",
       "stream": "stdout",
       "text": [
        "NFPAD exit status:  good.\n",
        "----------------------------------------------------------------------------\n"
       ]
      },
      {
       "output_type": "stream",
       "stream": "stdout",
       "text": [
        "NFPREPARE: Shifting MDF in Y by 2.0 pixels (subtracted from y_ccd)\n"
       ]
      },
      {
       "output_type": "stream",
       "stream": "stdout",
       "text": [
        " \n",
        "  n      input file -->      output file\n",
        "  6 ../../../raw/N20140228S0166 -->  nN20140228S0166 \n",
        "                 filter     focal plane       input BPM    RN  gain     sat\n",
        "               ZJ_G0601        3.0_Mask N20140228S0369_bpm.pl   1.6   2.4   50000 \n",
        "----------------------------------------------------------------------------"
       ]
      },
      {
       "output_type": "stream",
       "stream": "stdout",
       "text": [
        "\n",
        "NFPREPARE: Subtracting reference pixels.\n",
        "WARNING - NFPREPARE: Not correcting for non-linearity."
       ]
      },
      {
       "output_type": "stream",
       "stream": "stdout",
       "text": [
        "\n",
        "----------------------------------------------------------------------------\n",
        "NFPAD: Padding NIFS data in the y-dimension for extended slices\n"
       ]
      },
      {
       "output_type": "stream",
       "stream": "stdout",
       "text": [
        "NFPAD: Input file is a non-MEF NIFS frame\n"
       ]
      },
      {
       "output_type": "stream",
       "stream": "stdout",
       "text": [
        "NFPAD exit status:  good.\n",
        "----------------------------------------------------------------------------\n"
       ]
      },
      {
       "output_type": "stream",
       "stream": "stdout",
       "text": [
        "----------------------------------------------------------------------------\n",
        "NFPAD: Padding NIFS data in the y-dimension for extended slices\n"
       ]
      },
      {
       "output_type": "stream",
       "stream": "stdout",
       "text": [
        "NFPAD: Input file is a non-MEF NIFS frame\n"
       ]
      },
      {
       "output_type": "stream",
       "stream": "stdout",
       "text": [
        "NFPAD exit status:  good.\n",
        "----------------------------------------------------------------------------\n"
       ]
      },
      {
       "output_type": "stream",
       "stream": "stdout",
       "text": [
        "----------------------------------------------------------------------------\n",
        "NFPAD: Padding NIFS data in the y-dimension for extended slices\n"
       ]
      },
      {
       "output_type": "stream",
       "stream": "stdout",
       "text": [
        "NFPAD: Input file is a non-MEF NIFS frame\n"
       ]
      },
      {
       "output_type": "stream",
       "stream": "stdout",
       "text": [
        "NFPAD exit status:  good.\n",
        "----------------------------------------------------------------------------\n"
       ]
      },
      {
       "output_type": "stream",
       "stream": "stdout",
       "text": [
        "NFPREPARE: Shifting MDF in Y by 2.0 pixels (subtracted from y_ccd)\n"
       ]
      },
      {
       "output_type": "stream",
       "stream": "stdout",
       "text": [
        " \n",
        "  n      input file -->      output file\n",
        "  7 ../../../raw/N20140228S0167 -->  nN20140228S0167 \n",
        "                 filter     focal plane       input BPM    RN  gain     sat\n",
        "               ZJ_G0601        3.0_Mask N20140228S0369_bpm.pl   1.6   2.4   50000 \n",
        "----------------------------------------------------------------------------"
       ]
      },
      {
       "output_type": "stream",
       "stream": "stdout",
       "text": [
        "\n",
        "NFPREPARE: Subtracting reference pixels.\n",
        "WARNING - NFPREPARE: Not correcting for non-linearity."
       ]
      },
      {
       "output_type": "stream",
       "stream": "stdout",
       "text": [
        "\n",
        "----------------------------------------------------------------------------\n",
        "NFPAD: Padding NIFS data in the y-dimension for extended slices\n"
       ]
      },
      {
       "output_type": "stream",
       "stream": "stdout",
       "text": [
        "NFPAD: Input file is a non-MEF NIFS frame\n"
       ]
      },
      {
       "output_type": "stream",
       "stream": "stdout",
       "text": [
        "NFPAD exit status:  good.\n",
        "----------------------------------------------------------------------------\n"
       ]
      },
      {
       "output_type": "stream",
       "stream": "stdout",
       "text": [
        "----------------------------------------------------------------------------\n",
        "NFPAD: Padding NIFS data in the y-dimension for extended slices\n"
       ]
      },
      {
       "output_type": "stream",
       "stream": "stdout",
       "text": [
        "NFPAD: Input file is a non-MEF NIFS frame\n"
       ]
      },
      {
       "output_type": "stream",
       "stream": "stdout",
       "text": [
        "NFPAD exit status:  good.\n",
        "----------------------------------------------------------------------------\n"
       ]
      },
      {
       "output_type": "stream",
       "stream": "stdout",
       "text": [
        "----------------------------------------------------------------------------\n",
        "NFPAD: Padding NIFS data in the y-dimension for extended slices\n"
       ]
      },
      {
       "output_type": "stream",
       "stream": "stdout",
       "text": [
        "NFPAD: Input file is a non-MEF NIFS frame\n"
       ]
      },
      {
       "output_type": "stream",
       "stream": "stdout",
       "text": [
        "NFPAD exit status:  good.\n",
        "----------------------------------------------------------------------------\n"
       ]
      },
      {
       "output_type": "stream",
       "stream": "stdout",
       "text": [
        "NFPREPARE: Shifting MDF in Y by 2.0 pixels (subtracted from y_ccd)\n"
       ]
      },
      {
       "output_type": "stream",
       "stream": "stdout",
       "text": [
        " \n",
        "  n      input file -->      output file\n",
        "  8 ../../../raw/N20140228S0168 -->  nN20140228S0168 \n",
        "                 filter     focal plane       input BPM    RN  gain     sat\n",
        "               ZJ_G0601        3.0_Mask N20140228S0369_bpm.pl   1.6   2.4   50000 \n",
        "----------------------------------------------------------------------------"
       ]
      },
      {
       "output_type": "stream",
       "stream": "stdout",
       "text": [
        "\n",
        "NFPREPARE: Subtracting reference pixels.\n",
        "WARNING - NFPREPARE: Not correcting for non-linearity."
       ]
      },
      {
       "output_type": "stream",
       "stream": "stdout",
       "text": [
        "\n",
        "----------------------------------------------------------------------------\n",
        "NFPAD: Padding NIFS data in the y-dimension for extended slices\n"
       ]
      },
      {
       "output_type": "stream",
       "stream": "stdout",
       "text": [
        "NFPAD: Input file is a non-MEF NIFS frame\n"
       ]
      },
      {
       "output_type": "stream",
       "stream": "stdout",
       "text": [
        "NFPAD exit status:  good.\n",
        "----------------------------------------------------------------------------\n"
       ]
      },
      {
       "output_type": "stream",
       "stream": "stdout",
       "text": [
        "----------------------------------------------------------------------------\n",
        "NFPAD: Padding NIFS data in the y-dimension for extended slices\n"
       ]
      },
      {
       "output_type": "stream",
       "stream": "stdout",
       "text": [
        "NFPAD: Input file is a non-MEF NIFS frame\n"
       ]
      },
      {
       "output_type": "stream",
       "stream": "stdout",
       "text": [
        "NFPAD exit status:  good.\n",
        "----------------------------------------------------------------------------\n"
       ]
      },
      {
       "output_type": "stream",
       "stream": "stdout",
       "text": [
        "----------------------------------------------------------------------------\n",
        "NFPAD: Padding NIFS data in the y-dimension for extended slices\n"
       ]
      },
      {
       "output_type": "stream",
       "stream": "stdout",
       "text": [
        "NFPAD: Input file is a non-MEF NIFS frame\n"
       ]
      },
      {
       "output_type": "stream",
       "stream": "stdout",
       "text": [
        "NFPAD exit status:  good.\n",
        "----------------------------------------------------------------------------\n"
       ]
      },
      {
       "output_type": "stream",
       "stream": "stdout",
       "text": [
        "NFPREPARE: Shifting MDF in Y by 2.0 pixels (subtracted from y_ccd)\n"
       ]
      },
      {
       "output_type": "stream",
       "stream": "stdout",
       "text": [
        " \n",
        "  n      input file -->      output file\n",
        "  9 ../../../raw/N20140228S0169 -->  nN20140228S0169 \n",
        "                 filter     focal plane       input BPM    RN  gain     sat\n",
        "               ZJ_G0601        3.0_Mask N20140228S0369_bpm.pl   1.6   2.4   50000 \n",
        " "
       ]
      },
      {
       "output_type": "stream",
       "stream": "stdout",
       "text": [
        "\n",
        "NFPREPARE exit status:  good.\n",
        "----------------------------------------------------------------------------\n"
       ]
      }
     ],
     "prompt_number": 13
    },
    {
     "cell_type": "heading",
     "level": 2,
     "metadata": {},
     "source": [
      "STEP 10: CREATE THE SKY FRAME LISTS"
     ]
    },
    {
     "cell_type": "markdown",
     "metadata": {},
     "source": [
      "'gemoffsetlist' construct files with the sky offset information.  Change the 'distance' parameter to correspond to the offset distance (in arcseconds) for your observations.\n",
      "\n",
      "Use hselect to get the information about the offsets and the time of observation."
     ]
    },
    {
     "cell_type": "code",
     "collapsed": false,
     "input": [
      "iraf.hselect('n@obj.lis', '$I, XOFFSET, YOFFSET, UT', 'yes')"
     ],
     "language": "python",
     "metadata": {},
     "outputs": [
      {
       "output_type": "stream",
       "stream": "stdout",
       "text": [
        "nN20140228S0161\t0.0\t0.0\t10:16:08.1\n"
       ]
      },
      {
       "output_type": "stream",
       "stream": "stdout",
       "text": [
        "nN20140228S0162\t0.0\t-0.65\t10:27:57.6\n"
       ]
      },
      {
       "output_type": "stream",
       "stream": "stdout",
       "text": [
        "nN20140228S0163\t0.0\t-0.05\t10:39:43.1\n"
       ]
      },
      {
       "output_type": "stream",
       "stream": "stdout",
       "text": [
        "nN20140228S0164\t0.0\t-0.69\t10:51:25.1\n"
       ]
      },
      {
       "output_type": "stream",
       "stream": "stdout",
       "text": [
        "nN20140228S0165\t0.0\t-0.09\t11:03:07.6\n"
       ]
      },
      {
       "output_type": "stream",
       "stream": "stdout",
       "text": [
        "nN20140228S0166\t0.0\t-0.75\t11:14:49.6\n"
       ]
      },
      {
       "output_type": "stream",
       "stream": "stdout",
       "text": [
        "nN20140228S0167\t0.0\t-0.15\t11:26:31.6\n"
       ]
      },
      {
       "output_type": "stream",
       "stream": "stdout",
       "text": [
        "nN20140228S0168\t0.0\t-0.81\t11:38:14.1\n"
       ]
      },
      {
       "output_type": "stream",
       "stream": "stdout",
       "text": [
        "nN20140228S0169\t-4.93\t12.04\t11:49:58.1\n"
       ]
      }
     ],
     "prompt_number": 11
    },
    {
     "cell_type": "markdown",
     "metadata": {},
     "source": [
      "For this observation, from the hselect results, we find that there is only one frame that offsets to sky, the last one.  All the other frames are dither on target.   The target should fill the field of view, so we have to use the offset to sky.\n",
      "\n",
      "To automatically calculate the offsets and get an idea of what to set the 'distance' parameter to, one can do the following:"
     ]
    },
    {
     "cell_type": "code",
     "collapsed": false,
     "input": [
      "import math\n",
      "\n",
      "xoffsets = [ float(x_string) for x_string in \\\n",
      "            iraf.hselect('n@obj.lis', 'XOFFSET', 'yes', Stdout=1) ]\n",
      "yoffsets = [ float(y_string) for y_string in \\\n",
      "            iraf.hselect('n@obj.lis', 'YOFFSET', 'yes', Stdout=1) ]\n",
      "\n",
      "offsets = [ math.sqrt(x*x + y*y) for x, y in zip(xoffsets, yoffsets) ]\n",
      "print offsets"
     ],
     "language": "python",
     "metadata": {},
     "outputs": [
      {
       "output_type": "stream",
       "stream": "stdout",
       "text": [
        "[0.0, 0.65, 0.05, 0.69, 0.09, 0.75, 0.15, 0.81, 13.010245962317544]\n"
       ]
      }
     ],
     "prompt_number": 17
    },
    {
     "cell_type": "markdown",
     "metadata": {},
     "source": [
      "It is clear that the last exposure is the offset to sky.  Everything else is within 1 arcsec.  So we will set the distance to 1."
     ]
    },
    {
     "cell_type": "code",
     "collapsed": false,
     "input": [
      "distance = 1."
     ],
     "language": "python",
     "metadata": {},
     "outputs": [],
     "prompt_number": 18
    },
    {
     "cell_type": "code",
     "collapsed": false,
     "input": [
      "iraf.delete('science.lis, sky.lis', verify='no')\n",
      "\n",
      "iraf.gemoffsetlist('n@obj.lis', targetli='science.lis', offsetli='sky.lis', \\\n",
      "                   reffile='n'+reference+'.fits', distance=distance, \\\n",
      "                   age='INDEF', logfile=iraf.nifs.logfile, verbose='yes')\n",
      "\n",
      "print 'Science Frames:'\n",
      "iraf.type('science.lis')\n",
      "print '\\nSky Frames:'\n",
      "iraf.type('sky.lis')"
     ],
     "language": "python",
     "metadata": {},
     "outputs": [
      {
       "output_type": "stream",
       "stream": "stdout",
       "text": [
        "------------------------------------------------------------------------------\n",
        "GEMOFFSETLIST -- Wed Apr  8 14:52:46 HST 2015\n",
        " \n",
        "GEMOFFSETLIST: matching nN20140228S0161; dist <= 1.0"
       ]
      },
      {
       "output_type": "stream",
       "stream": "stdout",
       "text": [
        "\n",
        "               ref age: 0.0; ref x: 4.3; ref y: -13.5\n",
        "GEMOFFSETLIST: including nN20140228S0161: distance ok"
       ]
      },
      {
       "output_type": "stream",
       "stream": "stdout",
       "text": [
        "\n",
        "         delta age: 0.0 (s); delta x: 0.0 ; delta y: 0.0; distance: 0.0 (arcsec)\n",
        "GEMOFFSETLIST: including nN20140228S0162: distance ok"
       ]
      },
      {
       "output_type": "stream",
       "stream": "stdout",
       "text": [
        "\n",
        "         delta age: 0.0 (s); delta x: 0.0 ; delta y: -0.65; distance: 0.65 (arcsec)\n",
        "GEMOFFSETLIST: including nN20140228S0163: distance ok"
       ]
      },
      {
       "output_type": "stream",
       "stream": "stdout",
       "text": [
        "\n",
        "         delta age: 0.0 (s); delta x: 0.0 ; delta y: -0.05; distance: 0.05 (arcsec)\n",
        "GEMOFFSETLIST: including nN20140228S0164: distance ok"
       ]
      },
      {
       "output_type": "stream",
       "stream": "stdout",
       "text": [
        "\n",
        "         delta age: 0.0 (s); delta x: 0.0 ; delta y: -0.7; distance: 0.7 (arcsec)\n",
        "GEMOFFSETLIST: including nN20140228S0165: distance ok"
       ]
      },
      {
       "output_type": "stream",
       "stream": "stdout",
       "text": [
        "\n",
        "         delta age: 0.0 (s); delta x: 0.0 ; delta y: -0.1; distance: 0.1 (arcsec)\n",
        "GEMOFFSETLIST: including nN20140228S0166: distance ok"
       ]
      },
      {
       "output_type": "stream",
       "stream": "stdout",
       "text": [
        "\n",
        "         delta age: 0.0 (s); delta x: 0.0 ; delta y: -0.75; distance: 0.75 (arcsec)\n",
        "GEMOFFSETLIST: including nN20140228S0167: distance ok"
       ]
      },
      {
       "output_type": "stream",
       "stream": "stdout",
       "text": [
        "\n",
        "         delta age: 0.0 (s); delta x: 0.0 ; delta y: -0.15; distance: 0.15 (arcsec)\n",
        "GEMOFFSETLIST: including nN20140228S0168: distance ok"
       ]
      },
      {
       "output_type": "stream",
       "stream": "stdout",
       "text": [
        "\n",
        "         delta age: 0.0 (s); delta x: 0.01 ; delta y: -0.81; distance: 0.810061726043 (arcsec)\n",
        "GEMOFFSETLIST: excluding nN20140228S0169: distance not ok"
       ]
      },
      {
       "output_type": "stream",
       "stream": "stdout",
       "text": [
        "\n",
        "         delta age: 0.0 (s); delta x: -4.94 ; delta y: 12.04; distance: 13.0140385738 (arcsec)\n",
        "GEMOFFSETLIST: Divided 9 into 8/1"
       ]
      },
      {
       "output_type": "stream",
       "stream": "stdout",
       "text": [
        "\n",
        "GEMOFFSETLIST Exit status - SUCCESS\n",
        "--------------------------------------------------------------------------------\n",
        "Science Frames:\n",
        "nN20140228S0161\n",
        "nN20140228S0162\n",
        "nN20140228S0163\n",
        "nN20140228S0164\n",
        "nN20140228S0165\n",
        "nN20140228S0166\n",
        "nN20140228S0167\n",
        "nN20140228S0168\n"
       ]
      },
      {
       "output_type": "stream",
       "stream": "stdout",
       "text": [
        "\n",
        "Sky Frames:\n",
        "nN20140228S0169\n"
       ]
      }
     ],
     "prompt_number": 21
    },
    {
     "cell_type": "markdown",
     "metadata": {},
     "source": [
      "From the original cookbook:\n",
      "\n",
      "There are problems with the WCS coordinates.  The automatic sky frame ID and subtraction does not work very well in \"nsreduce\" for NIFS data reductions if the number of sky frames does not equal the number if science frames.  As a result, the sky subtraction in this script was set up to work outside of the \"nsreduce\" call.  This should work for most modes of science acquisition.  However you do have to edit the \"skylist\" generated by the above \"gemoffsetlist\" call to make sure that the number of sky images and science images is the same in both lists."
     ]
    },
    {
     "cell_type": "code",
     "collapsed": false,
     "input": [
      "# Make sure to edit the \"skylist\" to have the same number\n",
      "# of images in the list as the \"scilist\"\n",
      "skyfile = open('sky.lis', 'r')\n",
      "scifile = open('science.lis', 'r')\n",
      "skys = [ line.strip() for line in skyfile.readlines() ]\n",
      "scis = [ line.strip() for line in scifile.readlines() ]\n",
      "\n",
      "print 'Science         Sky'\n",
      "for sci, sky in map(None, scis, skys):\n",
      "    print sci, sky"
     ],
     "language": "python",
     "metadata": {},
     "outputs": [
      {
       "output_type": "stream",
       "stream": "stdout",
       "text": [
        "Science         Sky\n",
        "nN20140228S0161 nN20140228S0169\n",
        "nN20140228S0162 nN20140228S0169\n",
        "nN20140228S0163 nN20140228S0169\n",
        "nN20140228S0164 nN20140228S0169\n",
        "nN20140228S0165 nN20140228S0169\n",
        "nN20140228S0166 nN20140228S0169\n",
        "nN20140228S0167 nN20140228S0169\n",
        "nN20140228S0168 nN20140228S0169\n"
       ]
      }
     ],
     "prompt_number": 26
    },
    {
     "cell_type": "markdown",
     "metadata": {},
     "source": [
      "Edit \"sky.lis\" to fill in the None's with the appropriate sky file for each science frame.\n",
      "\n",
      "    vi sky.lis"
     ]
    },
    {
     "cell_type": "heading",
     "level": 2,
     "metadata": {},
     "source": [
      "STEP 11: Do the sky substraction"
     ]
    },
    {
     "cell_type": "markdown",
     "metadata": {},
     "source": [
      "The sky frame(s) are directly subtracted from the science frames.  \n",
      "\n",
      "This also effectively remove the dark current.  Because there is only one sky frame, it does add noise to use only the one dark current measurement.  If that ends up being a problem, then we do have a set of darks for the science.  One would need to combine the darks and subtract them from the science frames and the sky frame, before doing the sky subtraction.  A combination of 'gemcombine' and 'gemarith' should do the trick.\n",
      "\n",
      "When you are done, it might be a good idea to display the sky subtracted images to make sure that the sky lines have indeed been subtracted correctly.  Sometimes, if the sky has changed in brightest, the subtraction will not be good.\n",
      "\n",
      "In this case though, it appears that the sky was stable enough and the sky subtraction is quite good."
     ]
    },
    {
     "cell_type": "code",
     "collapsed": false,
     "input": [
      "iraf.imdelete('s@science.lis', verify='no')\n",
      "\n",
      "skyfile = open('sky.lis', 'r')\n",
      "scifile = open('science.lis', 'r')\n",
      "skys = [ line.strip() for line in skyfile.readlines() ]\n",
      "scis = [ line.strip() for line in scifile.readlines() ]\n",
      "skyfile.close()\n",
      "scifile.close()\n",
      "\n",
      "for sciframe, skyframe in map(None, scis, skys):\n",
      "    if sciframe is None or skyframe is None:\n",
      "        print \"ERROR: the length of the sky list doesn't match that of the science list\"\n",
      "        break\n",
      "    iraf.gemarith (sciframe, '-', skyframe, 's'+sciframe, fl_vardq='yes', \\\n",
      "                   logfile=logfile)"
     ],
     "language": "python",
     "metadata": {},
     "outputs": [
      {
       "output_type": "stream",
       "stream": "stdout",
       "text": [
        "GEMARITH begin (this task relies on gemexpr)\n"
       ]
      },
      {
       "output_type": "stream",
       "stream": "stdout",
       "text": [
        "GEMARITH PHU copy: nN20140228S0161[0] --> snN20140228S0161[0,APPEND])\n"
       ]
      },
      {
       "output_type": "stream",
       "stream": "stdout",
       "text": [
        "GEMARITH Going to copy MDF from nN20140228S0161[1]\n"
       ]
      },
      {
       "output_type": "stream",
       "stream": "stdout",
       "text": [
        "GEMARITH gemarith: done\n"
       ]
      },
      {
       "output_type": "stream",
       "stream": "stdout",
       "text": [
        "GEMARITH begin (this task relies on gemexpr)\n"
       ]
      },
      {
       "output_type": "stream",
       "stream": "stdout",
       "text": [
        "GEMARITH PHU copy: nN20140228S0162[0] --> snN20140228S0162[0,APPEND])\n"
       ]
      },
      {
       "output_type": "stream",
       "stream": "stdout",
       "text": [
        "GEMARITH Going to copy MDF from nN20140228S0162[1]\n"
       ]
      },
      {
       "output_type": "stream",
       "stream": "stdout",
       "text": [
        "GEMARITH gemarith: done\n"
       ]
      },
      {
       "output_type": "stream",
       "stream": "stdout",
       "text": [
        "GEMARITH begin (this task relies on gemexpr)\n"
       ]
      },
      {
       "output_type": "stream",
       "stream": "stdout",
       "text": [
        "GEMARITH PHU copy: nN20140228S0163[0] --> snN20140228S0163[0,APPEND])\n"
       ]
      },
      {
       "output_type": "stream",
       "stream": "stdout",
       "text": [
        "GEMARITH Going to copy MDF from nN20140228S0163[1]\n"
       ]
      },
      {
       "output_type": "stream",
       "stream": "stdout",
       "text": [
        "GEMARITH gemarith: done\n"
       ]
      },
      {
       "output_type": "stream",
       "stream": "stdout",
       "text": [
        "GEMARITH begin (this task relies on gemexpr)\n"
       ]
      },
      {
       "output_type": "stream",
       "stream": "stdout",
       "text": [
        "GEMARITH PHU copy: nN20140228S0164[0] --> snN20140228S0164[0,APPEND])\n"
       ]
      },
      {
       "output_type": "stream",
       "stream": "stdout",
       "text": [
        "GEMARITH Going to copy MDF from nN20140228S0164[1]\n"
       ]
      },
      {
       "output_type": "stream",
       "stream": "stdout",
       "text": [
        "GEMARITH gemarith: done\n"
       ]
      },
      {
       "output_type": "stream",
       "stream": "stdout",
       "text": [
        "GEMARITH begin (this task relies on gemexpr)\n"
       ]
      },
      {
       "output_type": "stream",
       "stream": "stdout",
       "text": [
        "GEMARITH PHU copy: nN20140228S0165[0] --> snN20140228S0165[0,APPEND])\n"
       ]
      },
      {
       "output_type": "stream",
       "stream": "stdout",
       "text": [
        "GEMARITH Going to copy MDF from nN20140228S0165[1]\n"
       ]
      },
      {
       "output_type": "stream",
       "stream": "stdout",
       "text": [
        "GEMARITH gemarith: done\n"
       ]
      },
      {
       "output_type": "stream",
       "stream": "stdout",
       "text": [
        "GEMARITH begin (this task relies on gemexpr)\n"
       ]
      },
      {
       "output_type": "stream",
       "stream": "stdout",
       "text": [
        "GEMARITH PHU copy: nN20140228S0166[0] --> snN20140228S0166[0,APPEND])\n"
       ]
      },
      {
       "output_type": "stream",
       "stream": "stdout",
       "text": [
        "GEMARITH Going to copy MDF from nN20140228S0166[1]\n"
       ]
      },
      {
       "output_type": "stream",
       "stream": "stdout",
       "text": [
        "GEMARITH gemarith: done\n"
       ]
      },
      {
       "output_type": "stream",
       "stream": "stdout",
       "text": [
        "GEMARITH begin (this task relies on gemexpr)\n"
       ]
      },
      {
       "output_type": "stream",
       "stream": "stdout",
       "text": [
        "GEMARITH PHU copy: nN20140228S0167[0] --> snN20140228S0167[0,APPEND])\n"
       ]
      },
      {
       "output_type": "stream",
       "stream": "stdout",
       "text": [
        "GEMARITH Going to copy MDF from nN20140228S0167[1]\n"
       ]
      },
      {
       "output_type": "stream",
       "stream": "stdout",
       "text": [
        "GEMARITH gemarith: done\n"
       ]
      },
      {
       "output_type": "stream",
       "stream": "stdout",
       "text": [
        "GEMARITH begin (this task relies on gemexpr)\n"
       ]
      },
      {
       "output_type": "stream",
       "stream": "stdout",
       "text": [
        "GEMARITH PHU copy: nN20140228S0168[0] --> snN20140228S0168[0,APPEND])\n"
       ]
      },
      {
       "output_type": "stream",
       "stream": "stdout",
       "text": [
        "GEMARITH Going to copy MDF from nN20140228S0168[1]\n"
       ]
      },
      {
       "output_type": "stream",
       "stream": "stdout",
       "text": [
        "GEMARITH gemarith: done\n"
       ]
      }
     ],
     "prompt_number": 33
    },
    {
     "cell_type": "heading",
     "level": 2,
     "metadata": {},
     "source": [
      "STEP 12: Flat field and cut the data"
     ]
    },
    {
     "cell_type": "markdown",
     "metadata": {},
     "source": [
      "After this step, each frame will have 29 science extensions.  The image slices are cut and put into their own extension."
     ]
    },
    {
     "cell_type": "code",
     "collapsed": false,
     "input": [
      "iraf.imdelete('rs@science.lis', verify='no')\n",
      "\n",
      "iraf.nsreduce('s@science.lis', fl_cut='yes', fl_nsappw='yes', fl_dark='no', \\\n",
      "              fl_sky='no', fl_flat='yes', flatimage=calflat+'_flat', \\\n",
      "              fl_vardq='yes')"
     ],
     "language": "python",
     "metadata": {},
     "outputs": [
      {
       "output_type": "stream",
       "stream": "stderr",
       "text": [
        "snN20140228S0161-52008_4436.fits[1] -> snN20140228S0161-52008_4437.fits\n"
       ]
      },
      {
       "output_type": "stream",
       "stream": "stderr",
       "text": [
        "snN20140228S0162-52008_4438.fits[1] -> snN20140228S0162-52008_4439.fits\n"
       ]
      },
      {
       "output_type": "stream",
       "stream": "stderr",
       "text": [
        "snN20140228S0163-52008_4440.fits[1] -> snN20140228S0163-52008_4441.fits\n"
       ]
      },
      {
       "output_type": "stream",
       "stream": "stderr",
       "text": [
        "snN20140228S0164-52008_4442.fits[1] -> snN20140228S0164-52008_4443.fits\n"
       ]
      },
      {
       "output_type": "stream",
       "stream": "stderr",
       "text": [
        "snN20140228S0165-52008_4444.fits[1] -> snN20140228S0165-52008_4445.fits\n"
       ]
      },
      {
       "output_type": "stream",
       "stream": "stderr",
       "text": [
        "snN20140228S0166-52008_4446.fits[1] -> snN20140228S0166-52008_4447.fits\n"
       ]
      },
      {
       "output_type": "stream",
       "stream": "stderr",
       "text": [
        "snN20140228S0167-52008_4448.fits[1] -> snN20140228S0167-52008_4449.fits\n"
       ]
      },
      {
       "output_type": "stream",
       "stream": "stderr",
       "text": [
        "snN20140228S0168-52008_4450.fits[1] -> snN20140228S0168-52008_4451.fits\n"
       ]
      }
     ],
     "prompt_number": 35
    },
    {
     "cell_type": "heading",
     "level": 2,
     "metadata": {},
     "source": [
      "STEP 13: Interpolate over bad pixels flagged in the DQ plane"
     ]
    },
    {
     "cell_type": "code",
     "collapsed": false,
     "input": [
      "iraf.imdelete('brs@science.lis', verify='no')\n",
      "\n",
      "iraf.nffixbad('rs@science.lis')"
     ],
     "language": "python",
     "metadata": {},
     "outputs": [
      {
       "output_type": "stream",
       "stream": "stdout",
       "text": [
        "----------------------------------------------------------------------------\n",
        "NFFIXBAD -- Wed Apr  8 17:18:09 HST 2015\n",
        "\n",
        "Input images         = rs@science.lis"
       ]
      },
      {
       "output_type": "stream",
       "stream": "stdout",
       "text": [
        "\n",
        "Output images        = \n",
        "Output prefix        = b"
       ]
      },
      {
       "output_type": "stream",
       "stream": "stdout",
       "text": [
        "\n",
        "sci_ext              = SCI\n",
        "var_ext              = VAR\n",
        "dq_ext               = DQ\n",
        "logfile              = Z0924.log\n",
        "verbose              = yes"
       ]
      },
      {
       "output_type": "stream",
       "stream": "stdout",
       "text": [
        "\n",
        "\n",
        "Working on image rsnN20140228S0161"
       ]
      },
      {
       "output_type": "stream",
       "stream": "stdout",
       "text": [
        "\n",
        "Working on image rsnN20140228S0162"
       ]
      },
      {
       "output_type": "stream",
       "stream": "stdout",
       "text": [
        "\n",
        "Working on image rsnN20140228S0163"
       ]
      },
      {
       "output_type": "stream",
       "stream": "stdout",
       "text": [
        "\n",
        "Working on image rsnN20140228S0164"
       ]
      },
      {
       "output_type": "stream",
       "stream": "stdout",
       "text": [
        "\n",
        "Working on image rsnN20140228S0165"
       ]
      },
      {
       "output_type": "stream",
       "stream": "stdout",
       "text": [
        "\n",
        "Working on image rsnN20140228S0166"
       ]
      },
      {
       "output_type": "stream",
       "stream": "stdout",
       "text": [
        "\n",
        "Working on image rsnN20140228S0167"
       ]
      },
      {
       "output_type": "stream",
       "stream": "stdout",
       "text": [
        "\n",
        "Working on image rsnN20140228S0168"
       ]
      },
      {
       "output_type": "stream",
       "stream": "stdout",
       "text": [
        "\n"
       ]
      },
      {
       "output_type": "stream",
       "stream": "stdout",
       "text": [
        "\n",
        "NFFIXBAD exit status:  good.\n",
        "----------------------------------------------------------------------------\n"
       ]
      }
     ],
     "prompt_number": 36
    },
    {
     "cell_type": "heading",
     "level": 2,
     "metadata": {},
     "source": [
      "STEP 14: Derive the 2D to 3D spatial/spectral transformation and apply"
     ]
    },
    {
     "cell_type": "markdown",
     "metadata": {},
     "source": [
      "The first time nsfitcoords is run, it should be run interactively to verify that the xorder and yorder parameters are set correctly.  Here the defaults of lxorder=2 and lyorder=2, clearly are not optimal.  The residuals are somewhat large and show structure.  Setting lxorder and lyorder both to 3, greatly reduces the size of the residuals and get rid of the structure."
     ]
    },
    {
     "cell_type": "code",
     "collapsed": false,
     "input": [
      "# verbose is turned off because there's lots of it, \n",
      "# I think that it slows down the notebook, and it is not that \n",
      "# useful anyway.\n",
      "\n",
      "# To run interactively, set fl_inter to 'yes' and run in the \n",
      "# PyRAF session.\n",
      "\n",
      "# The variables lxorder and lyorder are set in Step 0.\n",
      "\n",
      "iraf.imdelete('fbrs@science.lis', verify='no')\n",
      "\n",
      "iraf.nsfitcoords('brs@science.lis', lamptransf=arc+'_arc', \\\n",
      "              sdisttransf=ronchiflat+'_ronchi', verbose='no', \\\n",
      "              lxorder=lxorder, lyorder=lyorder, fl_inter='no')\n",
      "print 'NSFITCOORDS - Done'"
     ],
     "language": "python",
     "metadata": {},
     "outputs": [
      {
       "output_type": "stream",
       "stream": "stdout",
       "text": [
        "NSFITCOORDS - Done\n"
       ]
      }
     ],
     "prompt_number": 8
    },
    {
     "cell_type": "code",
     "collapsed": false,
     "input": [
      "iraf.imdelete('tfbrs@science.lis', verify='no')\n",
      "\n",
      "iraf.nstransform('fbrs@science.lis', verbose='no')\n",
      "print 'NSTRANSFORM - Done'"
     ],
     "language": "python",
     "metadata": {},
     "outputs": [
      {
       "output_type": "stream",
       "stream": "stdout",
       "text": [
        "NSTRANSFORM - Done\n"
       ]
      }
     ],
     "prompt_number": 9
    },
    {
     "cell_type": "markdown",
     "metadata": {},
     "source": [
      "<hr size=5>"
     ]
    },
    {
     "cell_type": "heading",
     "level": 2,
     "metadata": {},
     "source": [
      "SUMMARY OF SCIENCE REDUCTION"
     ]
    },
    {
     "cell_type": "markdown",
     "metadata": {},
     "source": [
      "The next steps will correct for the telluric features and construct a cube.  But at this point in the reduction, we have science frames that have been:\n",
      "* \"prepared\"\n",
      "* sky subtracted\n",
      "* flat corrected\n",
      "* cut\n",
      "* corrected for bad pixels\n",
      "* wavelength calibrated and corrected for spatial distortion\n",
      "\n",
      "The reduced science frames have this naming convention: tfbrsnNYYYYMMDDS####.fits\n",
      "\n",
      "For this reduction:\n",
      "\n",
      "    tfbrsnN201402280161.fits\n",
      "    tfbrsnN201402280162.fits\n",
      "    tfbrsnN201402280163.fits\n",
      "    tfbrsnN201402280164.fits\n",
      "    tfbrsnN201402280165.fits\n",
      "    tfbrsnN201402280166.fits\n",
      "    tfbrsnN201402280167.fits\n",
      "    tfbrsnN201402280168.fits\n",
      "\n",
      "and the file '**science.lis**' contains the 'nN....161-168.fits' file names."
     ]
    },
    {
     "cell_type": "markdown",
     "metadata": {},
     "source": [
      "<hr size=5>"
     ]
    },
    {
     "cell_type": "markdown",
     "metadata": {},
     "source": [
      "[Table of Contents](#toc)\n",
      "\n",
      "<hr size=5>\n",
      "<a id='telluric'></a>"
     ]
    },
    {
     "cell_type": "heading",
     "level": 2,
     "metadata": {},
     "source": [
      "REDUCTION OF TELLURIC STANDARD - STEPS 15 TO 20"
     ]
    },
    {
     "cell_type": "markdown",
     "metadata": {},
     "source": [
      "<hr size=5>"
     ]
    },
    {
     "cell_type": "markdown",
     "metadata": {},
     "source": [
      "In this script, standard star observations are assumed to be taken with a box5 pattern (center + 4 corners).  The sky frame is constructed by median combining position 2 to 5 (the corners)."
     ]
    },
    {
     "cell_type": "heading",
     "level": 2,
     "metadata": {},
     "source": [
      "STEP 15: PREPARE THE TELLURIC OBSERVATIONS"
     ]
    },
    {
     "cell_type": "code",
     "collapsed": false,
     "input": [
      "iraf.imdelete ('n@telafter.lis', verify='no')\n",
      "\n",
      "iraf.nfprepare('@telafter.lis', rawpath=rawdir, shiftim=calflat+'_shift', \\\n",
      "               bpm=calflat+'_sflat_bpm.pl', fl_vardq='yes', \\\n",
      "               fl_inter='yes', fl_corr='no', fl_nonl='no')"
     ],
     "language": "python",
     "metadata": {},
     "outputs": [
      {
       "output_type": "stream",
       "stream": "stdout",
       "text": [
        "-------------------------------------------------------------------------------\n",
        "NFPREPARE -- Thu Apr 16 16:41:09 HST 2015\n",
        " \n",
        "WARNING - NFPREPARE: Non-linear pixels not flagged.\n",
        "NFPREPARE: Shift from N20140228S0369_shift[0]\n",
        "Processing 6 files"
       ]
      },
      {
       "output_type": "stream",
       "stream": "stdout",
       "text": [
        "\n"
       ]
      },
      {
       "output_type": "stream",
       "stream": "stdout",
       "text": [
        "WARNING - NFPREPARE: Bad pixel mask N20140228S0369_sflat_bpm.pl not found.\n"
       ]
      },
      {
       "output_type": "stream",
       "stream": "stdout",
       "text": [
        "----------------------------------------------------------------------------\n",
        "NFPREPARE: Subtracting reference pixels.\n",
        "WARNING - NFPREPARE: Not correcting for non-linearity."
       ]
      },
      {
       "output_type": "stream",
       "stream": "stdout",
       "text": [
        "\n",
        "----------------------------------------------------------------------------\n",
        "NFPAD: Padding NIFS data in the y-dimension for extended slices\n"
       ]
      },
      {
       "output_type": "stream",
       "stream": "stdout",
       "text": [
        "NFPAD: Input file is a non-MEF NIFS frame\n"
       ]
      },
      {
       "output_type": "stream",
       "stream": "stdout",
       "text": [
        "NFPAD exit status:  good.\n",
        "----------------------------------------------------------------------------\n"
       ]
      },
      {
       "output_type": "stream",
       "stream": "stdout",
       "text": [
        "----------------------------------------------------------------------------\n",
        "NFPAD: Padding NIFS data in the y-dimension for extended slices\n"
       ]
      },
      {
       "output_type": "stream",
       "stream": "stdout",
       "text": [
        "NFPAD: Input file is a non-MEF NIFS frame\n"
       ]
      },
      {
       "output_type": "stream",
       "stream": "stdout",
       "text": [
        "NFPAD exit status:  good.\n",
        "----------------------------------------------------------------------------\n"
       ]
      },
      {
       "output_type": "stream",
       "stream": "stdout",
       "text": [
        "----------------------------------------------------------------------------\n",
        "NFPAD: Padding NIFS data in the y-dimension for extended slices\n"
       ]
      },
      {
       "output_type": "stream",
       "stream": "stdout",
       "text": [
        "NFPAD: Input file is a non-MEF NIFS frame\n"
       ]
      },
      {
       "output_type": "stream",
       "stream": "stdout",
       "text": [
        "NFPAD exit status:  good.\n",
        "----------------------------------------------------------------------------\n"
       ]
      },
      {
       "output_type": "stream",
       "stream": "stdout",
       "text": [
        "NFPREPARE: Shifting MDF in Y by 2.0 pixels (subtracted from y_ccd)\n"
       ]
      },
      {
       "output_type": "stream",
       "stream": "stdout",
       "text": [
        " \n",
        "  n      input file -->      output file\n",
        "  1 ../../../raw/N20140228S0174 -->  nN20140228S0174 \n",
        "                 filter     focal plane       input BPM    RN  gain     sat\n",
        "               ZJ_G0601        3.0_Mask            none   6.3   2.4   50000 \n",
        "----------------------------------------------------------------------------"
       ]
      },
      {
       "output_type": "stream",
       "stream": "stdout",
       "text": [
        "\n",
        "NFPREPARE: Subtracting reference pixels.\n",
        "WARNING - NFPREPARE: Not correcting for non-linearity."
       ]
      },
      {
       "output_type": "stream",
       "stream": "stdout",
       "text": [
        "\n",
        "----------------------------------------------------------------------------\n",
        "NFPAD: Padding NIFS data in the y-dimension for extended slices\n"
       ]
      },
      {
       "output_type": "stream",
       "stream": "stdout",
       "text": [
        "NFPAD: Input file is a non-MEF NIFS frame\n"
       ]
      },
      {
       "output_type": "stream",
       "stream": "stdout",
       "text": [
        "NFPAD exit status:  good.\n",
        "----------------------------------------------------------------------------\n"
       ]
      },
      {
       "output_type": "stream",
       "stream": "stdout",
       "text": [
        "----------------------------------------------------------------------------\n",
        "NFPAD: Padding NIFS data in the y-dimension for extended slices\n"
       ]
      },
      {
       "output_type": "stream",
       "stream": "stdout",
       "text": [
        "NFPAD: Input file is a non-MEF NIFS frame\n"
       ]
      },
      {
       "output_type": "stream",
       "stream": "stdout",
       "text": [
        "NFPAD exit status:  good.\n",
        "----------------------------------------------------------------------------\n"
       ]
      },
      {
       "output_type": "stream",
       "stream": "stdout",
       "text": [
        "----------------------------------------------------------------------------\n",
        "NFPAD: Padding NIFS data in the y-dimension for extended slices\n"
       ]
      },
      {
       "output_type": "stream",
       "stream": "stdout",
       "text": [
        "NFPAD: Input file is a non-MEF NIFS frame\n"
       ]
      },
      {
       "output_type": "stream",
       "stream": "stdout",
       "text": [
        "NFPAD exit status:  good.\n",
        "----------------------------------------------------------------------------\n"
       ]
      },
      {
       "output_type": "stream",
       "stream": "stdout",
       "text": [
        "NFPREPARE: Shifting MDF in Y by 2.0 pixels (subtracted from y_ccd)\n"
       ]
      },
      {
       "output_type": "stream",
       "stream": "stdout",
       "text": [
        " \n",
        "  n      input file -->      output file\n",
        "  2 ../../../raw/N20140228S0175 -->  nN20140228S0175 \n",
        "                 filter     focal plane       input BPM    RN  gain     sat\n",
        "               ZJ_G0601        3.0_Mask            none   6.3   2.4   50000 \n",
        "----------------------------------------------------------------------------"
       ]
      },
      {
       "output_type": "stream",
       "stream": "stdout",
       "text": [
        "\n",
        "NFPREPARE: Subtracting reference pixels.\n",
        "WARNING - NFPREPARE: Not correcting for non-linearity."
       ]
      },
      {
       "output_type": "stream",
       "stream": "stdout",
       "text": [
        "\n",
        "----------------------------------------------------------------------------\n",
        "NFPAD: Padding NIFS data in the y-dimension for extended slices\n"
       ]
      },
      {
       "output_type": "stream",
       "stream": "stdout",
       "text": [
        "NFPAD: Input file is a non-MEF NIFS frame\n"
       ]
      },
      {
       "output_type": "stream",
       "stream": "stdout",
       "text": [
        "NFPAD exit status:  good.\n",
        "----------------------------------------------------------------------------\n"
       ]
      },
      {
       "output_type": "stream",
       "stream": "stdout",
       "text": [
        "----------------------------------------------------------------------------\n",
        "NFPAD: Padding NIFS data in the y-dimension for extended slices\n"
       ]
      },
      {
       "output_type": "stream",
       "stream": "stdout",
       "text": [
        "NFPAD: Input file is a non-MEF NIFS frame\n"
       ]
      },
      {
       "output_type": "stream",
       "stream": "stdout",
       "text": [
        "NFPAD exit status:  good.\n",
        "----------------------------------------------------------------------------\n"
       ]
      },
      {
       "output_type": "stream",
       "stream": "stdout",
       "text": [
        "----------------------------------------------------------------------------\n",
        "NFPAD: Padding NIFS data in the y-dimension for extended slices\n"
       ]
      },
      {
       "output_type": "stream",
       "stream": "stdout",
       "text": [
        "NFPAD: Input file is a non-MEF NIFS frame\n"
       ]
      },
      {
       "output_type": "stream",
       "stream": "stdout",
       "text": [
        "NFPAD exit status:  good.\n",
        "----------------------------------------------------------------------------\n"
       ]
      },
      {
       "output_type": "stream",
       "stream": "stdout",
       "text": [
        "NFPREPARE: Shifting MDF in Y by 2.0 pixels (subtracted from y_ccd)\n"
       ]
      },
      {
       "output_type": "stream",
       "stream": "stdout",
       "text": [
        " \n",
        "  n      input file -->      output file\n",
        "  3 ../../../raw/N20140228S0176 -->  nN20140228S0176 \n",
        "                 filter     focal plane       input BPM    RN  gain     sat\n",
        "               ZJ_G0601        3.0_Mask            none   6.3   2.4   50000 \n",
        "----------------------------------------------------------------------------"
       ]
      },
      {
       "output_type": "stream",
       "stream": "stdout",
       "text": [
        "\n",
        "NFPREPARE: Subtracting reference pixels.\n",
        "WARNING - NFPREPARE: Not correcting for non-linearity."
       ]
      },
      {
       "output_type": "stream",
       "stream": "stdout",
       "text": [
        "\n",
        "----------------------------------------------------------------------------\n",
        "NFPAD: Padding NIFS data in the y-dimension for extended slices\n"
       ]
      },
      {
       "output_type": "stream",
       "stream": "stdout",
       "text": [
        "NFPAD: Input file is a non-MEF NIFS frame\n"
       ]
      },
      {
       "output_type": "stream",
       "stream": "stdout",
       "text": [
        "NFPAD exit status:  good.\n",
        "----------------------------------------------------------------------------\n"
       ]
      },
      {
       "output_type": "stream",
       "stream": "stdout",
       "text": [
        "----------------------------------------------------------------------------\n",
        "NFPAD: Padding NIFS data in the y-dimension for extended slices\n"
       ]
      },
      {
       "output_type": "stream",
       "stream": "stdout",
       "text": [
        "NFPAD: Input file is a non-MEF NIFS frame\n"
       ]
      },
      {
       "output_type": "stream",
       "stream": "stdout",
       "text": [
        "NFPAD exit status:  good.\n",
        "----------------------------------------------------------------------------\n"
       ]
      },
      {
       "output_type": "stream",
       "stream": "stdout",
       "text": [
        "----------------------------------------------------------------------------\n",
        "NFPAD: Padding NIFS data in the y-dimension for extended slices\n"
       ]
      },
      {
       "output_type": "stream",
       "stream": "stdout",
       "text": [
        "NFPAD: Input file is a non-MEF NIFS frame\n"
       ]
      },
      {
       "output_type": "stream",
       "stream": "stdout",
       "text": [
        "NFPAD exit status:  good.\n",
        "----------------------------------------------------------------------------\n"
       ]
      },
      {
       "output_type": "stream",
       "stream": "stdout",
       "text": [
        "NFPREPARE: Shifting MDF in Y by 2.0 pixels (subtracted from y_ccd)\n"
       ]
      },
      {
       "output_type": "stream",
       "stream": "stdout",
       "text": [
        " \n",
        "  n      input file -->      output file\n",
        "  4 ../../../raw/N20140228S0177 -->  nN20140228S0177 \n",
        "                 filter     focal plane       input BPM    RN  gain     sat\n",
        "               ZJ_G0601        3.0_Mask            none   6.3   2.4   50000 \n",
        "----------------------------------------------------------------------------"
       ]
      },
      {
       "output_type": "stream",
       "stream": "stdout",
       "text": [
        "\n",
        "NFPREPARE: Subtracting reference pixels.\n",
        "WARNING - NFPREPARE: Not correcting for non-linearity."
       ]
      },
      {
       "output_type": "stream",
       "stream": "stdout",
       "text": [
        "\n",
        "----------------------------------------------------------------------------\n",
        "NFPAD: Padding NIFS data in the y-dimension for extended slices\n"
       ]
      },
      {
       "output_type": "stream",
       "stream": "stdout",
       "text": [
        "NFPAD: Input file is a non-MEF NIFS frame\n"
       ]
      },
      {
       "output_type": "stream",
       "stream": "stdout",
       "text": [
        "NFPAD exit status:  good.\n",
        "----------------------------------------------------------------------------\n"
       ]
      },
      {
       "output_type": "stream",
       "stream": "stdout",
       "text": [
        "----------------------------------------------------------------------------\n",
        "NFPAD: Padding NIFS data in the y-dimension for extended slices\n"
       ]
      },
      {
       "output_type": "stream",
       "stream": "stdout",
       "text": [
        "NFPAD: Input file is a non-MEF NIFS frame\n"
       ]
      },
      {
       "output_type": "stream",
       "stream": "stdout",
       "text": [
        "NFPAD exit status:  good.\n",
        "----------------------------------------------------------------------------\n"
       ]
      },
      {
       "output_type": "stream",
       "stream": "stdout",
       "text": [
        "----------------------------------------------------------------------------\n",
        "NFPAD: Padding NIFS data in the y-dimension for extended slices\n"
       ]
      },
      {
       "output_type": "stream",
       "stream": "stdout",
       "text": [
        "NFPAD: Input file is a non-MEF NIFS frame\n"
       ]
      },
      {
       "output_type": "stream",
       "stream": "stdout",
       "text": [
        "NFPAD exit status:  good.\n",
        "----------------------------------------------------------------------------\n"
       ]
      },
      {
       "output_type": "stream",
       "stream": "stdout",
       "text": [
        "NFPREPARE: Shifting MDF in Y by 2.0 pixels (subtracted from y_ccd)\n"
       ]
      },
      {
       "output_type": "stream",
       "stream": "stdout",
       "text": [
        " \n",
        "  n      input file -->      output file\n",
        "  5 ../../../raw/N20140228S0178 -->  nN20140228S0178 \n",
        "                 filter     focal plane       input BPM    RN  gain     sat\n",
        "               ZJ_G0601        3.0_Mask            none   6.3   2.4   50000 \n",
        "----------------------------------------------------------------------------"
       ]
      },
      {
       "output_type": "stream",
       "stream": "stdout",
       "text": [
        "\n",
        "NFPREPARE: Subtracting reference pixels.\n",
        "WARNING - NFPREPARE: Not correcting for non-linearity."
       ]
      },
      {
       "output_type": "stream",
       "stream": "stdout",
       "text": [
        "\n",
        "----------------------------------------------------------------------------\n",
        "NFPAD: Padding NIFS data in the y-dimension for extended slices\n"
       ]
      },
      {
       "output_type": "stream",
       "stream": "stdout",
       "text": [
        "NFPAD: Input file is a non-MEF NIFS frame\n"
       ]
      },
      {
       "output_type": "stream",
       "stream": "stdout",
       "text": [
        "NFPAD exit status:  good.\n",
        "----------------------------------------------------------------------------\n"
       ]
      },
      {
       "output_type": "stream",
       "stream": "stdout",
       "text": [
        "----------------------------------------------------------------------------\n",
        "NFPAD: Padding NIFS data in the y-dimension for extended slices\n"
       ]
      },
      {
       "output_type": "stream",
       "stream": "stdout",
       "text": [
        "NFPAD: Input file is a non-MEF NIFS frame\n"
       ]
      },
      {
       "output_type": "stream",
       "stream": "stdout",
       "text": [
        "NFPAD exit status:  good.\n",
        "----------------------------------------------------------------------------\n"
       ]
      },
      {
       "output_type": "stream",
       "stream": "stdout",
       "text": [
        "----------------------------------------------------------------------------\n",
        "NFPAD: Padding NIFS data in the y-dimension for extended slices\n"
       ]
      },
      {
       "output_type": "stream",
       "stream": "stdout",
       "text": [
        "NFPAD: Input file is a non-MEF NIFS frame\n"
       ]
      },
      {
       "output_type": "stream",
       "stream": "stdout",
       "text": [
        "NFPAD exit status:  good.\n",
        "----------------------------------------------------------------------------"
       ]
      },
      {
       "output_type": "stream",
       "stream": "stdout",
       "text": [
        "\n"
       ]
      },
      {
       "output_type": "stream",
       "stream": "stdout",
       "text": [
        "NFPREPARE: Shifting MDF in Y by 2.0 pixels (subtracted from y_ccd)\n"
       ]
      },
      {
       "output_type": "stream",
       "stream": "stdout",
       "text": [
        " \n",
        "  n      input file -->      output file\n",
        "  6 ../../../raw/N20140228S0179 -->  nN20140228S0179 \n",
        "                 filter     focal plane       input BPM    RN  gain     sat\n",
        "               ZJ_G0601        3.0_Mask            none   6.3   2.4   50000 \n",
        " "
       ]
      },
      {
       "output_type": "stream",
       "stream": "stdout",
       "text": [
        "\n",
        "NFPREPARE exit status:  good.\n",
        "----------------------------------------------------------------------------\n"
       ]
      }
     ],
     "prompt_number": 13
    },
    {
     "cell_type": "heading",
     "level": 2,
     "metadata": {},
     "source": [
      "STEP 16: SKY SUBTRACT THE TELLURIC OBSERVATIONS"
     ]
    },
    {
     "cell_type": "heading",
     "level": 3,
     "metadata": {},
     "source": [
      "Associate the sky frames to the telluric frames"
     ]
    },
    {
     "cell_type": "markdown",
     "metadata": {},
     "source": [
      "The telluric observation uses a ABA ABA sequence with B being the offset to sky.  We can use a technique similar as for the science to separate the skys from the science frames and associate."
     ]
    },
    {
     "cell_type": "code",
     "collapsed": false,
     "input": [
      "iraf.hselect('n@telafter.lis', '$I, XOFFSET, YOFFSET, UT', 'yes')"
     ],
     "language": "python",
     "metadata": {},
     "outputs": [
      {
       "output_type": "stream",
       "stream": "stdout",
       "text": [
        "nN20140228S0174\t0.0\t0.0\t12:09:58.1\n"
       ]
      },
      {
       "output_type": "stream",
       "stream": "stdout",
       "text": [
        "nN20140228S0175\t-7.61\t-18.86\t12:11:04.1\n"
       ]
      },
      {
       "output_type": "stream",
       "stream": "stdout",
       "text": [
        "nN20140228S0176\t0.0\t-0.01\t12:12:11.1\n"
       ]
      },
      {
       "output_type": "stream",
       "stream": "stdout",
       "text": [
        "nN20140228S0177\t0.01\t-0.01\t12:13:12.6\n"
       ]
      },
      {
       "output_type": "stream",
       "stream": "stdout",
       "text": [
        "nN20140228S0178\t-7.61\t-18.86\t12:14:18.1\n"
       ]
      },
      {
       "output_type": "stream",
       "stream": "stdout",
       "text": [
        "nN20140228S0179\t0.01\t-0.01\t12:15:25.6\n"
       ]
      }
     ],
     "prompt_number": 14
    },
    {
     "cell_type": "markdown",
     "metadata": {},
     "source": [
      "For this observation, from the hselect results, we find that there are two frame that offsets to sky, the second and the fifth.  All the other frames are  on target.  This is a ABA ABA sequence.\n",
      "\n",
      "To automatically calculate the offsets and get an idea of what to set the 'distance' parameter to, one can do the following:"
     ]
    },
    {
     "cell_type": "code",
     "collapsed": false,
     "input": [
      "import math\n",
      "\n",
      "xoffsets = [ float(x_string) for x_string in \\\n",
      "            iraf.hselect('n@telafter.lis', 'XOFFSET', 'yes', Stdout=1) ]\n",
      "yoffsets = [ float(y_string) for y_string in \\\n",
      "            iraf.hselect('n@telafter.lis', 'YOFFSET', 'yes', Stdout=1) ]\n",
      "\n",
      "offsets = [ math.sqrt(x*x + y*y) for x, y in zip(xoffsets, yoffsets) ]\n",
      "print offsets"
     ],
     "language": "python",
     "metadata": {},
     "outputs": [
      {
       "output_type": "stream",
       "stream": "stdout",
       "text": [
        "[0.0, 20.337445758993432, 0.01, 0.01414213562373095, 20.337445758993432, 0.01414213562373095]\n"
       ]
      }
     ],
     "prompt_number": 15
    },
    {
     "cell_type": "code",
     "collapsed": false,
     "input": [
      "distance = 20"
     ],
     "language": "python",
     "metadata": {},
     "outputs": [],
     "prompt_number": 18
    },
    {
     "cell_type": "code",
     "collapsed": false,
     "input": [
      "iraf.delete('telsci.lis, telsky.lis', verify='no')\n",
      "\n",
      "iraf.gemoffsetlist('n@telafter.lis', targetli='telsci.lis', offsetli='telsky.lis', \\\n",
      "                   reffile='n'+telluric_after+'.fits', distance=distance, \\\n",
      "                   age='INDEF', logfile=iraf.nifs.logfile, verbose='yes')\n",
      "\n",
      "print 'Telluric Frames:'\n",
      "iraf.type('telsci.lis')\n",
      "print '\\nSky Frames for Telluric:'\n",
      "iraf.type('telsky.lis')"
     ],
     "language": "python",
     "metadata": {},
     "outputs": [
      {
       "output_type": "stream",
       "stream": "stderr",
       "text": [
        "Warning: Cannot delete file (telsky.lis)\n"
       ]
      },
      {
       "output_type": "stream",
       "stream": "stdout",
       "text": [
        "------------------------------------------------------------------------------\n",
        "GEMOFFSETLIST -- Fri Apr 24 13:39:02 HST 2015\n",
        " "
       ]
      },
      {
       "output_type": "stream",
       "stream": "stdout",
       "text": [
        "\n",
        "GEMOFFSETLIST: matching nN20140228S0174; dist <= 20.0"
       ]
      },
      {
       "output_type": "stream",
       "stream": "stdout",
       "text": [
        "\n",
        "               ref age: 0.0; ref x: -0.65; ref y: -1.45\n",
        "GEMOFFSETLIST: including nN20140228S0174: distance ok"
       ]
      },
      {
       "output_type": "stream",
       "stream": "stdout",
       "text": [
        "\n",
        "         delta age: 0.0 (s); delta x: 0.0 ; delta y: 0.0; distance: 0.0 (arcsec)\n",
        "GEMOFFSETLIST: excluding nN20140228S0175: distance not ok"
       ]
      },
      {
       "output_type": "stream",
       "stream": "stdout",
       "text": [
        "\n",
        "         delta age: 0.0 (s); delta x: -7.62 ; delta y: -18.86; distance: 20.341189739 (arcsec)\n",
        "GEMOFFSETLIST: including nN20140228S0176: distance ok"
       ]
      },
      {
       "output_type": "stream",
       "stream": "stdout",
       "text": [
        "\n",
        "         delta age: 0.0 (s); delta x: 0.0 ; delta y: -0.01; distance: 0.01 (arcsec)\n",
        "GEMOFFSETLIST: including nN20140228S0177: distance ok"
       ]
      },
      {
       "output_type": "stream",
       "stream": "stdout",
       "text": [
        "\n",
        "         delta age: 0.0 (s); delta x: 0.01 ; delta y: -0.01; distance: 0.0141421356237 (arcsec)\n",
        "GEMOFFSETLIST: excluding nN20140228S0178: distance not ok"
       ]
      },
      {
       "output_type": "stream",
       "stream": "stdout",
       "text": [
        "\n",
        "         delta age: 0.0 (s); delta x: -7.62 ; delta y: -18.86; distance: 20.341189739 (arcsec)\n",
        "GEMOFFSETLIST: including nN20140228S0179: distance ok"
       ]
      },
      {
       "output_type": "stream",
       "stream": "stdout",
       "text": [
        "\n",
        "         delta age: 0.0 (s); delta x: 0.01 ; delta y: -0.01; distance: 0.0141421356237 (arcsec)\n",
        "GEMOFFSETLIST: Divided 6 into 4/2"
       ]
      },
      {
       "output_type": "stream",
       "stream": "stdout",
       "text": [
        "\n",
        "GEMOFFSETLIST Exit status - SUCCESS\n",
        "--------------------------------------------------------------------------------\n",
        "Telluric Frames:\n",
        "nN20140228S0174\n",
        "nN20140228S0176\n",
        "nN20140228S0177\n",
        "nN20140228S0179\n"
       ]
      },
      {
       "output_type": "stream",
       "stream": "stdout",
       "text": [
        "\n",
        "Sky Frames for Telluric:\n",
        "nN20140228S0175\n",
        "nN20140228S0178\n"
       ]
      }
     ],
     "prompt_number": 19
    },
    {
     "cell_type": "markdown",
     "metadata": {},
     "source": [
      "Like for the science frames, the automatic sky frame ID and subtraction does not work very well in \"nsreduce\" for NIFS data reductions if the number of sky frames does not equal the number if science frames.  As a result, the sky subtraction in this script was set up to work outside of the \"nsreduce\" call.  This should work for most modes of science acquisition.  However you do have to edit the \"skylist\" generated by the above \"gemoffsetlist\" call to make sure that the number of sky images and science images is the same in both lists."
     ]
    },
    {
     "cell_type": "code",
     "collapsed": false,
     "input": [
      "# Make sure to edit the \"skylist\" to have the same number\n",
      "# of images in the list as the \"scilist\"\n",
      "telskyfile = open('telsky.lis', 'r')\n",
      "telscifile = open('telsci.lis', 'r')\n",
      "telskys = [ line.strip() for line in telskyfile.readlines() ]\n",
      "telscis = [ line.strip() for line in telscifile.readlines() ]\n",
      "\n",
      "print 'Science         Sky'\n",
      "for telsci, telsky in map(None, telscis, telskys):\n",
      "    print telsci, telsky"
     ],
     "language": "python",
     "metadata": {},
     "outputs": [
      {
       "output_type": "stream",
       "stream": "stdout",
       "text": [
        "Science         Sky\n",
        "nN20140228S0174 nN20140228S0175\n",
        "nN20140228S0176 nN20140228S0175\n",
        "nN20140228S0177 nN20140228S0178\n",
        "nN20140228S0179 nN20140228S0178\n"
       ]
      }
     ],
     "prompt_number": 21
    },
    {
     "cell_type": "markdown",
     "metadata": {},
     "source": [
      "Edit \"telsky.lis\" to fill in the None's with the appropriate sky file for each science frame.  Note that no proper association is being done here.  You might have to move skys around to be associated with the correct science frames.  In our case, a ABA ABA sequence, the first sky goes with the first two telluric frames, the second sky with the last two telluric frames.\n",
      "\n",
      "    vi telsky.lis"
     ]
    },
    {
     "cell_type": "heading",
     "level": 3,
     "metadata": {},
     "source": [
      "Do the sky subtraction"
     ]
    },
    {
     "cell_type": "markdown",
     "metadata": {},
     "source": [
      "The sky frame(s) are directly subtracted from the science frames.  \n",
      "\n",
      "This also effectively remove the dark current.  Because there is only one sky frame, it does add noise to use only the one dark current measurement.  If that ends up being a problem, then we do have a set of darks for the science.  One would need to combine the darks and subtract them from the science frames and the sky frame, before doing the sky subtraction.  A combination of 'gemcombine' and 'gemarith' should do the trick.\n",
      "\n",
      "When you are done, it might be a good idea to display the sky subtracted images to make sure that the sky lines have indeed been subtracted correctly.  Sometimes, if the sky has changed in brightest, the subtraction will not be good.\n",
      "\n",
      "In this case though, it appears that the sky was stable enough and the sky subtraction is quite good."
     ]
    },
    {
     "cell_type": "code",
     "collapsed": false,
     "input": [
      "iraf.imdelete('s@telsci.lis', verify='no')\n",
      "\n",
      "telskyfile = open('telsky.lis', 'r')\n",
      "telscifile = open('telsci.lis', 'r')\n",
      "telskys = [ line.strip() for line in telskyfile.readlines() ]\n",
      "telscis = [ line.strip() for line in telscifile.readlines() ]\n",
      "telskyfile.close()\n",
      "telscifile.close()\n",
      "\n",
      "for telsciframe, telskyframe in map(None, telscis, telskys):\n",
      "    if telsciframe is None or telskyframe is None:\n",
      "        print \"ERROR: the length of the sky list doesn't match that of the science list\"\n",
      "        break\n",
      "    iraf.gemarith (telsciframe, '-', telskyframe, 's'+telsciframe, fl_vardq='yes', \\\n",
      "                   logfile=logfile)"
     ],
     "language": "python",
     "metadata": {},
     "outputs": [
      {
       "output_type": "stream",
       "stream": "stdout",
       "text": [
        "GEMARITH begin (this task relies on gemexpr)\n"
       ]
      },
      {
       "output_type": "stream",
       "stream": "stdout",
       "text": [
        "GEMARITH PHU copy: nN20140228S0174[0] --> snN20140228S0174[0,APPEND])\n"
       ]
      },
      {
       "output_type": "stream",
       "stream": "stdout",
       "text": [
        "GEMARITH Going to copy MDF from nN20140228S0174[1]\n"
       ]
      },
      {
       "output_type": "stream",
       "stream": "stdout",
       "text": [
        "GEMARITH gemarith: done\n"
       ]
      },
      {
       "output_type": "stream",
       "stream": "stdout",
       "text": [
        "GEMARITH begin (this task relies on gemexpr)\n"
       ]
      },
      {
       "output_type": "stream",
       "stream": "stdout",
       "text": [
        "GEMARITH PHU copy: nN20140228S0176[0] --> snN20140228S0176[0,APPEND])\n"
       ]
      },
      {
       "output_type": "stream",
       "stream": "stdout",
       "text": [
        "GEMARITH Going to copy MDF from nN20140228S0176[1]\n"
       ]
      },
      {
       "output_type": "stream",
       "stream": "stdout",
       "text": [
        "GEMARITH gemarith: done\n"
       ]
      },
      {
       "output_type": "stream",
       "stream": "stdout",
       "text": [
        "GEMARITH begin (this task relies on gemexpr)\n"
       ]
      },
      {
       "output_type": "stream",
       "stream": "stdout",
       "text": [
        "GEMARITH PHU copy: nN20140228S0177[0] --> snN20140228S0177[0,APPEND])\n"
       ]
      },
      {
       "output_type": "stream",
       "stream": "stdout",
       "text": [
        "GEMARITH Going to copy MDF from nN20140228S0177[1]\n"
       ]
      },
      {
       "output_type": "stream",
       "stream": "stdout",
       "text": [
        "GEMARITH gemarith: done\n"
       ]
      },
      {
       "output_type": "stream",
       "stream": "stdout",
       "text": [
        "GEMARITH begin (this task relies on gemexpr)\n"
       ]
      },
      {
       "output_type": "stream",
       "stream": "stdout",
       "text": [
        "GEMARITH PHU copy: nN20140228S0179[0] --> snN20140228S0179[0,APPEND])\n"
       ]
      },
      {
       "output_type": "stream",
       "stream": "stdout",
       "text": [
        "GEMARITH Going to copy MDF from nN20140228S0179[1]\n"
       ]
      },
      {
       "output_type": "stream",
       "stream": "stdout",
       "text": [
        "GEMARITH gemarith: done\n"
       ]
      }
     ],
     "prompt_number": 22
    },
    {
     "cell_type": "heading",
     "level": 2,
     "metadata": {},
     "source": [
      "STEP 17: FLAT FIELD AND CUT THE TELLURIC FRAMES"
     ]
    },
    {
     "cell_type": "code",
     "collapsed": false,
     "input": [
      "iraf.imdelete('rs@telsci.lis', verify='no')\n",
      "\n",
      "iraf.nsreduce('s@telsci.lis', outpref='r', flatim=calflat+'_flat',\\\n",
      "              fl_cut='yes', fl_nsappw='no', fl_vardq='yes', fl_sky='no', \\\n",
      "              fl_dark='no', fl_flat='yes')"
     ],
     "language": "python",
     "metadata": {},
     "outputs": [
      {
       "output_type": "stream",
       "stream": "stdout",
       "text": [
        "-------------------------------------------------------------------------------\n",
        "NSREDUCE -- Fri Apr 24 14:41:59 HST 2015\n",
        " \n",
        "------------------------------------------------------------------------------"
       ]
      },
      {
       "output_type": "stream",
       "stream": "stdout",
       "text": [
        "\n",
        "NSCUT -- Fri Apr 24 14:42:00 HST 2015\n",
        " \n",
        "NSCUT: Processing 4 files\n"
       ]
      },
      {
       "output_type": "stream",
       "stream": "stdout",
       "text": [
        "\n"
       ]
      },
      {
       "output_type": "stream",
       "stream": "stdout",
       "text": [
        "snN20140228S0174 --> snN20140228S0174-76299_450\n",
        " [SCI,1][1:2040,1998:2066] --> [SCI,1]"
       ]
      },
      {
       "output_type": "stream",
       "stream": "stdout",
       "text": [
        "\n",
        " [SCI,1][1:2040,1927:1995] --> [SCI,2]"
       ]
      },
      {
       "output_type": "stream",
       "stream": "stdout",
       "text": [
        "\n",
        " [SCI,1][1:2040,1856:1924] --> [SCI,3]"
       ]
      },
      {
       "output_type": "stream",
       "stream": "stdout",
       "text": [
        "\n",
        " [SCI,1][1:2040,1785:1853] --> [SCI,4]"
       ]
      },
      {
       "output_type": "stream",
       "stream": "stdout",
       "text": [
        "\n",
        " [SCI,1][1:2040,1715:1783] --> [SCI,5]"
       ]
      },
      {
       "output_type": "stream",
       "stream": "stdout",
       "text": [
        "\n",
        " [SCI,1][1:2040,1644:1712] --> [SCI,6]"
       ]
      },
      {
       "output_type": "stream",
       "stream": "stdout",
       "text": [
        "\n",
        " [SCI,1][1:2040,1573:1641] --> [SCI,7]"
       ]
      },
      {
       "output_type": "stream",
       "stream": "stdout",
       "text": [
        "\n",
        " [SCI,1][1:2040,1502:1570] --> [SCI,8]"
       ]
      },
      {
       "output_type": "stream",
       "stream": "stdout",
       "text": [
        "\n",
        " [SCI,1][1:2040,1431:1499] --> [SCI,9]"
       ]
      },
      {
       "output_type": "stream",
       "stream": "stdout",
       "text": [
        "\n",
        " [SCI,1][1:2040,1360:1428] --> [SCI,10]"
       ]
      },
      {
       "output_type": "stream",
       "stream": "stdout",
       "text": [
        "\n",
        " [SCI,1][1:2040,1289:1357] --> [SCI,11]"
       ]
      },
      {
       "output_type": "stream",
       "stream": "stdout",
       "text": [
        "\n",
        " [SCI,1][1:2040,1219:1287] --> [SCI,12]"
       ]
      },
      {
       "output_type": "stream",
       "stream": "stdout",
       "text": [
        "\n",
        " [SCI,1][1:2040,1148:1216] --> [SCI,13]"
       ]
      },
      {
       "output_type": "stream",
       "stream": "stdout",
       "text": [
        "\n",
        " [SCI,1][1:2040,1077:1145] --> [SCI,14]"
       ]
      },
      {
       "output_type": "stream",
       "stream": "stdout",
       "text": [
        "\n",
        " [SCI,1][1:2040,1006:1074] --> [SCI,15]"
       ]
      },
      {
       "output_type": "stream",
       "stream": "stdout",
       "text": [
        "\n",
        " [SCI,1][1:2040,935:1003] --> [SCI,16]"
       ]
      },
      {
       "output_type": "stream",
       "stream": "stdout",
       "text": [
        "\n",
        " [SCI,1][1:2040,864:932] --> [SCI,17]"
       ]
      },
      {
       "output_type": "stream",
       "stream": "stdout",
       "text": [
        "\n",
        " [SCI,1][1:2040,793:861] --> [SCI,18]"
       ]
      },
      {
       "output_type": "stream",
       "stream": "stdout",
       "text": [
        "\n",
        " [SCI,1][1:2040,722:790] --> [SCI,19]"
       ]
      },
      {
       "output_type": "stream",
       "stream": "stdout",
       "text": [
        "\n",
        " [SCI,1][1:2040,651:719] --> [SCI,20]"
       ]
      },
      {
       "output_type": "stream",
       "stream": "stdout",
       "text": [
        "\n",
        " [SCI,1][1:2040,580:648] --> [SCI,21]"
       ]
      },
      {
       "output_type": "stream",
       "stream": "stdout",
       "text": [
        "\n",
        " [SCI,1][1:2040,510:578] --> [SCI,22]"
       ]
      },
      {
       "output_type": "stream",
       "stream": "stdout",
       "text": [
        "\n",
        " [SCI,1][1:2040,439:507] --> [SCI,23]"
       ]
      },
      {
       "output_type": "stream",
       "stream": "stdout",
       "text": [
        "\n",
        " [SCI,1][1:2040,368:436] --> [SCI,24]"
       ]
      },
      {
       "output_type": "stream",
       "stream": "stdout",
       "text": [
        "\n",
        " [SCI,1][1:2040,297:365] --> [SCI,25]"
       ]
      },
      {
       "output_type": "stream",
       "stream": "stdout",
       "text": [
        "\n",
        " [SCI,1][1:2040,226:294] --> [SCI,26]"
       ]
      },
      {
       "output_type": "stream",
       "stream": "stdout",
       "text": [
        "\n",
        " [SCI,1][1:2040,155:223] --> [SCI,27]"
       ]
      },
      {
       "output_type": "stream",
       "stream": "stdout",
       "text": [
        "\n",
        " [SCI,1][1:2040,84:152] --> [SCI,28]"
       ]
      },
      {
       "output_type": "stream",
       "stream": "stdout",
       "text": [
        "\n",
        " [SCI,1][1:2040,13:81] --> [SCI,29]"
       ]
      },
      {
       "output_type": "stream",
       "stream": "stdout",
       "text": [
        "\n"
       ]
      },
      {
       "output_type": "stream",
       "stream": "stdout",
       "text": [
        "snN20140228S0176 --> snN20140228S0176-76299_451\n"
       ]
      },
      {
       "output_type": "stream",
       "stream": "stdout",
       "text": [
        "snN20140228S0177 --> snN20140228S0177-76299_452\n"
       ]
      },
      {
       "output_type": "stream",
       "stream": "stdout",
       "text": [
        "snN20140228S0179 --> snN20140228S0179-76299_453\n",
        " "
       ]
      },
      {
       "output_type": "stream",
       "stream": "stdout",
       "text": [
        "\n",
        "NSCUT exit status: good.\n",
        "------------------------------------------------------------------------------\n",
        "NSREDUCE: Processing 116 extension(s) from 4 file(s)."
       ]
      },
      {
       "output_type": "stream",
       "stream": "stdout",
       "text": [
        "\n"
       ]
      },
      {
       "output_type": "stream",
       "stream": "stdout",
       "text": [
        "NSREDUCE: slit: 3.0_Mask_G5610\n",
        "NSREDUCE: grism: ZJ_G0601\n",
        "\n",
        "   n input                   --> output                  sky image\n",
        " dark                    flat                    scale\n",
        "\n",
        "   1 snN20140228S0174        --> rsnN20140228S0174       none                   \n",
        " none                    N20140228S0369_flat     1.0000 \n",
        "   2 snN20140228S0176        --> rsnN20140228S0176       none                   "
       ]
      },
      {
       "output_type": "stream",
       "stream": "stdout",
       "text": [
        "\n",
        " none                    N20140228S0369_flat     1.0000 \n",
        "   3 snN20140228S0177        --> rsnN20140228S0177       none                   "
       ]
      },
      {
       "output_type": "stream",
       "stream": "stdout",
       "text": [
        "\n",
        " none                    N20140228S0369_flat     1.0000 \n",
        "   4 snN20140228S0179        --> rsnN20140228S0179       none                   "
       ]
      },
      {
       "output_type": "stream",
       "stream": "stdout",
       "text": [
        "\n",
        " none                    N20140228S0369_flat     1.0000 \n"
       ]
      },
      {
       "output_type": "stream",
       "stream": "stdout",
       "text": [
        " \n",
        "NSREDUCE exit status: good.\n",
        "------------------------------------------------------------------------------\n"
       ]
      }
     ],
     "prompt_number": 26
    },
    {
     "cell_type": "heading",
     "level": 2,
     "metadata": {},
     "source": [
      "STEP 18: FIX BAD PIXELS FLAGGED IN THE TELLURIC DQ PLANE"
     ]
    },
    {
     "cell_type": "code",
     "collapsed": false,
     "input": [
      "iraf.imdelete('brs@telsci.lis', verify='no')\n",
      "\n",
      "iraf.nffixbad('rs@telsci.lis', outpref='b')"
     ],
     "language": "python",
     "metadata": {},
     "outputs": [
      {
       "output_type": "stream",
       "stream": "stdout",
       "text": [
        "----------------------------------------------------------------------------\n",
        "NFFIXBAD -- Fri Apr 24 14:47:30 HST 2015\n"
       ]
      },
      {
       "output_type": "stream",
       "stream": "stdout",
       "text": [
        "\n",
        "Input images         = rs@telsci.lis\n",
        "Output images        = \n",
        "Output prefix        = b\n",
        "sci_ext              = SCI\n",
        "var_ext              = VAR\n",
        "dq_ext               = DQ\n",
        "logfile              = Z0924.log\n",
        "verbose              = yes\n",
        "\n",
        "Working on image rsnN20140228S0174"
       ]
      },
      {
       "output_type": "stream",
       "stream": "stdout",
       "text": [
        "\n",
        "Working on image rsnN20140228S0176"
       ]
      },
      {
       "output_type": "stream",
       "stream": "stdout",
       "text": [
        "\n",
        "Working on image rsnN20140228S0177"
       ]
      },
      {
       "output_type": "stream",
       "stream": "stdout",
       "text": [
        "\n",
        "Working on image rsnN20140228S0179"
       ]
      },
      {
       "output_type": "stream",
       "stream": "stdout",
       "text": [
        "\n"
       ]
      },
      {
       "output_type": "stream",
       "stream": "stdout",
       "text": [
        "\n",
        "NFFIXBAD exit status:  good.\n",
        "----------------------------------------------------------------------------\n"
       ]
      }
     ],
     "prompt_number": 28
    },
    {
     "cell_type": "heading",
     "level": 2,
     "metadata": {},
     "source": [
      "STEP 19: DERIVE THE 2D TO 3D SPATIAL/SPECTRAL TRANSFORMATION FOR THE TELLURIC AND APPLY"
     ]
    },
    {
     "cell_type": "code",
     "collapsed": false,
     "input": [
      "iraf.imdelete('fbrs@telsci.lis', verify='no')\n",
      "\n",
      "iraf.nsfitcoords('brs@telsci.lis', outpref='f', lamptr=arc+'_arc', \\\n",
      "                 sdisttr=ronchiflat+'_ronchi', verbose='no', \\\n",
      "                 lxorder=lxorder, lyorder=lyorder, fl_inter='no')\n",
      "print 'NSFITCOORDS - Done'"
     ],
     "language": "python",
     "metadata": {},
     "outputs": [
      {
       "output_type": "stream",
       "stream": "stdout",
       "text": [
        "NSFITCOORDS - Done\n"
       ]
      }
     ],
     "prompt_number": 29
    },
    {
     "cell_type": "code",
     "collapsed": false,
     "input": [
      "iraf.imdelete('tfbrs@telsci.lis', verify='no')\n",
      "\n",
      "iraf.nstransform('fbrs@telsci.lis', outpref='t')\n",
      "print 'NSTRANSFORM - Done'"
     ],
     "language": "python",
     "metadata": {},
     "outputs": [
      {
       "output_type": "stream",
       "stream": "stdout",
       "text": [
        "-------------------------------------------------------------------------------\n",
        "NSTRANSFORM -- Fri Apr 24 15:07:22 HST 2015\n"
       ]
      },
      {
       "output_type": "stream",
       "stream": "stdout",
       "text": [
        "\n",
        "Using input files:"
       ]
      },
      {
       "output_type": "stream",
       "stream": "stdout",
       "text": [
        "\n",
        "fbrsnN20140228S0174\n",
        "fbrsnN20140228S0176\n",
        "fbrsnN20140228S0177\n",
        "fbrsnN20140228S0179\n"
       ]
      },
      {
       "output_type": "stream",
       "stream": "stdout",
       "text": [
        "Using output files:\n",
        "tfbrsnN20140228S0174\n",
        "tfbrsnN20140228S0176\n",
        "tfbrsnN20140228S0177\n",
        "tfbrsnN20140228S0179\n"
       ]
      },
      {
       "output_type": "stream",
       "stream": "stdout",
       "text": [
        "NSTRANSFORM: Fitnames for fbrsnN20140228S0174: fbrsnN20140228S0174_SCI_1_lamp,fbrsnN20140228S0174_SCI_1_sdist\n",
        "NSTRANSFORM: Fitnames for fbrsnN20140228S0174: fbrsnN20140228S0174_SCI_2_lamp,fbrsnN20140228S0174_SCI_2_sdist"
       ]
      },
      {
       "output_type": "stream",
       "stream": "stdout",
       "text": [
        "\n",
        "NSTRANSFORM: Fitnames for fbrsnN20140228S0174: fbrsnN20140228S0174_SCI_3_lamp,fbrsnN20140228S0174_SCI_3_sdist"
       ]
      },
      {
       "output_type": "stream",
       "stream": "stdout",
       "text": [
        "\n",
        "NSTRANSFORM: Fitnames for fbrsnN20140228S0174: fbrsnN20140228S0174_SCI_4_lamp,fbrsnN20140228S0174_SCI_4_sdist"
       ]
      },
      {
       "output_type": "stream",
       "stream": "stdout",
       "text": [
        "\n",
        "NSTRANSFORM: Fitnames for fbrsnN20140228S0174: fbrsnN20140228S0174_SCI_5_lamp,fbrsnN20140228S0174_SCI_5_sdist"
       ]
      },
      {
       "output_type": "stream",
       "stream": "stdout",
       "text": [
        "\n",
        "NSTRANSFORM: Fitnames for fbrsnN20140228S0174: fbrsnN20140228S0174_SCI_6_lamp,fbrsnN20140228S0174_SCI_6_sdist"
       ]
      },
      {
       "output_type": "stream",
       "stream": "stdout",
       "text": [
        "\n",
        "NSTRANSFORM: Fitnames for fbrsnN20140228S0174: fbrsnN20140228S0174_SCI_7_lamp,fbrsnN20140228S0174_SCI_7_sdist"
       ]
      },
      {
       "output_type": "stream",
       "stream": "stdout",
       "text": [
        "\n",
        "NSTRANSFORM: Fitnames for fbrsnN20140228S0174: fbrsnN20140228S0174_SCI_8_lamp,fbrsnN20140228S0174_SCI_8_sdist"
       ]
      },
      {
       "output_type": "stream",
       "stream": "stdout",
       "text": [
        "\n",
        "NSTRANSFORM: Fitnames for fbrsnN20140228S0174: fbrsnN20140228S0174_SCI_9_lamp,fbrsnN20140228S0174_SCI_9_sdist"
       ]
      },
      {
       "output_type": "stream",
       "stream": "stdout",
       "text": [
        "\n",
        "NSTRANSFORM: Fitnames for fbrsnN20140228S0174: fbrsnN20140228S0174_SCI_10_lamp,fbrsnN20140228S0174_SCI_10_sdist"
       ]
      },
      {
       "output_type": "stream",
       "stream": "stdout",
       "text": [
        "\n",
        "NSTRANSFORM: Fitnames for fbrsnN20140228S0174: fbrsnN20140228S0174_SCI_11_lamp,fbrsnN20140228S0174_SCI_11_sdist"
       ]
      },
      {
       "output_type": "stream",
       "stream": "stdout",
       "text": [
        "\n",
        "NSTRANSFORM: Fitnames for fbrsnN20140228S0174: fbrsnN20140228S0174_SCI_12_lamp,fbrsnN20140228S0174_SCI_12_sdist"
       ]
      },
      {
       "output_type": "stream",
       "stream": "stdout",
       "text": [
        "\n",
        "NSTRANSFORM: Fitnames for fbrsnN20140228S0174: fbrsnN20140228S0174_SCI_13_lamp,fbrsnN20140228S0174_SCI_13_sdist"
       ]
      },
      {
       "output_type": "stream",
       "stream": "stdout",
       "text": [
        "\n",
        "NSTRANSFORM: Fitnames for fbrsnN20140228S0174: fbrsnN20140228S0174_SCI_14_lamp,fbrsnN20140228S0174_SCI_14_sdist"
       ]
      },
      {
       "output_type": "stream",
       "stream": "stdout",
       "text": [
        "\n",
        "NSTRANSFORM: Fitnames for fbrsnN20140228S0174: fbrsnN20140228S0174_SCI_15_lamp,fbrsnN20140228S0174_SCI_15_sdist"
       ]
      },
      {
       "output_type": "stream",
       "stream": "stdout",
       "text": [
        "\n",
        "NSTRANSFORM: Fitnames for fbrsnN20140228S0174: fbrsnN20140228S0174_SCI_16_lamp,fbrsnN20140228S0174_SCI_16_sdist"
       ]
      },
      {
       "output_type": "stream",
       "stream": "stdout",
       "text": [
        "\n",
        "NSTRANSFORM: Fitnames for fbrsnN20140228S0174: fbrsnN20140228S0174_SCI_17_lamp,fbrsnN20140228S0174_SCI_17_sdist"
       ]
      },
      {
       "output_type": "stream",
       "stream": "stdout",
       "text": [
        "\n",
        "NSTRANSFORM: Fitnames for fbrsnN20140228S0174: fbrsnN20140228S0174_SCI_18_lamp,fbrsnN20140228S0174_SCI_18_sdist"
       ]
      },
      {
       "output_type": "stream",
       "stream": "stdout",
       "text": [
        "\n",
        "NSTRANSFORM: Fitnames for fbrsnN20140228S0174: fbrsnN20140228S0174_SCI_19_lamp,fbrsnN20140228S0174_SCI_19_sdist"
       ]
      },
      {
       "output_type": "stream",
       "stream": "stdout",
       "text": [
        "\n",
        "NSTRANSFORM: Fitnames for fbrsnN20140228S0174: fbrsnN20140228S0174_SCI_20_lamp,fbrsnN20140228S0174_SCI_20_sdist"
       ]
      },
      {
       "output_type": "stream",
       "stream": "stdout",
       "text": [
        "\n",
        "NSTRANSFORM: Fitnames for fbrsnN20140228S0174: fbrsnN20140228S0174_SCI_21_lamp,fbrsnN20140228S0174_SCI_21_sdist"
       ]
      },
      {
       "output_type": "stream",
       "stream": "stdout",
       "text": [
        "\n",
        "NSTRANSFORM: Fitnames for fbrsnN20140228S0174: fbrsnN20140228S0174_SCI_22_lamp,fbrsnN20140228S0174_SCI_22_sdist"
       ]
      },
      {
       "output_type": "stream",
       "stream": "stdout",
       "text": [
        "\n",
        "NSTRANSFORM: Fitnames for fbrsnN20140228S0174: fbrsnN20140228S0174_SCI_23_lamp,fbrsnN20140228S0174_SCI_23_sdist"
       ]
      },
      {
       "output_type": "stream",
       "stream": "stdout",
       "text": [
        "\n",
        "NSTRANSFORM: Fitnames for fbrsnN20140228S0174: fbrsnN20140228S0174_SCI_24_lamp,fbrsnN20140228S0174_SCI_24_sdist"
       ]
      },
      {
       "output_type": "stream",
       "stream": "stdout",
       "text": [
        "\n",
        "NSTRANSFORM: Fitnames for fbrsnN20140228S0174: fbrsnN20140228S0174_SCI_25_lamp,fbrsnN20140228S0174_SCI_25_sdist"
       ]
      },
      {
       "output_type": "stream",
       "stream": "stdout",
       "text": [
        "\n",
        "NSTRANSFORM: Fitnames for fbrsnN20140228S0174: fbrsnN20140228S0174_SCI_26_lamp,fbrsnN20140228S0174_SCI_26_sdist"
       ]
      },
      {
       "output_type": "stream",
       "stream": "stdout",
       "text": [
        "\n",
        "NSTRANSFORM: Fitnames for fbrsnN20140228S0174: fbrsnN20140228S0174_SCI_27_lamp,fbrsnN20140228S0174_SCI_27_sdist"
       ]
      },
      {
       "output_type": "stream",
       "stream": "stdout",
       "text": [
        "\n",
        "NSTRANSFORM: Fitnames for fbrsnN20140228S0174: fbrsnN20140228S0174_SCI_28_lamp,fbrsnN20140228S0174_SCI_28_sdist"
       ]
      },
      {
       "output_type": "stream",
       "stream": "stdout",
       "text": [
        "\n",
        "NSTRANSFORM: Fitnames for fbrsnN20140228S0174: fbrsnN20140228S0174_SCI_29_lamp,fbrsnN20140228S0174_SCI_29_sdist"
       ]
      },
      {
       "output_type": "stream",
       "stream": "stdout",
       "text": [
        "\n"
       ]
      },
      {
       "output_type": "stream",
       "stream": "stdout",
       "text": [
        "NSTRANSFORM: Fitnames for fbrsnN20140228S0176: fbrsnN20140228S0176_SCI_1_lamp,fbrsnN20140228S0176_SCI_1_sdist\n",
        "NSTRANSFORM: Fitnames for fbrsnN20140228S0176: fbrsnN20140228S0176_SCI_2_lamp,fbrsnN20140228S0176_SCI_2_sdist"
       ]
      },
      {
       "output_type": "stream",
       "stream": "stdout",
       "text": [
        "\n",
        "NSTRANSFORM: Fitnames for fbrsnN20140228S0176: fbrsnN20140228S0176_SCI_3_lamp,fbrsnN20140228S0176_SCI_3_sdist"
       ]
      },
      {
       "output_type": "stream",
       "stream": "stdout",
       "text": [
        "\n",
        "NSTRANSFORM: Fitnames for fbrsnN20140228S0176: fbrsnN20140228S0176_SCI_4_lamp,fbrsnN20140228S0176_SCI_4_sdist"
       ]
      },
      {
       "output_type": "stream",
       "stream": "stdout",
       "text": [
        "\n",
        "NSTRANSFORM: Fitnames for fbrsnN20140228S0176: fbrsnN20140228S0176_SCI_5_lamp,fbrsnN20140228S0176_SCI_5_sdist"
       ]
      },
      {
       "output_type": "stream",
       "stream": "stdout",
       "text": [
        "\n",
        "NSTRANSFORM: Fitnames for fbrsnN20140228S0176: fbrsnN20140228S0176_SCI_6_lamp,fbrsnN20140228S0176_SCI_6_sdist"
       ]
      },
      {
       "output_type": "stream",
       "stream": "stdout",
       "text": [
        "\n",
        "NSTRANSFORM: Fitnames for fbrsnN20140228S0176: fbrsnN20140228S0176_SCI_7_lamp,fbrsnN20140228S0176_SCI_7_sdist"
       ]
      },
      {
       "output_type": "stream",
       "stream": "stdout",
       "text": [
        "\n",
        "NSTRANSFORM: Fitnames for fbrsnN20140228S0176: fbrsnN20140228S0176_SCI_8_lamp,fbrsnN20140228S0176_SCI_8_sdist"
       ]
      },
      {
       "output_type": "stream",
       "stream": "stdout",
       "text": [
        "\n",
        "NSTRANSFORM: Fitnames for fbrsnN20140228S0176: fbrsnN20140228S0176_SCI_9_lamp,fbrsnN20140228S0176_SCI_9_sdist"
       ]
      },
      {
       "output_type": "stream",
       "stream": "stdout",
       "text": [
        "\n",
        "NSTRANSFORM: Fitnames for fbrsnN20140228S0176: fbrsnN20140228S0176_SCI_10_lamp,fbrsnN20140228S0176_SCI_10_sdist"
       ]
      },
      {
       "output_type": "stream",
       "stream": "stdout",
       "text": [
        "\n",
        "NSTRANSFORM: Fitnames for fbrsnN20140228S0176: fbrsnN20140228S0176_SCI_11_lamp,fbrsnN20140228S0176_SCI_11_sdist"
       ]
      },
      {
       "output_type": "stream",
       "stream": "stdout",
       "text": [
        "\n",
        "NSTRANSFORM: Fitnames for fbrsnN20140228S0176: fbrsnN20140228S0176_SCI_12_lamp,fbrsnN20140228S0176_SCI_12_sdist"
       ]
      },
      {
       "output_type": "stream",
       "stream": "stdout",
       "text": [
        "\n",
        "NSTRANSFORM: Fitnames for fbrsnN20140228S0176: fbrsnN20140228S0176_SCI_13_lamp,fbrsnN20140228S0176_SCI_13_sdist"
       ]
      },
      {
       "output_type": "stream",
       "stream": "stdout",
       "text": [
        "\n",
        "NSTRANSFORM: Fitnames for fbrsnN20140228S0176: fbrsnN20140228S0176_SCI_14_lamp,fbrsnN20140228S0176_SCI_14_sdist"
       ]
      },
      {
       "output_type": "stream",
       "stream": "stdout",
       "text": [
        "\n",
        "NSTRANSFORM: Fitnames for fbrsnN20140228S0176: fbrsnN20140228S0176_SCI_15_lamp,fbrsnN20140228S0176_SCI_15_sdist"
       ]
      },
      {
       "output_type": "stream",
       "stream": "stdout",
       "text": [
        "\n",
        "NSTRANSFORM: Fitnames for fbrsnN20140228S0176: fbrsnN20140228S0176_SCI_16_lamp,fbrsnN20140228S0176_SCI_16_sdist"
       ]
      },
      {
       "output_type": "stream",
       "stream": "stdout",
       "text": [
        "\n",
        "NSTRANSFORM: Fitnames for fbrsnN20140228S0176: fbrsnN20140228S0176_SCI_17_lamp,fbrsnN20140228S0176_SCI_17_sdist"
       ]
      },
      {
       "output_type": "stream",
       "stream": "stdout",
       "text": [
        "\n",
        "NSTRANSFORM: Fitnames for fbrsnN20140228S0176: fbrsnN20140228S0176_SCI_18_lamp,fbrsnN20140228S0176_SCI_18_sdist"
       ]
      },
      {
       "output_type": "stream",
       "stream": "stdout",
       "text": [
        "\n",
        "NSTRANSFORM: Fitnames for fbrsnN20140228S0176: fbrsnN20140228S0176_SCI_19_lamp,fbrsnN20140228S0176_SCI_19_sdist"
       ]
      },
      {
       "output_type": "stream",
       "stream": "stdout",
       "text": [
        "\n",
        "NSTRANSFORM: Fitnames for fbrsnN20140228S0176: fbrsnN20140228S0176_SCI_20_lamp,fbrsnN20140228S0176_SCI_20_sdist"
       ]
      },
      {
       "output_type": "stream",
       "stream": "stdout",
       "text": [
        "\n",
        "NSTRANSFORM: Fitnames for fbrsnN20140228S0176: fbrsnN20140228S0176_SCI_21_lamp,fbrsnN20140228S0176_SCI_21_sdist"
       ]
      },
      {
       "output_type": "stream",
       "stream": "stdout",
       "text": [
        "\n",
        "NSTRANSFORM: Fitnames for fbrsnN20140228S0176: fbrsnN20140228S0176_SCI_22_lamp,fbrsnN20140228S0176_SCI_22_sdist"
       ]
      },
      {
       "output_type": "stream",
       "stream": "stdout",
       "text": [
        "\n",
        "NSTRANSFORM: Fitnames for fbrsnN20140228S0176: fbrsnN20140228S0176_SCI_23_lamp,fbrsnN20140228S0176_SCI_23_sdist"
       ]
      },
      {
       "output_type": "stream",
       "stream": "stdout",
       "text": [
        "\n",
        "NSTRANSFORM: Fitnames for fbrsnN20140228S0176: fbrsnN20140228S0176_SCI_24_lamp,fbrsnN20140228S0176_SCI_24_sdist"
       ]
      },
      {
       "output_type": "stream",
       "stream": "stdout",
       "text": [
        "\n",
        "NSTRANSFORM: Fitnames for fbrsnN20140228S0176: fbrsnN20140228S0176_SCI_25_lamp,fbrsnN20140228S0176_SCI_25_sdist"
       ]
      },
      {
       "output_type": "stream",
       "stream": "stdout",
       "text": [
        "\n",
        "NSTRANSFORM: Fitnames for fbrsnN20140228S0176: fbrsnN20140228S0176_SCI_26_lamp,fbrsnN20140228S0176_SCI_26_sdist"
       ]
      },
      {
       "output_type": "stream",
       "stream": "stdout",
       "text": [
        "\n",
        "NSTRANSFORM: Fitnames for fbrsnN20140228S0176: fbrsnN20140228S0176_SCI_27_lamp,fbrsnN20140228S0176_SCI_27_sdist"
       ]
      },
      {
       "output_type": "stream",
       "stream": "stdout",
       "text": [
        "\n",
        "NSTRANSFORM: Fitnames for fbrsnN20140228S0176: fbrsnN20140228S0176_SCI_28_lamp,fbrsnN20140228S0176_SCI_28_sdist"
       ]
      },
      {
       "output_type": "stream",
       "stream": "stdout",
       "text": [
        "\n",
        "NSTRANSFORM: Fitnames for fbrsnN20140228S0176: fbrsnN20140228S0176_SCI_29_lamp,fbrsnN20140228S0176_SCI_29_sdist"
       ]
      },
      {
       "output_type": "stream",
       "stream": "stdout",
       "text": [
        "\n"
       ]
      },
      {
       "output_type": "stream",
       "stream": "stdout",
       "text": [
        "NSTRANSFORM: Fitnames for fbrsnN20140228S0177: fbrsnN20140228S0177_SCI_1_lamp,fbrsnN20140228S0177_SCI_1_sdist\n",
        "NSTRANSFORM: Fitnames for fbrsnN20140228S0177: fbrsnN20140228S0177_SCI_2_lamp,fbrsnN20140228S0177_SCI_2_sdist"
       ]
      },
      {
       "output_type": "stream",
       "stream": "stdout",
       "text": [
        "\n",
        "NSTRANSFORM: Fitnames for fbrsnN20140228S0177: fbrsnN20140228S0177_SCI_3_lamp,fbrsnN20140228S0177_SCI_3_sdist"
       ]
      },
      {
       "output_type": "stream",
       "stream": "stdout",
       "text": [
        "\n",
        "NSTRANSFORM: Fitnames for fbrsnN20140228S0177: fbrsnN20140228S0177_SCI_4_lamp,fbrsnN20140228S0177_SCI_4_sdist"
       ]
      },
      {
       "output_type": "stream",
       "stream": "stdout",
       "text": [
        "\n",
        "NSTRANSFORM: Fitnames for fbrsnN20140228S0177: fbrsnN20140228S0177_SCI_5_lamp,fbrsnN20140228S0177_SCI_5_sdist"
       ]
      },
      {
       "output_type": "stream",
       "stream": "stdout",
       "text": [
        "\n",
        "NSTRANSFORM: Fitnames for fbrsnN20140228S0177: fbrsnN20140228S0177_SCI_6_lamp,fbrsnN20140228S0177_SCI_6_sdist"
       ]
      },
      {
       "output_type": "stream",
       "stream": "stdout",
       "text": [
        "\n",
        "NSTRANSFORM: Fitnames for fbrsnN20140228S0177: fbrsnN20140228S0177_SCI_7_lamp,fbrsnN20140228S0177_SCI_7_sdist"
       ]
      },
      {
       "output_type": "stream",
       "stream": "stdout",
       "text": [
        "\n",
        "NSTRANSFORM: Fitnames for fbrsnN20140228S0177: fbrsnN20140228S0177_SCI_8_lamp,fbrsnN20140228S0177_SCI_8_sdist"
       ]
      },
      {
       "output_type": "stream",
       "stream": "stdout",
       "text": [
        "\n",
        "NSTRANSFORM: Fitnames for fbrsnN20140228S0177: fbrsnN20140228S0177_SCI_9_lamp,fbrsnN20140228S0177_SCI_9_sdist"
       ]
      },
      {
       "output_type": "stream",
       "stream": "stdout",
       "text": [
        "\n",
        "NSTRANSFORM: Fitnames for fbrsnN20140228S0177: fbrsnN20140228S0177_SCI_10_lamp,fbrsnN20140228S0177_SCI_10_sdist"
       ]
      },
      {
       "output_type": "stream",
       "stream": "stdout",
       "text": [
        "\n",
        "NSTRANSFORM: Fitnames for fbrsnN20140228S0177: fbrsnN20140228S0177_SCI_11_lamp,fbrsnN20140228S0177_SCI_11_sdist"
       ]
      },
      {
       "output_type": "stream",
       "stream": "stdout",
       "text": [
        "\n",
        "NSTRANSFORM: Fitnames for fbrsnN20140228S0177: fbrsnN20140228S0177_SCI_12_lamp,fbrsnN20140228S0177_SCI_12_sdist"
       ]
      },
      {
       "output_type": "stream",
       "stream": "stdout",
       "text": [
        "\n",
        "NSTRANSFORM: Fitnames for fbrsnN20140228S0177: fbrsnN20140228S0177_SCI_13_lamp,fbrsnN20140228S0177_SCI_13_sdist"
       ]
      },
      {
       "output_type": "stream",
       "stream": "stdout",
       "text": [
        "\n",
        "NSTRANSFORM: Fitnames for fbrsnN20140228S0177: fbrsnN20140228S0177_SCI_14_lamp,fbrsnN20140228S0177_SCI_14_sdist"
       ]
      },
      {
       "output_type": "stream",
       "stream": "stdout",
       "text": [
        "\n",
        "NSTRANSFORM: Fitnames for fbrsnN20140228S0177: fbrsnN20140228S0177_SCI_15_lamp,fbrsnN20140228S0177_SCI_15_sdist"
       ]
      },
      {
       "output_type": "stream",
       "stream": "stdout",
       "text": [
        "\n",
        "NSTRANSFORM: Fitnames for fbrsnN20140228S0177: fbrsnN20140228S0177_SCI_16_lamp,fbrsnN20140228S0177_SCI_16_sdist"
       ]
      },
      {
       "output_type": "stream",
       "stream": "stdout",
       "text": [
        "\n",
        "NSTRANSFORM: Fitnames for fbrsnN20140228S0177: fbrsnN20140228S0177_SCI_17_lamp,fbrsnN20140228S0177_SCI_17_sdist"
       ]
      },
      {
       "output_type": "stream",
       "stream": "stdout",
       "text": [
        "\n",
        "NSTRANSFORM: Fitnames for fbrsnN20140228S0177: fbrsnN20140228S0177_SCI_18_lamp,fbrsnN20140228S0177_SCI_18_sdist"
       ]
      },
      {
       "output_type": "stream",
       "stream": "stdout",
       "text": [
        "\n",
        "NSTRANSFORM: Fitnames for fbrsnN20140228S0177: fbrsnN20140228S0177_SCI_19_lamp,fbrsnN20140228S0177_SCI_19_sdist"
       ]
      },
      {
       "output_type": "stream",
       "stream": "stdout",
       "text": [
        "\n",
        "NSTRANSFORM: Fitnames for fbrsnN20140228S0177: fbrsnN20140228S0177_SCI_20_lamp,fbrsnN20140228S0177_SCI_20_sdist"
       ]
      },
      {
       "output_type": "stream",
       "stream": "stdout",
       "text": [
        "\n",
        "NSTRANSFORM: Fitnames for fbrsnN20140228S0177: fbrsnN20140228S0177_SCI_21_lamp,fbrsnN20140228S0177_SCI_21_sdist"
       ]
      },
      {
       "output_type": "stream",
       "stream": "stdout",
       "text": [
        "\n",
        "NSTRANSFORM: Fitnames for fbrsnN20140228S0177: fbrsnN20140228S0177_SCI_22_lamp,fbrsnN20140228S0177_SCI_22_sdist"
       ]
      },
      {
       "output_type": "stream",
       "stream": "stdout",
       "text": [
        "\n",
        "NSTRANSFORM: Fitnames for fbrsnN20140228S0177: fbrsnN20140228S0177_SCI_23_lamp,fbrsnN20140228S0177_SCI_23_sdist"
       ]
      },
      {
       "output_type": "stream",
       "stream": "stdout",
       "text": [
        "\n",
        "NSTRANSFORM: Fitnames for fbrsnN20140228S0177: fbrsnN20140228S0177_SCI_24_lamp,fbrsnN20140228S0177_SCI_24_sdist"
       ]
      },
      {
       "output_type": "stream",
       "stream": "stdout",
       "text": [
        "\n",
        "NSTRANSFORM: Fitnames for fbrsnN20140228S0177: fbrsnN20140228S0177_SCI_25_lamp,fbrsnN20140228S0177_SCI_25_sdist"
       ]
      },
      {
       "output_type": "stream",
       "stream": "stdout",
       "text": [
        "\n",
        "NSTRANSFORM: Fitnames for fbrsnN20140228S0177: fbrsnN20140228S0177_SCI_26_lamp,fbrsnN20140228S0177_SCI_26_sdist"
       ]
      },
      {
       "output_type": "stream",
       "stream": "stdout",
       "text": [
        "\n",
        "NSTRANSFORM: Fitnames for fbrsnN20140228S0177: fbrsnN20140228S0177_SCI_27_lamp,fbrsnN20140228S0177_SCI_27_sdist"
       ]
      },
      {
       "output_type": "stream",
       "stream": "stdout",
       "text": [
        "\n",
        "NSTRANSFORM: Fitnames for fbrsnN20140228S0177: fbrsnN20140228S0177_SCI_28_lamp,fbrsnN20140228S0177_SCI_28_sdist"
       ]
      },
      {
       "output_type": "stream",
       "stream": "stdout",
       "text": [
        "\n",
        "NSTRANSFORM: Fitnames for fbrsnN20140228S0177: fbrsnN20140228S0177_SCI_29_lamp,fbrsnN20140228S0177_SCI_29_sdist"
       ]
      },
      {
       "output_type": "stream",
       "stream": "stdout",
       "text": [
        "\n"
       ]
      },
      {
       "output_type": "stream",
       "stream": "stdout",
       "text": [
        "NSTRANSFORM: Fitnames for fbrsnN20140228S0179: fbrsnN20140228S0179_SCI_1_lamp,fbrsnN20140228S0179_SCI_1_sdist\n",
        "NSTRANSFORM: Fitnames for fbrsnN20140228S0179: fbrsnN20140228S0179_SCI_2_lamp,fbrsnN20140228S0179_SCI_2_sdist"
       ]
      },
      {
       "output_type": "stream",
       "stream": "stdout",
       "text": [
        "\n",
        "NSTRANSFORM: Fitnames for fbrsnN20140228S0179: fbrsnN20140228S0179_SCI_3_lamp,fbrsnN20140228S0179_SCI_3_sdist"
       ]
      },
      {
       "output_type": "stream",
       "stream": "stdout",
       "text": [
        "\n",
        "NSTRANSFORM: Fitnames for fbrsnN20140228S0179: fbrsnN20140228S0179_SCI_4_lamp,fbrsnN20140228S0179_SCI_4_sdist"
       ]
      },
      {
       "output_type": "stream",
       "stream": "stdout",
       "text": [
        "\n",
        "NSTRANSFORM: Fitnames for fbrsnN20140228S0179: fbrsnN20140228S0179_SCI_5_lamp,fbrsnN20140228S0179_SCI_5_sdist"
       ]
      },
      {
       "output_type": "stream",
       "stream": "stdout",
       "text": [
        "\n",
        "NSTRANSFORM: Fitnames for fbrsnN20140228S0179: fbrsnN20140228S0179_SCI_6_lamp,fbrsnN20140228S0179_SCI_6_sdist"
       ]
      },
      {
       "output_type": "stream",
       "stream": "stdout",
       "text": [
        "\n",
        "NSTRANSFORM: Fitnames for fbrsnN20140228S0179: fbrsnN20140228S0179_SCI_7_lamp,fbrsnN20140228S0179_SCI_7_sdist"
       ]
      },
      {
       "output_type": "stream",
       "stream": "stdout",
       "text": [
        "\n",
        "NSTRANSFORM: Fitnames for fbrsnN20140228S0179: fbrsnN20140228S0179_SCI_8_lamp,fbrsnN20140228S0179_SCI_8_sdist"
       ]
      },
      {
       "output_type": "stream",
       "stream": "stdout",
       "text": [
        "\n",
        "NSTRANSFORM: Fitnames for fbrsnN20140228S0179: fbrsnN20140228S0179_SCI_9_lamp,fbrsnN20140228S0179_SCI_9_sdist"
       ]
      },
      {
       "output_type": "stream",
       "stream": "stdout",
       "text": [
        "\n",
        "NSTRANSFORM: Fitnames for fbrsnN20140228S0179: fbrsnN20140228S0179_SCI_10_lamp,fbrsnN20140228S0179_SCI_10_sdist"
       ]
      },
      {
       "output_type": "stream",
       "stream": "stdout",
       "text": [
        "\n",
        "NSTRANSFORM: Fitnames for fbrsnN20140228S0179: fbrsnN20140228S0179_SCI_11_lamp,fbrsnN20140228S0179_SCI_11_sdist"
       ]
      },
      {
       "output_type": "stream",
       "stream": "stdout",
       "text": [
        "\n",
        "NSTRANSFORM: Fitnames for fbrsnN20140228S0179: fbrsnN20140228S0179_SCI_12_lamp,fbrsnN20140228S0179_SCI_12_sdist"
       ]
      },
      {
       "output_type": "stream",
       "stream": "stdout",
       "text": [
        "\n",
        "NSTRANSFORM: Fitnames for fbrsnN20140228S0179: fbrsnN20140228S0179_SCI_13_lamp,fbrsnN20140228S0179_SCI_13_sdist"
       ]
      },
      {
       "output_type": "stream",
       "stream": "stdout",
       "text": [
        "\n",
        "NSTRANSFORM: Fitnames for fbrsnN20140228S0179: fbrsnN20140228S0179_SCI_14_lamp,fbrsnN20140228S0179_SCI_14_sdist"
       ]
      },
      {
       "output_type": "stream",
       "stream": "stdout",
       "text": [
        "\n",
        "NSTRANSFORM: Fitnames for fbrsnN20140228S0179: fbrsnN20140228S0179_SCI_15_lamp,fbrsnN20140228S0179_SCI_15_sdist"
       ]
      },
      {
       "output_type": "stream",
       "stream": "stdout",
       "text": [
        "\n",
        "NSTRANSFORM: Fitnames for fbrsnN20140228S0179: fbrsnN20140228S0179_SCI_16_lamp,fbrsnN20140228S0179_SCI_16_sdist"
       ]
      },
      {
       "output_type": "stream",
       "stream": "stdout",
       "text": [
        "\n",
        "NSTRANSFORM: Fitnames for fbrsnN20140228S0179: fbrsnN20140228S0179_SCI_17_lamp,fbrsnN20140228S0179_SCI_17_sdist"
       ]
      },
      {
       "output_type": "stream",
       "stream": "stdout",
       "text": [
        "\n",
        "NSTRANSFORM: Fitnames for fbrsnN20140228S0179: fbrsnN20140228S0179_SCI_18_lamp,fbrsnN20140228S0179_SCI_18_sdist"
       ]
      },
      {
       "output_type": "stream",
       "stream": "stdout",
       "text": [
        "\n",
        "NSTRANSFORM: Fitnames for fbrsnN20140228S0179: fbrsnN20140228S0179_SCI_19_lamp,fbrsnN20140228S0179_SCI_19_sdist"
       ]
      },
      {
       "output_type": "stream",
       "stream": "stdout",
       "text": [
        "\n",
        "NSTRANSFORM: Fitnames for fbrsnN20140228S0179: fbrsnN20140228S0179_SCI_20_lamp,fbrsnN20140228S0179_SCI_20_sdist"
       ]
      },
      {
       "output_type": "stream",
       "stream": "stdout",
       "text": [
        "\n",
        "NSTRANSFORM: Fitnames for fbrsnN20140228S0179: fbrsnN20140228S0179_SCI_21_lamp,fbrsnN20140228S0179_SCI_21_sdist"
       ]
      },
      {
       "output_type": "stream",
       "stream": "stdout",
       "text": [
        "\n",
        "NSTRANSFORM: Fitnames for fbrsnN20140228S0179: fbrsnN20140228S0179_SCI_22_lamp,fbrsnN20140228S0179_SCI_22_sdist"
       ]
      },
      {
       "output_type": "stream",
       "stream": "stdout",
       "text": [
        "\n",
        "NSTRANSFORM: Fitnames for fbrsnN20140228S0179: fbrsnN20140228S0179_SCI_23_lamp,fbrsnN20140228S0179_SCI_23_sdist"
       ]
      },
      {
       "output_type": "stream",
       "stream": "stdout",
       "text": [
        "\n",
        "NSTRANSFORM: Fitnames for fbrsnN20140228S0179: fbrsnN20140228S0179_SCI_24_lamp,fbrsnN20140228S0179_SCI_24_sdist"
       ]
      },
      {
       "output_type": "stream",
       "stream": "stdout",
       "text": [
        "\n",
        "NSTRANSFORM: Fitnames for fbrsnN20140228S0179: fbrsnN20140228S0179_SCI_25_lamp,fbrsnN20140228S0179_SCI_25_sdist"
       ]
      },
      {
       "output_type": "stream",
       "stream": "stdout",
       "text": [
        "\n",
        "NSTRANSFORM: Fitnames for fbrsnN20140228S0179: fbrsnN20140228S0179_SCI_26_lamp,fbrsnN20140228S0179_SCI_26_sdist"
       ]
      },
      {
       "output_type": "stream",
       "stream": "stdout",
       "text": [
        "\n",
        "NSTRANSFORM: Fitnames for fbrsnN20140228S0179: fbrsnN20140228S0179_SCI_27_lamp,fbrsnN20140228S0179_SCI_27_sdist"
       ]
      },
      {
       "output_type": "stream",
       "stream": "stdout",
       "text": [
        "\n",
        "NSTRANSFORM: Fitnames for fbrsnN20140228S0179: fbrsnN20140228S0179_SCI_28_lamp,fbrsnN20140228S0179_SCI_28_sdist"
       ]
      },
      {
       "output_type": "stream",
       "stream": "stdout",
       "text": [
        "\n",
        "NSTRANSFORM: Fitnames for fbrsnN20140228S0179: fbrsnN20140228S0179_SCI_29_lamp,fbrsnN20140228S0179_SCI_29_sdist"
       ]
      },
      {
       "output_type": "stream",
       "stream": "stdout",
       "text": [
        "\n"
       ]
      },
      {
       "output_type": "stream",
       "stream": "stdout",
       "text": [
        "NSTRANSFORM: Exit status good\n",
        "-------------------------------------------------------------------------------\n"
       ]
      },
      {
       "output_type": "stream",
       "stream": "stdout",
       "text": [
        "NSTRANSFORM - Done\n"
       ]
      }
     ],
     "prompt_number": 31
    },
    {
     "cell_type": "heading",
     "level": 2,
     "metadata": {},
     "source": [
      "STEP 20: EXTRACT 1D SPECTRA OF THE TELLURIC AND COMBINE"
     ]
    },
    {
     "cell_type": "markdown",
     "metadata": {},
     "source": [
      "Start ds9 if it hasn't been already.\n",
      "\n",
      "Run the extraction on the first image interactively from the PyRAF session to estimate the x and y center that we will next use for an automatic extraction.\n",
      "\n",
      "    iraf.imdelete('xtfbrsn'+telluric_after, verify='no')\n",
      "    iraf.nfextract('tfbrsn'+telluric_after, outpref='x', diameter=0.5, \n",
      "        fl_int='yes', fl_zval='no')"
     ]
    },
    {
     "cell_type": "code",
     "collapsed": false,
     "input": [
      "xc_telextract = 13.5\n",
      "yc_telextract = 32.0\n",
      "iraf.imdelete('xtfbrs@telsci.lis', verify='no')\n",
      "iraf.nfextract('tfbrs@telsci.lis', outpref='x', diameter=0.5, fl_int='no',\n",
      "               xc=xc_telextract, yc=yc_telextract)"
     ],
     "language": "python",
     "metadata": {},
     "outputs": [
      {
       "output_type": "stream",
       "stream": "stdout",
       "text": [
        "----------------------------------------------------------------------------\n",
        "NFEXTRACT -- Fri Apr 24 15:44:29 HST 2015\n",
        "\n",
        "Input images or list = tfbrs@telsci.lis\n",
        "Output spectra       = \n",
        "Output prefix        = x\n",
        "Dispersion axis      = 1\n",
        "Auto extract at X    = 13.5\n",
        "Auto extract at Y    = 32.0\n",
        "\n"
       ]
      },
      {
       "output_type": "stream",
       "stream": "stdout",
       "text": [
        "\n",
        "Extracting aperture at position xc=13.5, yc=32.0"
       ]
      },
      {
       "output_type": "stream",
       "stream": "stdout",
       "text": [
        "\n"
       ]
      },
      {
       "output_type": "stream",
       "stream": "stdout",
       "text": [
        "\n",
        "Extracting aperture at position xc=13.5, yc=32.0"
       ]
      },
      {
       "output_type": "stream",
       "stream": "stdout",
       "text": [
        "\n"
       ]
      },
      {
       "output_type": "stream",
       "stream": "stdout",
       "text": [
        "\n",
        "Extracting aperture at position xc=13.5, yc=32.0"
       ]
      },
      {
       "output_type": "stream",
       "stream": "stdout",
       "text": [
        "\n"
       ]
      },
      {
       "output_type": "stream",
       "stream": "stdout",
       "text": [
        "\n",
        "Extracting aperture at position xc=13.5, yc=32.0"
       ]
      },
      {
       "output_type": "stream",
       "stream": "stdout",
       "text": [
        "\n"
       ]
      },
      {
       "output_type": "stream",
       "stream": "stdout",
       "text": [
        "\n",
        "NFEXTRACT exit status:  good.\n",
        "----------------------------------------------------------------------------\n"
       ]
      }
     ],
     "prompt_number": 9
    },
    {
     "cell_type": "code",
     "collapsed": false,
     "input": [
      "iraf.imdelete(telluric_after+'_telluric', verify='no')\n",
      "\n",
      "iraf.gemcombine('xtfbrs//@telsci.lis', output=telluric_after+'_telluric',\\\n",
      "                statsec='[*]', combine='median', logfile=logfile, \\\n",
      "                masktype='none', fl_vardq='yes')"
     ],
     "language": "python",
     "metadata": {},
     "outputs": [
      {
       "output_type": "stream",
       "stream": "stdout",
       "text": [
        "--------------------------------------------------------------------------------\n",
        "GEMCOMBINE -- Wed Apr 29 16:27:34 HST 2015\n",
        " \n",
        "GEMCOMBINE: input = xtfbrs//@telsci.lis\n",
        "GEMCOMBINE: output = N20140228S0174_telluric\n",
        "GEMCOMBINE: title = \n",
        "GEMCOMBINE: bpmfile = \n",
        "GEMCOMBINE: sci_ext = SCI\n",
        "GEMCOMBINE: var_ext = VAR\n",
        "GEMCOMBINE: dq_ext = DQ\n",
        " \n"
       ]
      },
      {
       "output_type": "stream",
       "stream": "stdout",
       "text": [
        "WARNING - GEMCOMBINE: five or less images to combine.\n",
        "\n",
        "Apr 29 16:27: IMCOMBINE\n",
        "  combine = median, scale = none, zero = none, weight = none\n",
        "  reject = avsigclip, mclip = yes, nkeep = 1\n",
        "  lsigma = 3., hsigma = 3.\n",
        "  blank = 0.\n",
        "  statsec = Apr 29 16:27\n",
        "                Images \n",
        "  xtfbrsnN20140228S0174.fits[SCI]\n",
        "  xtfbrsnN20140228S0176.fits[SCI]\n",
        "  xtfbrsnN20140228S0177.fits[SCI]\n",
        "  xtfbrsnN20140228S0179.fits[SCI]\n",
        "\n",
        "  Output image = tmpcombout3018_16, ncombine = 4\n",
        "  Number rejected mask = tmpcombdq3018_17.pl\n",
        "  Sigma image = tmpcombsig3018_18\n"
       ]
      },
      {
       "output_type": "stream",
       "stream": "stdout",
       "text": [
        " \n",
        "GEMCOMBINE -- Finished: Wed Apr 29 16:27:36 HST 2015\n",
        " \n",
        "GEMCOMBINE -- Exit status: GOOD\n",
        "--------------------------------------------------------------------------------\n"
       ]
      }
     ],
     "prompt_number": 6
    },
    {
     "cell_type": "markdown",
     "metadata": {},
     "source": [
      "<hr size=5>"
     ]
    },
    {
     "cell_type": "heading",
     "level": 2,
     "metadata": {},
     "source": [
      "SUMMARY OF THE REDUCTION OF THE TELLURIC"
     ]
    },
    {
     "cell_type": "markdown",
     "metadata": {},
     "source": [
      "In this case, we have both a telluric taken before the target, and one taken after.  We have reduced both.   The telluric taken before the target fits better in terms of airmass and time delay.\n",
      "\n",
      "The reduced 1D telluric to be used in the next steps to correct the science observations are:\n",
      "\n",
      "    N20140228S0174_telluric.fits\n",
      "\n",
      "Each telluric observations have been:\n",
      "\n",
      "    prepared\n",
      "    sky subtracted\n",
      "    flat fielded\n",
      "    fixed for bad pixels\n",
      "    fitcoords'ed\n",
      "    transformed\n",
      "    extracted\n",
      "    the 1D spectra combined\n"
     ]
    },
    {
     "cell_type": "markdown",
     "metadata": {},
     "source": [
      "<hr size=5>"
     ]
    },
    {
     "cell_type": "markdown",
     "metadata": {},
     "source": [
      "[Table of Contents](#toc)\n",
      "\n",
      "<hr size=5>\n",
      "<a id='telluric_correction'></a>"
     ]
    },
    {
     "cell_type": "heading",
     "level": 2,
     "metadata": {},
     "source": [
      "TELLURIC CORRECTION OF SCIENCE SPECTRA - STEPS 21 TO ??"
     ]
    },
    {
     "cell_type": "markdown",
     "metadata": {},
     "source": [
      "<hr size=5>"
     ]
    },
    {
     "cell_type": "heading",
     "level": 2,
     "metadata": {},
     "source": [
      "STEP 21: APPLY TELLURIC CORRECTION TO SCIENCE SPECTRA"
     ]
    },
    {
     "cell_type": "markdown",
     "metadata": {},
     "source": [
      "No matter what standard star you observed for the telluric correction, there will be stellar features in the spectrum.  There are two ways to remove the stellar features from the telluric spectrum:  1) fit a line profile to and remove each stellar feature from the telluric spectrum; 2) use a stellar model, resample, scale, and subtract it from the telluric to remove the stellar features.\n",
      "\n",
      "For now we apply solution #1 and use <code>rmfeature</code> to fit the features.\n",
      "\n",
      "HOWEVER, this will correct for the two hydrogen lines.  There is structure in the continuum and I (KL) do not know at this point if that is intrinsic to the star (and from quick look at a low-res spectrum I have reason to believe that it is) or if the structure is telluric in nature.  I believe that for a proper science reduction we will need to figure out how to remove stellar features using a stellar model instead of just using <code>rmfeature</code>."
     ]
    },
    {
     "cell_type": "heading",
     "level": 3,
     "metadata": {},
     "source": [
      "STEP 21-A: Technique 1 - Fit line profile and remove each stellar feature"
     ]
    },
    {
     "cell_type": "heading",
     "level": 4,
     "metadata": {},
     "source": [
      "Remove stellar features with <code>rmfeature</code>"
     ]
    },
    {
     "cell_type": "markdown",
     "metadata": {},
     "source": [
      "The stellar features of a A0V star in the Z-band are hydrogen lines (anything else?).  Two hydrogen recombination lines are within the band:\n",
      "\n",
      "    Paschen 6-3 at 1.09411 microns\n",
      "    Paschen 7-3 at 1.00521 microns\n",
      "\n",
      "Resource:\n",
      "[http://www.gemini.edu/sciops/instruments/nifs/near-ir-resources?q=node/10178](http://www.gemini.edu/sciops/instruments/nifs/near-ir-resources?q=node/10178)"
     ]
    },
    {
     "cell_type": "heading",
     "level": 4,
     "metadata": {},
     "source": [
      "Model a blackbody"
     ]
    },
    {
     "cell_type": "markdown",
     "metadata": {},
     "source": [
      "The  telluric star is HIP 54849.  It is a A0V star with an approximate temperature of 9727 K.\n",
      "\n",
      "Resource for temperatures, if not available from Simbad:\n",
      "\n",
      "[http://www.ukirt.hawaii.edu/astronomy/utils/temp.html](http://www.ukirt.hawaii.edu/astronomy/utils/temp.html)\n",
      "\n",
      "First, we figure out the start and end wavelength, and the sampling we require to match the science spectrum.  Then we create the blackbody spectrum and convert it into a MEF file.  This will allow us to keep propagating the variance plane."
     ]
    },
    {
     "cell_type": "code",
     "collapsed": false,
     "input": [
      "iraf.wspectext('xtfobj_comb.fits[sci,1]', 'xtfobj_comb.txt', header='no')\n",
      "wstart = int(round(float(iraf.head('xtfobj_comb.txt', nlines=1, Stdout=1)[0].split()[0])))\n",
      "wend = int(round(float(iraf.tail('xtfobj_comb.txt', nlines=1, Stdout=1)[0].split()[0])))\n",
      "nsamples = int(iraf.hselect('xtfobj_comb.fits[sci,1]', 'NAXIS1', 'yes', Stdout=1)[0])\n",
      "\n",
      "print 'Start wavelength: ', wstart\n",
      "print 'End wavelength: ', wend\n",
      "print 'Number of samples: ', nsamples"
     ],
     "language": "python",
     "metadata": {},
     "outputs": []
    },
    {
     "cell_type": "code",
     "collapsed": false,
     "input": [
      "iraf.imdelete('B7.5V_blackbody_sci.fits', verify='no')\n",
      "iraf.mk1dspec('B7.5V_blackbody_sci.fits', ncols=nsamples, \\\n",
      "              wstart=wstart, wend=wend, temperature=10700)\n",
      "iraf.splot('B7.5V_blackbody_sci.fits')\n",
      "\n",
      "iraf.imdelete('B7.5V_blackbody_var.fits', verify='no')\n",
      "iraf.imdelete('B7.5V_blackbody_dq.fits', verify='no')\n",
      "from astropy.io import fits\n",
      "import numpy as np\n",
      "bb_sci = fits.open('B7.5V_blackbody_sci.fits')\n",
      "bb_var = fits.HDUList()\n",
      "bb_var.append(fits.ImageHDU())\n",
      "bb_var[0].header = bb_sci[0].header\n",
      "bb_var[0].data = np.zeros(bb_sci[0].data.size, dtype=np.float32)\n",
      "bb_var.writeto('B7.5V_blackbody_var.fits')\n",
      "bb_dq = fits.HDUList()\n",
      "bb_dq.append(fits.ImageHDU())\n",
      "bb_dq[0].header = bb_sci[0].header\n",
      "bb_dq[0].data = np.zeros(bb_sci[0].data.size, dtype=np.float32)\n",
      "bb_dq.writeto('B7.5V_blackbody_dq.fits')\n",
      "bb_sci.close()\n",
      "\n",
      "iraf.imdelete('B7.5V_blackbody.fits', verify='no')\n",
      "iraf.wmef('B7.5V_blackbody_sci.fits,B7.5V_blackbody_var.fits,B7.5V_blackbody_dq.fits',\\\n",
      "          'B7.5V_blackbody.fits')\n",
      "\n",
      "iraf.fxhead('B7.5V_blackbody.fits')"
     ],
     "language": "python",
     "metadata": {},
     "outputs": []
    },
    {
     "cell_type": "heading",
     "level": 3,
     "metadata": {},
     "source": [
      "Apply the telluric correction"
     ]
    },
    {
     "cell_type": "code",
     "collapsed": false,
     "input": [
      "iraf.nftelluric('tfbrg@science.lis', telluric_before, outprefix='a1', \\\n",
      "                logfile=logfile)\n",
      "iraf.nftelluric('tfbrg@science.lis', telluric_after, outprefix='a2', \\\n",
      "                logfile=logfile)"
     ],
     "language": "python",
     "metadata": {},
     "outputs": []
    },
    {
     "cell_type": "heading",
     "level": 3,
     "metadata": {},
     "source": [
      "Recover the shape of the continuum"
     ]
    },
    {
     "cell_type": "markdown",
     "metadata": {},
     "source": [
      "The telluric spectrum, ie. the spectrum of a star, was divided into the science spectrum.  This means that to recover the correct continuum for the science spectrum one needs to multiply the science spectrum with a blackbody (if rmfeature was used), or a stellar model (if rmfeature was not used.)"
     ]
    },
    {
     "cell_type": "code",
     "collapsed": false,
     "input": [
      "iraf.imdelete('axtfobj_bb.fits', verify='no')\n",
      "iraf.gemarith('axtfobj_comb.fits','*', 'B7.5V_blackbody.fits', \\\n",
      "              'axtfobj_bb.fits', fl_vardq='yes')"
     ],
     "language": "python",
     "metadata": {},
     "outputs": []
    },
    {
     "cell_type": "code",
     "collapsed": false,
     "input": [
      "iraf.splot('axtfobj_bb.fits[sci,1]', ymin=-20000, ymax=300000)"
     ],
     "language": "python",
     "metadata": {},
     "outputs": []
    },
    {
     "cell_type": "markdown",
     "metadata": {},
     "source": [
      "Using Kathleen's Python <code>splot</code> in a shell, plot the final spectrum with line identifcation and with an overplot of the error."
     ]
    },
    {
     "cell_type": "code",
     "collapsed": false,
     "input": [
      "!splot axtfobj_bb.fits -l quasar -z 0.6128 -y -25000 250000 --variance 2"
     ],
     "language": "python",
     "metadata": {},
     "outputs": []
    },
    {
     "cell_type": "markdown",
     "metadata": {},
     "source": [
      "[Table of Contents](#toc)\n",
      "\n",
      "<hr size=5>\n",
      "<a id='cubing_stacking'></a>"
     ]
    },
    {
     "cell_type": "heading",
     "level": 2,
     "metadata": {},
     "source": [
      "CUBING AND STACKING - STEP 22"
     ]
    },
    {
     "cell_type": "markdown",
     "metadata": {},
     "source": [
      "<hr size=5>"
     ]
    },
    {
     "cell_type": "code",
     "collapsed": false,
     "input": [
      "iraf.nifcube('a1tfbrg@science.lis', logfile=logfile)\n",
      "iraf.nifcube('a2tfbrg@science.lis', logfile=logfile)"
     ],
     "language": "python",
     "metadata": {},
     "outputs": []
    },
    {
     "cell_type": "markdown",
     "metadata": {},
     "source": [
      "<hr size=5>"
     ]
    },
    {
     "cell_type": "heading",
     "level": 2,
     "metadata": {},
     "source": [
      "SUMMARY OF FULL SCIENCE REDUCTION"
     ]
    },
    {
     "cell_type": "markdown",
     "metadata": {},
     "source": [
      "ca1t\n",
      "ca2t"
     ]
    },
    {
     "cell_type": "markdown",
     "metadata": {},
     "source": [
      "<hr size=5>"
     ]
    },
    {
     "cell_type": "code",
     "collapsed": false,
     "input": [],
     "language": "python",
     "metadata": {},
     "outputs": []
    }
   ],
   "metadata": {}
  }
 ]
}