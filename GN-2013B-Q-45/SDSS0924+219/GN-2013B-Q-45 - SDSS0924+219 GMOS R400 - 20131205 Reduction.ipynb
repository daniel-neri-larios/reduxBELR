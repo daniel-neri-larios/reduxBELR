{
 "metadata": {
  "name": "",
  "signature": "sha256:1dc1eadded353b9ffcef2759e4ed76e79b3ca9e5506f4ade8cc1f00cf5cd8569"
 },
 "nbformat": 3,
 "nbformat_minor": 0,
 "worksheets": [
  {
   "cells": [
    {
     "cell_type": "heading",
     "level": 1,
     "metadata": {},
     "source": [
      "GMOS IFU-1 Reduction for SDSS0924+219 - Night of 2013.12.05"
     ]
    },
    {
     "cell_type": "markdown",
     "metadata": {},
     "source": [
      "----\n",
      "\n",
      "**<font color=red>WARNING: Edit this notebook to reflect the observation information and the file numbers.</font>**\n",
      "\n",
      "Science Dataset:\n",
      "----------------\n",
      "<table>\n",
      "<tr><td><strong>Redshift</strong></td><td>0.020037</td></tr>\n",
      "</table>\n",
      "\n",
      "<table>\n",
      "    <tr><td> <strong>Observation UT date(s)</strong> </td> <td>2015 Jun 15</td></tr>\n",
      "    <tr><td> <strong>Data filename prefix(es)</strong> </td><td>N20150615S</td></tr>\n",
      "</table>\n",
      "<br>\n",
      "**File numbers:**\n",
      "<table>\n",
      "    <tr><td>**Central wavelength = 600nm**</td><tr>\n",
      "    <tr><td>Science</td>           <td>25-26  </td><td>(600nm, binning x=2, y=1, 900s)</td></tr>\n",
      "    <tr><td>Flat </td>             <td>24      </td><td>(600nm, binning x=2, y=1, 90s)</td></tr>\n",
      "    <tr><td>Arc </td>              <td>23      </td><td>(600nm, binning x=2, y=1, 60s)</td></tr>\n",
      "    <tr><td>**Central wavelength = 600nm**</td><tr>\n",
      "    <tr><td>Science</td>           <td>27-28  </td><td>(600nm, binning x=2, y=1, 900s)</td></tr>\n",
      "    <tr><td>Flat </td>             <td>29      </td><td>(600nm, binning x=2, y=1, 90s)</td></tr>\n",
      "    <tr><td>Arc </td>              <td>30      </td><td>(600nm, binning x=2, y=1, 60s)</td></tr>\n",
      "</table>\n",
      "\n",
      "**Twilight**\n",
      "<table>\n",
      "    <tr><td>**Central wavelength = 600nm**</td><tr>\n",
      "    <tr><td>Flat </td>             <td>158      </td><td>(600nm, binning x=2, y=1, 90s)</td></tr>\n",
      "    <tr><td>Twilight </td>         <td>207      </td><td>(600nm, binning x=2, y=1, 120s)</td></tr>\n",
      "</table>\n",
      "\n",
      "**Processed Bias**\n",
      "<table>\n",
      "    <tr><td>N20150613S0220_bias.fits</td></tr>\n",
      "</table>\n",
      "\n",
      "Standard Dataset:\n",
      "-----------------\n",
      "\n",
      "Adjust the information to match your standard star.  See the Standard Star notebook template.\n",
      "\n",
      "<table>\n",
      "<tr><td> Name: </td><td>Feige 66</td></tr>\n",
      "<tr><td> Central Wavelength: </td><td>600nm</td></tr>\n",
      "</table>\n",
      "<table>\n",
      "    <tr><td> <strong>Observation UT date</strong> </td> <td>2015 Jun 14</td></tr>\n",
      "    <tr><td> <strong>Data filename prefix</strong> </td><td>N20150614S</td></tr>\n",
      "</table>\n",
      "\n",
      "**Reduced File name:**\n",
      "<table>\n",
      "    <tr><td>Sensitivity Function (Feige 66) </td>\n",
      "        <td>feige66_600_20150411_sens.fits </td>\n",
      "        <td>(600nm, binning x=2, y=1, 600s)</td>\n",
      "    </tr>\n",
      "</table>\n",
      "\n",
      "----"
     ]
    },
    {
     "cell_type": "markdown",
     "metadata": {},
     "source": [
      "**Dependencies**:\n",
      "\n",
      "      pyfu-0.8.1\n",
      "      lacos_spec.cl\n",
      "      gscrspec.cl\n",
      "      \n",
      "(http://www.astro.yale.edu/dokkum/lacosmic/lacos_spec.cl)\n",
      "(http://www.gemini.edu/sciops/data/software/gscrspec.cl)"
     ]
    },
    {
     "cell_type": "heading",
     "level": 2,
     "metadata": {},
     "source": [
      "STEP 0: Define variables specific to this target and start parallel PyRAF session."
     ]
    },
    {
     "cell_type": "markdown",
     "metadata": {},
     "source": [
      "The directory paths are assumed to match this structure:\n",
      "\n",
      "    program_rootdir\n",
      "        - calibredux\n",
      "            - biases\n",
      "        - calibproducts\n",
      "            - standards\n",
      "                - stdname_long\n",
      "                - stdname_long\n",
      "            - biases\n",
      "        - raw\n",
      "        - stdname_long\n",
      "            - README\n",
      "            - redux\n",
      "                - night1_YYYMMdd\n",
      "        - targetname_long\n",
      "            - README\n",
      "            - redux\n",
      "                - night1_YYYYMMdd\n",
      "                - night2_YYYYMMdd\n",
      "                ...\n",
      "            - products\n",
      "                - night1_YYYYMMdd\n",
      "                - night2_YYYYMMdd\n",
      "                ...\n",
      "                - all\n",
      "                - science\n",
      "        - targetname_long\n",
      "        ...\n",
      "                "
     ]
    },
    {
     "cell_type": "heading",
     "level": 3,
     "metadata": {},
     "source": [
      "Step 0.1: Setup the variables for the Notebook."
     ]
    },
    {
     "cell_type": "code",
     "collapsed": false,
     "input": [
      "import os\n",
      "import os.path\n",
      "\n",
      "#WARNING:  Make sure that the directory structure is already in place.\n",
      "\n",
      "# TODO: Create the directory here, would be more user-friendly.\n",
      "\n",
      "# EDIT HERE - Target and standard names, and observation dates\n",
      "targetname_long = 'SDSSJ143642.64+395636.9'\n",
      "targetname_short = '143642'\n",
      "night = 'night1_20150615'\n",
      "stdname_long = 'feige66'\n",
      "\n",
      "# EDIT HERE - Directories\n",
      "program_rootdir = '/Volumes/MyRugged/research/DoubleAGN/GN-2015A-Q-50'\n",
      "\n",
      "# EDIT HERE - File numbers and central wavelengths\n",
      "observations = {\n",
      "    '600nm' : {\n",
      "        'sciroot' : 'N20150615S',\n",
      "        'sciframes' : '25-26',\n",
      "        'flatroot' : 'N20150615S',\n",
      "        'flatframes' : '24',\n",
      "        'arcroot' : 'N20150615S',\n",
      "        'arcframes' : '23',\n",
      "        },\n",
      "#    '590nm' : {\n",
      "#        'sciroot' : 'N20150615S',\n",
      "#        'sciframes' : '27-28',\n",
      "#        'flatroot' : 'N20150615S',\n",
      "#        'flatframes' : '29',\n",
      "#        'arcroot' : 'N20150615S',\n",
      "#        'arcframes' : '30'\n",
      "#        },\n",
      "}\n",
      "calibrations = {\n",
      "    'response' : {\n",
      "        '600nm' : {\n",
      "            'respfuncroot' : 'twilight1_600nm_',\n",
      "            'twiroot' : 'N20150411S',\n",
      "            'twiframes' : '207',\n",
      "            'flatroot' : 'N20150411S',\n",
      "            'flatframes' : '158',\n",
      "        }\n",
      "    },\n",
      "    'standard' : 'feige66_600_20150411_sens',\n",
      "    'bias' : 'N20150411S0226_bias.fits'\n",
      "}\n",
      "extinction = 'gmos$calib/mkoextinct.dat'\n",
      "\n",
      "logfile = targetname_short + '.log'\n",
      "database = 'database'\n",
      "\n",
      "# Automatically set directories and other variables from info above.\n",
      "raw_path = os.path.join(program_rootdir,'raw')+'/'\n",
      "redux_path = os.path.join(program_rootdir, targetname_long, 'redux')\n",
      "night_path = os.path.join(redux_path, night)\n",
      "products_path = os.path.join(program_rootdir, targetname_long, 'products')\n",
      "bias_path = os.path.join(program_rootdir, 'calibproducts', 'biases')\n",
      "std_path = os.path.join(program_rootdir, 'calibproducts', 'standards', \\\n",
      "                        stdname_long)\n",
      "\n",
      "os.chdir(night_path)\n"
     ],
     "language": "python",
     "metadata": {},
     "outputs": []
    },
    {
     "cell_type": "heading",
     "level": 3,
     "metadata": {},
     "source": [
      "Step 0.2: Load and initialize the packages."
     ]
    },
    {
     "cell_type": "markdown",
     "metadata": {},
     "source": [
      "**Launch ds9 before proceeding further.**\n",
      "\n",
      "Load the packages required for the notebook session and reset tasks to the default parameters.  (Note: this doesn't seem to be working from the Python shell.)"
     ]
    },
    {
     "cell_type": "code",
     "collapsed": false,
     "input": [
      "from pyraf import iraf\n",
      "iraf.gemini()\n",
      "iraf.gmos()\n",
      "\n",
      "iraf.unlearn(iraf.gemini, iraf.gmos, iraf.gemtools)\n",
      "\n",
      "iraf.gmos.logfile = logfile\n",
      "#iraf.gmos.database = database\n",
      "\n",
      "rawdir = raw_path\n",
      "iraf.set(stdimage='imtgmos')\n",
      "\n",
      "iraf.task(lacos_spec = '/Users/klabrie/local/iraf/lacos_spec.cl')"
     ],
     "language": "python",
     "metadata": {},
     "outputs": []
    },
    {
     "cell_type": "heading",
     "level": 3,
     "metadata": {},
     "source": [
      "Step 0.3: Get a PyRAF session ready.  "
     ]
    },
    {
     "cell_type": "markdown",
     "metadata": {},
     "source": [
      "This is needed for some interactive tasks that don't work well in the notebook. "
     ]
    },
    {
     "cell_type": "markdown",
     "metadata": {},
     "source": [
      "Open an xterm or a Terminal, then:\n",
      "\n",
      "    cd '/Volumes/MyRugged/research/DoubleAGN/GN-2015A-Q-50/SDSSJ143642.64+395636.9/redux/night1_20150615'\n",
      "    pyraf\n",
      "\n",
      "Then in the PyRAF session:\n",
      "\n",
      "    gemini\n",
      "    gmos\n",
      "    unlearn gemini\n",
      "    unlearn gmos\n",
      "    unlearn gemtools"
     ]
    },
    {
     "cell_type": "markdown",
     "metadata": {},
     "source": [
      "Get your PyRAF configured.  In the PyRAF session:\n",
      "\n",
      "    iraf.gmos.logfile = \"143642.log\"\n",
      "    #iraf.gmos.database = \"143642_database/\"\n",
      "    set rawdir = \"../../../raw/\"\n",
      "    set stdimage=imtgmos"
     ]
    },
    {
     "cell_type": "heading",
     "level": 3,
     "metadata": {},
     "source": [
      "Step 0.4: Define the pyfu package."
     ]
    },
    {
     "cell_type": "markdown",
     "metadata": {},
     "source": [
      "In PyRAF:\n",
      "\n",
      "    reset pyfu = \"/Users/klabrie/local/iraf/pyfu-0.8.1/\"\n",
      "    task pyfu.pkg = pyfu$pyfu.cl"
     ]
    },
    {
     "cell_type": "heading",
     "level": 3,
     "metadata": {},
     "source": [
      "Step 0.5:  Define the LACosmic tasks"
     ]
    },
    {
     "cell_type": "markdown",
     "metadata": {},
     "source": [
      "In PyRAF:\n",
      "\n",
      "    task lacos_spec = \"/Users/klabrie/local/iraf/lacos_spec.cl\""
     ]
    },
    {
     "cell_type": "heading",
     "level": 2,
     "metadata": {},
     "source": [
      "Step 1: Create file lists"
     ]
    },
    {
     "cell_type": "code",
     "collapsed": false,
     "input": [
      "os.chdir(night_path)\n",
      "\n",
      "iraf.delete('flat590.lis, flat600.lis, arc590.lis, arc600.lis, \\\n",
      "    sci590.lis, sci600.lis, twi590.lis, twiflat590.lis', verify='no')\n",
      "\n",
      "iraf.gemlist(observations['590nm']['flatroot'], \\\n",
      "             observations['590nm']['flatframes'], \\\n",
      "             Stdout='flat590.lis')\n",
      "iraf.gemlist(observations['600nm']['flatroot'], \\\n",
      "             observations['600nm']['flatframes'], \\\n",
      "             Stdout='flat600.lis')\n",
      "iraf.gemlist(observations['590nm']['arcroot'], \\\n",
      "             observations['590nm']['arcframes'], \\\n",
      "             Stdout='arc590.lis')\n",
      "iraf.gemlist(observations['600nm']['arcroot'], \\\n",
      "             observations['600nm']['arcframes'], \\\n",
      "             Stdout='arc600.lis')\n",
      "iraf.gemlist(observations['590nm']['sciroot'], \\\n",
      "             observations['590nm']['sciframes'], \\\n",
      "             Stdout='sci590.lis')\n",
      "iraf.gemlist(observations['600nm']['sciroot'], \\\n",
      "             observations['600nm']['sciframes'], \\\n",
      "             Stdout='sci600.lis')\n",
      "\n",
      "iraf.gemlist(calibrations['response']['590nm']['twiroot'], \\\n",
      "             calibrations['response']['590nm']['twiframes'], \\\n",
      "             Stdout='twi590.lis')\n",
      "iraf.gemlist(calibrations['response']['590nm']['flatroot'], \\\n",
      "             calibrations['response']['590nm']['flatframes'], \\\n",
      "             Stdout='twiflat590.lis')\n",
      "\n",
      "iraf.concat('flat590.lis, flat600.lis, arc590.lis, arc600.lis, \\\n",
      "    sci590.lis, sci600.lis, twi590.lis, twiflat590.lis', 'all.lis')\n",
      "\n",
      "# remove duplicates\n",
      "all_file = open('all.lis', 'r')\n",
      "all_lines = all_file.readlines()\n",
      "all_file.close()\n",
      "lines_seen = list()\n",
      "for line in all_lines:\n",
      "    if line not in lines_seen:\n",
      "        lines_seen.append(line)\n",
      "all_file = open('all.lis', 'w')\n",
      "all_file.writelines(lines_seen)\n",
      "all_file.close()\n"
     ],
     "language": "python",
     "metadata": {},
     "outputs": []
    },
    {
     "cell_type": "heading",
     "level": 2,
     "metadata": {},
     "source": [
      "Step 2: Visualy inspect all the data."
     ]
    },
    {
     "cell_type": "code",
     "collapsed": false,
     "input": [
      "all_file = open('all.lis', 'r')\n",
      "for line in all_file:\n",
      "    image = line.strip() + '[1]'\n",
      "    print image\n",
      "    iraf.gdisplay(rawdir + image, 1, fl_paste='no')\n",
      "    iraf.sleep(5)\n",
      "    \n",
      "all_file.close()"
     ],
     "language": "python",
     "metadata": {},
     "outputs": []
    },
    {
     "cell_type": "heading",
     "level": 2,
     "metadata": {},
     "source": [
      "Step 3: Copy and edit the MDF"
     ]
    },
    {
     "cell_type": "markdown",
     "metadata": {},
     "source": [
      "Edit only if necessary.  For GMOS-N data, that is usually not necessary."
     ]
    },
    {
     "cell_type": "code",
     "collapsed": false,
     "input": [
      "iraf.copy('gmos$data/gnifu_slitr_mdf.fits', '.', verbose='no')\n",
      "#tcalc ('gsifu_slitr_mdf', 'BEAM', 'if NO == 419 then -1 else BEAM')"
     ],
     "language": "python",
     "metadata": {},
     "outputs": []
    },
    {
     "cell_type": "heading",
     "level": 2,
     "metadata": {},
     "source": [
      "Step 4: Reduce GCAL Flats"
     ]
    },
    {
     "cell_type": "heading",
     "level": 3,
     "metadata": {},
     "source": [
      "Step 4.1:  Initialize the log and the database"
     ]
    },
    {
     "cell_type": "markdown",
     "metadata": {},
     "source": [
      "***If necessary*** *to start from scratch, delete the log file and the database.*"
     ]
    },
    {
     "cell_type": "code",
     "collapsed": false,
     "input": [
      "if (iraf.access(iraf.gmos.logfile)):\n",
      "    iraf.delete(iraf.gmos.logfile, verify='no')\n",
      "if (iraf.access(database)):\n",
      "    iraf.delete(database + '/*', verify='no')"
     ],
     "language": "python",
     "metadata": {},
     "outputs": []
    },
    {
     "cell_type": "heading",
     "level": 3,
     "metadata": {},
     "source": [
      "Step 4.2: Remove the scattered light from the flats"
     ]
    },
    {
     "cell_type": "markdown",
     "metadata": {},
     "source": [
      "We extract the flat to trace the fibers.  We use the outputs to find the gaps between the fiber bundles.  Then we fit a 2D curve the scattered light found in the gaps and remove it.\n",
      "\n",
      "Here is what a column plot of one of the extension looks like.  See how the flux in the gaps does not go all the way to zero.\n",
      "\n",
      "![flat_with_bkg](../screenshots/flat_with_bkg.png)\n",
      "\n",
      "After the removal of the scattered flux, it looks like this:\n",
      "\n",
      "![flat_without_bkg](../screenshots/flat_without_bkg.png)\n"
     ]
    },
    {
     "cell_type": "code",
     "collapsed": false,
     "input": [
      "iraf.imdelete('g@flat590.lis', verify='no')\n",
      "iraf.imdelete('rg@flat590.lis', verify='no')\n",
      "iraf.imdelete('erg@flat590.lis', verify='no')\n",
      "iraf.sections('blkmask_@flat590.lis', Stdout='blkmask.lis')\n",
      "iraf.delete('@blkmask.lis', verify='no')\n",
      "iraf.delete('blkmask.lis', verify='no')\n",
      "iraf.imdelete('brg@flat590.lis', verify='no')\n",
      "\n",
      "iraf.gfreduce('@flat590.lis', rawpath=raw_path, fl_extract='yes', \\\n",
      "              bias=os.path.join(bias_path, calibrations['bias']), \\\n",
      "              fl_over='yes', slits='red', mdffile='gnifu_slitr_mdf.fits', \\\n",
      "              mdfdir='./', fl_fluxcal='no', fl_gscrrej='no', fl_wavtran='no', \\\n",
      "              fl_skysub='no', fl_inter='no', fl_vardq='yes')\n",
      "\n",
      "for flat in iraf.type('flat590.lis', Stdout=1):\n",
      "    flat = flat.strip()\n",
      "    iraf.gffindblocks('rg'+flat, 'erg'+flat, 'blkmask_'+flat)\n",
      "\n",
      "for flat in iraf.type('flat590.lis', Stdout=1):\n",
      "    flat = flat.strip()\n",
      "    iraf.gfscatsub('rg'+flat, 'blkmask_'+flat, outimage='', prefix='b', \\\n",
      "                   xorder='5,5,5,5,5,5', yorder='5,5,5,5,5,5', cross='yes')\n"
     ],
     "language": "python",
     "metadata": {},
     "outputs": []
    },
    {
     "cell_type": "markdown",
     "metadata": {},
     "source": [
      "To verify that the flux in the gaps now goes to zero, you can run this loop in the PyRAF session.\n",
      "\n",
      "    for flat in iraf.type('flat590.lis', Stdout=1):\n",
      "        flat = flat.strip()\n",
      "        for i in range(6):\n",
      "            iraf.imexam('brg'+flat+'[sci,'+str(i+1)+']', 1)"
     ]
    },
    {
     "cell_type": "code",
     "collapsed": false,
     "input": [
      "iraf.imdelete('g@flat600.lis', verify='no')\n",
      "iraf.imdelete('rg@flat600.lis', verify='no')\n",
      "iraf.imdelete('erg@flat600.lis', verify='no')\n",
      "iraf.sections('blkmask_@flat600.lis', Stdout='blkmask.lis')\n",
      "iraf.delete('@blkmask.lis', verify='no')\n",
      "iraf.delete('blkmask.lis', verify='no')\n",
      "iraf.imdelete('brg@flat600.lis', verify='no')\n",
      "\n",
      "iraf.gfreduce('@flat600.lis', rawpath=raw_path, fl_extract='yes', \\\n",
      "              bias=os.path.join(bias_path, calibrations['bias']), \\\n",
      "              fl_over='yes', slits='red', mdffile='gnifu_slitr_mdf.fits', \\\n",
      "              mdfdir='./', fl_fluxcal='no', fl_gscrrej='no', fl_wavtran='no', \\\n",
      "              fl_skysub='no', fl_inter='no', fl_vardq='yes')\n",
      "\n",
      "for flat in iraf.type('flat600.lis', Stdout=1):\n",
      "    flat = flat.strip()\n",
      "    iraf.gffindblocks('rg'+flat, 'erg'+flat, 'blkmask_'+flat)\n",
      "\n",
      "for flat in iraf.type('flat600.lis', Stdout=1):\n",
      "    flat = flat.strip()\n",
      "    iraf.gfscatsub('rg'+flat, 'blkmask_'+flat, outimage='', prefix='b', \\\n",
      "                   xorder='5,5,5,7,5,5', yorder='5,5,5,7,5,5', cross='yes')\n"
     ],
     "language": "python",
     "metadata": {},
     "outputs": []
    },
    {
     "cell_type": "markdown",
     "metadata": {},
     "source": [
      "To verify that the flux in the gaps now goes to zero, you can run this loop in the PyRAF session.\n",
      "\n",
      "    for flat in iraf.type('flat600.lis', Stdout=1):\n",
      "        flat = flat.strip()\n",
      "        for i in range(6):\n",
      "            iraf.imexam('brg'+flat+'[sci,'+str(i+1)+']', 1)"
     ]
    },
    {
     "cell_type": "heading",
     "level": 3,
     "metadata": {},
     "source": [
      "Step 4.3: Extract the flat"
     ]
    },
    {
     "cell_type": "markdown",
     "metadata": {},
     "source": [
      "We extract the flat from the background corrected flat produced in the previous step."
     ]
    },
    {
     "cell_type": "code",
     "collapsed": false,
     "input": [
      "iraf.imdelete('ebrg@flat590.lis', verify='no')\n",
      "\n",
      "iraf.gfreduce('brg@flat590.lis', fl_extract='yes', fl_addmdf='no', \\\n",
      "              fl_bias='no', fl_over='no', fl_trim='no', slits='red', \\\n",
      "              mdffile='gnifu_slitr_mdf.fits', mdfdir='./', fl_fluxcal='no', \\\n",
      "              fl_gscrrej='no', fl_wavtran='no', fl_skysub='no', \\\n",
      "              fl_inter='no', fl_vardq='yes')"
     ],
     "language": "python",
     "metadata": {},
     "outputs": []
    },
    {
     "cell_type": "code",
     "collapsed": false,
     "input": [
      "iraf.imdelete('ebrg@flat600.lis', verify='no')\n",
      "\n",
      "iraf.gfreduce('brg@flat600.lis', fl_extract='yes', fl_addmdf='no', \\\n",
      "              fl_bias='no', fl_over='no', fl_trim='no', slits='red', \\\n",
      "              mdffile='gnifu_slitr_mdf.fits', mdfdir='./', fl_fluxcal='no', \\\n",
      "              fl_gscrrej='no', fl_wavtran='no', fl_skysub='no', \\\n",
      "              fl_inter='no', fl_vardq='yes')"
     ],
     "language": "python",
     "metadata": {},
     "outputs": []
    },
    {
     "cell_type": "markdown",
     "metadata": {},
     "source": [
      "The extracted flat for a fiber\n",
      "should look like this:\n",
      "\n",
      "![flat_extracted](../screenshots/flat_extracted.png)\n",
      "\n",
      "Use gfdisplay to verify.  Hit `<space>` to plot the flat for the lense under the cursor."
     ]
    },
    {
     "cell_type": "code",
     "collapsed": false,
     "input": [
      "for flat in iraf.type('flat590.lis', Stdout=1):\n",
      "    flat = flat.strip()\n",
      "    iraf.gfdisplay('ebrg'+flat, version='1')"
     ],
     "language": "python",
     "metadata": {},
     "outputs": []
    },
    {
     "cell_type": "code",
     "collapsed": false,
     "input": [
      "for flat in iraf.type('flat600.lis', Stdout=1):\n",
      "    flat = flat.strip()\n",
      "    iraf.gfdisplay('ebrg'+flat, version='1')"
     ],
     "language": "python",
     "metadata": {},
     "outputs": []
    },
    {
     "cell_type": "heading",
     "level": 2,
     "metadata": {},
     "source": [
      "Step 5:  Reduce the Twilight Flat"
     ]
    },
    {
     "cell_type": "markdown",
     "metadata": {},
     "source": [
      "If more than one grating settings has been observed, it is quite possible that  only one setting has a twilight flat.  I have been told that the response curve calculated for one setting can be applied to the other as long as the difference in central wavelength is not too large, eg. ~ 10 nm.\n",
      "\n",
      "For this target, only the 590nm setting has a twilight flat.\n",
      "\n",
      "The same procedure as before is used to remove the scattered light."
     ]
    },
    {
     "cell_type": "heading",
     "level": 3,
     "metadata": {},
     "source": [
      "Step 5.1: Remove the scattered light from the flats"
     ]
    },
    {
     "cell_type": "markdown",
     "metadata": {},
     "source": [
      "We extract the flat to trace the fibers.  We use the outputs to find the gaps between the fiber bundles.  Then we fit a 2D curve the scattered light found in the gaps and remove it."
     ]
    },
    {
     "cell_type": "code",
     "collapsed": false,
     "input": [
      "iraf.imdelete('g@twi590.lis', verify='no')\n",
      "iraf.imdelete('rg@twi590.lis', verify='no')\n",
      "iraf.imdelete('erg@twi590.lis', verify='no')\n",
      "iraf.sections('blkmask_@twi590.lis', Stdout='blkmask.lis')\n",
      "iraf.delete('@blkmask.lis', verify='no')\n",
      "iraf.imdelete('brg@twi590.lis', verify='no')\n",
      "\n",
      "iraf.gfreduce('@twi590.lis', rawpath=raw_path, fl_extract='yes', \\\n",
      "              bias=os.path.join(bias_path, calibrations['bias']), \\\n",
      "              fl_over='yes', slits='red', mdffile='gnifu_slitr_mdf.fits', \\\n",
      "              mdfdir='./', fl_fluxcal='no', fl_gscrrej='no', fl_wavtran='no', \\\n",
      "              fl_skysub='no', fl_inter='no', fl_vardq='yes')\n",
      "\n",
      "for twilight in iraf.type('twi590.lis', Stdout=1):\n",
      "    twilight = twilight.strip()\n",
      "    iraf.gffindblocks('rg'+twilight, 'erg'+twilight, 'blkmask_'+twilight)\n",
      "\n",
      "for twilight in iraf.type('twi590.lis', Stdout=1):\n",
      "    twilight = twilight.strip()\n",
      "    iraf.gfscatsub('rg'+twilight, 'blkmask_'+twilight, outimage='', prefix='b', \\\n",
      "                   xorder='5,5,5,7,5,7', yorder='5,5,5,7,5,7', cross='yes')\n"
     ],
     "language": "python",
     "metadata": {},
     "outputs": []
    },
    {
     "cell_type": "markdown",
     "metadata": {},
     "source": [
      "To verify that the flux in the gaps now goes to zero, you can run this loop in the PyRAF session.\n",
      "\n",
      "    for flat in iraf.type('twi590.lis', Stdout=1):\n",
      "        flat = flat.strip()\n",
      "        for i in range(6):\n",
      "            iraf.imexam('brg'+flat+'[sci,'+str(i+1)+']', 1)"
     ]
    },
    {
     "cell_type": "heading",
     "level": 3,
     "metadata": {},
     "source": [
      "Step 5.2: Extract the flat"
     ]
    },
    {
     "cell_type": "markdown",
     "metadata": {},
     "source": [
      "We extract the flat from the background corrected flat produced in the previous step."
     ]
    },
    {
     "cell_type": "code",
     "collapsed": false,
     "input": [
      "iraf.imdelete('ebrg@twi590.lis', verify='no')\n",
      "\n",
      "iraf.gfreduce('brg@twi590.lis', fl_extract='yes', fl_addmdf='no', \\\n",
      "              fl_bias='no', fl_over='no', fl_trim='no', slits='red', \\\n",
      "              mdffile='gnifu_slitr_mdf.fits', mdfdir='./', fl_fluxcal='no', \\\n",
      "              fl_gscrrej='no', fl_wavtran='no', fl_skysub='no', \\\n",
      "              fl_inter='no', fl_vardq='yes')"
     ],
     "language": "python",
     "metadata": {},
     "outputs": []
    },
    {
     "cell_type": "markdown",
     "metadata": {},
     "source": [
      "The extracted flat for a lense should look like this:\n",
      "\n",
      "![twilight_extracted](../screenshots/twilight_extracted.png)\n",
      "\n",
      "Use gfdisplay to verify.  Hit `<space>` to plot the flat for the lense under the cursor."
     ]
    },
    {
     "cell_type": "code",
     "collapsed": false,
     "input": [
      "for twilight in iraf.type('twi590.lis', Stdout=1):\n",
      "    twilight = twilight.strip()\n",
      "    iraf.gfdisplay('ebrg'+twilight, version='1')"
     ],
     "language": "python",
     "metadata": {},
     "outputs": []
    },
    {
     "cell_type": "heading",
     "level": 2,
     "metadata": {},
     "source": [
      "Step 6: Calculate the Response Curve"
     ]
    },
    {
     "cell_type": "markdown",
     "metadata": {},
     "source": [
      "If a twilight flat was obtained only for one central wavelength setting, only one response curve can be calculated.  If the delta wavelength is small enough, say about 10nm, that response curve can be used for the other central wavelenght settings.\n",
      "\n",
      "The response curve is calculated from a GCAL flat and a twilight flat.\n",
      "\n",
      "Below we used only the first twilight flat.  (There's usually only one anyway.)"
     ]
    },
    {
     "cell_type": "code",
     "collapsed": false,
     "input": [
      "resproot = calibrations['response']['590nm']['respfuncroot']\n",
      "twilight = iraf.head('twi590.lis', nlines=1, Stdout=1)[0].strip()\n",
      "\n",
      "for flat in iraf.type('flat590.lis', Stdout=1):\n",
      "    flat = flat.strip()\n",
      "    iraf.imdelete(resproot+flat+'_resp', verify='no')\n",
      "\n",
      "    iraf.gfresponse('ebrg'+flat, outimage=resproot+flat+'_resp', \\\n",
      "                    sky='ebrg'+twilight, order=95, func='spline3', \\\n",
      "                    sample='*', fl_fit='yes', fl_inter='no')"
     ],
     "language": "python",
     "metadata": {},
     "outputs": []
    },
    {
     "cell_type": "markdown",
     "metadata": {},
     "source": [
      "The response curve will vary widely between the fibers.  Fiber \\#162 at position 500, 500, has this profile.\n",
      "\n",
      "![response_162.png](../screenshots/response_162.png)\n"
     ]
    },
    {
     "cell_type": "code",
     "collapsed": false,
     "input": [
      "for flat in iraf.type('flat590.lis', Stdout=1):\n",
      "    flat = flat.strip()\n",
      "    iraf.gfdisplay(resproot+flat+'_resp', version='1')"
     ],
     "language": "python",
     "metadata": {},
     "outputs": []
    },
    {
     "cell_type": "heading",
     "level": 2,
     "metadata": {},
     "source": [
      "Step 7: Reduce arcs and calculate wavelength solutions"
     ]
    },
    {
     "cell_type": "markdown",
     "metadata": {},
     "source": [
      "The arcs are taken in fast read mode.  Appropriate biases are rarely available for that mode.  Therefore, only the overscan correction is not, no bias correction."
     ]
    },
    {
     "cell_type": "heading",
     "level": 3,
     "metadata": {},
     "source": [
      "Step 7.1: Reduce the arcs"
     ]
    },
    {
     "cell_type": "code",
     "collapsed": false,
     "input": [
      "iraf.imdelete('g@arc590.lis', verify='no')\n",
      "iraf.imdelete('rg@arc590.lis', verify='no')\n",
      "iraf.imdelete('erg@arc590.lis', verify='no')\n",
      "\n",
      "flatref = iraf.head('flat590.lis', nlines=1, Stdout=1)[0].strip()\n",
      "for arc in iraf.type('arc590.lis', Stdout=1):\n",
      "    arc = arc.strip()\n",
      "    iraf.gfreduce(arc, rawpath=raw_path, fl_extract='yes', recenter='no', \\\n",
      "                  trace='no', reference='ebrg'+flatref, fl_bias='no', \\\n",
      "                  fl_over='yes', slits='red', mdffile='gnifu_slitr_mdf.fits', \\\n",
      "                  mdfdir='./', fl_fluxcal='no', fl_gscrrej='no', \\\n",
      "                  fl_wavtran='no', fl_skysub='no', fl_inter='no')"
     ],
     "language": "python",
     "metadata": {},
     "outputs": []
    },
    {
     "cell_type": "code",
     "collapsed": false,
     "input": [
      "iraf.imdelete('g@arc600.lis', verify='no')\n",
      "iraf.imdelete('rg@arc600.lis', verify='no')\n",
      "iraf.imdelete('erg@arc600.lis', verify='no')\n",
      "\n",
      "flatref = iraf.head('flat600.lis', nlines=1, Stdout=1)[0].strip()\n",
      "for arc in iraf.type('arc600.lis', Stdout=1):\n",
      "    arc = arc.strip()\n",
      "    iraf.gfreduce(arc, rawpath=raw_path, fl_extract='yes', recenter='no', \\\n",
      "                  trace='no', reference='ebrg'+flatref, fl_bias='no', \\\n",
      "                  fl_over='yes', slits='red', mdffile='gnifu_slitr_mdf.fits', \\\n",
      "                  mdfdir='./', fl_fluxcal='no', fl_gscrrej='no', \\\n",
      "                  fl_wavtran='no', fl_skysub='no', fl_inter='no')"
     ],
     "language": "python",
     "metadata": {},
     "outputs": []
    },
    {
     "cell_type": "heading",
     "level": 3,
     "metadata": {},
     "source": [
      "Step 7.2: Calculate wavelength solutions"
     ]
    },
    {
     "cell_type": "markdown",
     "metadata": {},
     "source": [
      "James Turner recommens keeping only the lines above 2,000 ADUs."
     ]
    },
    {
     "cell_type": "code",
     "collapsed": false,
     "input": [
      "iraf.reidentify.answer='NO'\n",
      "\n",
      "for arc in iraf.type('arc590.lis', Stdout=1):\n",
      "    arc = arc.strip()\n",
      "    iraf.gswavelength('erg'+arc, fl_inter='yes', nlost=10, ntarget=15, \\\n",
      "                      coordlis='gmos$data/GCALcuar.dat', aiddebug='s', \\\n",
      "                      threshold=25, section='first line')"
     ],
     "language": "python",
     "metadata": {},
     "outputs": []
    },
    {
     "cell_type": "code",
     "collapsed": false,
     "input": [
      "iraf.reidentify.answer='NO'\n",
      "\n",
      "for arc in iraf.type('arc600.lis', Stdout=1):\n",
      "    arc = arc.strip()\n",
      "    iraf.gswavelength('erg'+arc, fl_inter='yes', nlost=10, ntarget=15, \\\n",
      "                      coordlis='gmos$data/GCALcuar.dat', aiddebug='s', \\\n",
      "                      threshold=25, section='first line')"
     ],
     "language": "python",
     "metadata": {},
     "outputs": []
    },
    {
     "cell_type": "heading",
     "level": 2,
     "metadata": {},
     "source": [
      "Step 8: Pre-processing of Science Frames"
     ]
    },
    {
     "cell_type": "code",
     "collapsed": false,
     "input": [
      "iraf.imdelete('g@sci590.lis', verify='no')\n",
      "iraf.imdelete('rg@sci590.lis', verify='no')\n",
      "\n",
      "iraf.gfreduce('@sci590.lis', rawpath=raw_path, fl_extract='no', \\\n",
      "              bias=os.path.join(bias_path, calibrations['bias']), \\\n",
      "              fl_over='yes', slits='red', mdffile='gnifu_slitr_mdf.fits', \\\n",
      "              mdfdir='./', fl_fluxcal='no', fl_gscrrej='no', fl_wavtran='no', \\\n",
      "              fl_skysub='no', fl_inter='no', fl_vardq='yes')"
     ],
     "language": "python",
     "metadata": {},
     "outputs": []
    },
    {
     "cell_type": "code",
     "collapsed": false,
     "input": [
      "iraf.imdelete('g@sci600.lis', verify='no')\n",
      "iraf.imdelete('rg@sci600.lis', verify='no')\n",
      "\n",
      "iraf.gfreduce('@sci600.lis', rawpath=raw_path, fl_extract='no', \\\n",
      "              bias=os.path.join(bias_path, calibrations['bias']), \\\n",
      "              fl_over='yes', slits='red', mdffile='gnifu_slitr_mdf.fits', \\\n",
      "              mdfdir='./', fl_fluxcal='no', fl_gscrrej='no', fl_wavtran='no', \\\n",
      "              fl_skysub='no', fl_inter='no', fl_vardq='yes')"
     ],
     "language": "python",
     "metadata": {},
     "outputs": []
    },
    {
     "cell_type": "markdown",
     "metadata": {},
     "source": [
      "Note:  The signal is weak and it is possible that the scattered light problem is not much of an issue and correcting for it might just increase the noise.  To check, do a column plot:"
     ]
    },
    {
     "cell_type": "code",
     "collapsed": false,
     "input": [
      "checksci = iraf.head('sci590.lis', nlines=1, Stdout=1)[0].strip()\n",
      "checksci = 'rg'+checksci\n",
      "iraf.imexam(checksci+'[5]', 1)"
     ],
     "language": "python",
     "metadata": {},
     "outputs": []
    },
    {
     "cell_type": "markdown",
     "metadata": {},
     "source": [
      "Well, I think that there might be scattered light at a significant level compared to the overall flux.  Let's correct it then.   We use the blocks already found for the flats; there isn't enough signal to find them from the science spectra."
     ]
    },
    {
     "cell_type": "code",
     "collapsed": false,
     "input": [
      "iraf.imdelete('brg@sci590.lis', verify='no')\n",
      "\n",
      "flatref = iraf.head('flat590.lis', nlines=1, Stdout=1)[0].strip()\n",
      "\n",
      "for sci in iraf.type('sci590.lis', Stdout=1):\n",
      "    sci = sci.strip()\n",
      "    iraf.gfscatsub('rg'+sci, 'blkmask_'+flatref, outimage='', prefix='b', \\\n",
      "                   xorder='5,5,5,7,5,5', yorder='5,5,5,7,5,5', cross='yes')\n"
     ],
     "language": "python",
     "metadata": {},
     "outputs": []
    },
    {
     "cell_type": "code",
     "collapsed": false,
     "input": [
      "iraf.imdelete('brg@sci600.lis', verify='no')\n",
      "\n",
      "flatref = iraf.head('flat600.lis', nlines=1, Stdout=1)[0].strip()\n",
      "\n",
      "for sci in iraf.type('sci600.lis', Stdout=1):\n",
      "    sci = sci.strip()\n",
      "    iraf.gfscatsub('rg'+sci, 'blkmask_'+flatref, outimage='', prefix='b', \\\n",
      "                   xorder='5,5,5,7,5,5', yorder='5,5,5,7,5,5', cross='yes')\n"
     ],
     "language": "python",
     "metadata": {},
     "outputs": []
    },
    {
     "cell_type": "markdown",
     "metadata": {},
     "source": [
      "To verify that the flux in the gaps now goes to zero, you can run this loop in the PyRAF session.\n",
      "\n",
      "    for sci in iraf.type('sci590.lis', Stdout=1):\n",
      "        sci = sci.strip()\n",
      "        for i in range(6):\n",
      "            iraf.imexam('brg'+sci+'[sci,'+str(i+1)+']', 1)"
     ]
    },
    {
     "cell_type": "markdown",
     "metadata": {},
     "source": [
      "To verify that the flux in the gaps now goes to zero, you can run this loop in the PyRAF session.\n",
      "\n",
      "    for sci in iraf.type('sci600.lis', Stdout=1):\n",
      "        sci = sci.strip()\n",
      "        for i in range(6):\n",
      "            iraf.imexam('brg'+sci+'[sci,'+str(i+1)+']', 1)"
     ]
    },
    {
     "cell_type": "heading",
     "level": 2,
     "metadata": {},
     "source": [
      "Step 9: Cosmic Ray Rejection with LACosmic"
     ]
    },
    {
     "cell_type": "markdown",
     "metadata": {},
     "source": [
      "WARNING: This is slow!"
     ]
    },
    {
     "cell_type": "code",
     "collapsed": false,
     "input": [
      "iraf.imdelete('xbrg@sci590.lis', verify='no')\n",
      "\n",
      "for sci in iraf.type('sci590.lis', Stdout=1):\n",
      "    iraf.gemcrspec('brg'+sci, 'xbrg'+sci, logfile='crrej.log', key_gain='GAIN', \\\n",
      "                  key_ron='RDNOISE', xorder=9, yorder=-1, sigclip=4.5, \\\n",
      "                  sigfrac=0.5, objlim=1., niter=4, verbose='yes', \\\n",
      "                  fl_vardq='yes')"
     ],
     "language": "python",
     "metadata": {},
     "outputs": []
    },
    {
     "cell_type": "code",
     "collapsed": false,
     "input": [
      "iraf.imdelete('xbrg@sci600.lis', verify='no')\n",
      "\n",
      "for sci in iraf.type('sci600.lis', Stdout=1):\n",
      "    iraf.gemcrspec('brg'+sci, 'xbrg'+sci, logfile='crrej.log', key_gain='GAIN', \\\n",
      "                  key_ron='RDNOISE', xorder=9, yorder=-1, sigclip=4.5, \\\n",
      "                  sigfrac=0.5, objlim=1., niter=4, verbose='yes', \\\n",
      "                  fl_vardq='yes')"
     ],
     "language": "python",
     "metadata": {},
     "outputs": []
    },
    {
     "cell_type": "heading",
     "level": 2,
     "metadata": {},
     "source": [
      "Step 10:  Extract Science Spectra"
     ]
    },
    {
     "cell_type": "markdown",
     "metadata": {},
     "source": [
      "The response curve to use should match the nearest flat to the science.  In this case, there's only one flat per wavelength setting.  For each setting the sequence is:  sci, sci, flat, arc.\n",
      "\n",
      "The loop below would not quite work for sequences like: flat, sci, ... sci, flat, where one wants to associate the first flat with the first half of the sci frames, and the second flat with the second half of the sci frames."
     ]
    },
    {
     "cell_type": "code",
     "collapsed": false,
     "input": [
      "iraf.imdelete('exbrg@sci590.lis', verify='no')\n",
      "\n",
      "resproot = calibrations['response']['590nm']['respfuncroot']\n",
      "respflat = iraf.head('flat590.lis', nlines=1, Stdout=1)[0].strip()\n",
      "flatname = respflat\n",
      "response = resproot + flatname + '_resp'\n",
      "reference = 'ebrg'+flatname\n",
      "\n",
      "for sci in iraf.type('sci590.lis', Stdout=1):\n",
      "    sci = sci.strip()\n",
      "    iraf.gfextract ('xbrg'+sci, response=response, recenter='no', trace='no', \\\n",
      "                    reference=reference, weights='none', fl_vardq='yes')"
     ],
     "language": "python",
     "metadata": {},
     "outputs": []
    },
    {
     "cell_type": "code",
     "collapsed": false,
     "input": [
      "iraf.imdelete('exbrg@sci600.lis', verify='no')\n",
      "\n",
      "resproot = calibrations['response']['590nm']['respfuncroot']\n",
      "respflat = iraf.head('flat590.lis', nlines=1, Stdout=1)[0].strip()\n",
      "flatname = iraf.head('flat600.lis', nlines=1, Stdout=1)[0].strip()\n",
      "response = resproot + respflat + '_resp'\n",
      "reference = 'ebrg'+flatname\n",
      "\n",
      "for sci in iraf.type('sci600.lis', Stdout=1):\n",
      "    sci = sci.strip()\n",
      "    iraf.gfextract ('xbrg'+sci, response=response, recenter='no', trace='no', \\\n",
      "                    reference=reference, weights='none', fl_vardq='yes')"
     ],
     "language": "python",
     "metadata": {},
     "outputs": []
    },
    {
     "cell_type": "markdown",
     "metadata": {},
     "source": [
      "Check results:"
     ]
    },
    {
     "cell_type": "code",
     "collapsed": false,
     "input": [
      "for sci in iraf.type('sci590.lis', Stdout=1):\n",
      "    sci = sci.strip()\n",
      "    iraf.gfdisplay('exbrg'+sci, version='1')"
     ],
     "language": "python",
     "metadata": {},
     "outputs": []
    },
    {
     "cell_type": "markdown",
     "metadata": {},
     "source": [
      "Check results:"
     ]
    },
    {
     "cell_type": "code",
     "collapsed": false,
     "input": [
      "for sci in iraf.type('sci600.lis', Stdout=1):\n",
      "    sci = sci.strip()\n",
      "    iraf.gfdisplay('exbrg'+sci, version='1')"
     ],
     "language": "python",
     "metadata": {},
     "outputs": []
    },
    {
     "cell_type": "heading",
     "level": 2,
     "metadata": {},
     "source": [
      "Step 11: Secondary Bad Pixel Fix"
     ]
    },
    {
     "cell_type": "markdown",
     "metadata": {},
     "source": [
      "After the extraction there might be pixels that are so obviously bad (dozens and dozens of sigma above the rest) that it makes sense to fix them.  They are normally very localized."
     ]
    },
    {
     "cell_type": "heading",
     "level": 3,
     "metadata": {},
     "source": [
      "Step 11.1:  Setting an appropriate threshold"
     ]
    },
    {
     "cell_type": "markdown",
     "metadata": {},
     "source": [
      "Inpect the science files with display, adjust z2 to easily spot the off-the-wall pixels, and define a safe threshold to use in imreplace during the mask creation."
     ]
    },
    {
     "cell_type": "code",
     "collapsed": false,
     "input": [
      "for sci in iraf.type('sci590.lis', Stdout=1):\n",
      "    iraf.display('exbrg'+sci+'[sci,1]', 1, z1=0, z2=1000, \\\n",
      "                 zscale='no', zrange='no')\n",
      "    iraf.imexam()"
     ],
     "language": "python",
     "metadata": {},
     "outputs": []
    },
    {
     "cell_type": "code",
     "collapsed": false,
     "input": [
      "for sci in iraf.type('sci600.lis', Stdout=1):\n",
      "    iraf.display('exbrg'+sci+'[sci,1]', 1, z1=0, z2=1000, \\\n",
      "                 zscale='no', zrange='no')\n",
      "    iraf.imexam()"
     ],
     "language": "python",
     "metadata": {},
     "outputs": []
    },
    {
     "cell_type": "code",
     "collapsed": false,
     "input": [
      "scilist = iraf.type('sci590.lis', Stdout=1)\n",
      "scilist.extend(iraf.type('sci600.lis', Stdout=1))\n",
      "#strip trailing spaces\n",
      "scilist = [s.strip() for s in scilist]\n",
      "\n",
      "thresholds = [1000,1000,1000,1000]\n",
      "\n",
      "scithresholds = zip(scilist, thresholds)"
     ],
     "language": "python",
     "metadata": {},
     "outputs": []
    },
    {
     "cell_type": "heading",
     "level": 3,
     "metadata": {},
     "source": [
      "Step 11.2:  Create the masks"
     ]
    },
    {
     "cell_type": "code",
     "collapsed": false,
     "input": [
      "for (sci, thresh) in scithresholds:\n",
      "    iraf.imcopy('exbrg'+sci+'[sci,1]', 'mask'+sci)\n",
      "    iraf.imreplace('mask'+sci, 0, upper=thresh, lower='INDEF')\n",
      "    iraf.imreplace('mask'+sci, 1, lower=thresh, upper='INDEF')\n",
      "    iraf.imcopy('mask'+sci, 'mask'+sci+'.pl')\n",
      "\n",
      "iraf.imdelete('mask*.fits', verify='no')"
     ],
     "language": "python",
     "metadata": {},
     "outputs": []
    },
    {
     "cell_type": "heading",
     "level": 3,
     "metadata": {},
     "source": [
      "Step 11.3: Fix the pixels"
     ]
    },
    {
     "cell_type": "code",
     "collapsed": false,
     "input": [
      "for sci in scilist:\n",
      "    iraf.copy('exbrg'+sci+'.fits', 'tmp'+sci+'.fits')\n",
      "    iraf.proto.fixpix('tmp'+sci+'[sci,1]', 'mask'+sci+'.pl')\n",
      "    iraf.copy('tmp'+sci+'.fits', 'xexbrg'+sci+'.fits')\n",
      "\n",
      "iraf.imdelete('tmp*.fits')   \n",
      "iraf.delete('mask*.pl')"
     ],
     "language": "python",
     "metadata": {},
     "outputs": []
    },
    {
     "cell_type": "heading",
     "level": 2,
     "metadata": {},
     "source": [
      "Step 12: Transform the Spectra"
     ]
    },
    {
     "cell_type": "markdown",
     "metadata": {},
     "source": [
      "Note: For these observations, there's just one arc per wavelength setting.\n",
      "\n",
      "The routine pyfmosaic that we will use later does not deal well with the cubes when the wavelength axes do not match in dispersion.  Therefore, we will resample along the wavelength axis here, through the gftransform call.  \n",
      "\n",
      "The parameter `dw` needs to be set to something appropriate.  Unfortunately, the only way to figure that out (or rather the easiest way I know of) is to do the transform without `dw` set, and check what the CD1_1 keyword in the [SCI,1] extension gets set to.  Then use that value (3 significant digits will do) to re-do the transform with `dw` set to that value.\n",
      "\n",
      "It looks like it's okay to just do the exploratory transform on one image.  Saves time.  Also, no need for the VAR and DQ plane for that.   If you have any doubt, check a few images.  \n",
      "\n",
      "(NOTE: for this program since everything was done first with the `dw` I was able to verify that I just need to use one image.  In fact, the value is always either 0.926 or 0.927 or there about, even for data taken months apart.)"
     ]
    },
    {
     "cell_type": "code",
     "collapsed": false,
     "input": [
      "test = iraf.head('sci590.lis', nlines=1, Stdout=1)[0].strip()\n",
      "iraf.imdelete('txexbrg'+test, verify='no')\n",
      "\n",
      "arc = iraf.head('arc590.lis', nlines=1, Stdout=1)[0].strip()\n",
      "iraf.gftransform('xexbrg'+test, wavtraname='erg'+arc, fl_vardq='no')\n",
      "dw = float(iraf.hselect('txexbrg'+test+'[sci,1]', 'CD1_1', 'yes', \\\n",
      "                  Stdout=1)[0].strip())\n",
      "dw = round(dw, 3)\n",
      "print dw"
     ],
     "language": "python",
     "metadata": {},
     "outputs": []
    },
    {
     "cell_type": "code",
     "collapsed": false,
     "input": [
      "iraf.imdelete('txexbrg@sci590.lis', verify='no')\n",
      "\n",
      "arc = iraf.head('arc590.lis', nlines=1, Stdout=1)[0].strip()\n",
      "for sci in iraf.type('sci590.lis', Stdout=1):\n",
      "    sci = sci.strip()\n",
      "    iraf.gftransform('xexbrg'+sci, wavtraname='erg'+arc, fl_vardq='yes', \\\n",
      "                     dw=dw)"
     ],
     "language": "python",
     "metadata": {},
     "outputs": []
    },
    {
     "cell_type": "code",
     "collapsed": false,
     "input": [
      "iraf.imdelete('txexbrg@sci600.lis', verify='no')\n",
      "\n",
      "arc = iraf.head('arc600.lis', nlines=1, Stdout=1)[0].strip()\n",
      "for sci in iraf.type('sci600.lis', Stdout=1):\n",
      "    sci = sci.strip()\n",
      "    iraf.gftransform('xexbrg'+sci, wavtraname='erg'+arc, fl_vardq='yes', \\\n",
      "                     dw=dw)"
     ],
     "language": "python",
     "metadata": {},
     "outputs": []
    },
    {
     "cell_type": "markdown",
     "metadata": {},
     "source": [
      "Check results:"
     ]
    },
    {
     "cell_type": "code",
     "collapsed": false,
     "input": [
      "for sci in iraf.type('sci590.lis', Stdout=1):\n",
      "    sci = sci.strip()\n",
      "    iraf.display('txexbrg'+sci+'[sci,1]', 1)\n",
      "    iraf.gfdisplay('txexbrg'+sci, version='1')"
     ],
     "language": "python",
     "metadata": {},
     "outputs": []
    },
    {
     "cell_type": "markdown",
     "metadata": {},
     "source": [
      "Check results:"
     ]
    },
    {
     "cell_type": "code",
     "collapsed": false,
     "input": [
      "for sci in iraf.type('sci600.lis', Stdout=1):\n",
      "    sci = sci.strip()\n",
      "    iraf.display('txexbrg'+sci+'[sci,1]', 1)\n",
      "    iraf.gfdisplay('txexbrg'+sci, version='1')"
     ],
     "language": "python",
     "metadata": {},
     "outputs": []
    },
    {
     "cell_type": "heading",
     "level": 2,
     "metadata": {},
     "source": [
      "Step 13: Sky Subtraction"
     ]
    },
    {
     "cell_type": "code",
     "collapsed": false,
     "input": [
      "iraf.imdelete('stxexbrg@sci590.lis', verify='no')\n",
      "\n",
      "for sci in iraf.type('sci590.lis', Stdout=1):\n",
      "    sci = sci.strip()\n",
      "    iraf.gfskysub('txexbrg'+sci, fl_inter='no')"
     ],
     "language": "python",
     "metadata": {},
     "outputs": []
    },
    {
     "cell_type": "code",
     "collapsed": false,
     "input": [
      "iraf.imdelete('stxexbrg@sci600.lis', verify='no')\n",
      "\n",
      "for sci in iraf.type('sci600.lis', Stdout=1):\n",
      "    sci = sci.strip()\n",
      "    iraf.gfskysub('txexbrg'+sci, fl_inter='no')"
     ],
     "language": "python",
     "metadata": {},
     "outputs": []
    },
    {
     "cell_type": "markdown",
     "metadata": {},
     "source": [
      "Check results:"
     ]
    },
    {
     "cell_type": "code",
     "collapsed": false,
     "input": [
      "for sci in iraf.type('sci590.lis', Stdout=1):\n",
      "    sci = sci.strip()\n",
      "    iraf.display('stxexbrg'+sci+'[sci,1]', 1)\n",
      "    iraf.gfdisplay('stxexbrg'+sci, version='1')"
     ],
     "language": "python",
     "metadata": {},
     "outputs": []
    },
    {
     "cell_type": "markdown",
     "metadata": {},
     "source": [
      "Check results:"
     ]
    },
    {
     "cell_type": "code",
     "collapsed": false,
     "input": [
      "for sci in iraf.type('sci600.lis', Stdout=1):\n",
      "    sci = sci.strip()\n",
      "    iraf.display('stxexbrg'+sci+'[sci,1]', 1)\n",
      "    iraf.gfdisplay('stxexbrg'+sci, version='1')"
     ],
     "language": "python",
     "metadata": {},
     "outputs": []
    },
    {
     "cell_type": "heading",
     "level": 2,
     "metadata": {},
     "source": [
      "Step 14: Spectrophotometric Flux Calibration"
     ]
    },
    {
     "cell_type": "code",
     "collapsed": false,
     "input": [
      "iraf.imdelete('cstxexbrg@sci590.lis', verify='no')\n",
      "\n",
      "sensfile = os.path.join(program_rootdir, 'calibproducts', 'standards',\n",
      "                        stdname_long, calibrations['standard'])\n",
      "for sci in iraf.type('sci590.lis', Stdout=1):\n",
      "    iraf.gscalibrate('stxexbrg'+sci, obs='Gemini-North', \\\n",
      "                     sfunction=sensfile, extinction=extinction, \\\n",
      "                     fl_ext='yes', fl_vardq='yes')"
     ],
     "language": "python",
     "metadata": {},
     "outputs": []
    },
    {
     "cell_type": "code",
     "collapsed": false,
     "input": [
      "iraf.imdelete('cstxexbrg@sci600.lis', verify='no')\n",
      "\n",
      "sensfile = os.path.join(program_rootdir, 'calibproducts', 'standards',\n",
      "                        stdname_long, calibrations['standard'])\n",
      "for sci in iraf.type('sci600.lis', Stdout=1):\n",
      "    iraf.gscalibrate('stxexbrg'+sci, obs='Gemini-North', \\\n",
      "                     sfunction=sensfile, extinction=extinction, \\\n",
      "                     fl_ext='yes', fl_vardq='yes')"
     ],
     "language": "python",
     "metadata": {},
     "outputs": []
    },
    {
     "cell_type": "code",
     "collapsed": false,
     "input": [
      "for sci in iraf.type('sci590.lis', Stdout=1):\n",
      "    sci = sci.strip()\n",
      "    iraf.gfdisplay('cstxexbrg'+sci, version='1')"
     ],
     "language": "python",
     "metadata": {},
     "outputs": []
    },
    {
     "cell_type": "code",
     "collapsed": false,
     "input": [
      "for sci in iraf.type('sci600.lis', Stdout=1):\n",
      "    sci = sci.strip()\n",
      "    iraf.gfdisplay('cstxexbrg'+sci, version='1')"
     ],
     "language": "python",
     "metadata": {},
     "outputs": []
    },
    {
     "cell_type": "code",
     "collapsed": false,
     "input": [
      "import shutil\n",
      "os.chdir(night_path)\n",
      "\n",
      "for sci in iraf.type('sci590.lis', Stdout=1):\n",
      "    sci = sci.strip()\n",
      "    shutil.copy('cstxexbrg'+sci+'.fits', os.path.join(products_path, night))\n",
      "for sci in iraf.type('sci600.lis', Stdout=1):\n",
      "    sci = sci.strip()\n",
      "    shutil.copy('cstxexbrg'+sci+'.fits', os.path.join(products_path, night))\n"
     ],
     "language": "python",
     "metadata": {},
     "outputs": []
    },
    {
     "cell_type": "heading",
     "level": 2,
     "metadata": {},
     "source": [
      "Step 15: Create the cubes"
     ]
    },
    {
     "cell_type": "code",
     "collapsed": false,
     "input": [
      "for sci in iraf.type('sci590.lis', Stdout=1):\n",
      "    sci = sci.strip()\n",
      "    iraf.imdelete('cstxexbrg'+sci+'_3D', verify='no')\n",
      "    iraf.gfcube('cstxexbrg'+sci, \n",
      "                outimage='cstxexbrg'+sci+'_3D', fl_atmdisp='yes', \\\n",
      "                fl_var='yes', fl_dq='yes')"
     ],
     "language": "python",
     "metadata": {},
     "outputs": []
    },
    {
     "cell_type": "code",
     "collapsed": false,
     "input": [
      "for sci in iraf.type('sci600.lis', Stdout=1):\n",
      "    sci = sci.strip()\n",
      "    iraf.imdelete('cstxexbrg'+sci+'_3D', verify='no')\n",
      "    iraf.gfcube('cstxexbrg'+sci, \n",
      "                outimage='cstxexbrg'+sci+'_3D', fl_atmdisp='yes', \\\n",
      "                fl_var='yes', fl_dq='yes')"
     ],
     "language": "python",
     "metadata": {},
     "outputs": []
    },
    {
     "cell_type": "markdown",
     "metadata": {},
     "source": [
      "Inspect the cubes."
     ]
    },
    {
     "cell_type": "code",
     "collapsed": false,
     "input": [
      "import astropy.io.fits as pf\n",
      "import numpy as np\n",
      "from stsci import numdisplay\n",
      "\n",
      "for sci in iraf.type('sci590.lis', Stdout=1):\n",
      "    sci = sci.strip()\n",
      "    cube = pf.open('cstxexbrg'+sci+'_3D.fits')\n",
      "    im = np.add.reduce(cube[1].data)  #.data[2300:,:,:])\n",
      "    numdisplay.display(im)\n",
      "    iraf.sleep(10)\n",
      "\n",
      "    for position in range(0, cube[1].data.shape[0], 10):\n",
      "        slice = np.add.reduce(cube[1].data[position:position+10,:,:])\n",
      "        numdisplay.display(slice)"
     ],
     "language": "python",
     "metadata": {},
     "outputs": []
    },
    {
     "cell_type": "code",
     "collapsed": false,
     "input": [
      "import astropy.io.fits as pf\n",
      "import numpy as np\n",
      "from stsci import numdisplay\n",
      "\n",
      "for sci in iraf.type('sci600.lis', Stdout=1):\n",
      "    sci = sci.strip()\n",
      "    cube = pf.open('cstxexbrg'+sci+'_3D.fits')\n",
      "    im = np.add.reduce(cube[1].data)  #.data[2300:,:,:])\n",
      "    numdisplay.display(im)\n",
      "    iraf.sleep(10)\n",
      "\n",
      "    for position in range(0, cube[1].data.shape[0], 10):\n",
      "        slice = np.add.reduce(cube[1].data[position:position+10,:,:])\n",
      "        numdisplay.display(slice)"
     ],
     "language": "python",
     "metadata": {},
     "outputs": []
    },
    {
     "cell_type": "heading",
     "level": 2,
     "metadata": {},
     "source": [
      "Step 16: Combine the cubes"
     ]
    },
    {
     "cell_type": "markdown",
     "metadata": {},
     "source": [
      "Do this from the PyRAF session.  It should be ready.  Just cd to the Night 1 directory first\n",
      "    \n",
      "    !mkdir combine\n",
      "    copy (\"*3D.fits\", \"combine/\")\n",
      "    cd combine\n",
      "    pyfu\n",
      "    imdelete SDSSJ143642_20150615_3D\n",
      "    pyfalign (\"*_3D*\")\n",
      "    pyfmosaic (\"*_3D*\", \"separatedcubes\", separate=yes)\n",
      "    pyfmosaic (\"*_3D*\", \"SDSSJ143642_20150615_3D\", var=yes)"
     ]
    },
    {
     "cell_type": "code",
     "collapsed": false,
     "input": [
      "import astropy.io.fits as pf\n",
      "import numpy as np\n",
      "from stsci import numdisplay\n",
      "\n",
      "os.chdir(night_path)\n",
      "os.chdir('combine')\n",
      "\n",
      "cube = pf.open('SDSSJ143642_20150615_3D.fits')\n",
      "im = np.add.reduce(cube[1].data)  #.data[2300:,:,:])\n",
      "numdisplay.display(im)\n",
      "iraf.sleep(5)\n",
      "\n",
      "for position in range(0, cube[1].data.shape[0], 10):\n",
      "        slice = np.add.reduce(cube[1].data[position:position+10,:,:])\n",
      "        numdisplay.display(slice, z1=0, z2=0.278939)"
     ],
     "language": "python",
     "metadata": {},
     "outputs": []
    },
    {
     "cell_type": "code",
     "collapsed": false,
     "input": [
      "import shutil\n",
      "\n",
      "os.chdir(night_path)\n",
      "os.chdir('combine')\n",
      "\n",
      "fullname = 'SDSSJ143642_20150615_3D'\n",
      "\n",
      "iraf.imcopy(fullname+'.fits[sci,1]', fullname+'_SCI_qfits.fits')\n",
      "iraf.imcopy(fullname+'.fits[var,1]', fullname+'_VAR_qfits.fits')\n",
      "\n",
      "iraf.copy('*_3D*', os.path.join(products_path, night))\n",
      "shutil.copy(fullname+'.fits', os.path.join(products_path, night))\n",
      "shutil.copy(fullname+'.fits', os.path.join(products_path, 'science'))\n",
      "shutil.copy(fullname+'_SCI_qfits.fits', os.path.join(products_path, night))\n",
      "shutil.copy(fullname+'_SCI_qfits.fits', os.path.join(products_path, 'science'))\n",
      "shutil.copy(fullname+'_VAR_qfits.fits', os.path.join(products_path, night))\n",
      "shutil.copy(fullname+'_VAR_qfits.fits', os.path.join(products_path, 'science'))\n"
     ],
     "language": "python",
     "metadata": {},
     "outputs": []
    },
    {
     "cell_type": "code",
     "collapsed": false,
     "input": [],
     "language": "python",
     "metadata": {},
     "outputs": []
    }
   ],
   "metadata": {}
  }
 ]
}