{
 "metadata": {
  "name": "",
  "signature": "sha256:3cc4086550023b23bd718670b5ab9e5ec657df644c45aefe0c3b4bdfe524a9a4"
 },
 "nbformat": 3,
 "nbformat_minor": 0,
 "worksheets": []
}